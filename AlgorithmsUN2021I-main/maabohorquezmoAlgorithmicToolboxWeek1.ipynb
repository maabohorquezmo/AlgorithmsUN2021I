{
  "nbformat": 4,
  "nbformat_minor": 0,
  "metadata": {
    "colab": {
      "name": "maabohorquezmoAlgorithmicToolboxWeek1.ipynb",
      "provenance": [],
      "collapsed_sections": [
        "N1ok_-56OjB1",
        "C12yoFR6Xonl",
        "e7KhxHGNS3i0",
        "IeZ3kTjpYmR9",
        "XPVHkHxH6_7s",
        "9z9yr5QkeyJF",
        "PRX51wADNR8b",
        "683gc3roHqzb",
        "36Ugn1odIeJz",
        "bhqiKQG6fjKM"
      ],
      "toc_visible": true
    },
    "kernelspec": {
      "name": "python3",
      "display_name": "Python 3"
    },
    "language_info": {
      "name": "python"
    }
  },
  "cells": [
    {
      "cell_type": "markdown",
      "metadata": {
        "id": "N1ok_-56OjB1"
      },
      "source": [
        "# I Solving the Sum of Two Digits Programming Challenge"
      ]
    },
    {
      "cell_type": "markdown",
      "metadata": {
        "id": "MMY7kmDSO0KM"
      },
      "source": [
        "## C++"
      ]
    },
    {
      "cell_type": "code",
      "metadata": {
        "colab": {
          "base_uri": "https://localhost:8080/"
        },
        "id": "2pGGf9BkPNIk",
        "outputId": "d6302adc-0013-496b-ed30-25e0c35afd84"
      },
      "source": [
        "%%writefile APlusB.cpp\n",
        "#include <iostream>\n",
        "\n",
        "int sum_of_two_digits(int first_digit, int second_digit) {\n",
        "    return first_digit + second_digit;\n",
        "}\n",
        "\n",
        "int main() {\n",
        "    int a = 0;\n",
        "    int b = 0;\n",
        "    std::cin >> a;\n",
        "    std::cin >> b;\n",
        "    std::cout << sum_of_two_digits(a, b);\n",
        "    return 0;\n",
        "}"
      ],
      "execution_count": null,
      "outputs": [
        {
          "output_type": "stream",
          "text": [
            "Writing APlusB.cpp\n"
          ],
          "name": "stdout"
        }
      ]
    },
    {
      "cell_type": "code",
      "metadata": {
        "colab": {
          "base_uri": "https://localhost:8080/"
        },
        "id": "0G3ZKOYAPXSU",
        "outputId": "868f9968-f8e8-4bda-9930-420869acd233"
      },
      "source": [
        "!g++ APlusB.cpp -o APlusB\n",
        "!./APlusB"
      ],
      "execution_count": null,
      "outputs": [
        {
          "output_type": "stream",
          "text": [
            "1 5\n",
            "6"
          ],
          "name": "stdout"
        }
      ]
    },
    {
      "cell_type": "markdown",
      "metadata": {
        "id": "iNkG2HqfTl9c"
      },
      "source": [
        "### Test input output files"
      ]
    },
    {
      "cell_type": "code",
      "metadata": {
        "colab": {
          "base_uri": "https://localhost:8080/"
        },
        "id": "aTzU2efzMxly",
        "outputId": "89405c1f-4313-47a5-9287-22d802a4c55d"
      },
      "source": [
        "%%writefile input1.txt\n",
        "4 8"
      ],
      "execution_count": null,
      "outputs": [
        {
          "output_type": "stream",
          "text": [
            "Writing input1.txt\n"
          ],
          "name": "stdout"
        }
      ]
    },
    {
      "cell_type": "markdown",
      "metadata": {
        "id": "pdkfsvs-T0Wr"
      },
      "source": [
        ""
      ]
    },
    {
      "cell_type": "code",
      "metadata": {
        "colab": {
          "base_uri": "https://localhost:8080/"
        },
        "id": "zBJ0Gc0NQRet",
        "outputId": "73d0b26b-6055-430c-949e-d5072113fd2d"
      },
      "source": [
        "%%writefile output1.txt\n",
        "12"
      ],
      "execution_count": null,
      "outputs": [
        {
          "output_type": "stream",
          "text": [
            "Writing output1.txt\n"
          ],
          "name": "stdout"
        }
      ]
    },
    {
      "cell_type": "code",
      "metadata": {
        "colab": {
          "base_uri": "https://localhost:8080/"
        },
        "id": "IjEcIx63PJAN",
        "outputId": "93a7bcf2-27da-4f6c-9595-00e6a2298c98"
      },
      "source": [
        "%%writefile input2.txt\n",
        "-5 9"
      ],
      "execution_count": null,
      "outputs": [
        {
          "output_type": "stream",
          "text": [
            "Writing input2.txt\n"
          ],
          "name": "stdout"
        }
      ]
    },
    {
      "cell_type": "code",
      "metadata": {
        "colab": {
          "base_uri": "https://localhost:8080/"
        },
        "id": "Up9gOrxURTmd",
        "outputId": "9f8376a8-67eb-4cf8-fad4-ed53c879c724"
      },
      "source": [
        "%%writefile output2.txt\n",
        "4"
      ],
      "execution_count": null,
      "outputs": [
        {
          "output_type": "stream",
          "text": [
            "Writing output2.txt\n"
          ],
          "name": "stdout"
        }
      ]
    },
    {
      "cell_type": "code",
      "metadata": {
        "colab": {
          "base_uri": "https://localhost:8080/"
        },
        "id": "PST6G-s-Pwgc",
        "outputId": "f0104fad-0287-4384-ebaf-c349412b5246"
      },
      "source": [
        "!./APlusB < input1.txt"
      ],
      "execution_count": null,
      "outputs": [
        {
          "output_type": "stream",
          "text": [
            "12"
          ],
          "name": "stdout"
        }
      ]
    },
    {
      "cell_type": "code",
      "metadata": {
        "colab": {
          "base_uri": "https://localhost:8080/"
        },
        "id": "cKxZOjSlRfIN",
        "outputId": "4b165ac0-52ca-4027-c1d4-438d68839210"
      },
      "source": [
        "!./APlusB < input2.txt"
      ],
      "execution_count": null,
      "outputs": [
        {
          "output_type": "stream",
          "text": [
            "4"
          ],
          "name": "stdout"
        }
      ]
    },
    {
      "cell_type": "markdown",
      "metadata": {
        "id": "Qw2TQWCCUwqk"
      },
      "source": [
        "### Comparing files with grep\n",
        "\n",
        "https://askubuntu.com/questions/546796/comparing-two-text-files"
      ]
    },
    {
      "cell_type": "code",
      "metadata": {
        "id": "WVIaAmMKU4QM"
      },
      "source": [
        "!grep -xvFf output1.txt output1.txt "
      ],
      "execution_count": null,
      "outputs": []
    },
    {
      "cell_type": "code",
      "metadata": {
        "colab": {
          "base_uri": "https://localhost:8080/"
        },
        "id": "MQU8gPPjQuYO",
        "outputId": "d38d90f3-6063-4c51-e004-c5e1665f55d1"
      },
      "source": [
        "!grep -xvFf output1.txt output2.txt "
      ],
      "execution_count": null,
      "outputs": [
        {
          "output_type": "stream",
          "text": [
            "4\n"
          ],
          "name": "stdout"
        }
      ]
    },
    {
      "cell_type": "code",
      "metadata": {
        "colab": {
          "base_uri": "https://localhost:8080/"
        },
        "id": "jYL9OuYBTD_l",
        "outputId": "ca6b9506-df33-4009-931c-7bdaa4ce72b0"
      },
      "source": [
        "!grep -xvFf output2.txt output1.txt "
      ],
      "execution_count": null,
      "outputs": [
        {
          "output_type": "stream",
          "text": [
            "12\n"
          ],
          "name": "stdout"
        }
      ]
    },
    {
      "cell_type": "code",
      "metadata": {
        "id": "Jlja0Xm4TX9M"
      },
      "source": [
        "!./APlusB < input1.txt> ctest1.txt\n",
        "!grep -xvFf output1.txt ctest1.txt"
      ],
      "execution_count": null,
      "outputs": []
    },
    {
      "cell_type": "code",
      "metadata": {
        "id": "g9OIUZA_QLCQ"
      },
      "source": [
        "!./APlusB < input2.txt > ctest2.txt\n",
        "!grep -xvFf output2.txt ctest2.txt"
      ],
      "execution_count": null,
      "outputs": []
    },
    {
      "cell_type": "markdown",
      "metadata": {
        "id": "3BgOaDjUVJk6"
      },
      "source": [
        "## Python"
      ]
    },
    {
      "cell_type": "code",
      "metadata": {
        "colab": {
          "base_uri": "https://localhost:8080/"
        },
        "id": "DBvl-T0CTN_8",
        "outputId": "c7f42247-25ad-4bb3-82fc-4f20ff6bc25f"
      },
      "source": [
        "%%writefile sum.py\n",
        "# python3\n",
        "\n",
        "def sum_of_two_digits(first_digit, second_digit):\n",
        "    return first_digit + second_digit\n",
        "\n",
        "if __name__ == '__main__':\n",
        "    a, b = map(int, input().split())\n",
        "    print(sum_of_two_digits(a, b))"
      ],
      "execution_count": null,
      "outputs": [
        {
          "output_type": "stream",
          "text": [
            "Writing sum.py\n"
          ],
          "name": "stdout"
        }
      ]
    },
    {
      "cell_type": "code",
      "metadata": {
        "colab": {
          "base_uri": "https://localhost:8080/"
        },
        "id": "QKoKM11_WGyF",
        "outputId": "6f45424a-ffbd-4656-fd1b-c1b66d1e1976"
      },
      "source": [
        "!python sum.py"
      ],
      "execution_count": null,
      "outputs": [
        {
          "output_type": "stream",
          "text": [
            "15 98\n",
            "113\n"
          ],
          "name": "stdout"
        }
      ]
    },
    {
      "cell_type": "code",
      "metadata": {
        "id": "cocFbPRTWrqt"
      },
      "source": [
        "!python sum.py  < input1.txt> ptest1.txt\n",
        "!grep -xvFf output1.txt ptest1.txt"
      ],
      "execution_count": null,
      "outputs": []
    },
    {
      "cell_type": "code",
      "metadata": {
        "id": "MorKTa-XXASN"
      },
      "source": [
        "!python sum.py  < input2.txt> ptest2.txt\n",
        "!grep -xvFf output2.txt ptest2.txt"
      ],
      "execution_count": null,
      "outputs": []
    },
    {
      "cell_type": "markdown",
      "metadata": {
        "id": "uvP-mOubW_5F"
      },
      "source": [
        "# II Solving The Maximum Pairwise Product Programming Challenge in C++"
      ]
    },
    {
      "cell_type": "markdown",
      "metadata": {
        "id": "C12yoFR6Xonl"
      },
      "source": [
        "## C++"
      ]
    },
    {
      "cell_type": "code",
      "metadata": {
        "colab": {
          "base_uri": "https://localhost:8080/"
        },
        "id": "YL4qJX3tXxdd",
        "outputId": "2d54057a-50fb-4a47-ba1f-f73da5b8f337"
      },
      "source": [
        "%%writefile max_pairwise_product.cpp\n",
        "#include <iostream>\n",
        "#include <vector>\n",
        "#include <algorithm>\n",
        "\n",
        "int MaxPairwiseProduct(const std::vector<int>& numbers) {\n",
        "    int max_product = 0;\n",
        "    int n = numbers.size();\n",
        "\n",
        "    for (int first = 0; first < n; ++first) {\n",
        "        for (int second = first + 1; second < n; ++second) {\n",
        "            max_product = std::max(max_product,\n",
        "                numbers[first] * numbers[second]);\n",
        "        }\n",
        "    }\n",
        "\n",
        "    return max_product;\n",
        "}\n",
        "\n",
        "int main() {\n",
        "    int n;\n",
        "    std::cin >> n;\n",
        "    std::vector<int> numbers(n);\n",
        "    for (int i = 0; i < n; ++i) {\n",
        "        std::cin >> numbers[i];\n",
        "    }\n",
        "\n",
        "    std::cout << MaxPairwiseProduct(numbers) << \"\\n\";\n",
        "    return 0;\n",
        "}\n"
      ],
      "execution_count": null,
      "outputs": [
        {
          "output_type": "stream",
          "text": [
            "Writing max_pairwise_product.cpp\n"
          ],
          "name": "stdout"
        }
      ]
    },
    {
      "cell_type": "code",
      "metadata": {
        "colab": {
          "base_uri": "https://localhost:8080/"
        },
        "id": "KGxaEjvWX__O",
        "outputId": "57107fa8-4135-4752-a051-88caad46dee7"
      },
      "source": [
        "!g++ max_pairwise_product.cpp -o max_pairwise_product\n",
        "!./max_pairwise_product"
      ],
      "execution_count": null,
      "outputs": [
        {
          "output_type": "stream",
          "text": [
            "5\n",
            "2 5 7 6 12\n",
            "84\n"
          ],
          "name": "stdout"
        }
      ]
    },
    {
      "cell_type": "markdown",
      "metadata": {
        "id": "e7KhxHGNS3i0"
      },
      "source": [
        "### Test 1: Small numbers"
      ]
    },
    {
      "cell_type": "code",
      "metadata": {
        "colab": {
          "base_uri": "https://localhost:8080/"
        },
        "id": "e1mmTzBgShT-",
        "outputId": "82cd3213-c1f5-4046-9d2c-54b19d50eb06"
      },
      "source": [
        "%%writefile input1.txt\n",
        "10\n",
        "1 2 3 4 5 6 7 8 9 10"
      ],
      "execution_count": null,
      "outputs": [
        {
          "output_type": "stream",
          "text": [
            "Overwriting input1.txt\n"
          ],
          "name": "stdout"
        }
      ]
    },
    {
      "cell_type": "code",
      "metadata": {
        "colab": {
          "base_uri": "https://localhost:8080/"
        },
        "id": "vy_uI0x7TCId",
        "outputId": "b9d8799c-82de-4dde-9b7b-0bb68a1b57ce"
      },
      "source": [
        "!./max_pairwise_product < input1.txt"
      ],
      "execution_count": null,
      "outputs": [
        {
          "output_type": "stream",
          "text": [
            "90\n"
          ],
          "name": "stdout"
        }
      ]
    },
    {
      "cell_type": "markdown",
      "metadata": {
        "id": "IeZ3kTjpYmR9"
      },
      "source": [
        "### Test 2: largest input numbers 200000 200000 in the input"
      ]
    },
    {
      "cell_type": "code",
      "metadata": {
        "colab": {
          "base_uri": "https://localhost:8080/"
        },
        "id": "LQNlZqaqYt7U",
        "outputId": "23756b75-9e30-4784-f3da-ce5bdfc464d3"
      },
      "source": [
        "%%writefile input2.txt\n",
        "6\n",
        "1 3 200000 9 200000 23"
      ],
      "execution_count": null,
      "outputs": [
        {
          "output_type": "stream",
          "text": [
            "Overwriting input2.txt\n"
          ],
          "name": "stdout"
        }
      ]
    },
    {
      "cell_type": "code",
      "metadata": {
        "colab": {
          "base_uri": "https://localhost:8080/"
        },
        "id": "2Wad2VZUZDxR",
        "outputId": "3e7d2928-04eb-43eb-cd2d-1ca655b6992c"
      },
      "source": [
        "!./max_pairwise_product < input2.txt"
      ],
      "execution_count": null,
      "outputs": [
        {
          "output_type": "stream",
          "text": [
            "1345294336\n"
          ],
          "name": "stdout"
        }
      ]
    },
    {
      "cell_type": "markdown",
      "metadata": {
        "id": "H2SC0Qt5HCzz"
      },
      "source": [
        "Changing the variables to long long"
      ]
    },
    {
      "cell_type": "code",
      "metadata": {
        "colab": {
          "base_uri": "https://localhost:8080/"
        },
        "id": "MPcmsxiQZSfE",
        "outputId": "6dff2a1f-9422-4d06-d5c6-2d16265c0202"
      },
      "source": [
        "%%writefile max_pairwise_product_long.cpp\n",
        "#include <iostream>\n",
        "#include <vector>\n",
        "#include <algorithm>\n",
        "\n",
        "long long MaxPairwiseProduct(const std::vector<int>& numbers) {\n",
        "    long long max_product = 0LL;\n",
        "\t  long long aux_product = 0LL;\n",
        "    int n = numbers.size();\n",
        "\n",
        "    for (int first = 0; first < n; ++first) {\n",
        "        for (int second = first + 1; second < n; ++second) {\n",
        "\t\t\t       aux_product =  (long long) numbers[first] * numbers[second];\n",
        "            if ( max_product < aux_product)  {\n",
        "\t\t\t\t        max_product = aux_product;\n",
        "             }\n",
        "        }\n",
        "    }\n",
        "\n",
        "    return max_product;\n",
        "}\n",
        "\n",
        "int main() {\n",
        "    int n;\n",
        "    std::cin >> n;\n",
        "    std::vector<int> numbers(n);\n",
        "    for (int i = 0; i < n; ++i) {\n",
        "        std::cin >> numbers[i];\n",
        "    }\n",
        "\n",
        "    std::cout << MaxPairwiseProduct(numbers) << \"\\n\";\n",
        "    return 0;\n",
        "}\n"
      ],
      "execution_count": null,
      "outputs": [
        {
          "output_type": "stream",
          "text": [
            "Writing max_pairwise_product_long.cpp\n"
          ],
          "name": "stdout"
        }
      ]
    },
    {
      "cell_type": "code",
      "metadata": {
        "colab": {
          "base_uri": "https://localhost:8080/"
        },
        "id": "I5pCeOG1Zm7s",
        "outputId": "a7157211-c535-452a-c83c-aec4a0d1ffdc"
      },
      "source": [
        "!g++ max_pairwise_product_long.cpp -o max_pairwise_product_long\n",
        "!./max_pairwise_product_long < input1.txt\n",
        "!./max_pairwise_product_long < input2.txt"
      ],
      "execution_count": null,
      "outputs": [
        {
          "output_type": "stream",
          "text": [
            "90\n",
            "40000000000\n"
          ],
          "name": "stdout"
        }
      ]
    },
    {
      "cell_type": "markdown",
      "metadata": {
        "id": "XPVHkHxH6_7s"
      },
      "source": [
        "### Test 3  stress tests 20  times  random n in [2, 20] "
      ]
    },
    {
      "cell_type": "code",
      "metadata": {
        "colab": {
          "base_uri": "https://localhost:8080/"
        },
        "id": "53aO-8r4abY2",
        "outputId": "ac6ec510-ed36-48d8-de92-0213ab8e8f38"
      },
      "source": [
        "%%writefile max_pairwise_product_stress_test.cpp\n",
        "#include <cstdlib>\n",
        "#include <iostream>\n",
        "#include <vector>\n",
        "\n",
        "using std::vector;\n",
        "using std::cin;\n",
        "using std::cout;\n",
        "\n",
        "long long MaxPairwiseProduct(const std::vector<int>& numbers) {\n",
        "    long long max_product = 0LL;\n",
        "    long long aux_product = 0LL;\n",
        "    int n = numbers.size();\n",
        "\n",
        "    for (int first = 0; first < n; ++first)\n",
        "    {\n",
        "        for (int second = first + 1; second < n; ++second)\n",
        "        {\n",
        "            aux_product =  (long long) numbers[first] * numbers[second];\n",
        "\n",
        "            if ( max_product < aux_product)\n",
        "            {\n",
        "\t\t\t\t        max_product = aux_product;\n",
        "            }\n",
        "        }\n",
        "    }\n",
        "\n",
        "    return max_product;\n",
        "}\n",
        "\n",
        "long long MaxPairwiseProductRap(const vector<int> & numbers)\n",
        "{\n",
        "    int n=numbers.size();\n",
        "\n",
        "    int max_ind1=-1;\n",
        "    for(int i=0;i<n;i++)\n",
        "    {\n",
        "        if((max_ind1==-1) || (numbers[i]>numbers[max_ind1]))\n",
        "            max_ind1=i;\n",
        "    }\n",
        "\n",
        "    int max_ind2=-1;\n",
        "    for(int j=0;j<n;j++)\n",
        "    {\n",
        "        if((j!=max_ind1) && ((max_ind2==-1) || (numbers[j]>numbers[max_ind2])))\n",
        "            max_ind2=j;\n",
        "    }\n",
        "\n",
        "    return ((long long)(numbers[max_ind1]))*numbers[max_ind2];\n",
        "}\n",
        "\n",
        "int main()\n",
        "{\n",
        "    int cont=0;\n",
        "    while(cont!=20)\n",
        "    {\n",
        "        int n=2+rand()%(21-2);\n",
        "        cout<<n<<\"\\n\";\n",
        "        vector<int> a;\n",
        "        for(int i=0;i<n;i++)\n",
        "        {\n",
        "            a.push_back(rand() % 200001);\n",
        "        }\n",
        "        for(int i=0;i<n;i++)\n",
        "        {\n",
        "            cout<<a[i]<<' ';\n",
        "        }\n",
        "        cout<<\"\\n\";\n",
        "        long long res1=MaxPairwiseProduct(a);\n",
        "        long long res2=MaxPairwiseProductRap(a);\n",
        "        if(res1!=res2)\n",
        "        {\n",
        "            cout<<\"Incorrecto: \"<<res1<<' '<<res2<<\"\\n\";\n",
        "            cont++;\n",
        "        }\n",
        "        else\n",
        "        {\n",
        "            cout<<\"OK\\n\";\n",
        "            cont++;\n",
        "        }\n",
        "    }\n",
        "    return 0;\n",
        "}"
      ],
      "execution_count": null,
      "outputs": [
        {
          "output_type": "stream",
          "text": [
            "Writing max_pairwise_product_stress_test.cpp\n"
          ],
          "name": "stdout"
        }
      ]
    },
    {
      "cell_type": "code",
      "metadata": {
        "colab": {
          "base_uri": "https://localhost:8080/"
        },
        "id": "mMOCsAPHdR_u",
        "outputId": "7a1a3b71-e5cb-4885-ec54-a6142cf33a73"
      },
      "source": [
        "!g++ max_pairwise_product_stress_test.cpp -o max_pairwise_product_stress_test\n",
        "!./max_pairwise_product_stress_test"
      ],
      "execution_count": null,
      "outputs": [
        {
          "output_type": "stream",
          "text": [
            "4\n",
            "126652 84369 28342 138005 \n",
            "OK\n",
            "10\n",
            "81787 152244 113667 35473 197237 83275 164774 114547 87539 104089 \n",
            "OK\n",
            "9\n",
            "175725 87652 49219 5036 192761 101094 147795 64100 17225 \n",
            "OK\n",
            "8\n",
            "63955 163342 100792 108422 170793 27444 119880 126224 \n",
            "OK\n",
            "7\n",
            "156094 8011 171871 69760 170574 169107 80124 \n",
            "OK\n",
            "3\n",
            "10742 94753 166526 \n",
            "OK\n",
            "11\n",
            "197567 54177 160766 2602 174028 61859 150398 38127 6173 198956 102082 \n",
            "OK\n",
            "18\n",
            "99747 10503 67397 127191 57473 120710 146818 13566 55810 118688 10416 153474 14883 90540 88820 25626 112382 182435 \n",
            "OK\n",
            "2\n",
            "109949 163702 \n",
            "OK\n",
            "15\n",
            "112551 137729 86885 190038 102945 93059 188993 5026 189663 88740 142619 184149 143020 91 31948 \n",
            "OK\n",
            "7\n",
            "140748 87758 135615 78253 41231 150499 95882 \n",
            "OK\n",
            "15\n",
            "103214 8264 166665 167475 118213 57455 192502 157853 122273 6475 147891 25217 26623 136883 157333 \n",
            "OK\n",
            "13\n",
            "152712 99952 127524 95732 27132 86561 112659 94969 101409 175363 173222 69729 52950 \n",
            "OK\n",
            "6\n",
            "53959 156164 4457 20624 50728 122670 \n",
            "OK\n",
            "17\n",
            "43229 7611 127442 49704 155502 152659 76328 19474 109992 146793 99275 137033 1405 122096 91254 87967 34754 \n",
            "OK\n",
            "19\n",
            "189376 137207 86534 59104 190157 155638 40153 146321 87184 60777 124138 136943 65945 167367 144555 120476 144160 100056 73135 \n",
            "OK\n",
            "11\n",
            "46619 110216 94369 145895 174338 95775 67990 65591 183742 29834 51814 \n",
            "OK\n",
            "3\n",
            "167041 65438 86399 \n",
            "OK\n",
            "10\n",
            "21075 126552 30606 108260 114418 154744 45202 107453 49199 116846 \n",
            "OK\n",
            "7\n",
            "193360 143992 28152 68025 190611 65457 162395 \n",
            "OK\n"
          ],
          "name": "stdout"
        }
      ]
    },
    {
      "cell_type": "markdown",
      "metadata": {
        "id": "9z9yr5QkeyJF"
      },
      "source": [
        "### Test 4  time test  measure the execution time running with the largest worst case file (200000 increasing numbers, 200000 and 200000 the end) "
      ]
    },
    {
      "cell_type": "code",
      "metadata": {
        "id": "oLiMjbAIfPlX",
        "colab": {
          "base_uri": "https://localhost:8080/"
        },
        "outputId": "627b5512-6f1f-4470-b666-5d5172a0f3bb"
      },
      "source": [
        "%%writefile Test2Write.cpp\n",
        "\n",
        "#include <iostream>\n",
        "#include <fstream>\n",
        "#include <cstdlib>\n",
        "\n",
        "using namespace std;\n",
        "\n",
        "int main() {\n",
        "  // Create and open a text file\n",
        "  ofstream MyFile(\"input3.txt\");\n",
        "\n",
        " MyFile << 200000 <<\"\\n\";  // n \n",
        " for (int i=1; i < 200001; i++){\n",
        "     MyFile << i <<\" \";\n",
        " }\n",
        "  \n",
        "  // Close the file\n",
        "  MyFile.close();\n",
        "}"
      ],
      "execution_count": null,
      "outputs": [
        {
          "output_type": "stream",
          "text": [
            "Writing Test2Write.cpp\n"
          ],
          "name": "stdout"
        }
      ]
    },
    {
      "cell_type": "code",
      "metadata": {
        "id": "EH25TkOkZfD9"
      },
      "source": [
        "!g++ Test2Write.cpp -o Test2Write\n",
        "!./Test2Write"
      ],
      "execution_count": null,
      "outputs": []
    },
    {
      "cell_type": "markdown",
      "metadata": {
        "id": "JB6f03qO-lj9"
      },
      "source": [
        "Measure time\n",
        "\n",
        "https://askubuntu.com/questions/53444/how-can-i-measure-the-execution-time-of-a-terminal-process"
      ]
    },
    {
      "cell_type": "code",
      "metadata": {
        "colab": {
          "base_uri": "https://localhost:8080/"
        },
        "id": "6p2QLEr576zk",
        "outputId": "fafd8824-20d0-4c91-f27c-07fc392671f3"
      },
      "source": [
        "!g++ max_pairwise_product_long.cpp -o max_pairwise_product_long\n",
        "!time ./max_pairwise_product_long < input3.txt"
      ],
      "execution_count": null,
      "outputs": [
        {
          "output_type": "stream",
          "text": [
            "39999800000\n",
            "\n",
            "real\t2m8.647s\n",
            "user\t2m8.014s\n",
            "sys\t0m0.024s\n"
          ],
          "name": "stdout"
        }
      ]
    },
    {
      "cell_type": "markdown",
      "metadata": {
        "id": "AmZeB2wYjxy5"
      },
      "source": [
        "##### Calculate  the number of instructions executed by the algorithm as a function of n, add in each line a comment with the number of instructions that are executed in that line \n",
        "\n",
        "```cpp\n",
        " int main() {                         //N inst exec by line executed  \n",
        "   \n",
        "    int n;                            //1                      \n",
        "    std::cin >> n;                    //1\n",
        "                                              \n",
        "    std::vector<int> numbers(n);      //n    init vector\n",
        "    .\n",
        "    .\n",
        " }\n",
        "\n",
        "```"
      ]
    },
    {
      "cell_type": "code",
      "metadata": {
        "colab": {
          "base_uri": "https://localhost:8080/"
        },
        "id": "djGX3FL13g9b",
        "outputId": "270176eb-1660-419e-de67-2c8f8c3c7f74"
      },
      "source": [
        "%%writefile test_init_vectors.cpp\n",
        "#include <iostream>\n",
        "#include <vector>\n",
        "#include <algorithm>\n",
        "int main() {                                                               \n",
        "    int n = 10;                                                                                                                            //1\n",
        "    std::vector<int> numbers(n);          //1\n",
        "    for (int i = 0; i < n; ++i) {                                           \n",
        "        std::cout << numbers[i];                                             \n",
        "    }\n",
        "\n",
        "    std::cout << \"\\n\";                       \n",
        "    return 0;                                                              \n",
        "}  "
      ],
      "execution_count": null,
      "outputs": [
        {
          "output_type": "stream",
          "text": [
            "Overwriting test_init_vectors.cpp\n"
          ],
          "name": "stdout"
        }
      ]
    },
    {
      "cell_type": "code",
      "metadata": {
        "colab": {
          "base_uri": "https://localhost:8080/"
        },
        "id": "44gZcuE237-1",
        "outputId": "7f5f9c2a-bed0-4223-ee39-3290f70db610"
      },
      "source": [
        "!g++ test_init_vectors.cpp -o test_init_vectors\n",
        "!./test_init_vectors"
      ],
      "execution_count": null,
      "outputs": [
        {
          "output_type": "stream",
          "text": [
            "0000000000\n"
          ],
          "name": "stdout"
        }
      ]
    },
    {
      "cell_type": "code",
      "metadata": {
        "colab": {
          "base_uri": "https://localhost:8080/"
        },
        "id": "uG6Mv-Pwlkii",
        "outputId": "8b4b2a48-2fc3-4feb-81ab-088e183a49f5"
      },
      "source": [
        "%%writefile max_pairwise_product_long.cpp\n",
        "#include <iostream>\n",
        "#include <vector>\n",
        "#include <algorithm>\n",
        "\n",
        "long long MaxPairwiseProduct(const std::vector<int>& numbers) {              //N inst exec by line executed \n",
        "    long long max_product = 0LL;                                             //1                                          \n",
        "\t  long long aux_product = 0LL;                                             //1 \n",
        "    int n = numbers.size();                                                  //1 \n",
        "                                                                             \n",
        "    for (int first = 0; first < n; ++first) {                                //1+2n  \n",
        "        for (int second = first + 1; second < n; ++second) {                 //n + (n-1)n \n",
        "\t\t\t       aux_product =  (long long) numbers[first] * numbers[second];    //(n-1)n/2 \n",
        "            if (max_product < aux_product)  {                                //(n-1)n/2 \n",
        "\t\t\t\t        max_product = aux_product;                                   //[0, (n-1)n/2] \n",
        "             }\n",
        "        }\n",
        "    }\n",
        "                                                                             // -------------- \n",
        "    return max_product;                                                      // 4 + 3n + [2(n-1)n, 2.5 (n-1)n] \n",
        "}\n",
        "\n",
        "int main() {                                              //N inst exec by line executed \n",
        "    int n;                                                //1  \n",
        "    std::cin >> n;                                        //1\n",
        "    std::vector<int> numbers(n);                          //n\n",
        "    for (int i = 0; i < n; ++i) {                         //1 + 2n\n",
        "        std::cin >> numbers[i];                           //n\n",
        "    }\n",
        "\n",
        "    std::cout << MaxPairwiseProduct(numbers) << \"\\n\";     //1 + 1  + 4 + 3n + [2(n-1)n, 2.5 (n-1)n]\n",
        "    return 0;                                             // -------------- \n",
        "}                                                         // 9 + 7n + [2(n-1)n, 2.5 (n-1)n]\n"
      ],
      "execution_count": null,
      "outputs": [
        {
          "output_type": "stream",
          "text": [
            "Overwriting max_pairwise_product_long.cpp\n"
          ],
          "name": "stdout"
        }
      ]
    },
    {
      "cell_type": "markdown",
      "metadata": {
        "id": "0vTsUg8OwcHs"
      },
      "source": [
        "Count executed intructions in code and verify with inputs 1, 2 and 3"
      ]
    },
    {
      "cell_type": "code",
      "metadata": {
        "colab": {
          "base_uri": "https://localhost:8080/"
        },
        "id": "CuRKkqQc137V",
        "outputId": "58b72004-01f8-4734-96f8-5ff1a32cdd31"
      },
      "source": [
        "%%writefile max_pairwise_product_long_execints.cpp\n",
        "#include <iostream>\n",
        "#include <vector>\n",
        "#include <algorithm>\n",
        "\n",
        "long long MaxPairwiseProduct(const std::vector<int>& numbers, long long &execints) {              //N inst exec by line executed \n",
        "    \n",
        "    long long m = 0LL;                                                       //1\n",
        "    \n",
        "    long long max_product = 0LL;                                             //1\n",
        "    execints++;\n",
        "\n",
        "\t  long long aux_product = 0LL;                                             //1\n",
        "    execints++;\n",
        "\n",
        "    int n = numbers.size();                                                  //1 \n",
        "    execints++;\n",
        "\n",
        "    execints++;                                                                         \n",
        "    for (int first = 0; first < n; ++first) {                                //1+2n  \n",
        "        execints += 2;\n",
        "\n",
        "        long long m = 0LL;\n",
        "\n",
        "        execints++;                                    \n",
        "        for (int second = first + 1; second < n; ++second) {                 //n+ (n-1)n \n",
        "            execints += 2;                                                \n",
        "\n",
        "\t\t\t      aux_product =  (long long) numbers[first] * numbers[second];    //(n-1)n/2 \n",
        "            execints++; \n",
        "\n",
        "            execints++; \n",
        "            if ( max_product < aux_product)  {                               //(n-1)n/2 \n",
        "                       \n",
        "\t\t\t\t        max_product = aux_product;                                   //[0, (n-1)n/2] \n",
        "                execints++; \n",
        "                m++;\n",
        "             }\n",
        "        }\n",
        "        if ( (first <= 10) || (n- first <= 10)) std::cout << m << \"\\n\";\n",
        "    }\n",
        "                                                                            // -------------- \n",
        "    return max_product;                                                     // 4 + 3n + [2(n-1)n, 2.5 (n-1)n] \n",
        "}\n",
        "\n",
        "int main() {                                                 //N inst exec by line executed \n",
        "    long long execints =0LL;\n",
        "\n",
        "    int n;                                                   //1\n",
        "    execints++;                                                              \n",
        "    \n",
        "    std::cin >> n;                                           //1\n",
        "    execints++;\n",
        "\n",
        "    std::vector<int> numbers(n);                             //n\n",
        "    execints += n;\n",
        "    \n",
        "    execints++;\n",
        "    for (int i = 0; i < n; ++i) {                            //1 + 2n\n",
        "        execints += 2;\n",
        "\n",
        "        std::cin >> numbers[i];\n",
        "        execints++;                                          //n\n",
        "    }\n",
        "    \n",
        "    //std::cout << MaxPairwiseProduct(numbers) << \"\\n\";      //1 + 1  + 4 + 3n + [2(n-1)n, 2.5 (n-1)n]\n",
        "\n",
        "    execints++;\n",
        "    int M = MaxPairwiseProduct(numbers,execints);\n",
        "\n",
        "    execints++;\n",
        "    std::cout <<  execints << \"\\n\";                       \n",
        "    return 0;                                                // -------------- \n",
        "}                                                            // 9 + 7n + [2(n-1)n, 2.5 (n-1)n]"
      ],
      "execution_count": null,
      "outputs": [
        {
          "output_type": "stream",
          "text": [
            "Overwriting max_pairwise_product_long_execints.cpp\n"
          ],
          "name": "stdout"
        }
      ]
    },
    {
      "cell_type": "code",
      "metadata": {
        "colab": {
          "base_uri": "https://localhost:8080/"
        },
        "id": "Kuvm1C05ly2a",
        "outputId": "f8e2f872-e7d9-4732-acb4-5ffe2e6568d1"
      },
      "source": [
        "!g++ max_pairwise_product_long_execints.cpp -o max_pairwise_product_long_execints\n",
        "!./max_pairwise_product_long_execints < input1.txt\n",
        "!./max_pairwise_product_long_execints < input2.txt\n",
        "!./max_pairwise_product_long_execints < input3.txt"
      ],
      "execution_count": null,
      "outputs": [
        {
          "output_type": "stream",
          "text": [
            "9\n",
            "5\n",
            "4\n",
            "3\n",
            "2\n",
            "2\n",
            "2\n",
            "2\n",
            "1\n",
            "0\n",
            "289\n",
            "2\n",
            "1\n",
            "2\n",
            "0\n",
            "0\n",
            "0\n",
            "116\n",
            "199999\n",
            "100000\n",
            "66667\n",
            "50000\n",
            "40000\n",
            "33334\n",
            "28572\n",
            "25000\n",
            "22223\n",
            "20000\n",
            "18182\n",
            "2\n",
            "2\n",
            "2\n",
            "2\n",
            "2\n",
            "2\n",
            "2\n",
            "2\n",
            "1\n",
            "0\n",
            "80003672077\n"
          ],
          "name": "stdout"
        }
      ]
    },
    {
      "cell_type": "markdown",
      "metadata": {
        "id": "L_uaamxeAHK7"
      },
      "source": [
        "The number of instructions executed by the algooirithm with a list of size $n$ is  \n",
        "\n",
        "$$T = 9 + 7n + [2(n-1)n, 2.5 (n-1)n]$$\n",
        "\n",
        "It depends on the size of the lists and  the order of the list.\n",
        "\n",
        "For the input1.txt \n",
        "```\n",
        "10\n",
        "1 2 3 4 5 6 7 8 9 10\n",
        "```\n",
        "$$T = 9 + 7(10) + 2(9)(10) +  9 + 5 + 4 + 3 + 2 + 2 + 2 + 2 + 1 + 0  = 289 $$\n",
        "\n",
        "For the input2.txt \n",
        "```\n",
        "6\n",
        "1 3 200000 9 200000 23\n",
        "```\n",
        "$$T = 9 + 7(6) + 2(5)(6)  +  2 + 1 + 2 + 0 + 0 + 0 = 116 $$\n",
        "\n",
        "\n",
        "For the input3.txt that is the worst case (n=200000 and list in incresing order)\n",
        "\n",
        "```\n",
        "200000\n",
        "1 2 3 4 5 6 7 8 9 10 ... 199998 199999 200000\n",
        "```\n",
        "\n",
        "$$\n",
        "\\begin{array}{ll}\n",
        "T &= 9 + 7(200000) + (2)(199999)(200000)  + (199999 +\n",
        "100000 + 66667 +50000 \\cdots 2 + 2 + 1)\\\\\n",
        "&= 80003672077  \\\\\n",
        "  &< 9 + 7(200000) + (2.5)(199999)(200000) \\\\\n",
        "  & = 100000900009\n",
        "\\end{array}\n",
        "  $$"
      ]
    },
    {
      "cell_type": "markdown",
      "metadata": {
        "id": "NXW7QkoBL6xH"
      },
      "source": [
        "Calculate estimated time by instruction and number of instructions by second"
      ]
    },
    {
      "cell_type": "code",
      "metadata": {
        "colab": {
          "base_uri": "https://localhost:8080/"
        },
        "id": "pKqB3i7dIxnc",
        "outputId": "cec850f5-16e3-4cd6-bf9b-6f5f2fd7b076"
      },
      "source": [
        "# Estimated time by instruction\n",
        "\n",
        "128/80003672077 \n"
      ],
      "execution_count": null,
      "outputs": [
        {
          "output_type": "execute_result",
          "data": {
            "text/plain": [
              "1.5999265618308827e-09"
            ]
          },
          "metadata": {
            "tags": []
          },
          "execution_count": 34
        }
      ]
    },
    {
      "cell_type": "code",
      "metadata": {
        "colab": {
          "base_uri": "https://localhost:8080/"
        },
        "id": "18N1ouqeMhE1",
        "outputId": "d7d4d1bf-b899-4c01-8ecb-e30da3ae6468"
      },
      "source": [
        "# Estimated number of instructions by second\n",
        "\n",
        "1/(128/80003672077) "
      ],
      "execution_count": null,
      "outputs": [
        {
          "output_type": "execute_result",
          "data": {
            "text/plain": [
              "625028688.1015625"
            ]
          },
          "metadata": {
            "tags": []
          },
          "execution_count": 35
        }
      ]
    },
    {
      "cell_type": "markdown",
      "metadata": {
        "id": "CQufozXLNJwO"
      },
      "source": [
        "### Efficient solution"
      ]
    },
    {
      "cell_type": "markdown",
      "metadata": {
        "id": "nLcKBwbU0QsE"
      },
      "source": [
        "Add in each line a coment with the number of intstrcution that are executed in that line"
      ]
    },
    {
      "cell_type": "code",
      "metadata": {
        "id": "knls5Fh3NSt_",
        "colab": {
          "base_uri": "https://localhost:8080/"
        },
        "outputId": "154c9863-87cb-4614-b69c-04a39d8bdf55"
      },
      "source": [
        "%%writefile max_pairwise_product_efficient.cpp\n",
        "#include <iostream>\n",
        "#include <vector>\n",
        "\n",
        "using std::vector;\n",
        "using std::cin;\n",
        "using std::cout;\n",
        "\n",
        "long long MaxPairwiseProductFast(const vector<int> & numbers)                             //N inst exec by line executed\n",
        "{\n",
        "    int n=numbers.size();                                                                 //1\n",
        " \n",
        "    int max_index1=-1;                                                                    //1\n",
        "    for(int i=0;i<n;i++)                                                                  //1+2n\n",
        "    {\n",
        "        if((max_index1==-1) || (numbers[i]>numbers[max_index1]))                          //n\n",
        "            max_index1=i;                                                                 //[1,n]\n",
        "    }\n",
        "     \n",
        "    int max_index2=-1;                                                                    //1\n",
        "    for(int j=0;j<n;j++)                                                                  //1+2n\n",
        "    {\n",
        "        if((j!=max_index1) && ((max_index2==-1) || (numbers[j]>numbers[max_index2])))     //n\n",
        "            max_index2=j;                                                                 //[1,n]\n",
        "    }\n",
        "    \n",
        "    return ((long long)(numbers[max_index1]))*numbers[max_index2];                        //5+6n+[2,2n]\n",
        "}\n",
        "\n",
        "int main()\n",
        "{\n",
        "    int n;                                                                                //1\n",
        "    cin>>n;                                                                               //1\n",
        "    vector<int> numbers(n);                                                               //n\n",
        "    for(int i=0;i<n;i++)                                                                  //1+2n\n",
        "    {\n",
        "        cin>>numbers[i];                                                                  //n\n",
        "    }\n",
        "\n",
        "    long long result=MaxPairwiseProductFast(vector<int>(numbers));                        //1+(5+6n+[2,2n])\n",
        "    cout<<result<<\"\\n\";                                                                   //1\n",
        "    return 0;                                                                             //TOTAL: 10+10n+[2,2n]\n",
        "}"
      ],
      "execution_count": null,
      "outputs": [
        {
          "output_type": "stream",
          "text": [
            "Writing max_pairwise_product_efficient.cpp\n"
          ],
          "name": "stdout"
        }
      ]
    },
    {
      "cell_type": "markdown",
      "metadata": {
        "id": "-JCijbWxNSii"
      },
      "source": [
        "####Test with inputs 1 and 2\n",
        "\n"
      ]
    },
    {
      "cell_type": "code",
      "metadata": {
        "id": "TrTGAfqlNVXT",
        "colab": {
          "base_uri": "https://localhost:8080/"
        },
        "outputId": "30172833-9b4a-4879-94f8-8b444253080f"
      },
      "source": [
        "!g++ max_pairwise_product_efficient.cpp -o max_pairwise_product_efficient\n",
        "!time ./max_pairwise_product_efficient < input1.txt"
      ],
      "execution_count": null,
      "outputs": [
        {
          "output_type": "stream",
          "text": [
            "90\n",
            "\n",
            "real\t0m0.003s\n",
            "user\t0m0.002s\n",
            "sys\t0m0.001s\n"
          ],
          "name": "stdout"
        }
      ]
    },
    {
      "cell_type": "code",
      "metadata": {
        "colab": {
          "base_uri": "https://localhost:8080/"
        },
        "id": "a5VuCugCqda-",
        "outputId": "0d478da6-3e03-4e3d-a5d8-33f0892fc009"
      },
      "source": [
        "!g++ max_pairwise_product_efficient.cpp -o max_pairwise_product_efficient\n",
        "!time ./max_pairwise_product_efficient < input2.txt"
      ],
      "execution_count": null,
      "outputs": [
        {
          "output_type": "stream",
          "text": [
            "40000000000\n",
            "\n",
            "real\t0m0.003s\n",
            "user\t0m0.001s\n",
            "sys\t0m0.002s\n"
          ],
          "name": "stdout"
        }
      ]
    },
    {
      "cell_type": "markdown",
      "metadata": {
        "id": "PRX51wADNR8b"
      },
      "source": [
        "####Test and time it with input 3"
      ]
    },
    {
      "cell_type": "code",
      "metadata": {
        "id": "v4z7-Is_NRt7",
        "colab": {
          "base_uri": "https://localhost:8080/"
        },
        "outputId": "dc9a9846-0284-4a25-cbb4-1054511012a0"
      },
      "source": [
        "!g++ max_pairwise_product_efficient.cpp -o max_pairwise_product_efficient\n",
        "!time ./max_pairwise_product_efficient < input3.txt"
      ],
      "execution_count": null,
      "outputs": [
        {
          "output_type": "stream",
          "text": [
            "39999800000\n",
            "\n",
            "real\t0m0.063s\n",
            "user\t0m0.060s\n",
            "sys\t0m0.001s\n"
          ],
          "name": "stdout"
        }
      ]
    },
    {
      "cell_type": "markdown",
      "metadata": {
        "id": "rpdfs0_TNZJf"
      },
      "source": [
        "####20 stress tests"
      ]
    },
    {
      "cell_type": "code",
      "metadata": {
        "id": "Lu4tYcKzNcTT",
        "colab": {
          "base_uri": "https://localhost:8080/"
        },
        "outputId": "3b387f23-92b6-4cdf-b3f4-88520fdfe9ea"
      },
      "source": [
        "%%writefile max_pairwise_product_stress_test_efficient.cpp\n",
        "#include <cstdlib>\n",
        "#include <iostream>\n",
        "#include <vector>\n",
        "\n",
        "using std::vector;\n",
        "using std::cin;\n",
        "using std::cout;\n",
        "\n",
        "long long MaxPairwiseProduct(const std::vector<int>& numbers) {\n",
        "    long long max_product = 0LL;\n",
        "    long long aux_product = 0LL;\n",
        "    int n = numbers.size();\n",
        "\n",
        "    for (int first = 0; first < n; ++first)\n",
        "    {\n",
        "        for (int second = first + 1; second < n; ++second)\n",
        "        {\n",
        "            aux_product =  (long long) numbers[first] * numbers[second];\n",
        "\n",
        "            if ( max_product < aux_product)\n",
        "            {\n",
        "\t\t\t\t        max_product = aux_product;\n",
        "            }\n",
        "        }\n",
        "    }\n",
        "\n",
        "    return max_product;\n",
        "}\n",
        "\n",
        "long long MaxPairwiseProductRap(const vector<int> & numbers)\n",
        "{\n",
        "    int n=numbers.size();\n",
        "\n",
        "    int max_ind1=-1;\n",
        "    for(int i=0;i<n;i++)\n",
        "    {\n",
        "        if((max_ind1==-1) || (numbers[i]>numbers[max_ind1]))\n",
        "            max_ind1=i;\n",
        "    }\n",
        "\n",
        "    int max_ind2=-1;\n",
        "    for(int j=0;j<n;j++)\n",
        "    {\n",
        "        if((j!=max_ind1) && ((max_ind2==-1) || (numbers[j]>numbers[max_ind2])))\n",
        "            max_ind2=j;\n",
        "    }\n",
        "\n",
        "    return ((long long)(numbers[max_ind1]))*numbers[max_ind2];\n",
        "}\n",
        "\n",
        "int main()\n",
        "{\n",
        "    int cont=0;\n",
        "    while(cont!=20)\n",
        "    {\n",
        "        int n=2+rand()%(21-2);\n",
        "        cout<<n<<\"\\n\";\n",
        "        vector<int> a;\n",
        "        for(int i=0;i<n;i++)\n",
        "        {\n",
        "            a.push_back(rand() % 200001);\n",
        "        }\n",
        "        for(int i=0;i<n;i++)\n",
        "        {\n",
        "            cout<<a[i]<<' ';\n",
        "        }\n",
        "        cout<<\"\\n\";\n",
        "        long long res1=MaxPairwiseProduct(a);\n",
        "        long long res2=MaxPairwiseProductRap(a);\n",
        "        if(res1!=res2)\n",
        "        {\n",
        "            cout<<\"Incorrecto: \"<<res1<<' '<<res2<<\"\\n\";\n",
        "            cont++;\n",
        "        }\n",
        "        else\n",
        "        {\n",
        "            cout<<\"OK\\n\";\n",
        "            cont++;\n",
        "        }\n",
        "    }\n",
        "    return 0;\n",
        "}"
      ],
      "execution_count": null,
      "outputs": [
        {
          "output_type": "stream",
          "text": [
            "Writing max_pairwise_product_stress_test_efficient.cpp\n"
          ],
          "name": "stdout"
        }
      ]
    },
    {
      "cell_type": "code",
      "metadata": {
        "colab": {
          "base_uri": "https://localhost:8080/"
        },
        "id": "mmhA65LkrBXH",
        "outputId": "ef871574-32ef-40c9-b3b7-858d13a2db54"
      },
      "source": [
        "!g++ max_pairwise_product_stress_test_efficient.cpp -o max_pairwise_product_stress_test_efficient\n",
        "!./max_pairwise_product_stress_test_efficient"
      ],
      "execution_count": null,
      "outputs": [
        {
          "output_type": "stream",
          "text": [
            "4\n",
            "126652 84369 28342 138005 \n",
            "OK\n",
            "10\n",
            "81787 152244 113667 35473 197237 83275 164774 114547 87539 104089 \n",
            "OK\n",
            "9\n",
            "175725 87652 49219 5036 192761 101094 147795 64100 17225 \n",
            "OK\n",
            "8\n",
            "63955 163342 100792 108422 170793 27444 119880 126224 \n",
            "OK\n",
            "7\n",
            "156094 8011 171871 69760 170574 169107 80124 \n",
            "OK\n",
            "3\n",
            "10742 94753 166526 \n",
            "OK\n",
            "11\n",
            "197567 54177 160766 2602 174028 61859 150398 38127 6173 198956 102082 \n",
            "OK\n",
            "18\n",
            "99747 10503 67397 127191 57473 120710 146818 13566 55810 118688 10416 153474 14883 90540 88820 25626 112382 182435 \n",
            "OK\n",
            "2\n",
            "109949 163702 \n",
            "OK\n",
            "15\n",
            "112551 137729 86885 190038 102945 93059 188993 5026 189663 88740 142619 184149 143020 91 31948 \n",
            "OK\n",
            "7\n",
            "140748 87758 135615 78253 41231 150499 95882 \n",
            "OK\n",
            "15\n",
            "103214 8264 166665 167475 118213 57455 192502 157853 122273 6475 147891 25217 26623 136883 157333 \n",
            "OK\n",
            "13\n",
            "152712 99952 127524 95732 27132 86561 112659 94969 101409 175363 173222 69729 52950 \n",
            "OK\n",
            "6\n",
            "53959 156164 4457 20624 50728 122670 \n",
            "OK\n",
            "17\n",
            "43229 7611 127442 49704 155502 152659 76328 19474 109992 146793 99275 137033 1405 122096 91254 87967 34754 \n",
            "OK\n",
            "19\n",
            "189376 137207 86534 59104 190157 155638 40153 146321 87184 60777 124138 136943 65945 167367 144555 120476 144160 100056 73135 \n",
            "OK\n",
            "11\n",
            "46619 110216 94369 145895 174338 95775 67990 65591 183742 29834 51814 \n",
            "OK\n",
            "3\n",
            "167041 65438 86399 \n",
            "OK\n",
            "10\n",
            "21075 126552 30606 108260 114418 154744 45202 107453 49199 116846 \n",
            "OK\n",
            "7\n",
            "193360 143992 28152 68025 190611 65457 162395 \n",
            "OK\n"
          ],
          "name": "stdout"
        }
      ]
    },
    {
      "cell_type": "markdown",
      "metadata": {
        "id": "L8U4151JNbxk"
      },
      "source": [
        "####Count executed instructions in code and verify with inputs 1,2 and 3\n"
      ]
    },
    {
      "cell_type": "code",
      "metadata": {
        "id": "dh85RM8vNhFz",
        "colab": {
          "base_uri": "https://localhost:8080/"
        },
        "outputId": "c850af3b-f0a1-4030-c325-340778ebeda5"
      },
      "source": [
        "%%writefile max_pairwise_product_efficient_cont.cpp\n",
        "#include <iostream>\n",
        "#include <vector>\n",
        "\n",
        "using std::vector;\n",
        "using std::cin;\n",
        "using std::cout;\n",
        "\n",
        "long long cont=0LL;\n",
        "\n",
        "long long MaxPairwiseProductFast(const vector<int> & numbers)                             //N inst exec by line executed\n",
        "{\n",
        "    long long cond=0LL;\n",
        "    int n=numbers.size();                                                                 //1\n",
        "    cont++;\n",
        "    int max_index1=-1;                                                                    //1\n",
        "    cont++;\n",
        "    cont++;\n",
        "    for(int i=0;i<n;i++)                                                                  //1+2n    \n",
        "    {\n",
        "        cont+=2;\n",
        "        cont+=2;\n",
        "        if((max_index1==-1) || (numbers[i]>numbers[max_index1]))                          //2n\n",
        "        {\n",
        "            cond++;\n",
        "            max_index1=i;                                                                 //[1,n]\n",
        "            cont++;\n",
        "        }\n",
        "    }\n",
        "    cout<<cond<<\"\\n\";\n",
        "    cond=0LL;\n",
        "    int max_index2=-1;                                                                    //1\n",
        "    cont++;\n",
        "    cont++;\n",
        "    for(int j=0;j<n;j++)                                                                  //1+2n\n",
        "    {\n",
        "        cont+=2;\n",
        "        cont+=3;\n",
        "        if((j!=max_index1) && ((max_index2==-1) || (numbers[j]>numbers[max_index2])))     //3n\n",
        "        {\n",
        "            cond++;\n",
        "            max_index2=j;                                                                 //[1,n]\n",
        "            cont++;\n",
        "        }\n",
        "    }\n",
        "    cout<<cond<<\"\\n\";    \n",
        "    return ((long long)(numbers[max_index1]))*numbers[max_index2];                        //5+9n+[2,2n]\n",
        "}\n",
        "\n",
        "int main()\n",
        "{\n",
        "    int n;                                                                                //1\n",
        "    cont++;\n",
        "    cin>>n;                                                                               //1\n",
        "    cont++;\n",
        "    vector<int> numbers(n);                                                               //n\n",
        "    cont+=n;\n",
        "    cont++;\n",
        "    for(int i=0;i<n;i++)                                                                  //1+2n\n",
        "    {\n",
        "        cont+=2;\n",
        "        cin>>numbers[i];                                                                  //n\n",
        "        cont++;\n",
        "    }\n",
        "    cont++;\n",
        "    long long result=MaxPairwiseProductFast(vector<int>(numbers));                        //1+(5+6n+[2,2n])\n",
        "    cont++;\n",
        "    cout<<result<<\"\\n\";                                                                   //1    \n",
        "    cout<<cont<<\"\\n\";\n",
        "    return 0;                                                                             //TOTAL: 10+13n+[2,2n]\n",
        "}"
      ],
      "execution_count": null,
      "outputs": [
        {
          "output_type": "stream",
          "text": [
            "Overwriting max_pairwise_product_efficient_cont.cpp\n"
          ],
          "name": "stdout"
        }
      ]
    },
    {
      "cell_type": "code",
      "metadata": {
        "colab": {
          "base_uri": "https://localhost:8080/"
        },
        "id": "rFFc2BmHvAeD",
        "outputId": "375550b7-3203-4ba4-eb54-d0b7b7cde682"
      },
      "source": [
        "!g++ max_pairwise_product_efficient_cont.cpp -o max_pairwise_product_efficient_cont\n",
        "!time ./max_pairwise_product_efficient_cont < input1.txt"
      ],
      "execution_count": null,
      "outputs": [
        {
          "output_type": "stream",
          "text": [
            "10\n",
            "9\n",
            "90\n",
            "159\n",
            "\n",
            "real\t0m0.004s\n",
            "user\t0m0.002s\n",
            "sys\t0m0.002s\n"
          ],
          "name": "stdout"
        }
      ]
    },
    {
      "cell_type": "markdown",
      "metadata": {
        "id": "v-3V8L4_v9dT"
      },
      "source": [
        "For input 1:\n",
        "\n",
        "$I=10+13n+[2,2n]$\n",
        "\n",
        "$I=10+13(10)+[19]=159$"
      ]
    },
    {
      "cell_type": "code",
      "metadata": {
        "colab": {
          "base_uri": "https://localhost:8080/"
        },
        "id": "ZSzHjkM8ywmg",
        "outputId": "f5422a90-24f1-4d69-8c8d-f6d652c408ed"
      },
      "source": [
        "!g++ max_pairwise_product_efficient_cont.cpp -o max_pairwise_product_efficient_cont\n",
        "!time ./max_pairwise_product_efficient_cont < input2.txt"
      ],
      "execution_count": null,
      "outputs": [
        {
          "output_type": "stream",
          "text": [
            "3\n",
            "4\n",
            "40000000000\n",
            "95\n",
            "\n",
            "real\t0m0.003s\n",
            "user\t0m0.002s\n",
            "sys\t0m0.001s\n"
          ],
          "name": "stdout"
        }
      ]
    },
    {
      "cell_type": "markdown",
      "metadata": {
        "id": "FMghPVHUzANt"
      },
      "source": [
        "For input 2:\n",
        "\n",
        "$I=10+13n+[2,2n]$\n",
        "\n",
        "$I=10+13(6)+[7]=95$"
      ]
    },
    {
      "cell_type": "code",
      "metadata": {
        "colab": {
          "base_uri": "https://localhost:8080/"
        },
        "id": "VCfoeq-RzUwM",
        "outputId": "0201df74-a4a6-47b6-8a37-55940346a24f"
      },
      "source": [
        "!g++ max_pairwise_product_efficient_cont.cpp -o max_pairwise_product_efficient_cont\n",
        "!time ./max_pairwise_product_efficient_cont < input3.txt"
      ],
      "execution_count": null,
      "outputs": [
        {
          "output_type": "stream",
          "text": [
            "200000\n",
            "199999\n",
            "39999800000\n",
            "3000009\n",
            "\n",
            "real\t0m0.062s\n",
            "user\t0m0.057s\n",
            "sys\t0m0.004s\n"
          ],
          "name": "stdout"
        }
      ]
    },
    {
      "cell_type": "markdown",
      "metadata": {
        "id": "RLGJH1Bfza_n"
      },
      "source": [
        "For input 3:\n",
        "\n",
        "$I=10+13n+[2,2n]$\n",
        "\n",
        "$I=10+13(200000)+[399999]=3000009$"
      ]
    },
    {
      "cell_type": "markdown",
      "metadata": {
        "id": "K6ybgCmpNygr"
      },
      "source": [
        "#####Calculate estimated time by instruction and number of instructions by second"
      ]
    },
    {
      "cell_type": "code",
      "metadata": {
        "id": "kwe3G1O3Nz1w",
        "colab": {
          "base_uri": "https://localhost:8080/"
        },
        "outputId": "1f80314a-9929-4f52-c429-7998a82dc857"
      },
      "source": [
        "# Estimated time by instruction\n",
        "\n",
        "0.057/3000009"
      ],
      "execution_count": null,
      "outputs": [
        {
          "output_type": "execute_result",
          "data": {
            "text/plain": [
              "1.8999943000171e-08"
            ]
          },
          "metadata": {
            "tags": []
          },
          "execution_count": 76
        }
      ]
    },
    {
      "cell_type": "code",
      "metadata": {
        "colab": {
          "base_uri": "https://localhost:8080/"
        },
        "id": "rY5DEHtz0eFx",
        "outputId": "e1fb7dcb-c4e9-4971-a4f8-1559b19a01ff"
      },
      "source": [
        "# Estimated number of instructions by second\n",
        "\n",
        "1/(0.057/3000009)"
      ],
      "execution_count": null,
      "outputs": [
        {
          "output_type": "execute_result",
          "data": {
            "text/plain": [
              "52631736.84210526"
            ]
          },
          "metadata": {
            "tags": []
          },
          "execution_count": 77
        }
      ]
    },
    {
      "cell_type": "markdown",
      "metadata": {
        "id": "sc9nOLQrfTm0"
      },
      "source": [
        "### Super efficient solution\n",
        "\n",
        "Whitout storing the list in memory and whitout calling a function, add in each line a coment with the number of intstrcution that are executed in that line "
      ]
    },
    {
      "cell_type": "code",
      "metadata": {
        "id": "hBLt_xBQLy8E",
        "colab": {
          "base_uri": "https://localhost:8080/"
        },
        "outputId": "258a9627-7967-448d-e037-70e5d0681bee"
      },
      "source": [
        "%%writefile max_pairwise_product_super_efficient.cpp\n",
        "\n",
        "#include <cstdlib>\n",
        "#include <iostream>\n",
        "#include <vector>\n",
        "\n",
        "using namespace std;\n",
        "\n",
        "int main() {\n",
        "    \n",
        "    long long n;                                                                //1\n",
        "    long long lec;                                                              //1                                                                        \n",
        "    long long max1 = -1;                                                        //1\n",
        "    long long max2 = -1;                                                        //1\n",
        "    cin >> n;                                                                   //1\n",
        "\n",
        "    for (int i = 0; i < n; ++i)                                                 //1 + 2n\n",
        "    {\n",
        "        cin >> lec;                                                             //n\n",
        "\n",
        "        if (max1 == -1)                                                         //n\n",
        "        {\n",
        "            max1 = lec;                                                         //1\n",
        "        }        \n",
        "        else if (lec > max1)                                                    //n   \n",
        "        {       \n",
        "            max2 = max1;                                                        //[0, n]\n",
        "            max1 = lec;                                                         //[0, n]                                                                                \n",
        "        }        \n",
        "        else if ((max2 == -1) || (lec > max2))                                  //2n\n",
        "        {\n",
        "            max2 = lec;                                                         //[0, n]\n",
        "        }        \n",
        "    }\n",
        "    cout << (long long) max1*max2 << \"\\n\";                                      //1\n",
        "    return 0;                                                                  \n",
        "                                                                                //TOTAL: 8 + 7n + [0, 3n]    \n",
        "}"
      ],
      "execution_count": null,
      "outputs": [
        {
          "output_type": "stream",
          "text": [
            "Overwriting max_pairwise_product_super_efficient.cpp\n"
          ],
          "name": "stdout"
        }
      ]
    },
    {
      "cell_type": "markdown",
      "metadata": {
        "id": "683gc3roHqzb"
      },
      "source": [
        "####Test with inputs 1 and 2\n",
        "\n",
        "\n",
        " "
      ]
    },
    {
      "cell_type": "code",
      "metadata": {
        "id": "b7d4LA8OIc2_",
        "colab": {
          "base_uri": "https://localhost:8080/"
        },
        "outputId": "4b81f308-422c-4ee2-c4a9-17b7ad8530c9"
      },
      "source": [
        "!g++ max_pairwise_product_super_efficient.cpp -o max_pairwise_product_super_efficient\n",
        "!time ./max_pairwise_product_super_efficient < input1.txt"
      ],
      "execution_count": null,
      "outputs": [
        {
          "output_type": "stream",
          "text": [
            "90\n",
            "\n",
            "real\t0m0.004s\n",
            "user\t0m0.001s\n",
            "sys\t0m0.003s\n"
          ],
          "name": "stdout"
        }
      ]
    },
    {
      "cell_type": "code",
      "metadata": {
        "colab": {
          "base_uri": "https://localhost:8080/"
        },
        "id": "kxai6w3B3fDa",
        "outputId": "db3b2c81-4e79-4f37-ba6f-f8b3c0e91576"
      },
      "source": [
        "!g++ max_pairwise_product_super_efficient.cpp -o max_pairwise_product_super_efficient\n",
        "!time ./max_pairwise_product_super_efficient < input2.txt"
      ],
      "execution_count": null,
      "outputs": [
        {
          "output_type": "stream",
          "text": [
            "40000000000\n",
            "\n",
            "real\t0m0.003s\n",
            "user\t0m0.000s\n",
            "sys\t0m0.003s\n"
          ],
          "name": "stdout"
        }
      ]
    },
    {
      "cell_type": "markdown",
      "metadata": {
        "id": "36Ugn1odIeJz"
      },
      "source": [
        "####Test and time it with input 3"
      ]
    },
    {
      "cell_type": "code",
      "metadata": {
        "id": "jDyMbCnxHqSN",
        "colab": {
          "base_uri": "https://localhost:8080/"
        },
        "outputId": "d4786a32-6c7d-4032-d23c-6b646383a68b"
      },
      "source": [
        "!g++ max_pairwise_product_super_efficient.cpp -o max_pairwise_product_super_efficient\n",
        "!time ./max_pairwise_product_super_efficient < input3.txt"
      ],
      "execution_count": null,
      "outputs": [
        {
          "output_type": "stream",
          "text": [
            "39999800000\n",
            "\n",
            "real\t0m0.057s\n",
            "user\t0m0.057s\n",
            "sys\t0m0.000s\n"
          ],
          "name": "stdout"
        }
      ]
    },
    {
      "cell_type": "markdown",
      "metadata": {
        "id": "bhqiKQG6fjKM"
      },
      "source": [
        "####20 stress tests "
      ]
    },
    {
      "cell_type": "code",
      "metadata": {
        "id": "2KsiXKhALzwm",
        "colab": {
          "base_uri": "https://localhost:8080/"
        },
        "outputId": "bed3df2f-f5b7-45e4-e6b2-877858add8c4"
      },
      "source": [
        "%%writefile max_pairwise_product_stress_test_super_efficient.cpp\n",
        "#include <cstdlib>\n",
        "#include <iostream>\n",
        "#include <vector>\n",
        "\n",
        "using std::vector;\n",
        "using std::cin;\n",
        "using std::cout;\n",
        "\n",
        "long long MaxPairwiseProductRap(const vector<int> & numbers)\n",
        "{\n",
        "    int n=numbers.size();\n",
        "\n",
        "    int max_ind1=-1;\n",
        "    for(int i=0;i<n;i++)\n",
        "    {\n",
        "        if((max_ind1==-1) || (numbers[i]>numbers[max_ind1]))\n",
        "            max_ind1=i;\n",
        "    }\n",
        "\n",
        "    int max_ind2=-1;\n",
        "    for(int j=0;j<n;j++)\n",
        "    {\n",
        "        if((j!=max_ind1) && ((max_ind2==-1) || (numbers[j]>numbers[max_ind2])))\n",
        "            max_ind2=j;\n",
        "    }\n",
        "\n",
        "    return ((long long)(numbers[max_ind1]))*numbers[max_ind2];\n",
        "}\n",
        "\n",
        "int main()\n",
        "{    \n",
        "    int cont=0;\n",
        "    while(cont!=20)\n",
        "    {                                                                             \n",
        "        long long lec;                                                                                                                                         \n",
        "        long long max1 = -1;                                                              \n",
        "        long long max2 = -1;\n",
        "     \n",
        "        int n=2+rand()%(21-2);\n",
        "        cout<<n<<\"\\n\";\n",
        "        vector<int> a;\n",
        "        for(int i=0;i<n;i++)\n",
        "        {\n",
        "            lec=rand() % 200001;\n",
        "            a.push_back(lec);\n",
        "\n",
        "            if (max1 == -1)                                                        \n",
        "            {\n",
        "                max1 = lec;                                                         \n",
        "            }        \n",
        "            else if (lec > max1)                                                      \n",
        "            {       \n",
        "                max2 = max1;                                                        \n",
        "                max1 = lec;                                                                                                                                      \n",
        "            }        \n",
        "            else if ((max2 == -1) || (lec > max2))                                  \n",
        "            {\n",
        "                max2 = lec;                                                         \n",
        "            }        \n",
        "        }\n",
        "        for(int i=0;i<n;i++)\n",
        "        {\n",
        "            cout<<a[i]<<' ';\n",
        "        }\n",
        "        cout<<\"\\n\";\n",
        "        long long res1 = MaxPairwiseProductRap(a);\n",
        "        long long res2 = max1*max2;\n",
        "\n",
        "        if(res1!=res2)\n",
        "        {\n",
        "            cout<<\"Incorrecto: \"<<res1<<' '<<res2<<\"\\n\";\n",
        "            cont++;\n",
        "        }\n",
        "        else\n",
        "        {\n",
        "            cout<<\"OK\\n\";\n",
        "            cont++;\n",
        "        }\n",
        "    }\n",
        "    return 0;\n",
        "}"
      ],
      "execution_count": null,
      "outputs": [
        {
          "output_type": "stream",
          "text": [
            "Overwriting max_pairwise_product_stress_test_super_efficient.cpp\n"
          ],
          "name": "stdout"
        }
      ]
    },
    {
      "cell_type": "code",
      "metadata": {
        "colab": {
          "base_uri": "https://localhost:8080/"
        },
        "id": "5lp91P0D9E8G",
        "outputId": "bad6f133-f44a-4cfe-c8ed-8ed8cc3ca0a6"
      },
      "source": [
        "!g++ max_pairwise_product_stress_test_super_efficient.cpp -o max_pairwise_product_stress_test_super_efficient\n",
        "!./max_pairwise_product_stress_test_super_efficient"
      ],
      "execution_count": null,
      "outputs": [
        {
          "output_type": "stream",
          "text": [
            "4\n",
            "126652 84369 28342 138005 \n",
            "OK\n",
            "10\n",
            "81787 152244 113667 35473 197237 83275 164774 114547 87539 104089 \n",
            "OK\n",
            "9\n",
            "175725 87652 49219 5036 192761 101094 147795 64100 17225 \n",
            "OK\n",
            "8\n",
            "63955 163342 100792 108422 170793 27444 119880 126224 \n",
            "OK\n",
            "7\n",
            "156094 8011 171871 69760 170574 169107 80124 \n",
            "OK\n",
            "3\n",
            "10742 94753 166526 \n",
            "OK\n",
            "11\n",
            "197567 54177 160766 2602 174028 61859 150398 38127 6173 198956 102082 \n",
            "OK\n",
            "18\n",
            "99747 10503 67397 127191 57473 120710 146818 13566 55810 118688 10416 153474 14883 90540 88820 25626 112382 182435 \n",
            "OK\n",
            "2\n",
            "109949 163702 \n",
            "OK\n",
            "15\n",
            "112551 137729 86885 190038 102945 93059 188993 5026 189663 88740 142619 184149 143020 91 31948 \n",
            "OK\n",
            "7\n",
            "140748 87758 135615 78253 41231 150499 95882 \n",
            "OK\n",
            "15\n",
            "103214 8264 166665 167475 118213 57455 192502 157853 122273 6475 147891 25217 26623 136883 157333 \n",
            "OK\n",
            "13\n",
            "152712 99952 127524 95732 27132 86561 112659 94969 101409 175363 173222 69729 52950 \n",
            "OK\n",
            "6\n",
            "53959 156164 4457 20624 50728 122670 \n",
            "OK\n",
            "17\n",
            "43229 7611 127442 49704 155502 152659 76328 19474 109992 146793 99275 137033 1405 122096 91254 87967 34754 \n",
            "OK\n",
            "19\n",
            "189376 137207 86534 59104 190157 155638 40153 146321 87184 60777 124138 136943 65945 167367 144555 120476 144160 100056 73135 \n",
            "OK\n",
            "11\n",
            "46619 110216 94369 145895 174338 95775 67990 65591 183742 29834 51814 \n",
            "OK\n",
            "3\n",
            "167041 65438 86399 \n",
            "OK\n",
            "10\n",
            "21075 126552 30606 108260 114418 154744 45202 107453 49199 116846 \n",
            "OK\n",
            "7\n",
            "193360 143992 28152 68025 190611 65457 162395 \n",
            "OK\n"
          ],
          "name": "stdout"
        }
      ]
    },
    {
      "cell_type": "markdown",
      "metadata": {
        "id": "fEXj8GHJH5p1"
      },
      "source": [
        "####Count executed instructions in code and verify with inputs 1,2 and 3"
      ]
    },
    {
      "cell_type": "code",
      "metadata": {
        "id": "LF1DHjKXIAsF",
        "colab": {
          "base_uri": "https://localhost:8080/"
        },
        "outputId": "e921b714-3ca2-4e0b-ca1b-318cba9224a7"
      },
      "source": [
        "%%writefile max_pairwise_product_super_efficient_cont.cpp\n",
        "\n",
        "#include <cstdlib>\n",
        "#include <iostream>\n",
        "#include <vector>\n",
        "\n",
        "using namespace std;\n",
        "\n",
        "long long cont=0LL;\n",
        "\n",
        "int main() {\n",
        "    \n",
        "    long long cond=0LL;\n",
        "\n",
        "    long long n;                                                                //1\n",
        "    cont++;\n",
        "    long long lec;                                                              //1     \n",
        "    cont++;                                                                   \n",
        "    long long max1 = -1;                                                        //1\n",
        "    cont++;\n",
        "    long long max2 = -1;                                                        //1\n",
        "    cont++;\n",
        "    cin >> n;                                                                   //1\n",
        "    cont++;\n",
        "\n",
        "    cont++;  \n",
        "    for (int i = 0; i < n; ++i)                                                 //1 + 2n\n",
        "    {\n",
        "        cont+=2;\n",
        "        cin >> lec;                                                             //n\n",
        "        cont++;\n",
        "        cont++;\n",
        "        if (max1 == -1)                                                         //n\n",
        "        {\n",
        "            max1 = lec;                                                         //1\n",
        "            cont++;\n",
        "        }        \n",
        "        else if (lec > max1)                                                    //[0,n]   \n",
        "        {       \n",
        "            cont+=3;\n",
        "            cond+=3;\n",
        "            max2 = max1;                                                        //[0, n]\n",
        "            max1 = lec;                                                         //[0, n]                                                                                \n",
        "        }      \n",
        "        else if ((max2 == -1) || (lec > max2))                                  //[0,2n]\n",
        "        {\n",
        "            cont+=3; \n",
        "            cond+=3;\n",
        "            max2 = lec;                                                         //[0, n]\n",
        "        }        \n",
        "    }\n",
        "    cont++; \n",
        "    cout << (long long) max1*max2 << \"\\n\";                                      //1\n",
        "    cout<<cond<<\"\\n\";\n",
        "    cout<<cont<<\"\\n\";\n",
        "    return 0;                                                                  \n",
        "                                                                                //TOTAL: 8 + 4n + [0, 6n]    \n",
        "}"
      ],
      "execution_count": null,
      "outputs": [
        {
          "output_type": "stream",
          "text": [
            "Overwriting max_pairwise_product_super_efficient_cont.cpp\n"
          ],
          "name": "stdout"
        }
      ]
    },
    {
      "cell_type": "code",
      "metadata": {
        "colab": {
          "base_uri": "https://localhost:8080/"
        },
        "id": "HpOCDt3sB45p",
        "outputId": "6791ee5b-3402-4391-beeb-c6d58d85e1f6"
      },
      "source": [
        "!g++ max_pairwise_product_super_efficient_cont.cpp -o max_pairwise_product_super_efficient_cont\n",
        "!time ./max_pairwise_product_super_efficient_cont < input1.txt"
      ],
      "execution_count": null,
      "outputs": [
        {
          "output_type": "stream",
          "text": [
            "90\n",
            "27\n",
            "75\n",
            "\n",
            "real\t0m0.004s\n",
            "user\t0m0.001s\n",
            "sys\t0m0.003s\n"
          ],
          "name": "stdout"
        }
      ]
    },
    {
      "cell_type": "markdown",
      "metadata": {
        "id": "GhQWRVruChL9"
      },
      "source": [
        "For input 1:\n",
        "\n",
        "$I=8+4n+[0,6n]$\n",
        "\n",
        "$I=8+4(10)+[27]=75$"
      ]
    },
    {
      "cell_type": "code",
      "metadata": {
        "colab": {
          "base_uri": "https://localhost:8080/"
        },
        "id": "jJT9i4-WC8Bj",
        "outputId": "57eaec2c-a106-431f-c6fd-5c6d00cdc4dc"
      },
      "source": [
        "!g++ max_pairwise_product_super_efficient_cont.cpp -o max_pairwise_product_super_efficient_cont\n",
        "!time ./max_pairwise_product_super_efficient_cont < input2.txt"
      ],
      "execution_count": null,
      "outputs": [
        {
          "output_type": "stream",
          "text": [
            "40000000000\n",
            "12\n",
            "44\n",
            "\n",
            "real\t0m0.003s\n",
            "user\t0m0.001s\n",
            "sys\t0m0.002s\n"
          ],
          "name": "stdout"
        }
      ]
    },
    {
      "cell_type": "markdown",
      "metadata": {
        "id": "OIHc95mhDChJ"
      },
      "source": [
        "For input 2:\n",
        "\n",
        "$I=8+4n+[0,6n]$\n",
        "\n",
        "$I=8+4(6)+[12]=44$"
      ]
    },
    {
      "cell_type": "code",
      "metadata": {
        "colab": {
          "base_uri": "https://localhost:8080/"
        },
        "id": "o771MgO7DPcp",
        "outputId": "e3fdbac2-dbe3-4ad9-aa17-2b77d63db162"
      },
      "source": [
        "!g++ max_pairwise_product_super_efficient_cont.cpp -o max_pairwise_product_super_efficient_cont\n",
        "!time ./max_pairwise_product_super_efficient_cont < input3.txt"
      ],
      "execution_count": null,
      "outputs": [
        {
          "output_type": "stream",
          "text": [
            "39999800000\n",
            "599997\n",
            "1400005\n",
            "\n",
            "real\t0m0.071s\n",
            "user\t0m0.063s\n",
            "sys\t0m0.004s\n"
          ],
          "name": "stdout"
        }
      ]
    },
    {
      "cell_type": "markdown",
      "metadata": {
        "id": "1CZrm54pDQGK"
      },
      "source": [
        "For input 3:\n",
        "\n",
        "$I=8+4n+[0,6n]$\n",
        "\n",
        "$I=8+4(200000)+[599997]=1400005$"
      ]
    },
    {
      "cell_type": "markdown",
      "metadata": {
        "id": "yae7sSm2IG9U"
      },
      "source": [
        "#####Calculate estimated time by instruction and number of instructions by second"
      ]
    },
    {
      "cell_type": "code",
      "metadata": {
        "id": "suouY7BYL2dz",
        "colab": {
          "base_uri": "https://localhost:8080/"
        },
        "outputId": "8511c647-3a43-4037-9cb2-caa6d33925ca"
      },
      "source": [
        "# Estimated time by instruction\n",
        "\n",
        "0.063/1400005"
      ],
      "execution_count": null,
      "outputs": [
        {
          "output_type": "execute_result",
          "data": {
            "text/plain": [
              "4.4999839286288266e-08"
            ]
          },
          "metadata": {
            "tags": []
          },
          "execution_count": 104
        }
      ]
    },
    {
      "cell_type": "code",
      "metadata": {
        "colab": {
          "base_uri": "https://localhost:8080/"
        },
        "id": "b-Gt1nzyEe81",
        "outputId": "70e7f84c-9588-4f10-b885-a744ef9ba1bb"
      },
      "source": [
        "# Estimated number of instructions by second\n",
        "\n",
        "1/(0.063/1400005)"
      ],
      "execution_count": null,
      "outputs": [
        {
          "output_type": "execute_result",
          "data": {
            "text/plain": [
              "22222301.587301586"
            ]
          },
          "metadata": {
            "tags": []
          },
          "execution_count": 106
        }
      ]
    },
    {
      "cell_type": "markdown",
      "metadata": {
        "id": "rydCU4bFfrhG"
      },
      "source": [
        "## Python"
      ]
    },
    {
      "cell_type": "code",
      "metadata": {
        "id": "xwq0n_b4L3ML",
        "colab": {
          "base_uri": "https://localhost:8080/"
        },
        "outputId": "604e248d-61e7-415f-8761-93ef89b5bc83"
      },
      "source": [
        "%%writefile product.py\n",
        "def max_pairwise_product2 (numbers):\n",
        "    max_ind1=-1\n",
        "    n=len(numbers)\n",
        "    for x in range(n):\n",
        "        if((max_ind1==-1)or(numbers[x]>numbers[max_ind1])):\n",
        "            max_ind1=x\n",
        "    max_ind2=-1\n",
        "    for y in range(n):\n",
        "        if((y!=max_ind1)and((max_ind2==-1)or(numbers[y]>numbers[max_ind2]))):\n",
        "            max_ind2=y\n",
        "    return numbers[max_ind1]*numbers[max_ind2]\n",
        "\n",
        "\n",
        "if __name__ == '__main__':\n",
        "    input_n = int(input())\n",
        "    input_numbers = [int(x) for x in input().split()]\n",
        "    print(max_pairwise_product2(input_numbers))"
      ],
      "execution_count": null,
      "outputs": [
        {
          "output_type": "stream",
          "text": [
            "Writing product.py\n"
          ],
          "name": "stdout"
        }
      ]
    },
    {
      "cell_type": "code",
      "metadata": {
        "colab": {
          "base_uri": "https://localhost:8080/"
        },
        "id": "RXmx7095IImw",
        "outputId": "fa7522b0-fae5-4ab8-b020-86a193aad11f"
      },
      "source": [
        "%%time\n",
        "!python product.py  "
      ],
      "execution_count": null,
      "outputs": [
        {
          "output_type": "stream",
          "text": [
            "5\n",
            "1 3 200000 9 200000 23\n",
            "40000000000\n",
            "CPU times: user 61.5 ms, sys: 16.7 ms, total: 78.1 ms\n",
            "Wall time: 6.55 s\n"
          ],
          "name": "stdout"
        }
      ]
    },
    {
      "cell_type": "code",
      "metadata": {
        "colab": {
          "base_uri": "https://localhost:8080/"
        },
        "id": "b-p5weNAI7oX",
        "outputId": "de9ff8be-fb54-4d25-fdbe-6361d0d6aa87"
      },
      "source": [
        "%%writefile product2.py\n",
        "def max_pairwise_product2 (numbers):\n",
        "    max_ind1=-1\n",
        "    n=len(numbers)\n",
        "    for x in range(n):\n",
        "        if((max_ind1==-1)or(numbers[x]>numbers[max_ind1])):\n",
        "            max_ind1=x\n",
        "    max_ind2=-1\n",
        "    for y in range(n):\n",
        "        if((y!=max_ind1)and((max_ind2==-1)or(numbers[y]>numbers[max_ind2]))):\n",
        "            max_ind2=y\n",
        "    return numbers[max_ind1]*numbers[max_ind2]\n",
        "\n",
        "\n",
        "\n",
        "if __name__ == '__main__':\n",
        "    input_n = int(input())\n",
        "    input_numbers = [int(x) for x in input().split()]\n",
        "    print(max_pairwise_product2(input_numbers))"
      ],
      "execution_count": null,
      "outputs": [
        {
          "output_type": "stream",
          "text": [
            "Overwriting product2.py\n"
          ],
          "name": "stdout"
        }
      ]
    },
    {
      "cell_type": "code",
      "metadata": {
        "colab": {
          "base_uri": "https://localhost:8080/"
        },
        "id": "-oCK6xiJI-_Y",
        "outputId": "a36de119-ddb5-4a24-cf8c-6a59ccc51a9f"
      },
      "source": [
        "%%time\n",
        "!python product2.py"
      ],
      "execution_count": null,
      "outputs": [
        {
          "output_type": "stream",
          "text": [
            "5\n",
            "1 3 200000 9 200000 23\n",
            "40000000000\n",
            "CPU times: user 48.9 ms, sys: 15.6 ms, total: 64.5 ms\n",
            "Wall time: 4.75 s\n"
          ],
          "name": "stdout"
        }
      ]
    },
    {
      "cell_type": "markdown",
      "metadata": {
        "id": "LkVxxlhl9H98"
      },
      "source": [
        "# Screenhsoots of the Coursera Submissions in C++ and Python"
      ]
    },
    {
      "cell_type": "markdown",
      "metadata": {
        "id": "YwZP6BzB6wcb"
      },
      "source": [
        "  Sum of Two Digits "
      ]
    },
    {
      "cell_type": "markdown",
      "metadata": {
        "id": "c3UCS87i6oDJ"
      },
      "source": [
        "![sumoftwodigits.JPG](data:image/jpeg;base64,/9j/4AAQSkZJRgABAQEAYABgAAD/4RCCRXhpZgAATU0AKgAAAAgABAE7AAIAAAAFAAAISodpAAQAAAABAAAIUJydAAEAAAAKAAAQcOocAAcAAAgMAAAAPgAAAAAc6gAAAAgAAAAAAAAAAAAAAAAAAAAAAAAAAAAAAAAAAAAAAAAAAAAAAAAAAAAAAAAAAAAAAAAAAAAAAAAAAAAAAAAAAAAAAAAAAAAAAAAAAAAAAAAAAAAAAAAAAAAAAAAAAAAAAAAAAAAAAAAAAAAAAAAAAAAAAAAAAAAAAAAAAAAAAAAAAAAAAAAAAAAAAAAAAAAAAAAAAAAAAAAAAAAAAAAAAAAAAAAAAAAAAAAAAAAAAAAAAAAAAAAAAAAAAAAAAAAAAAAAAAAAAAAAAAAAAAAAAAAAAAAAAAAAAAAAAAAAAAAAAAAAAAAAAAAAAAAAAAAAAAAAAAAAAAAAAAAAAAAAAAAAAAAAAAAAAAAAAAAAAAAAAAAAAAAAAAAAAAAAAAAAAAAAAAAAAAAAAAAAAAAAAAAAAAAAAAAAAAAAAAAAAAAAAAAAAAAAAAAAAAAAAAAAAAAAAAAAAAAAAAAAAAAAAAAAAAAAAAAAAAAAAAAAAAAAAAAAAAAAAAAAAAAAAAAAAAAAAAAAAAAAAAAAAAAAAAAAAAAAAAAAAAAAAAAAAAAAAAAAAAAAAAAAAAAAAAAAAAAAAAAAAAAAAAAAAAAAAAAAAAAAAAAAAAAAAAAAAAAAAAAAAAAAAAAAAAAAAAAAAAAAAAAAAAAAAAAAAAAAAAAAAAAAAAAAAAAAAAAAAAAAAAAAAAAAAAAAAAAAAAAAAAAAAAAAAAAAAAAAAAAAAAAAAAAAAAAAAAAAAAAAAAAAAAAAAAAAAAAAAAAAAAAAAAAAAAAAAAAAAAAAAAAAAAAAAAAAAAAAAAAAAAAAAAAAAAAAAAAAAAAAAAAAAAAAAAAAAAAAAAAAAAAAAAAAAAAAAAAAAAAAAAAAAAAAAAAAAAAAAAAAAAAAAAAAAAAAAAAAAAAAAAAAAAAAAAAAAAAAAAAAAAAAAAAAAAAAAAAAAAAAAAAAAAAAAAAAAAAAAAAAAAAAAAAAAAAAAAAAAAAAAAAAAAAAAAAAAAAAAAAAAAAAAAAAAAAAAAAAAAAAAAAAAAAAAAAAAAAAAAAAAAAAAAAAAAAAAAAAAAAAAAAAAAAAAAAAAAAAAAAAAAAAAAAAAAAAAAAAAAAAAAAAAAAAAAAAAAAAAAAAAAAAAAAAAAAAAAAAAAAAAAAAAAAAAAAAAAAAAAAAAAAAAAAAAAAAAAAAAAAAAAAAAAAAAAAAAAAAAAAAAAAAAAAAAAAAAAAAAAAAAAAAAAAAAAAAAAAAAAAAAAAAAAAAAAAAAAAAAAAAAAAAAAAAAAAAAAAAAAAAAAAAAAAAAAAAAAAAAAAAAAAAAAAAAAAAAAAAAAAAAAAAAAAAAAAAAAAAAAAAAAAAAAAAAAAAAAAAAAAAAAAAAAAAAAAAAAAAAAAAAAAAAAAAAAAAAAAAAAAAAAAAAAAAAAAAAAAAAAAAAAAAAAAAAAAAAAAAAAAAAAAAAAAAAAAAAAAAAAAAAAAAAAAAAAAAAAAAAAAAAAAAAAAAAAAAAAAAAAAAAAAAAAAAAAAAAAAAAAAAAAAAAAAAAAAAAAAAAAAAAAAAAAAAAAAAAAAAAAAAAAAAAAAAAAAAAAAAAAAAAAAAAAAAAAAAAAAAAAAAAAAAAAAAAAAAAAAAAAAAAAAAAAAAAAAAAAAAAAAAAAAAAAAAAAAAAAAAAAAAAAAAAAAAAAAAAAAAAAAAAAAAAAAAAAAAAAAAAAAAAAAAAAAAAAAAAAAAAAAAAAAAAAAAAAAAAAAAAAAAAAAAAAAAAAAAAAAAAAAAAAAAAAAAAAAAAAAAAAAAAAAAAAAAAAAAAAAAAAAAAAAAAAAAAAAAAAAAAAAAAAAAAAAAAAAAAAAAAAAAAAAAAAAAAAAAAAAAAAAAAAAAAAAAAAAAAAAAAAAAAAAAAAAAAAAAAAAAAAAAAAAAAAAAAAAAAAAAAAAAAAAAAAAAAAAAAAAAAAAAAAAAAAAAAAAAAAAAAAAAAAAAAAAAAAAAAAAAAAAAAAAAAAAAAAAAAAAAAAAAAAAAAAAAAAAAAAAAAAAAAAAAAAAAAAAAAAAAAAAAAAAAAAAAAAAAAAAAAAAAAAAAAAAAAAAAAAAAAAAAAAAAAAAAAAAAAAAAAAAAAAAAAAAAAAAAAAAAAAAAAAAAAAAAAAAAAAAAAAAAAAAAAAAAAAAAAAAAAAAAAAAAAAAAAAAAAAAAAAAAAAAAAAAAAAAAAAAAAAAAAAAAAAAAAAAAAAAAAAAAAAAAAAAAAAAAAAAAAAAAAAAAAAAAAAAAAAAAAAAAAAAAAAAAAAAAAAAAAAAAAAAAAAAAAAAAAAAAAAAAAAAAAAAAAAAAAAAAAAAAAAAAAAAAAAAAAAAAAAAAAAAAAAAAAAAAAAAAAAAAAAAAAAAAAAAAAAAAAAAAAAAAAAAAAAAAAAAAAAAAAAAAAAAAAAAAAAAAAAAAAAAAAAAAAAAAAAAAAAAAAAAAAAAAAAAAAAAAAAAAAAAAAAAAAAAAAAAAAAAAAAAAAAAAAAAAAAAAAAAAAAAAAAAAAAAAAAAAAAAAAAAAAAAAAAAAAAAAAAAAAAAAAAAAAAAAAAAAAAAAAAAAAAAAAAAAAAAAAAAAAAAAAAAAAAAAAAAAAAAAAAAAAAAAAAAAAAAAAAAAAAAAAAAAAAAAAAAAAAAAAAAAAAAAAAAAAAAAAAAAAAAAAAAAAAAAAAAAAAAAAAAAAAAAAAAAAAAAAAAAAAAAAAAAAAAAAAAAAAAAAAAAAAAAAAAAAAAAAGFzdXMAAAAB6hwABwAACAwAAAhiAAAAABzqAAAACAAAAAAAAAAAAAAAAAAAAAAAAAAAAAAAAAAAAAAAAAAAAAAAAAAAAAAAAAAAAAAAAAAAAAAAAAAAAAAAAAAAAAAAAAAAAAAAAAAAAAAAAAAAAAAAAAAAAAAAAAAAAAAAAAAAAAAAAAAAAAAAAAAAAAAAAAAAAAAAAAAAAAAAAAAAAAAAAAAAAAAAAAAAAAAAAAAAAAAAAAAAAAAAAAAAAAAAAAAAAAAAAAAAAAAAAAAAAAAAAAAAAAAAAAAAAAAAAAAAAAAAAAAAAAAAAAAAAAAAAAAAAAAAAAAAAAAAAAAAAAAAAAAAAAAAAAAAAAAAAAAAAAAAAAAAAAAAAAAAAAAAAAAAAAAAAAAAAAAAAAAAAAAAAAAAAAAAAAAAAAAAAAAAAAAAAAAAAAAAAAAAAAAAAAAAAAAAAAAAAAAAAAAAAAAAAAAAAAAAAAAAAAAAAAAAAAAAAAAAAAAAAAAAAAAAAAAAAAAAAAAAAAAAAAAAAAAAAAAAAAAAAAAAAAAAAAAAAAAAAAAAAAAAAAAAAAAAAAAAAAAAAAAAAAAAAAAAAAAAAAAAAAAAAAAAAAAAAAAAAAAAAAAAAAAAAAAAAAAAAAAAAAAAAAAAAAAAAAAAAAAAAAAAAAAAAAAAAAAAAAAAAAAAAAAAAAAAAAAAAAAAAAAAAAAAAAAAAAAAAAAAAAAAAAAAAAAAAAAAAAAAAAAAAAAAAAAAAAAAAAAAAAAAAAAAAAAAAAAAAAAAAAAAAAAAAAAAAAAAAAAAAAAAAAAAAAAAAAAAAAAAAAAAAAAAAAAAAAAAAAAAAAAAAAAAAAAAAAAAAAAAAAAAAAAAAAAAAAAAAAAAAAAAAAAAAAAAAAAAAAAAAAAAAAAAAAAAAAAAAAAAAAAAAAAAAAAAAAAAAAAAAAAAAAAAAAAAAAAAAAAAAAAAAAAAAAAAAAAAAAAAAAAAAAAAAAAAAAAAAAAAAAAAAAAAAAAAAAAAAAAAAAAAAAAAAAAAAAAAAAAAAAAAAAAAAAAAAAAAAAAAAAAAAAAAAAAAAAAAAAAAAAAAAAAAAAAAAAAAAAAAAAAAAAAAAAAAAAAAAAAAAAAAAAAAAAAAAAAAAAAAAAAAAAAAAAAAAAAAAAAAAAAAAAAAAAAAAAAAAAAAAAAAAAAAAAAAAAAAAAAAAAAAAAAAAAAAAAAAAAAAAAAAAAAAAAAAAAAAAAAAAAAAAAAAAAAAAAAAAAAAAAAAAAAAAAAAAAAAAAAAAAAAAAAAAAAAAAAAAAAAAAAAAAAAAAAAAAAAAAAAAAAAAAAAAAAAAAAAAAAAAAAAAAAAAAAAAAAAAAAAAAAAAAAAAAAAAAAAAAAAAAAAAAAAAAAAAAAAAAAAAAAAAAAAAAAAAAAAAAAAAAAAAAAAAAAAAAAAAAAAAAAAAAAAAAAAAAAAAAAAAAAAAAAAAAAAAAAAAAAAAAAAAAAAAAAAAAAAAAAAAAAAAAAAAAAAAAAAAAAAAAAAAAAAAAAAAAAAAAAAAAAAAAAAAAAAAAAAAAAAAAAAAAAAAAAAAAAAAAAAAAAAAAAAAAAAAAAAAAAAAAAAAAAAAAAAAAAAAAAAAAAAAAAAAAAAAAAAAAAAAAAAAAAAAAAAAAAAAAAAAAAAAAAAAAAAAAAAAAAAAAAAAAAAAAAAAAAAAAAAAAAAAAAAAAAAAAAAAAAAAAAAAAAAAAAAAAAAAAAAAAAAAAAAAAAAAAAAAAAAAAAAAAAAAAAAAAAAAAAAAAAAAAAAAAAAAAAAAAAAAAAAAAAAAAAAAAAAAAAAAAAAAAAAAAAAAAAAAAAAAAAAAAAAAAAAAAAAAAAAAAAAAAAAAAAAAAAAAAAAAAAAAAAAAAAAAAAAAAAAAAAAAAAAAAAAAAAAAAAAAAAAAAAAAAAAAAAAAAAAAAAAAAAAAAAAAAAAAAAAAAAAAAAAAAAAAAAAAAAAAAAAAAAAAAAAAAAAAAAAAAAAAAAAAAAAAAAAAAAAAAAAAAAAAAAAAAAAAAAAAAAAAAAAAAAAAAAAAAAAAAAAAAAAAAAAAAAAAAAAAAAAAAAAAAAAAAAAAAAAAAAAAAAAAAAAAAAAAAAAAAAAAAAAAAAAAAAAAAAAAAAAAAAAAAAAAAAAAAAAAAAAAAAAAAAAAAAAAAAAAAAAAAAAAAAAAAAAAAAAAAAAAAAAAAAAAAAAAAAAAAAAAAAAAAAAAAAAAAAAAAAAAAAAAAAAAAAAAAAAAAAAAAAAAAAAAAAAAAAAAAAAAAAAAAAAAAAAAAAAAAAAAAAAAAAAAAAAAAAAAAAAAAAAAAAAAAAAAAAAAAAAAAAAAAAAAAAAAAAAAAAAAAAAAAAAAAAAAAAAAAAAAAAAAAAAAAAAAAAAAAAAAAAAAAAAAAAAAAAAAAAAAAAAAAAAAAAAAAAAAAAAAAAAAAAAAAAAAAAAAAAAAAAAAAAAAAAAAAAAAAAAAAAAAAAAAAAAAAAAAAAAAAAAAAAAAAAAAAAAAAAAAAAAAAAAAAAAAAAAAAAAAAAAAAAAAAAAAAAAAAAAAAAAAAAAAAAAAAAAAAAAAAAAAAAAAAAAAAAAAAAAAAAAAAAAAAAAAAAAAAAAAAAAAAAAAAAAAAAAAAAAAAAAAAAAAAAAAAAAAAAAAAAAAAAAAAAAAAAAAAAAAAAAAAAAAAAAAAAAAAAAAAAAAAAAAAAAAAAAAAAAAAAAAAAAAAAAAAAAAAAAAAAAAAAAAAAAAAAAAAAAAAAAAAAAAAAAAABhAHMAdQBzAAAA/+EKXWh0dHA6Ly9ucy5hZG9iZS5jb20veGFwLzEuMC8APD94cGFja2V0IGJlZ2luPSfvu78nIGlkPSdXNU0wTXBDZWhpSHpyZVN6TlRjemtjOWQnPz4NCjx4OnhtcG1ldGEgeG1sbnM6eD0iYWRvYmU6bnM6bWV0YS8iPjxyZGY6UkRGIHhtbG5zOnJkZj0iaHR0cDovL3d3dy53My5vcmcvMTk5OS8wMi8yMi1yZGYtc3ludGF4LW5zIyI+PHJkZjpEZXNjcmlwdGlvbiByZGY6YWJvdXQ9InV1aWQ6ZmFmNWJkZDUtYmEzZC0xMWRhLWFkMzEtZDMzZDc1MTgyZjFiIiB4bWxuczpkYz0iaHR0cDovL3B1cmwub3JnL2RjL2VsZW1lbnRzLzEuMS8iLz48cmRmOkRlc2NyaXB0aW9uIHJkZjphYm91dD0idXVpZDpmYWY1YmRkNS1iYTNkLTExZGEtYWQzMS1kMzNkNzUxODJmMWIiIHhtbG5zOmRjPSJodHRwOi8vcHVybC5vcmcvZGMvZWxlbWVudHMvMS4xLyI+PGRjOmNyZWF0b3I+PHJkZjpTZXEgeG1sbnM6cmRmPSJodHRwOi8vd3d3LnczLm9yZy8xOTk5LzAyLzIyLXJkZi1zeW50YXgtbnMjIj48cmRmOmxpPmFzdXM8L3JkZjpsaT48L3JkZjpTZXE+DQoJCQk8L2RjOmNyZWF0b3I+PC9yZGY6RGVzY3JpcHRpb24+PC9yZGY6UkRGPjwveDp4bXBtZXRhPg0KICAgICAgICAgICAgICAgICAgICAgICAgICAgICAgICAgICAgICAgICAgICAgICAgICAgICAgICAgICAgICAgICAgICAgICAgICAgICAgICAgICAgICAgICAgICAgICAgICAgIAogICAgICAgICAgICAgICAgICAgICAgICAgICAgICAgICAgICAgICAgICAgICAgICAgICAgICAgICAgICAgICAgICAgICAgICAgICAgICAgICAgICAgICAgICAgICAgICAgICAgCiAgICAgICAgICAgICAgICAgICAgICAgICAgICAgICAgICAgICAgICAgICAgICAgICAgICAgICAgICAgICAgICAgICAgICAgICAgICAgICAgICAgICAgICAgICAgICAgICAgICAKICAgICAgICAgICAgICAgICAgICAgICAgICAgICAgICAgICAgICAgICAgICAgICAgICAgICAgICAgICAgICAgICAgICAgICAgICAgICAgICAgICAgICAgICAgICAgICAgICAgIAogICAgICAgICAgICAgICAgICAgICAgICAgICAgICAgICAgICAgICAgICAgICAgICAgICAgICAgICAgICAgICAgICAgICAgICAgICAgICAgICAgICAgICAgICAgICAgICAgICAgCiAgICAgICAgICAgICAgICAgICAgICAgICAgICAgICAgICAgICAgICAgICAgICAgICAgICAgICAgICAgICAgICAgICAgICAgICAgICAgICAgICAgICAgICAgICAgICAgICAgICAKICAgICAgICAgICAgICAgICAgICAgICAgICAgICAgICAgICAgICAgICAgICAgICAgICAgICAgICAgICAgICAgICAgICAgICAgICAgICAgICAgICAgICAgICAgICAgICAgICAgIAogICAgICAgICAgICAgICAgICAgICAgICAgICAgICAgICAgICAgICAgICAgICAgICAgICAgICAgICAgICAgICAgICAgICAgICAgICAgICAgICAgICAgICAgICAgICAgICAgICAgCiAgICAgICAgICAgICAgICAgICAgICAgICAgICAgICAgICAgICAgICAgICAgICAgICAgICAgICAgICAgICAgICAgICAgICAgICAgICAgICAgICAgICAgICAgICAgICAgICAgICAKICAgICAgICAgICAgICAgICAgICAgICAgICAgICAgICAgICAgICAgICAgICAgICAgICAgICAgICAgICAgICAgICAgICAgICAgICAgICAgICAgICAgICAgICAgICAgICAgICAgIAogICAgICAgICAgICAgICAgICAgICAgICAgICAgICAgICAgICAgICAgICAgICAgICAgICAgICAgICAgICAgICAgICAgICAgICAgICAgICAgICAgICAgICAgICAgICAgICAgICAgCiAgICAgICAgICAgICAgICAgICAgICAgICAgICAgICAgICAgICAgICAgICAgICAgICAgICAgICAgICAgICAgICAgICAgICAgICAgICAgICAgICAgICAgICAgICAgICAgICAgICAKICAgICAgICAgICAgICAgICAgICAgICAgICAgICAgICAgICAgICAgICAgICAgICAgICAgICAgICAgICAgICAgICAgICAgICAgICAgICAgICAgICAgICAgICAgICAgICAgICAgIAogICAgICAgICAgICAgICAgICAgICAgICAgICAgICAgICAgICAgICAgICAgICAgICAgICAgICAgICAgICAgICAgICAgICAgICAgICAgICAgICAgICAgICAgICAgICAgICAgICAgCiAgICAgICAgICAgICAgICAgICAgICAgICAgICAgICAgICAgICAgICAgICAgICAgICAgICAgICAgICAgICAgICAgICAgICAgICAgICAgICAgICAgICAgICAgICAgICAgICAgICAKICAgICAgICAgICAgICAgICAgICAgICAgICAgICAgICAgICAgICAgICAgICAgICAgICAgICAgICAgICAgICAgICAgICAgICAgICAgICAgICAgICAgICAgICAgICAgICAgICAgIAogICAgICAgICAgICAgICAgICAgICAgICAgICAgICAgICAgICAgICAgICAgICAgICAgICAgICAgICAgICAgICAgICAgICAgICAgICAgICAgICAgICAgICAgICAgICAgICAgICAgCiAgICAgICAgICAgICAgICAgICAgICAgICAgICAgICAgICAgICAgICAgICAgICAgICAgICAgICAgICAgICAgICAgICAgICAgICAgICAgICAgICAgICAgICAgICAgICAgICAgICAKICAgICAgICAgICAgICAgICAgICAgICAgICAgICAgICAgICAgICAgICAgICAgICAgICAgICAgICAgICAgICAgICAgICAgICAgICAgICAgICAgICAgICAgICAgICAgICAgICAgIAogICAgICAgICAgICAgICAgICAgICAgICAgICAgICAgICAgICAgICAgICAgICAgICAgICAgICAgICAgICAgICAgICAgICAgICAgICAgICAgICAgICAgICAgICAgICAgICAgICAgCiAgICAgICAgICAgICAgICAgICAgICAgICAgICA8P3hwYWNrZXQgZW5kPSd3Jz8+/9sAQwAHBQUGBQQHBgUGCAcHCAoRCwoJCQoVDxAMERgVGhkYFRgXGx4nIRsdJR0XGCIuIiUoKSssKxogLzMvKjInKisq/9sAQwEHCAgKCQoUCwsUKhwYHCoqKioqKioqKioqKioqKioqKioqKioqKioqKioqKioqKioqKioqKioqKioqKioqKioq/8AAEQgCcwVWAwEiAAIRAQMRAf/EAB8AAAEFAQEBAQEBAAAAAAAAAAABAgMEBQYHCAkKC//EALUQAAIBAwMCBAMFBQQEAAABfQECAwAEEQUSITFBBhNRYQcicRQygZGhCCNCscEVUtHwJDNicoIJChYXGBkaJSYnKCkqNDU2Nzg5OkNERUZHSElKU1RVVldYWVpjZGVmZ2hpanN0dXZ3eHl6g4SFhoeIiYqSk5SVlpeYmZqio6Slpqeoqaqys7S1tre4ubrCw8TFxsfIycrS09TV1tfY2drh4uPk5ebn6Onq8fLz9PX29/j5+v/EAB8BAAMBAQEBAQEBAQEAAAAAAAABAgMEBQYHCAkKC//EALURAAIBAgQEAwQHBQQEAAECdwABAgMRBAUhMQYSQVEHYXETIjKBCBRCkaGxwQkjM1LwFWJy0QoWJDThJfEXGBkaJicoKSo1Njc4OTpDREVGR0hJSlNUVVZXWFlaY2RlZmdoaWpzdHV2d3h5eoKDhIWGh4iJipKTlJWWl5iZmqKjpKWmp6ipqrKztLW2t7i5usLDxMXGx8jJytLT1NXW19jZ2uLj5OXm5+jp6vLz9PX29/j5+v/aAAwDAQACEQMRAD8A6T/hlXwR/wBBXxB/4EQf/GaX/hlbwR/0FfEH/gRB/wDGa9sooA8T/wCGVvBH/QV8Qf8AgRB/8Zo/4ZW8Ef8AQV8Qf+BEH/xmvbKKAPE/+GVvBH/QV8Qf+BEH/wAZo/4ZW8E/9BXxB/4EQf8AxmvbKKAPE/8AhlbwR/0FfEH/AIEQf/GaP+GVvBH/AEFfEH/gRB/8Zr2yigDxP/hlfwT/ANBXxB/4EQf/ABmj/hlfwT/0FfEH/gRB/wDGa9sooA8T/wCGV/BP/QV8Qf8AgRB/8Zo/4ZX8E/8AQV8Qf+BEH/xmvbKKAPE/+GV/BP8A0FfEH/gRB/8AGaP+GV/BP/QV8Qf+BEH/AMZr2yigDxP/AIZX8E/9BXxB/wCBEH/xml/4ZX8E/wDQW8Qf+BEH/wAZr2uigDxT/hljwV/0FvEH/gRB/wDGaP8AhlfwT/0FvEH/AIEQf/Ga9rooA8U/4ZY8Ff8AQW8Qf+BEH/xmj/hljwV/0FvEH/gRB/8AGa9rooA8U/4ZY8Ff9BbxB/4EQf8Axmj/AIZY8Ff9BbxB/wCBEH/xmva6KAPFP+GWPBX/AEFvEH/gRB/8Zo/4ZY8Ff9BbxB/4EQf/ABmva6KAPFP+GWPBX/QW8Qf+BEH/AMZo/wCGWfBX/QW8Qf8AgRB/8Zr2uigDxT/hlnwV/wBBbxB/4EQf/GaX/hlnwX/0FvEH/gRB/wDGa9qooA8V/wCGWfBf/QW8Qf8AgRB/8Zo/4Za8F/8AQW8Qf+BEH/xmvaqKAPFf+GWvBf8A0FvEH/gRB/8AGaP+GWvBf/QW8Qf+BEH/AMZr2qigDxX/AIZa8F/9BbxB/wCBEH/xmj/hlrwX/wBBbxB/4EQf/Ga9qooA8W/4Zb8Gf9BfxB/4EQf/ABmj/hlvwZ/0F/EH/f8Ag/8AjNe00UAeLf8ADLngz/oL+IP+/wDB/wDGaP8Ahlzwb/0F/EH/AH/g/wDjNe00UAeL/wDDLvg3/oL+IP8Av/B/8Zo/4Ze8G/8AQX8Qf9/4P/jNe0UUAeMf8Mv+Dv8AoMeIP+/8H/xmj/hl/wAHf9BjxB/3/g/+M17PRQB4x/wy/wCDv+gx4g/7/wAH/wAZo/4Zg8H/APQY8Qf9/wCD/wCM17PRQB4z/wAMw+D/APoMeIP+/wDB/wDGaP8AhmHwf/0GPEH/AH/g/wDjNezUUAeNf8MxeEP+gz4g/wC/9v8A/GaP+GY/CH/QZ8Qf9/7f/wCM17LRQB41/wAMyeEf+gz4g/7/ANv/APGaX/hmTwj/ANBnxB/3/t//AIzXslFAHjg/Zn8Jr01rxB/3+t//AIzTv+GafCn/AEG/EH/f63/+M17DRQB49/wzV4V/6DfiD/v9b/8Axml/4Zr8K/8AQb8Qf9/rf/4zXsFFAHj/APwzZ4W/6DniD/v9b/8Axml/4Zt8Lf8AQc8Qf9/bf/4zXr9FAHkH/DN3hf8A6DniD/v7b/8Axmj/AIZu8L/9BzxB/wB/bf8A+MV6/RQB5D/wzf4Y/wCg74g/7+2//wAYo/4Zw8Mf9B3xB/39tv8A4xXr1FAHkX/DOPhn/oO+IP8Av7bf/GKP+GcfDP8A0HfEH/f22/8AjFeu0UAeRf8ADOXhn/oO+IP+/tt/8Ypf+GcvDX/Qd8Qf9/bb/wCMV65RQB5H/wAM5+Gv+g94g/7+23/xij/hnPw1/wBB7xB/39tv/jFeuUUAeSf8M6eG/wDoPeIP+/tt/wDGKP8AhnTw3/0HvEH/AH9tv/jFet0UAeSf8M6+G/8AoPeIP+/tt/8AGKP+GdfDf/Qe8Qf9/Lb/AOMV63RQB5L/AMM7eHP+g94g/wC/lt/8Yo/4Z28Of9B/xB/38tv/AIxXrVFAHkv/AAzt4c/6D/iD/v5bf/GKP+GdvDn/AEH/ABB/38tv/jFetUUAeS/8M7eHP+g/4g/7+W3/AMYo/wCGdvDn/Qf8Qf8Afy2/+MV61RQB5L/wzt4c/wCg/wCIP+/lt/8AGKP+GdvDn/Qf8Qf9/Lb/AOMV61RQB5L/AMM7eHP+g/4g/wC/lt/8Yo/4Z28Of9B/xB/38tv/AIxXrVFAHkv/AAzt4c/6D/iD/v5bf/GKP+GdvDn/AEH/ABB/38tv/jFetUUAeS/8M7eHP+g/4g/7+W3/AMYqvL+zR4UmkMkut+IGY9T51v8A/Ga9iooA8a/4Zj8I/wDQZ8Qf9/7f/wCM0f8ADMfhD/oM+IP+/wDb/wDxmvZaKAPGv+GY/CH/AEGfEH/f+3/+M0f8MxeEP+gz4g/7/wBv/wDGa9looA8Z/wCGYvCH/QZ8Qf8Af+3/APjNH/DMPg//AKDHiD/v/B/8Zr2aigDxn/hmDwf/ANBjxB/3/g/+M0n/AAzB4P8A+gx4g/7/AMH/AMZr2eigDxj/AIZf8Hf9BjxB/wB/4P8A4zR/wy/4O/6DHiD/AL/wf/Ga9nooA8Y/4Ze8Hf8AQY8Qf9/4P/jNJ/wy94N/6C/iD/v/AAf/ABmvaKKAPF/+GXfBv/QX8Qf9/wCD/wCM0f8ADLvg3/oL+IP+/wDB/wDGa9oooA8W/wCGXPBn/QX8Qf8Af+D/AOM0f8MueDP+gv4g/wDAiD/4zXtNFAHjI/Zh8HgYGs+IMf8AXeD/AOM0v/DMXhD/AKDPiD/v/b//ABmvZaKAPGf+GYfB/wD0GPEH/f8At/8A4zR/wzB4P/6DHiD/AL/wf/Ga9mooA8Y/4Zg8H/8AQY8Qf9/4P/jNH/DMHg7/AKDHiD/v/B/8Zr2eigDxj/hl/wAHf9BjxB/3/g/+M0f8MveDv+gx4g/7/wAH/wAZr2eigDxf/hl7wb/0F/EH/f8Ag/8AjNH/AAy74N/6C/iD/v8Awf8AxmvaKKAPF/8Ahl3wb/0F/EH/AH/g/wDjNJ/wy54M/wCgv4g/7/wf/Ga9pooA8W/4Zc8Gf9BfxB/3/g/+M0f8Mt+DP+gv4g/7/wAH/wAZr2migDxb/hlvwZ/0F/EH/gRB/wDGaT/hlvwX/wBBbxB/4EQf/Ga9qooA8V/4Za8F/wDQW8Qf+BEH/wAZo/4Za8F/9BbxB/4EQf8AxmvaqKAPFf8AhlnwV/0FvEH/AIEQf/GaT/hlnwV/0FvEH/gRB/8AGa9rooA8U/4ZY8Ff9BbxB/4EQf8Axmj/AIZY8Ff9BbxB/wCBEH/xmva6KAPFP+GWPBX/AEFvEH/gRB/8Zo/4ZY8Ff9BbxB/4EQf/ABmva6KAPFP+GWPBX/QW8Qf+BEH/AMZo/wCGV/BP/QV8Qf8AgRB/8Zr2uigDxP8A4ZX8E/8AQV8Qf+BEH/xmj/hlfwT/ANBXxB/4EQf/ABmvbKKAPEv+GVfBH/QV8Qf+BEH/AMZo/wCGVfBH/QV8Qf8AgRB/8Zr22igDxMfsr+CR01XxB/4EQf8Axml/4ZY8Ff8AQW8Qf+BEH/xmva6KAPFP+GWfBX/QW8Qf+BEH/wAZpf8AhlnwX/0FvEH/AIEQf/Ga9qooA8V/4Za8F/8AQW8Qf+BEH/xmj/hlrwX/ANBbxB/4EQf/ABmvaqKAPFf+GW/Bf/QX8Qf+BEH/AMZpf+GW/Bn/AEF/EH/gRB/8Zr2migDxb/hlzwZ/0F/EH/f+D/4zR/wy54M/6C/iD/v/AAf/ABmvaaKAPF/+GXfBv/QX8Qf9/wCD/wCM0f8ADLvg3/oL+IP+/wDB/wDGa9oooA8X/wCGXvBv/QY8Qf8Af+D/AOM0v/DL/g7/AKDHiD/v/B/8Zr2eigDxj/hl/wAHf9BjxB/3/g/+M0f8MweD/wDoMeIP+/8AB/8AGa9nooA8Z/4Zg8H/APQY8Qf9/wCD/wCM0f8ADMPg/wD6DHiD/v8Awf8AxmvZqKAPGf8AhmHwf/0GPEH/AH/g/wDjNH/DMPg//oMeIP8Av/B/8Zr2aigDxn/hmLwh/wBBnxB/3/t//jNL/wAMxeEP+gz4g/7/ANv/APGa9looA8a/4Zj8I/8AQZ8Qf9/7f/4zS/8ADMnhH/oM+IP+/wDb/wDxmvZKKAPG/wDhmTwj/wBBnxB/3+t//jNH/DMvhL/oNeIP+/1v/wDGa9kooA8c/wCGZvCX/Qa8Qf8Af63/APjNH/DM/hP/AKDXiD/v9b//ABmvY6KAPHP+GZvCX/Qa8Qf9/rf/AOM0f8MzeEv+g14g/wC/1v8A/Ga9jooA8c/4Zn8J/wDQa8Qf9/rf/wCM0v8AwzR4T/6DXiD/AL/W/wD8Zr2KigDx3/hmjwn/ANBrxB/3+t//AIzR/wAM0+FP+g34g/7/AFv/APGa9iooA8e/4Zq8Kf8AQb8Qf9/rf/4zR/wzV4V/6DfiD/v9b/8AxmvYaKAPH/8Ahmvwr/0G/EH/AH+t/wD4zUlt+zp4bs7hZ7bXvECSL0bzbY/zgr1yiqjKUXeLsG54/e/s2eFtQvGurzW/EEk7gBn823GcDA4EOKg/4Zg8Hf8AQY8Qf9/4P/jNez0U5VJyd5NsNjxj/hl7wd/0GPEH/f8Ag/8AjNFez0VN2AUUUUgCiivJPGHxU1VvEj+H/A9p9ouY3Mck3leazOOoRemB3Jz39Mnqw2FqYmfLT6bt7IwrV4UY3met0V4pp/xB+IGg65a2XinR5r1bptqRi2CyN67CgwSPTB/DrXTfET4oHwtNFpejWy3OqTIHYSglYQ3QFRyWPp9K6ZZZiFUjTjaV9mnoYrG0nBzd1butT0WivC5vHvxN8OpHqOvacWsWIys9oEUZ7ErgqfrXU+IviZJJ8MrfxJ4aKRTvdLBNFMofym2ksp9egIPoac8rrxcUmmpO107q/mKOOpNO901rZrU9LorA8D6vda94K07U9QKtc3CM0hRdoyHI6fQV59pXxH8RX3ibxLp7PbmPT7S8ltgIgDvjOEye9Y08DVqSnFW9zf77GssTCCi39rY9gorwjRviV8QfE8Mun6FaQz3u4M1ykKgRJ0H3vlHPc/lWt4q+IXiifxn/AMIp4OEf2qE+U0zoheaQLlj83yKBg9u34V0vKK6qezbjfVvXZLq+xgswpOPMk+2277I9horzHwV4k8fnxOdG8V6PJPEB+9uxGqeTxkHcvyMD6Dn06Yqv4y+KGqjxK/hvwRZi5vI3Mck3l+Yd46hV6cdycjg+maxWXVnV9lFp6Xunpbvc0+uU1T52mulra3PVqK8UT4j+OfCGo2//AAnOm+ZZzt18pVYDvtZPlJHof061q/Ev4j6p4fuNJk8Nz27Wt9a+eHeLduBPBH4Gr/suu6kYRafNezT008yfr1LkcndW3VtT1aivM9C8aeI0tdS8UeMLf7BoK24aztVRQ0jMw24J+YnHHOAd2cVy8PxD+I/ieea78Nadts42xshtg6j2LN1P0x9KIZXWk3rGy3d9L9r9wljqcUtHd9La+p7pRXh+n/FzxNfeMdI0q5toLLzLqG1vIjCdxYybWPPKnBxjsRXuFc+KwdXCtKpbXsbUMRCum4dAqKS4ijuIoXbEk2di4POBk1LWZff8h7S/+23/AKCK4zoNOiiigAoJA60jHapPPA7DNeNeKfGcurX89v8AbpNMhXbG0Qd933jyRgANg4xn0zUSmotLuNRlJ2irns1FeQeDvHL2up29i13Jqkc37tQHcso3nLAH7xyy55J9OK9RudZsbS48mebbJkDGxjyRkdBRGSk2iS9RWYfEGnA4Mzd/+WTdgxPb/Yb8qG8Q6apINwcj/Ybngn09B/nNWM06KbHIssSyIcq4DA4xwadQAUUU2R9iZxk9APU0AOoqPyi3MrsT6KSoH5UjBoRuDFkHVTyQPUGgCWijrRQAUUUUAFFFFABRRRQAUUUUAFFFFABRRRQAUUUUAFFFFABRRRQAUUUUAFFFFABRRRQAUUUUAFFFFABRRRQAUUUUAFFFFABRRRQAUUUUAFFFFABRRRQAUUUUAFFFFABRRRQAUUUUAFFFFABRRRQAUUUUAFFFFABRRRQAUUUUAFFFFABRRRQAUUUUAFFFFABRRRQAUUUUAFFFFABRRRQAUUUUAFFFFABRRRQAUUUUAFFFFABRRRQAUUUUAFFFFABRRRQAUUUUAFFFFABRRRQBXs/+W/8A12arFV7P/lv/ANdmqxQAUjMqKWchVUZJJwAKWuN+IurPaaXFYQtta6JMhH9wdvxP8jWtKm6s1BdTDEVlQpOo+hl+IvH88sz22ht5UKnBuMfM/wDu56D9fpXG3F3c3bl7qeWZj1Mjlj+tQ16X4A0iwfQ/tskEc1xJIyszrnYB2Gfz/Gvdl7PCU7pHydP2+Y1uWUv8vuOBstX1DTnDWV5NDjsr8H6joa9D8K+NV1aRbLUgsV2fuOvCy+3sf51znxA0yz0/VYHso1iM8ZaSNBgAg9QO2f6VyiOyOroSrKcgg8g0SpU8VTUrWuEa9bAV3C90unQ98orM8OaodY0C2u3x5jLtkx/eHB/x/GtOvn5RcZOL6H2EJqcVOOzCiiipLCiiigAooooAKKZDPFcwrNbypLE4yrxsGVh7EdaJporeCSa4kSKKNS7yOwVVUDJJJ6AUAPopAQygqQQRkEd6WgAoqOSeGFo1mlSNpX2RhmALtgnA9TgE49jUlABRRRQAUUUUAFFFFABRRRQAUUUUAFFFFABXgPwq1Gz8MfELVLPxHIltdyK1us83ygOH+YEnpuxn04+le/VxnjH4YaL4wuPtkrSWV/jBuIAD5gHA3KeuPXg16eBxFKnGpRrXUZrddLHFiqM5uNSnvHoaOpePPDGlX9vaX2r2yzTkhdr7wnuxGQoPqcV5NrN3b6D+0Imp6581jJIkyTEbl2NFtRx7K3f/AGa6/Qfghoel3yXWpXU2qGM7lhdAkZP+0Bkn6Zx6g11fizwTo/jGxSDVImSSH/U3EJCvH7A9x7GumjXweFqcsG5RkmpPbfsY1KeJrwvJJNNNL07lDxx4q8PweB9RM+oWlyLq1eOCKORZDKzLhcAe5Bz2614pa2N2nwW1C6dW+zSatD5eRx8qMGb6ZZR9RXodl8A9JhvFkvtWurmAHPlJGI93sWyf0xXos/hzSrjw22gvZoumtF5XkLwFHUY9wec9c81rTxmFwcFCi3O8k27W0XbzM54eviJOVRKOjS+Zy/wv1vTE+GNh5l/bx/ZEdbjfIF8o72POenBBry3wbdR3vjTxVdQHMU+m38iEjqGOR/OuyT4A6auob5NaumtM58kQqHx6b84/8drb0X4SaboWpahc2l/PsvLaa2ERUYiWT0PU4961WJwVJ1ZQm25+W2t7EOjians1KKSj5mH8AEUaLrDgfM1xGCfUBTj+ZqPxn4P8O+JfG8n9ieJbex19hvltycqzrgcMPuv6jk8Zx1rufBHgi38EWV1b2t5LdC5kEhMigbcDHasTxV8HtF8SalLqNvcTaddTNul8tQyOe7bTjBPsfwrBYyk8fOspuKeztftun0NPq1T6rGm4ptdL/kzjND8WeLPBfj618N+IdQXUoJZo4ZA0vm7Q5ADK5+YEZ6H8uhrndHsL2L4l6np8niBvDt60sqfamyPMO/O3ORjd1Bzg4HqK9U8KfB3R/DeqxalcXU2oXMDbofMUIiN2baM5I7c1p+Mvhpo3jKYXVwZLS+Vdv2mDGXHYMD1x+B966v7RwsKrUdpKzko9e/KzH6nXlTTlundK/Ttc4LxB4Lup1trDxH8SoZlnlHkw3GWBfBAON/HUjPTnHesH4q6LJ4dtfDekzXH2l7WzkTzQu3d+8JHGT2OPwru9H+BWiWN6s+qX1xqKIciEoI0b/ewSSPxFbnjX4bWfjS7tJri9ms/ssRiVIkBBBOe9KnmNGnXgnUvFXv7qWtraW1CWDqTpS9y0nbrf8zN+NtpPJ8Ok+yIfKtruN5Qo4Ee1l/Lcy1N8LfEugt4BsbWO8trWe0QrcQyyKjBskl+eoPXP+Fd3c20N5ay211EssMyFJI3GQykYINeXah8BdIuL5pdP1S5s4GOfJZBJt9gxIOPrmvPw9bD1ML9WrycbO6aV/vOyrTrQr+2pK91axyXiLV9N1r486VdaOySwrfWkbzxnKyusigsD3HQZ77a+g684tfgvoun65puo2F7dRmxkil2PhvNdH3ZJ7Z4HFej1OY16FVU40W2oq2o8HSqwc5VFq3cKzL7/AJD2l/8Abb/0EVp1mX3/ACHtL/7bf+givJO806KKKAGuGMbBG2sRw2M4PrXzT4kuYx4iaW/CrCxXzE2hXnO4hiBjCkcErnjNfTFcXqnw/h1a9uZbhbVY2dmijCMwye5BOAepyB15rOcOaSZdOpOnLmi7f5HlHg93bxBZS2k7PEiolvkb/s2ZePk6MxwSBkcD8/aL19cj1yY2VxbyWzfct5HVWUiFtvbJBc5I6jbkcEiqWj+BYtG1OCaAWrQI3mMmxl2NgYKgHb1Gc4rp2060e6+0Pbo0398jnoV/kcUoRkm3IdWUJzcoRsjm4m10WrpcXkck8VmUSeKaMIZAWG9wR/ENhHGAc8Durf29Jcy+VqEMZ87OJHRkZRIT8oHIUptVs85OR0yd7+xtPPW2TOMZ5zjj/AflTRoOlhiwsIATnOE9cZ/kK1MzFRfFW1ZSYmX7LCDGkiljIpRnbJGPmBkX/gKnAzXUqSyAlSpIyQe1JFEkMKRRKERFCqo6ADoKdQAVHNwYyegfn8iP5kVJSMoZSrDIPUUAc54i03W4r1dZ8LTrJeLH5MthdSHyLhMnB/2HUknI68g1a8O6Rc6NpkratqEuoX1y5nupnY7NxAG2NeiqAAAPatbEqcKVcdtxwaNjuR5pGBztXp+NACwgrAgbqFAP5U+iigAooooAKKKKACiiigAooooAKKKKACiiigAooooAKKKKACiiigAooooAKKKKACiiigAooooAKKKKACiiigAooooAKKKKACiiigAooooAKKKKACiiigAooooAKKKKACiiigAooooAKKKKACiiigAooooAKKKKACiiigAooooAKKKKACiiigAooooAKKKKACiiigAooooAKKKKACiiigAooooAKKKKACiiigAooooAKKKKACiiigAooooAKKKKACiiigAooooAKKKKACiiigCvZ/8ALf8A67NViq9n/wAt/wDrs1WKACvM/iXu/t+2z937KMfXc2f6V6ZXG/EXSXu9Liv4V3NakiQD+4e/4H+ZrswUlGurnm5nTlPCy5emp5nXUeE/FU2hxy2ptHu4ZG3hUOGVsYJ6dOBVrwDp2nXEl1daosL+WVWJZiNueSTg9e3516DFc6dAm2Ga1jX0R1Ar0MViY3dJxuePl+CqNKvGpy/ieQeIdam13Vmupo/KCqESPOdijt9ck1l17fcNpN2uLprOYekhRv515T4m06Gz8STW+nDdA5VoVQ7uoHA/HIrTC4iM/cUbWMcfg50v3rnzXZ3Hw43f8IzLu6fam2/Tav8AXNVL67utK8Xapd2ahzd+VZAEZAmMYMJP+zksD/vCul8OaWdH0C2tHx5irukx/ePJ/wAPwrQWGNJHkSNVeQguwUAtgYGT34rxMRJTquS2ufT4SEqdCMHvY4DR5JNM8H2+m2F5fJc/bL7y0sY4WnlWO4cM26b92qjIJLYzkAHPBvaFq+qa82hb9Ra3juNLF5ceTFGTM4dB1IYBSCcgfgRXTXOh6TeQxw3ml2U8UcpmRJbdGVZCSS4BHDEknPXk1YisrWB0eG2hjZEMalIwCqk5Kj0GecVl1u/60OmWt7f1rc4nR7y9vrHS9Nt9SGixjSzd+ba28KmQh9pAVkKBFyCwAB+ZeR32oNcluvAlnqdzP9knu4ogJLeLeWdyFHlqcjLE/LuyBkE5ANad3oWkX9lFZ32l2VzawndFBNbo6RnpkKRgdT0qzd2dtf2j2t9bQ3NvIMPDNGHRh6FTwaXSw+tzhtP1zWru1Nk17dW86a39gaa5jt2nEZg8whhHmLcCeCB2GQeQbUd7eG5061vrgX0ltr8lqLieCPe6C3kcHhQFYZAyoHA9zXVW+k6baRJHa6fawRxuHRI4VUKwXaCABwQoxn04qT7DaeYH+yw7xL5wbyxkSbdu/wD3scZ644prz/rb/J/eJ+X9b/5r7jhfDV5d6ZYeG3OrNcW1+ssT2bRxhIFRHbzFIG/5SgDZYj5jwOBVW+1u+ubPXbSa6vbmzutAuLyF7uKCMEYwGiWP5whD9JRu4HJ5rvrTRdLsLqS6sNNs7a4lUJJLDAqO6joCQMkcDj2plp4f0awjkjsdJsbZJAyusNsiBw2NwIA5zgZ9cChFJ2d/T8zD8YW32zQNIt/sVrf+ZewD7NeNiKTg8Mdrcf8AATWRp9zdaMbrRrZLfSpJ9WihdbEiSCwSWHIEW5QAzFOjIBulBwc89vc6Rpt7p62F5p9rcWaBQttLArRrjphSMDHamw6JpVvpb6bb6ZZxWEgIe1S3VYmz1ygGDn6ULRt93/l/kQtkuy/z/wAzjbu41C9v7PTX1JpJLHXhbx6j5Ue9lNo7nIACb13Fc7cZAyp5Btwanq08tro0mrSRPJf3Vu2oiGLznWIbkUAoYw5B5O3ojYAJyOrg0vT7W3t7e1sbaGG1bfBHHCqrE2CMqAMKfmPT1PrSXOk6de2ktreafa3FvM/mSwywqyO2c7ipGCcgHJo/r8v8mU9bf13/AMzlbHVdW1O406xGqtGplvIZbyCGMtcCF1VXGQygnkNgY+9gDjDbfV9TlkstRbWWCXmrvZHT/KiCRoruu0Hbv34jySWI5OAOCOwisbSBYBBawxi2Ty4AkYHlLgDauPujAHA9BWbe+GNOutSh1GC1tba9W4SaW5S3XzJgo+6zDBPbrnpRrdfL81f+vuE9n8/1Mmy8Q3cyeHVkvEMt7qN1BMuFy6RrPxjHG0omcc8c9a6Y6lYiESm9txGZvID+au0ybtuzOfvbuMdc8VHFoulQX0l5BplnFdSSeY86W6h3fBG4sBknDMM+59ad/ZWnCFYRYWvlLN9oCeSu0S7t3mYx97dznrnmmH9fmTR3MEtxLBFNG80OPNjVwWjyMjI7ZHrVfUZL222XNmn2iKMHzrYD53HHKH+8OflPBz1FWIrS3huJriG3ijmuCDNIiANJgYG49TgcDNS0gMy1vrnU7xZLRGgsIz80k0ZV5zg8KrAFVBx8x5JGAMc1p0UUAFFFFABRRRQAUUUUAFFFFABRRRQAUUUUAFFFFABRRRQAUUUUAFFFFABRRRQAUUUUAFFFFABRRRQAUUUUAFFFFABRRRQAUUUUAFFFFABRRRQAUUUUAFFFFABRRRQAUUUUAFFFFABRRRQAUUUUAFFFFABRRRQAUUUUAFFFFABRRRQAUUUUAFFFFABRRRQAUUUUAFFFFABRRRQAUUUUAFFFFABRRRQAUUUUAFFFFABRRRQAUUUUAFFFFABRRRQAUUUUAFFFFABRRRQAUUUUAFFFFABRRRQAUUUUAFFFFABRRRQAUUUUAFFFFABRRRQAUUUUAFFFFABRRRQAUUUUAFFFFABRRRQAUUUUAFFFFABRRRQAUUUUAFFFFABRRRQBXs/+W/8A12arFFFABSMqupV1DKwwQRkEUtFAHnPiLwBPFM9zoa+bCxybfPzJ/u56j9frXG3Fpc2jlLq3lhYdRIhU/rXvFFelSzCcFaSueLXyelUlzQfL+KPDrLSNQ1FwtlZzTZ7qnA+p6CvQ/CvgpdJkW91IrLdj7iLysXv7n+VddRUVsdUqrlWiNMNldKhLnk+ZhRRRXAesFFFFABRRRQAUUUUAFFFFABRRRQAUUUUAFFFFABRRRQAUUUUAFFFFABRRRQBHtn/56R/9+z/jRtn/AOekf/fs/wCNSUUAR7Z/+ekf/fs/40bZ/wDnpH/37P8AjUlFAEe2f/npH/37P+NG2f8A56R/9+z/AI1JRQBHtn/56R/9+z/jRtn/AOekf/fs/wCNSUUAR7Z/+ekf/fs/40bZ/wDnpH/37P8AjUlFAEe2f/npH/37P+NG2f8A56R/9+z/AI1JRQBHtn/56R/9+z/jRtn/AOekf/fs/wCNSUUAR7Z/+ekf/fs/40bZ/wDnpH/37P8AjUlFAEe2f/npH/37P+NG2f8A56R/9+z/AI1JRQBHtn/56R/9+z/jRtn/AOekf/fs/wCNSUUAR7Z/+ekf/fs/40bZ/wDnpH/37P8AjUlFAEe2f/npH/37P+NG2f8A56R/9+z/AI1JRQBHtn/56R/9+z/jRtn/AOekf/fs/wCNSUUAR7Z/+ekf/fs/40bZ/wDnpH/37P8AjUlFAEe2f/npH/37P+NG2f8A56R/9+z/AI1JRQBHtn/56R/9+z/jRtn/AOekf/fs/wCNSUUAR7Z/+ekf/fs/40bZ/wDnpH/37P8AjUlFAEe2f/npH/37P+NG2f8A56R/9+z/AI1JRQBHtn/56R/9+z/jRtn/AOekf/fs/wCNSUUAR7Z/+ekf/fs/40bZ/wDnpH/37P8AjUlFAEe2f/npH/37P+NG2f8A56R/9+z/AI1JRQBHtn/56R/9+z/jRtn/AOekf/fs/wCNSUUAR7Z/+ekf/fs/40bZ/wDnpH/37P8AjUlFAEe2f/npH/37P+NG2f8A56R/9+z/AI1JRQBHtn/56R/9+z/jRtn/AOekf/fs/wCNSUUAR7Z/+ekf/fs/40bZ/wDnpH/37P8AjUlFAEe2f/npH/37P+NG2f8A56R/9+z/AI1JRQBHtn/56R/9+z/jRtn/AOekf/fs/wCNSUUAR7Z/+ekf/fs/40bZ/wDnpH/37P8AjUlFAEe2f/npH/37P+NG2f8A56R/9+z/AI1JRQBHtn/56R/9+z/jRtn/AOekf/fs/wCNSUUAR7Z/+ekf/fs/40bZ/wDnpH/37P8AjUlFAEe2f/npH/37P+NG2f8A56R/9+z/AI1JRQBHtn/56R/9+z/jRtn/AOekf/fs/wCNSUUAR7Z/+ekf/fs/40bZ/wDnpH/37P8AjUlFAEe2f/npH/37P+NG2f8A56R/9+z/AI1JRQBHtn/56R/9+z/jRtn/AOekf/fs/wCNSUUAR7Z/+ekf/fs/40bZ/wDnpH/37P8AjUlFAEe2f/npH/37P+NG2f8A56R/9+z/AI1JRQBHtn/56R/9+z/jRtn/AOekf/fs/wCNSUUAR7Z/+ekf/fs/40bZ/wDnpH/37P8AjUlFAEe2f/npH/37P+NG2f8A56R/9+z/AI1JRQBHtn/56R/9+z/jRtn/AOekf/fs/wCNSUUAR7Z/+ekf/fs/40bZ/wDnpH/37P8AjUlFAEe2f/npH/37P+NG2f8A56R/9+z/AI1JRQBHtn/56R/9+z/jRtn/AOekf/fs/wCNSUUAR7Z/+ekf/fs/40bZ/wDnpH/37P8AjUlFAEe2f/npH/37P+NG2f8A56R/9+z/AI1JRQBHtn/56R/9+z/jRtn/AOekf/fs/wCNSUUAR7Z/+ekf/fs/40bZ/wDnpH/37P8AjUlFAEe2f/npH/37P+NG2f8A56R/9+z/AI1JRQBHtn/56R/9+z/jRtn/AOekf/fs/wCNSUUAR7Z/+ekf/fs/40bZ/wDnpH/37P8AjUlFAEe2f/npH/37P+NG2f8A56R/9+z/AI1JRQBHtn/56R/9+z/jRtn/AOekf/fs/wCNSUUAR7Z/+ekf/fs/40bZ/wDnpH/37P8AjUlFAEe2f/npH/37P+NG2f8A56R/9+z/AI1JRQBHtn/56R/9+z/jRtn/AOekf/fs/wCNSUUAR7Z/+ekf/fs/40bZ/wDnpH/37P8AjUlFAEe2f/npH/37P+NG2f8A56R/9+z/AI1JRQBHtn/56R/9+z/jRtn/AOekf/fs/wCNSUUAR7Z/+ekf/fs/40bZ/wDnpH/37P8AjUlFAEe2f/npH/37P+NG2f8A56R/9+z/AI1JRQBHtn/56R/9+z/jRtn/AOekf/fs/wCNSUUAR7Z/+ekf/fs/40bZ/wDnpH/37P8AjUlFAEe2f/npH/37P+NG2f8A56R/9+z/AI1JRQBHtn/56R/9+z/jRtn/AOekf/fs/wCNSUUAR7Z/+ekf/fs/40bZ/wDnpH/37P8AjUlFAEe2f/npH/37P+NG2f8A56R/9+z/AI1JRQBHtn/56R/9+z/jRtn/AOekf/fs/wCNSUUAR7Z/+ekf/fs/40bZ/wDnpH/37P8AjUlFAEe2f/npH/37P+NG2f8A56R/9+z/AI1JRQBHtn/56R/9+z/jRtn/AOekf/fs/wCNSUUAR7Z/+ekf/fs/40bZ/wDnpH/37P8AjUlFAEe2f/npH/37P+NG2f8A56R/9+z/AI1JRQBHtn/56R/9+z/jRtn/AOekf/fs/wCNSUUAR7Z/+ekf/fs/40bZ/wDnpH/37P8AjUlFAEe2f/npH/37P+NG2f8A56R/9+z/AI1JRQBHtn/56R/9+z/jRtn/AOekf/fs/wCNSUUAR7Z/+ekf/fs/40bZ/wDnpH/37P8AjUlFAEe2f/npH/37P+NG2f8A56R/9+z/AI1JRQBHtn/56R/9+z/jRtn/AOekf/fs/wCNSUUAR7Z/+ekf/fs/40bZ/wDnpH/37P8AjUlFAEe2f/npH/37P+NG2f8A56R/9+z/AI1JRQBHtn/56R/9+z/jRtn/AOekf/fs/wCNSUUAR7Z/+ekf/fs/40VJRQAUUUUAFFFFAFf7fbf2l/Z/mj7V5XneXg/czjOenWn2t1DeW4ntn3xsSA2COQSD19wa5b7JrCXw13epia8EhszaP56wnEWN2/oFxJt2ZzWXqX22DT7C2QXYbZcl4IJbmJ42aX5JCIFZyMbsAgKeec4z3Rw0ZNKMv+Hs79vLyMHVcbtrb/P+vPyPQqZNNFbwtLcSJFGv3ndgoH4muJvDMbdjaT6xcTmGI6RLatO0T/KMNIclSS+d3mn7uPetGe0vzDqt35uoG4F1st0WVwqx5jJ2oOD/ABckE9RnHFR9XStd/wBaf5/gx+0b6f1/S/I6O4uobVYzO+wSSLGvBOWY4A4qWuKutL83Ub63VNVWWTVIZWcSTmPyvkJZGJKLzkErhgB2wKuNp12kq2Ec+p/Y/wC08b/tEhcQm2JI80ndt8zjOeDwCCBgdCFl73n+X+Yc8rtW/rX/ACOppkM0VxEJYJEljbOHRgQe3UVy9np15bXVpOJtTdk1GSErLcSuv2fEm3cpOCPu/OQT05qFfP22X9vf2x9n8j5Psn2jd5u9t3meT8/3dmN3y/eo+rp7O/59eg3UaTuv62/ryOg1PXbLSGQXwuh5mArQ2c0y5JwBlFIBJ4A61ctrhLq2SeISKjjIEsTRsPqrAEfiKo6/FJNp8KwxtIwvLZiFUkgCZCT9AATWR4i8/wDtC483+1s/Z1/s/wDs7ztvm/Nnf5fy5zs/1ny4/wCBVNOlCpFW31/Tp8++yCUpRb7af1f/AIB1VVY9TtJbgQJLmRneMLtP3k+8OnbNcvff2j9sm8/+1P7T8yL7D9l837Nt2pu37f3X3vMzv5x07Uy9tGW9ikvbfUxai+umkaxWUOFYDaf3fz4Jx93+Wa0jho9X/Vvx7et0S6rtdL+tfu/yO1oriP8ASTaW/wDbI10WPlS/Zxa+f5+fMPl+b5Xz7vL2Y399275qll/torY+cNQ2iCH+2PLZgxOP+WO3vnO/y/4enzYpfVf739f1+LS6h7by/r+v1OypqOksavGyujDKspyCPXNOqlp8bq88uDFBM26OFgcr1yxz03ddvbr1JrjNx9/qNtpsKy3bOA7bESOJpHduuFRQWbgE8DoCe1SWl1He2qTwrKqPnAmheJuuOVcBh+IrP8QJaG1gkuzexyRS7oJrG3eaSJ9pG4BVbjBI+YFeea5vVH1y8sdOa6nu7a3ZZd8kNlcNI5DYiZ0t5EdCU5I+6CSCAcAddOhGpFa2/rora/eYTqOLfod1RXGXtnqs2n39wLzU5bm2sYZLR4RJAJJgpLN5Q6kkLlGDAdMdcu1GG901tStbX+0ZLOUW5WZ3ubhoSxk3suxvMb7qAqjDG7PAzQsOnpza/wDDf5/mHtX2/rX/ACOxorjdLstRvbPTbbUJ9SEImufMdXngZ0zmPcSxkUdCMtu7E9RVLWBq40qGziOpJLCk/kTrHdSvKwkZURjE6gfKEO+UkHOeeapYVOfLzf1r/kHtXy3t+PX+up3N3dwWNpLdXkqwwRKWeRzgKKdbXEV3axXNu26KZBIjYIypGQcHkcVDJH9o0wCeMO/lhsMvRwMg49QefrUHh6OSHwxpcc6OkqWcKurghlYIMgg981zcq5G+tzTmfMuzT/T/ADL4dDIYwy7wAxXPIB6HH4H8qdVK6jea/t/IBR4jvebBwEJ5T33Y6dsZ64zdrMsyrHxLpmo332S2lnErFgnnWssSy7ThtjuoV8f7JPHPStWuP03RdUfTYri/uU22ZuJbS1itGjlV23qCzlzu+Vjjaq9abcWctnp+mf2jNrc1nLEZL5reW4ecz7U28RfOqffyqALnGRQHU7KivM9Xn1E2Vjbzy6nvNtJyk92k1opkIillW2VmdimOJNoJRuc7sdCYbhW1HUbVtQvo7a3Q6fALqURygw8ng5kJ993IyMMSSdLh1sdXRXn2kwax/Z95At3qckEl1ZmKYwXULhTLiXAuHeQDaOeQMcgDOTdbSb20mupLafWG+x6pbJaK93PIDAxhMuQzHzF+aXlt23BwRjhpXdv66f5gtTtKjaeJLhIGlRZpFLJGWG5gMZIHcDIz9RXIrpN9cvBPcXOrrJPqlzDMq3UqKLbfNtAUEBRgJhwA3Iw2MUQw6tbZgjbUXiittSSNpHkdiRKnk5Y8s23dtJJJGeTzSeib/rYrl9639df8vyOyorib+zutH0yWWC91ItcaeTKbi7lffPvTCoSSY3bcygRgHkbVJAFW/BUii01CWR7wTeaGa0uJruZoE2gAL9pVXOSGOQoBJxztp2tf+utiE7pHRRahaz6hcWUUoa4tlVpUwflDdOenb+XqKs1xdpY65Y3ltq11OjxXUknnwQ2L/aIFm5Xc29g2wrGv3BgAnsc59ss/9g3cTTayqpLETdmLU2e5+8SoiY+bEOmWRivTPdKXTUZ6D58X2jyPMTztu/y9w3bc4zjrjPen1w11cagmgvIEvbJG06MJDJczszP5p+QSMBJvZcAHHmDcPlyAKh0a1l1CKCEXOrRLLqB+1wfbL3dBF5DbV3zhJApYA7gF5OMnFC1/rzsL+vwud/RXJxaXdyyWWnz3GqCzSa6DuLmVXZAwMYaUEPj0O7JA6kZzWg0/WbW1trmxn1CTUZbe5iYXc8jx5CnySyMdqnKr82ATzknJyr9Rrex2tFed6bBq7aVcpHqeqySSTWqyRtYXkEkWZ1EjK88j5+XdkRnaAM9K0dU0gW1lcwO2tT2MF7bzL5d1cyzBTgPtZWMjAdcAnHUCqDpc6nU9Ts9H0+W+1O4W3tohlnbJ9gABySTwAOSatA5AI6GsbxHbfavBuoJbQyTSixl+zqUZpNxiYDGfm3c49eastxrlnn7b/wAesv3P+Pf70f3/APb/ALvtvosHRMbJr1imqf2ePtMtwGCMYLOWWONiMgPIqlEOCDhiMAg9CK0q5a7l+yeJiNEGpC6uLmM3du1lJ9klGFDyeaybVZYxxtcAkAEMaj0/UL2e50yyaHU1mt7uYXjy28qxldsu394w2uM7cYJHT2pfZuHU62iuJ0vQ7u4h0b+0LrWs3dgX1AG9nTEoEe0HDDyzktwu3POc1pj+1P8AhAbYZujfCCITnBE5XK+Zjvv2bsd84702rDtrY276+t9Ns3urxykSYBKoXYkkAAKoJYkkAAAkk1T1DxFYaXYRXl6L1IJU3hksJ5CgwD84VCU69GA7+hrlZdM/tW0mitRrp01b2zaAXU91HMG8z96QXIl2Bdp+bgEEjpmuo8SW7yeEtQt7aOSVzbMiIMuzcfiSaLEt6F6xvYtQtVuLdJ0RiQBcW8kL8f7DgMPyqxXN65BqU2sCys5ruKDUYVBuIS2LUxksTnopcMF9Tj2rOllv7q3ivNaj1WCynnbz4LHzxNEVRVUYi/ebCwc5XrlSeKQ9jsbm4itLWW5uG2RQoZHbBOFAyTgc9Kz9O8R6bqdwYLd54ptnmLHd2ktszr3ZRIq7gMjJGcZGeorOt472b4eXcdwl1JM9vcLAk4JmaM7/ACgwPzF9m3Ofmz15zUK3Ta5qGk/YLO+iTTi0089zZy245heMRqJApYktngEDbyQSMj0v5B2/rsdRDNFcwRz28iSxSKGSRGDKynkEEdRRFPFNv8mRJNjFH2MDtYdQfQ+1ea6jcXRfT49RudRSNLC2+1Tx3V7GbRhzJ5iwKQWK4JMrJgcg9cbd3as91ZXGpLqzRRapOqm2kuMqhB2EiM5KZAGSCAD6E0/tW9fzQm9DsqK5TwoZV1e9jf8AtC5XaWN5di8iUksflEM/yA4/ijOD/dUYB6ul0H1sFFFFABRRRQAUUUUAFFFFABRRRQAUUUUAFFFFABRRRQAUUUUAFFFFABRRRQAUUUUAFFFFABRRRQAUUUUAFFFFABRRRQAUUUUAFFFFABRRRQAUUUUAFFFFABRRRQAUUUUAFFFFABRRRQAUUUUAFFFFABRRRQAUUUUAFFFFABRRRQAUUUUAFFFFABRRRQAUUUUAFFFFABRRRQAUUUUAFFFFABRRRQAUUUUAFQX19b6bYzXl7IIreFS8jkE4H0HJ+gqeud8SNd3uo2Gl6dbwXLK/2y4jnmMaFEPyAsFY8uQenOw0hnQRyJNEkkTB0dQysOhB6Go7m6hs4hJcyCNGdIwSCcszBVH4kgVxEcckljpuharEiSWOqpE0UcpZTCY3aMbiAWXb8hyBnaRimavpunW0eq2v2K2j0+1v7GfyfKXyoVLJ5jBcYUbQc9sZz3p6X+f+X+YvL+uv+R6BRXnetQ2Nzq8izajothp7WkQ02W7tt6BcNlrdxKiqwOPu8/d7Yrb03TLe58VXsl/tvpbW3tDHJIuVD7WzIFOQGOOvUetHS4jpbecXNukypIgcZCyoUYfUHkVJXn9h/Zv9n6J/wk32b+y/7Pby/tmPI87eOu75d237uf8Aax3qaysk1G50ODUY3mtD9uMUU+T5kG9fKDg/eG3acH0GaOlyup3VFIiLHGqRqERRhVUYAHoKWgRWsLz7dbPLs2bZpYsZznZIyZ/Hbn8as1m6D/yDpf8Ar9uv/SiStKgDPv8AXbDTrgW9w8zzFN5jt7aSdlXONzBFO0cHk46GrUV0k0zRoko2or72jIUhs4wT1PHI7ZHrXO6/d2OnapJd2+u2+naoYFU205VluVGSo8vhickgFCDz36Vl6pcS3C6tPPE0M0llp7vanJLtvcmEgcndypABPJ4PShbXB7neVHcTi2t3mZJHCDJWJC7H6AcmvPYYdOt7O8vYLO306T7fZz3FvFayQiCJZFG8+ZGjFTtYk7QBg+5qxq+oWupSeJp7CZLiD+zbVVmjO5H/AHkv3WHB9MjvkU0tBf1+J31FeeazbC68SakmpatpemXBlQWEt7alp1TYuDA/mrj5t2QoPPXORU2pabaSaZ4v1CaBJLy1mke3ncZaBlt4yCh/hOeeKS1/r0/zK62O3S6he8ltUkBniRXdMH5Q2QD+O0/lU1cbPBZweL9VeKG0j1e40+N7BnRRJJIFlDFCeSfu5x2xmq/g+2tv7Tt57XV9LNwtsRdWdpamKdyccz5lYllI6sM5J9aFv/XmTfS53VFFFAwooooAKKKKACiiigArPv8ARLLUp1muPtKSKmzfb3csBK5zg+Wy7h9c4yfWtCiqjKUXeLsJpNWYyKKOCFIYEWOONQqIowFA6ACn0UVO4wooooAKKKKACiiigAooooAKKKKACiiigAooooAKKKKACiiigAooooAKKKKACijNGaAMzUPD9hqd0Li5FysuwIxt7yaAOoJIDBGAYcn72ep9a0kRY41SNQiKAFVRgAegpc0ZoAKKM0UAFFFFAFe+sbfUrN7W7VmiYg/JIyMCDkEMpBUggEEEGo9O0q10qN0tBMTIcvJPcSTyN6Zd2LEDsM4FXKKACiiigCtf2Fvqdm1teKzRsQ3ySNGykHIIZSGUgjqCDTdO0u10uFo7QSne253nneaRj7u5LH2yeKt0UAFFFFABRRRQAUUUUAFFFFABRRRQAUUUUAFFFFABRRRQBl3nhzTb6+a7uEuN77fMSO7ljilx03xqwR+ODuByODxWpRRQAUUUUAFFFFABRRRQAUUUUAFFFFABRRRQAUUUUAFFFFABRRRQAUUUUAFFFFABRRRQAUUUUAFFFFABRRRQAUUUUAFFFFABRRRQAUUUUAFFFFABRRRQAUUUUAFFFFABRRRQAUUUUAFFFFABRRRQAUUUUAFFFFABRRRQAUUUUAFFFFABRRRQAUUUUAFFFFABRRRQAUUUUAFFFFABRRRQAUUUUAFFFFABRRRQAUUUUAFFFFABRRRQAUUUUAFFFFABRRRQBHb28VrGY4F2qXeQjJPzMxZjz6kk1JRRQAVU1HT01K3WN5ZYXjcSRywkBo2HQjIIP0IIq3RQBQsNKWyuJbiW6uLy5mVUaa4K52qSQoCKqgAse2TnnNX6KKACiiigAooooAKKKKACiiigCPyE9ZP+/jf40eQnrJ/38b/GpKKAI/IT1k/7+N/jR5Cesn/fxv8AGpKKAI/IT1k/7+N/jR5Cesn/AH8b/GpKKAI/IT1k/wC/jf40eQnrJ/38b/GpKKAI/IT1k/7+N/jR5Cesn/fxv8akooAj8hPWT/v43+NHkJ6yf9/G/wAakooAj8hPWT/v43+NHkJ6yf8Afxv8akooAj8hPWT/AL+N/jR5Cesn/fxv8akooAj8hPWT/v43+NHkJ6yf9/G/xqSigCPyE9ZP+/jf40eQnrJ/38b/ABqSigCPyE9ZP+/jf40eQnrJ/wB/G/xqSigCPyE9ZP8Av43+NHkJ6yf9/G/xqSigCPyE9ZP+/jf40eQnrJ/38b/GpKKAI/IT1k/7+N/jTXhURsQ0mQP+ejf41NTZP9W30NAFHn+/J/38P+NHP9+T/v4f8ao6rFqE9p5WmSRRO/DSOxBUf7OAefft/KaxF2toq6iYmnXgtEThvfoMH/PtQBPbp5trE8jyFmQEnzG5OPrUnkJ6yf8Afxv8adZRZ0+3Of8Alkvb2qfyf9r9KAK3kJ6yf9/G/wAaPIT1k/7+N/jVnyf9r9KPJ/2v0oApTxrHbSupkyqEj943p9adp48+2Du0mf8Aro3+NSXsWLC4Of8Alm3b2qPSP+PNaALfkJ6yf9/G/wAaPIT1k/7+N/jUlFAEfkJ6yf8Afxv8aPIT1k/7+N/jUlFAEfkJ6yf9/G/xo8hPWT/v43+NSUUAR+QnrJ/38b/GjyE9ZP8Av43+NSUUAR+QnrJ/38b/ABo8hPWT/v43+NSUUAR+QnrJ/wB/G/xo8hPWT/v43+NSUUAR+QnrJ/38b/GjyE9ZP+/jf41JRQBH5Cesn/fxv8aPIT1k/wC/jf41JRQBH5Cesn/fxv8AGjyE9ZP+/jf41JRQBH5Cesn/AH8b/GjyE9ZP+/jf41JRQBH5Cesn/fxv8aPIT1k/7+N/jUlFAEfkJ6yf9/G/xo8hPWT/AL+N/jUlFAEfkJ6yf9/G/wAaPIT1k/7+N/jUlFAEfkJ6yf8Afxv8aPIT1k/7+N/jUlFAEfkJ6yf9/G/xo8hPWT/v43+NSUUAR+QnrJ/38b/GjyE9ZP8Av43+NSUUAR+QnrJ/38b/ABo8hPWT/v43+NSUUAR+QnrJ/wB/G/xo8hPWT/v43+NSUUAR+QnrJ/38b/GjyE9ZP+/jf41JRQBH5Cesn/fxv8aPIT1k/wC/jf41JRQBH5Cesn/fxv8AGjyE9ZP+/jf41JRQBH5Cesn/AH8b/GjyE9ZP+/jf41JRQBH5Cesn/fxv8aPIT1k/7+N/jUlFAEfkJ6yf9/G/xo8hPWT/AL+N/jUlFAEfkJ6yf9/G/wAaPIT1k/7+N/jUlFAEfkJ6yf8Afxv8aPIT1k/7+N/jUlFAEfkJ6yf9/G/xo8hPWT/v43+NSUUAR+QnrJ/38b/GjyE9ZP8Av43+NSUUAR+QnrJ/38b/ABo8hPWT/v43+NSUUAR+QnrJ/wB/G/xo8hPWT/v43+NSUUAR+QnrJ/38b/GjyE9ZP+/jf41JRQBH5Cesn/fxv8aPIT1k/wC/jf41JRQBH5Cesn/fxv8AGjyE9ZP+/jf41JRQBH5Cesn/AH8b/GjyE9ZP+/jf41JRQBH5Cesn/fxv8aPIT1k/7+N/jUlFAEfkJ6yf9/G/xo8hPWT/AL+N/jUlFAEfkJ6yf9/G/wAaPIT1k/7+N/jUlFAEfkJ6yf8Afxv8aPIT1k/7+N/jUlFAEfkJ6yf9/G/xo8hPWT/v43+NSUUAR+QnrJ/38b/GjyE9ZP8Av43+NSUUAR+QnrJ/38b/ABo8hPWT/v43+NSUUAR+QnrJ/wB/G/xo8hPWT/v43+NSUUAR+QnrJ/38b/GjyE9ZP+/jf41JRQBH5Cesn/fxv8aPIT1k/wC/jf41JRQBH5Cesn/fxv8AGjyE9ZP+/jf41JRQBH5Cesn/AH8b/GjyE9ZP+/jf41JRQBH5Cesn/fxv8aPIT1k/7+N/jUlFAEfkJ6yf9/G/xo8hPWT/AL+N/jUlFAEfkJ6yf9/G/wAaPIT1k/7+N/jUlFAEfkJ6yf8Afxv8aPIT1k/7+N/jUlFAEfkJ6yf9/G/xo8hPWT/v43+NSUUAR+QnrJ/38b/GjyE9ZP8Av43+NSUUAR+QnrJ/38b/ABo8hPWT/v43+NSUUAR+QnrJ/wB/G/xo8hPWT/v43+NSUUAR+QnrJ/38b/GjyE9ZP+/jf41JRQBH5Cesn/fxv8aPIT1k/wC/jf41JRQBH5Cesn/fxv8AGjyE9ZP+/jf41JRQBH5Cesn/AH8b/GjyE9ZP+/jf41JRQBH5Cesn/fxv8aPIT1k/7+N/jUlFAEfkJ6yf9/G/xo8hPWT/AL+N/jUlFAEfkJ6yf9/G/wAaPIT1k/7+N/jUlFAEfkJ6yf8Afxv8aPIT1k/7+N/jUlFAEfkJ6yf9/G/xo8hPWT/v43+NSUUAR+QnrJ/38b/GjyE9ZP8Av43+NSUUAR+QnrJ/38b/ABo8hPWT/v43+NSUUAR+QnrJ/wB/G/xo8hPWT/v43+NSUUAVp4gkYKtIDn/no3+NQc/35P8Av4f8atXP+rH1rivEll40vNZtZfDt5ptpZWrB9k0jlrhsYIkAT7vJAAPvnONoB1fP9+T/AL+H/GimQmRoUM6KkpUF1Riyq2OQCQMj3wPoKKANOiiigAoorj7v4maJZeD5vEdzDeJbQ3jWUkHlqZhKrlCNu7HGCevT8qAOworH/wCEnsT4ng0NBK9xNZG+8xQvlpEGCgsc5BJPHHY0278U6avh7VNU0q7tNUGmwSSyR21yrcopbaSudpOPSk3ZXY0nJ2RtUVh2XizTJPC+l6zq93aaSmpW8cyJdXKqAXUNtDNjcRn0q7ea7pOnm3F/qllam5/1AnuETzf93J+b8Kppp2ZN7q5foqlfa1pembv7S1Kzs9kfmN9onWPamcbjk9M8Z9abFrukz30VnBqllJdTR+bHAlwhd0xncFByR79KQy/RVI6zpi6qNMbUbQX5XcLQzr5pHrsznH4VdoAKKKKACiiigAooooAKKKKACiiigAooooAKKKKACmyf6tvoadTZP9W30NAHJ3GuXMN1LGqREI5UZB7H61JYaxcXV9HDIkYVs5Kg56E+tZN7/wAhC4/66t/Op9G/5C0P/Av/AEE0AdlY/wDIOtv+uS/yFZx8SWo8QDSvIuC3nfZjcYXyhN5PneX97dny/mzt29s54rRsf+Qdbf8AXJf5CuZa5P8AwsdV/sS2358n7Z9kbzvK8nf5vnY27N/7rbnOec84IBpf8JjoH/QSj/75b/CtHT9StNUt2nsJ1mjVthYAjBwDjn6is861quf+RXvz/wBvFt/8drRsLme6tzJdWMti+4gRSujEj1yjEfr2oAdff8g+4/65N/I1X0j/AI81qxff8g+4/wCuTfyNV9I/481oAv0UUUAFFFFABRRRQAUUUUAFFFFABRVfULC21TTriwv4hNa3MZiljJIDqRgjjmvJPE/ww8G2PjbwhZWmhwx29/c3CXMYkfEgWEsAfm7HnijrYOh7HRXP6V4Z0bwTpd63hfRShkHmNbW75aZlBwBvbAP4isxvG2sabqFinifws+mWN9cJbRXUV8lx5cj8KJFAG3J4yCwo62Qa2uzs6K5XxD44TQPFFpon9mzXtxe2jz2ywON8sisFEYBGBkEsWJAAU5p83i270rw2uoeJNFksb6a4Fvbadb3C3Mlw7fcCsABk8/QAnNC1V/63t+YbO39dzp6K4+DxpqVnqtjaeLPDraNFqMogtblL1LhDKQSI3wAUY4OOoz3rW1zVdasp4odD8PNqrOpZpXu0t4o/Yk5Yn6KfrQBtUVzOh+M49RtdW/tawl0m90U/6dbSOJAg2bwyuvDKV57fSqOn+MfEmqQWt/ZeC5H0u7CvHK2pRLP5bdHMRGBwc4359qOtv61Dpc7SiiuRvPGl/P4gu9J8K6A+syaeVW9uJLpbeGJyMhAxBLPjqAMDPJo62A6eO+tJr2aziuoXuYArSwLIC8Yb7pZeozg4z1qevOfBGp/2r8VvF072s1nMttZRzW84G+JwHBGRkEdwQSCCK0z431XUZbiXwr4Xl1fTraRomvGvUg85lOGESkHeAQRklQSDg0dEHV/10OzorN8Pa9Z+JdDg1TTt4hmyCki7XjYEhkYdiCCDWT4o8ar4a17SdL/sye/l1VZhAtuw3mRAuFweOd3LEgADJo62BanUUVx9r421C11+y0zxX4dfRv7Rcx2dzHdrcxSSYz5bEAFGI6DBB7GjVfHjWHi268OWWjzahqKW0U9tFDKF87eWDbiwwirtGWJP3gMZwCAdhRXL6h4wn0bQ9Pl1bRpV1rUJDDb6RazrM7yc8CThdoUZLHAAqC28aajaatZ2Pi3w8+ijUJfJtLmO8S5ieQjIjYgAqxwccEH1p9bB0udfRXNap4quo/ET6F4f0n+1NQhgW4uDLci3hgRiQoL7WJY4OAFPSqnhTxfrWva5qenap4et9KOmOI7j/iY+c+WUMhCiMAqwPXd26UvMHodhRXB6B8RdR8VWNlc+HvC8l1G77L2V7xY47U7sEKxGZGA+YgADkDOa3tb1jX7S9+z6F4ZbU1EYdria+jt4s8/KOGYnj+7jkc0B1sb1FctY+N0vfCOsau2nTW13owmW7sJnG5JY03Fd4yCCMYYevSsofEbVrjw7F4h03wfc3Wj+QJ5ZjeIkm3bljHGRlwORk7c4yBij+vvHZ/15HfUVw0nxB1K50o634f8AClzqWiKhkN010kMkiD7zRxEEsBg9SuccZrpYtcS+8Lxa3o9rNqCXFus8EEZVXkDAED5iADz3NG1/IRqUVxyeNNWsdY0+08T+GW0u31KcW9tcxXyXAEpBKo4AG3ODyNwq54g8XSaZq8Wi6JpM2taxLCbj7NHMsSRRA43ySNwoJ4HBJxQB0ckiRRtJK6oijLMxwAPc04HIyOlcP4g1q6k+GWuXvjHwoIEghbzNON+si3CcciRBleT6Z4rW1nxPa+HNH04RWU11d322Gx0+2I3yttzgE4AUDkseAKXW3p+If8H8DSstd07UdWvtNsrgzXWnlVulWNtsZYZA3Y2k47AkjvWhXCaHr7+G7y00jXPCzeH4dSuGFvcx3ou45Z3yxWR8Bg7c8nOfWruseOX03xmfDVno1xqN9JZLd26wyBd+XKkMWACKAM7ie+AM9X2Dv/XkddRXK6L4wvbjxINA8R6G+j6hLA1xbbblbiGdFIDYcAEMMjgitDSNcvdS1/WNPudFubGDT5ESC8lPyXgZckrwOnTgn+lAG1RXM/Ej/kmHiT/sGz/+gGuSh+GXhO18AxatZW8mj6gumrcDUbW6kjeN/LDbvvYxnsRik3ZNvZf8H/IN2ord/wDA/wAz1OivPrT4hyaT4H8Iaj4gt3mm1lFjmdOGD+UWBCAfMWKgBRjlq3rLxNfRaTqOqeK9F/sCys081Hku0mZ0wSSyoPlI44yetVL3b36Ci7peZ0dFcM3jzXYdP/ti48FXkeiBPNaf7XGblYuu8wemOcbs+1bGseMLPTtI028sIn1OTVpEi0+G3IHns67gdx4VdoJJPQUhnQ0VwkvjXxTaeKNO0S+8JWUD6iHME/8AbJZG2DLrxBncF5wQM461PeeP508Uat4d0rQptS1Sx8oxRRzqiyI6Bi7swxGoyB3JJGBQB2lFYl3q+tW+h2lxD4ckudRnwJbKO7jC25xk7pWwCBjGQCfaqeh+Lby88QyaD4g0VtI1IW/2qJVuVuIpog20lXAHIJGQQOtHWwdLnT0VxKePtQ1DWNZ0nQfDcl/e6VdeTJuu1hi2bQVYuV4JJYBQG+7kkZFR2HxEv9YNxY6R4WupdasZDHf2c9ykUdqe2ZsENu7bQe+cd0ndXXqGx3VFc34e8X/23p+pm506XT9R0mQxXllLIrFG27hh14ZSDwf0rD0/4jaxrfhm313QvB895ZND5k5a9SNgR99Y1K5k2kEZO3OOM0/6+8Nz0CmySxwxl5nWNB1ZjgCuHg+Ieo61pK6v4Q8LXGraZs3NPLdJbMxH3ljQglipyDnAJBwTSeKfE2i6x8Jf7duNLOqaZd+Qxs5pDESTKq4JGcFW9PTFOzuCsd3RXL+KPGsfhfWNF05tOnvW1bzkiW3Pz70VSqhSMHcWxkkAYyeKrQ+NdTtNesNP8UeGn0mLUpTDaXUd6lwhkwSEfABQkDjqPektQ2V2djRXNap4quo/ET6F4f0n+1NQhgW4uDLci3hgRiQoL7WJY4OAFPSqnhTxdrWv69qWm6p4et9KOmOI7j/iY+c+WUMhCiMAqwPXd26ULXYHodhRQSACScAdSa8f07U7pfGFv8QJJWGl6vqL6RtJ+Vbb7kEn4yoxz6SULV2/ry+9g9Ff+v6sewUVieJvEi+Hbe0EdnLf3t/cC2tLWJlUySEFuWbhQApJNR6Jq/iG8v3t9d8MjS4xGXS5iv0uI2OR8p4VgefTHHWhahsb9NaVEkRGdVd87VJ5bHXHrXF2/jjXdXhe+8NeEX1HSxK8cdxJqMcEk21ipZIyDxkHG5lzU+u6hYr468HQX+jCW+uzctb3DzYayKwgsNoyHyOOvGM01qO2rXr+B19FcvfeLL6TxDd6L4a0Yapc2CI93JPdC3hiLjKoG2sWYjnAXA45qn4c8bavrEWtSal4eg00aOZI5oxqJlk81FDBceUBtKnO4E/Spukr/P5BZ3sdpRXBab8Qdb1/w/a6x4d8GzXtpJCHkMt8kJLY+ZYwy5fByMkKDjir198Q7GD4ZnxnZ20k9qFRjBI3luuZBGwPBwVJPr0qmrbiWtrdTr6K4XUviFqOk2q6vf8AhW5i8OkrvvzdIZo0YgCRoAMheQeu4dwKNQ+IWp6bYjWrnwldL4e4Z703SeckZIxIYMZ28g43bgOoFIDuqKxPEPieDQrW0MNtLqF7qEnlWVnbkB52xu6nAVQBkseAKz9P8YXy69a6R4p0JtGuL4N9jkS6W4hmZRkpuABV8c4IwcHBo62Dpc6uiuMm8e3UvinV/D2j+H5tQ1DTmj6XCxxFHQNvd2GE5OMDcT1x1xa0Lxfdapdalpd/okmna5p8SzNZPcK6TK2djJKBggkYyQMUdLhsdTRXnHw78S+K9ZnvzqOjwvaf2tcxS3J1Lc1ttOPLWPZ8yggDORnJOK9HOcHHB7Zo6Jivq0FFeYLo+o2Hxe8NXmuam2oahd296XCApBAoRdqRJ2Ayck8nvXa+J9cvNBtLSbT9FutXe4u47d47brEjdZDweB+A56ijovP/ADsPq/L/ACNqiivJbXStA8VePPEGn/ER/tGpQ3uNNsbm5eOP7LtGxokDAMTzkjJzRu7D6XPWqK5w2lh8P/BeozaVbzSW1lDLdLby3Tv91c7Qzlio498ZrUttT+0+HYdU8rb5lqtx5W7OMpu25x+GcUNpJvsJXul3/r9UX6K4q4+I0Vp8M9O8Y3OnlYbsweZbrKWMSyOFJyF+bAOcYGelR6p8Q7/w+seoeIvC9xYaFJIqG++1JJJFuOFMkKjKg8dCSPSjZ2+QLVXR3NFcPeePtU0ryL7WfCdzZaJNKkZvTdxtLDvIVWkhH3RkjoxI7iu4o6XAKK5bVvGF1Hr02ieGdFfWtQtkWS7zcLbw2wb7oZyD8xHO0A8VLofi19WmvtOu9Km07W7GMSS6fLKrb1bO1kkHyspIxnjB6ihahsat7rukabdxWuo6pZWlxN/qoZ7hEeT6KTk/hV+vJ/Aseo6n4x8R3Wp+FrG4EmsNHcXs12sklqEjTZGqmP5gODkEdfbn0bXvD2leJ9N/s/XbNby13iTymZgNw6Hgj1o15U+9vxD7TRpUV43bfDHwc/xhvtIbQ4TYR6NFcJB5j4EhlZS2d2egArudJuNP8L+JrTwVpmlLZWMljJeWsqzFgWEmHj2kZz8wbOe/SmtUvP8AS/8AkK+r8v1t/mdXRXKQeOoZ/iRN4VFkwSOI7b7zPleZVV2i246hHBzn8KtR+LYD4l1vT5olhs9FtYp7m+aXgM4Ziu3HGFXJOe/SlfS47O9joaK4aPx5rlzYDWLHwVeT6IU81JzeRrcSR9d6wHqMcgFgT6V12k6paa3pNrqemyia1uoxJE4GMg/yPtRYC3RXm/j/AEPTfEfxL8HabrVqt3aSRXpeJiQCQiEdCD1p+tfDmx8N6Lc6r4AafRNTs42nRIbh2huNoyY5I2YqQQCM8EcHtSulHmlsO13ZHobypFt8x1TcwVdxxknoPrTq8/1jxNpmreEfB2r6ho63y6pqVn5MbTFPs0z5xICAd205471u614pns9fg0HRdMOp6pLbm5dGnEMUMQO3c74JGTwAFJ4NU0197X3K4uiflf8AGx0dNjljlXdE6uuSMqcjIOCK4/w94v17VvFt7oep+G7XTWsVR53/ALTMpKOG2MiiIBgSuOSCP0rDTxC1h8HNY1bwjoaWRilvd0QuyfKKu4aYMRknI3BR9M1Dlb7rjSu7Hp1FcPpHi3VNL8CnWfFuki1tLSxilSaG9+0y3RKgcqVXDEkdSeT1rQ07xB4puNQt01DwcbSznIBuE1OOV4R6umB/46Wq2rSsRF3ipHUUUUUigooooAKKKKACiiigAooooAKKKKACiiigAooooAKKKKACiiigCG5/1Y+tVatXP+rH1qrQAUUUUAaFFFFABXkcnhK+vfiff6Jdafcf8I9Lcy6v9oMZ8lpJIBEY92MbtzM2Pxr1yilZPf8Ar+nYd2jxLRPDHifWfB3iv7ZZ3Fpqn9mw6NZidDGZkhX5mUnGVcng9KsaR4faXSdbuorbxCt+PD81l9nu9Kito2+XiNfLRfMYHgEZ4zzXstFD1vfqv8/82EXytNdH/l/kjxm10q50jU/DepeIfC9/rOnjwzBYi3isvtD2twMFg0R+7kcZP0NT+J9Jli8Va9d6j4VvNat9Y0qG30sQWazfZHCEGNv+eXzENu6e/Fev0VU/fbv5/jf/ADFH3dvL8Lf5HlWm+ELtvFXhuHxJpn25bHww0E0ssXmxLPuUbdxBBbBPvjNYnhjwjdWHhXwBONBnt9Sg1t2vH+yMsscRMozIcZC4CdeMYr3CimpWd/O/4t/qJq8eX+trHiNp4SvE8T3Vnr0evCWTXft0E9lp0MsDjzAySG4Kb0wOCpYYAIA7V7dRRUrSKj/Xb9B9WwooooAKKKKACiiigAooooAKKKKACiiigAooooAKbJ/q2+hp1Nk/1bfQ0AcDe/8AIQuP+urfzqfRv+QtD/wL/wBBNQXv/IQuP+urfzqfRv8AkLQ/8C/9BNAHZWP/ACDrb/rkv8hWI1r4gPjQT+e39mCTOBKvl+T5ONhTG7zPN+bdnG3jPY7dj/yDrb/rkv8AIVPQBim38UZONU0gDtnTZf8A4/WjYJfJb41Oe3nm3H57eFolx6YLMc/jVmigCC+/5B9x/wBcm/kar6R/x5rVi+/5B9x/1yb+RqvpH/HmtAF+iiigAooooAKKKKACiiigAooooAK4fxl/yUbwJ/1+XX/og13FQTWNpc3MFxcWsMs1sS0ErxhmiJGCVJ5XI44o6ph0Zy/xK16+8P8Ahq2m0+5WyFzfwWtxfMoYWcTthpcHjjgc8c1w/juLRbSPQ4bLxFqes376tZsyvqbzoqeaP3jxqdigkgA7RyeK9kngiuYHhuYkmikG145FDKw9CD1qhbeG9DsrVrWz0bT7e3Z1kaGK1RULKcq2AMZBGQexpJfnf8tBvVfKxzGoqrfHXRCwBK6LckEjofMQf1qp8XLPdb+H9SuZLuLTdP1IPfTWcjRyQRshTzQy8gKSMkdjXetZWj3yXr20LXcaGNLgxgyKhOSobqASBx7VMwDKVYAgjBB70krJLs7/AI3Dq33/AMrHm8Wg+B7+80/d40vNSf7THLawTeIWnDyqcoQhY5P4U6fVTrPxC13Std8RzaJZaWsJtbS3uVtmuVZNzStJ94gHjCkAY5rtLPwzoWnXjXen6Jp1rcty00FoiOf+BAZqTUdB0jV5IpNW0qxvnh/1bXNskhT6FgcVQjzj4btpj+OfHT2tzPdaWY7PFzfzvN50YjkDN5khJZODg5xgccUa1JaeA9JGpeB/FCPArp5WgTXK3MNwCwHlw9XQnPG0ke2K9OSws4ppZY7SBJJkWOV1jALqudqk9wMnAPTJqnZ+F9A0+9+2WGh6ba3ROfPgtI0f/voDNO+q+X4DeppoSyKSNpIyQe1eeeCNTsfD+veK9F1q7t7K+bV5b5BcSBDPDIFKuueoGCDjpivRKo6loek6x5f9r6XZX/lHMf2q3SXYfbcDils7/L8v8hdLP+v6ucL4Q1C11r4qeNbnTHDwSWtmkdwg+WXCuu9T/EMjGR6VzfgPS9Bg8OjSvEHizVtG1fTpZILuyOuyWqqQ5IZE3AbWBByOOa9lhsbS3uGngtYYpnRY2kSMBmRc7VJHJAycDtk1V1Lw9o2syJJq+kWF+8f3GurZJSv0LA4o2G3f+vKxR8GaZoul+HRH4ZvDfWEs0kouDc+f5jlvnO/v8wP45rl/HmqWmjfFLwTe6iyx2yC8EkzD5YQyKN5PYZIBJ4ANeiQwRW0KQ28SRRIMKiKFVR6ADpXIeI9Pubr4oeErhLSWa0hhvVnlERaOPdGoAY4wM9BnrT+0rf1oxLZmX481Ww1/VPDGh6LdW9/fvq8F6RbyCTyIYiWaQkZwMcDpnNXtOVT8dNbYqNw0W1AOOQDI+f5Cup07QtJ0dpG0jS7KwaU5kNrbpFvPvtAzVhbK1S+kvUtoVu5EEbziMCRlHIUt1IGTx70lpb1b+9WCWq+78Hc4rxvKmjeO/CniHUW8vS7Vri1uJ2+5btKgCOx7DK4z0GRUHxB1Ww1+PRtA0W8gvtRutTt51W2kEhhijcO0rYPyqAMZ75r0GWKOeJopkWSNwVZHGQw9CO9UtN0PSdG8z+yNLsrDzDl/stukW767QM0Lpfo7/jf8wfXz/wCGOE8WXaaP8T4JrTX7Pw3Neabm6utSRXt7kI+EQKzJ843MchxwRwe3ReDbTS1TUtSsNdt9evNQlV7y9t5EZSVXaqqqEhVAHAyT1yTXP3EKab4v1q48X+Gr3W4rmZW067hsPtyRQhB+6CAFozuDE8YOc5qx4Z0Yz/ECTX9N8Pv4e0tbA2rRSQpA97IXBDmJegUDALYJz0pRV427p/5/8AJb39P8v+CSfBZQPhPpmABmS4JwOv796zrTVY/EHiPxInijxRPo0WlXrW8On296LTEIUETM4w7bsnnIAxXo1lY2mm2iWunWsNpboSVhgjCIuTk4UcDJJP41WvfD+jaleR3eo6TY3dzF/q557ZHdPoxGRVSd5XKbu2+7ueVeFnt5PA3xMeye6ktmmuTFJdu7ySJ9mGGLP8xyOQT2IrsdHAHwLs8DH/FPL/6T11Z02xKXSmztyt5/x8jylxP8u35+Pm+UAc9uKellax2Iso7aFbRY/KFusYEYTGNu3pjHGOlQ1em4d0l9ya/UalZp9m399v8AI5fwaAPg5pGB/wAwaP8A9FVyceu3uifBnwQtnejTYr42trdaiVB+yxMhJYbvlB4AyeBmvVIbS2trNLS3t4oraNPLSFECoq4xtCjgDHaoxplgNMGnCythYhBGLXyl8oL/AHdmMY9sVcnzTcu7X4N/5maVopdr/oeQ+NIdHtta8Jwadr+paxejXbN5hLqT3Ecab8bmQHYhJIAOATzjvXTnUbTw18ZNUm124js7fWNPgFnc3DhIy0RYPHuPAb5gcd67C28O6JZWq21no9hb26yrMsUVqioJFOVcADG4HkHqKsX+nWWqWrW2p2dveW7feiuIlkQ/gQRReyS82/vSQ3r9363OO+I+radq3wl8TNpV/bXqxWpSRraZZAjcHBKk4OCDiqviaVNG8T+CfEOot5el2sc1rcTt9y3aWNQjsewyuM9BkV2kWg6PBpcmmQ6VYx2Egw9olsgiYe6Ywfyq68EUluYJIkaFl2GNlBUr0xjpipStJyXl+t/zDdWfn+n+R5/8QdVsNfj0bQNFvIL7UbrU7edVtpBIYYo3DtK2D8qgDGe+atRqD8fp2IG4eHUAOOR/pBrqtN0PSdG8z+yNLsrDzDl/stukW767QM1YFjaDUDfC1hF4Y/KNx5Y8wpnO3d1xnnHSqjo/v/FWB6pr0/B3ON8Qf8lp8H/9eV//AOgx102n+ItK1XVtR0ywu1mvNMdUu4grAxlhkckYPQ9M1cksbSW9hvJbWF7qBWWGdowXjDfeCt1AOBnHXFENjaW1zPcW9rDFPcEGaVIwrSkDALEcnA9aXRL1/O4rat97fkkYHxI/5Jh4k/7Bs/8A6AawvD3w10m88N6Y+r6hrWqwyW0MptL3U5XgB2ggeWCAVHociu+ubaC8tZba8hjuIJlKSRSoGV1PUEHgj2p8UUcEKRQosccahURBgKBwAB2FC0v8v1B6tfP9Dh/HkMa+I/AsSxqI01n5UC8LiF8YHtir3xQ0y61b4bata6fE08/lrKIV6yhHVyvvkKRiuluLK1u5YJbq2hmkt38yF5IwxibGNyk9DgkZHrU9LW3zv+X+RS0kn/XX/M5G98f+F28Fy6omq2ksEluQkCyqZHcrxFs6788bcZrkr7S5vD3wY8K/2jM9hqmmzWxivGxtsZHO0tICCCiq5BB+mR1HpS+HtFXVDqa6PYLfk5N2LVPNP/A8Z/Wua8b2ly3iDRr670q41rQbdJRdWNvGJSJTt8uUxH/WAYbjkgnIFN7+rX4CS/BP8SLQRpmt+KLPUL/xrpfiHULBJBaW+nGONIt4wzlBI7M23jOcAZ4pvhVR/wALk8dtgZ8vTxnH/TJqy9S0uz8TXWmQeFvB8+ky299DcSarcacLL7OiNuYLuAdiwG3AGOeTXpUVhaQXk93BawR3Nzt8+ZIwHl2jC7mHLYHAz0qlor+q/Jhfdd7fn/wDiPFmsXD/ABD03w5dazJoWlXFi9ybmGRY5LmVXA8kSMDtwPmOOT61i6L/AGWvx0tI9F1G91OKPSbhZbm4vZLpPM8xMojsSMjjIXgZFem6jpOnaxbi31fT7W/hB3CO6hWVQfXDAiiDStPtWga2sLaFrdGjhMcKqYlbBKrgcA4GQOuBUJbeV/xv/mOWv4fhY5LwAB/wkvjg45/trGf+2KUeBgP+E08dHHP9qRf+iErsbeytLSSeS1toYHuH8yZo4wplfGNzEdTgAZPpRBZWtrNPNbW0MMty4ed44wrSsBgFiOpwAMmlFcqS7K35f5Cev33/AD/zOI0X/kbviJ/vW/8A6TVa+GoC/BvRAoAH9nZ4+hrrEsLOOa4ljtIEkusfaHWMAzYGBuP8WBxz2p1tZ2tlZpaWdtDb20a7EhijCoq+gUcAe1Nq8Wu6S+5MFpJPtf8AGxyHwiGPhDoGP+fY/wDobVxMv/Jr9r/10j/9LBXstnZWun2cdpYW0NrbRDEcMMYREHoFHAqA6LpZ0saadNszYAgi18hfKHO77mMdeenXmrcrycvNP8SYLlgo/wBbHH+LgD8WPh/kZ+e+/wDRAqX4k/8AH34P/wCxit//AEF67Gaws7i7t7qe1gluLXd5EzxgvDuGG2seVyODjrRc2NpetCby1huDBIJYTLGG8tx0Zc9CMnkc0r/D5O/43Leqt5Nfn/meeeLLtNH+J8E1pr9n4bmvNNzdXWpIr29yEfCIFZk+cbmOQ44I4Pbo/BlppajUdSsNdt9evNQmV7y9t5EZSVXaqqqEhVAHAyT1yTXPXEKab4v1q48X+Gr3W4rmZW067hsPtyRQhB+6CAFozuDE8YOc5qz4Z0Yz/ECTxBpnh9/D2lrYG1MckKQPeyFwwcxL0CgYBbB56UobJf13/wCAKW7f9dv+CafxI1O4svCTWOmH/iZaxKunWmOoeTgt/wABXc34VzV78LPEk3g8+H18dSPYRwLHDanSoFA2YKDePmGCBznNelTWNpc3EFxcWsMs1sxaCSSMM0RIwSpPKkjjip6VtH/Xp+o76r+v66HB6de6L43+Hemv4tlitrhZBFIz3HkSQ3kWVYo2QQwIJGD0PpUWgateab4+h8NweIh4l0+e0knLylHuLEoVADyJgMGzxuG7NdjN4f0a4tpra40mxlguJTNNE9sjLJIersCMFj6nmpNN0fTNGhMOkadaWETHJS1gWJSfooFVfW/9bE20sef63baR4dsb/XPBvjCDR3XfO9mblJrOeTkkeUSSrMePkIOe1Go38+q+OPhhqF3bG1nuobuaSA/8s2a2BK8+ma7YeFfDy6h9vXQdMF5u3faBZx+Zn13Yzmr81haXF3b3VxawS3Fru8iZ4wzxbhhtrHlcjg460R93+vJr+vQq+r+f4nm+uXsei/FO++x+JLHwybuwhmun1RFeG8cFkUxhnTDKowSG7rx3rd0ix0u28G65c6XrEWtS3yzXF3fRyo4llMeONnCgAAAdgO9YsUUOla5rJ8Z+Fr7WZ7i9eW0votON8htzjy412hjHt6YIAzzznNXvCWgl/GGq63DoH9haRd2UdqtjLEkbXLBiTK8S5C8HaM8kdRUOPNT5e6f+dvyQ72lfs/8AgX/U1fhkAPhZ4cwMf8S+I8f7tebXP/Jrmqf9fUv/AKW17bbWtvZWsdtZwR29vEoSOKJAqIo6AAcAVWOh6S2ltph0yzNg5LNaG3TymJbcSUxg/Nz0681pf3+b+t7ipvk5fKxzHxYAHwg1wAYH2VeP+BLUvxDGPg/rgHT+zH/9Brqruytb+ze0vraG5tpBh4Zow6MPQqeDRcWlteWclpd28U9tIux4ZUDIy+hU8Ee1ZyV4tdwj7vL5f8D/ACPMfiBZxJqvgzV9Uu7yy0e3SS3uruzuHha2aSNdjF15VSV2k9Oea0tP0LwZN4h0ySHxdd6rfQTGazgn11rrLhTkhCxz8ucn0rv2hieAwvGjRFdpjKgqR6Y9Koad4c0TSJ2m0nRtPsZX+89tapGzfUqBWl9bk2923kcx4RUf8LS8dtgbjLZAnHOPIotP+S+al/2L8H/o967KGxtLe6nube1hinuSpnlSMK0pAwNxHJwOBmgWNouoNfLawi8eMRNcCMeYyA5CluuMnOOlJOzXkv0sEldP5fmmcJ8MNQs7WPxBplzdwxXya/dk2zyBZMO+VO08kEdPWvQqoyaJpU2qJqcumWb38Ywl21uplUez4yPzq9S6L+tgtZu3n+Opxev/APJXPCH/AF7X/wD6AldDrniLSvDlvbz61drax3E620TMrNukboOAcdOp4FXZLK1lvIbuW2he5gDCKZowXjDfeCt1GcDOOtJd2NpfoiX1rDcpHIJEWaMOFcdGGehHY0dEv63H3/roT1yOt3/w/wDEtvNaa/faFeC3Zo3S5uIw8DA4YckMh47YNddWTeeFPDuoXf2q/wBB0y6uM586ezjd8+uSM0txnn2hfab/AOGXjWy024udS0mP7TBo80rGRpYvK+6rHl1DZAPfFbuneM/D4+F1pcJqltI39mpEsCSgytL5YHlhByXzxtxmu4RFjjVI1VEUYVVGAB6VQh8PaLb6k+oQaRYRXr533KWyCRs9csBk0SV013S/C/53BaNPs3+Nv8jyudQ37OnhdWAIM1gCCOv79a6v4xc/DmbP/P7af+lCV1x0fTW0+KwbTrQ2cJUx2xgXy0KnKkLjAweR6VLeWNpqNsbfULWG6hLBjFPGHUkHIODxkEAirv71/O/5f5GfL7vL5W/P/M5P4t/8kx1P/ft//R8ddkv3R9Kiu7O11C1a2v7aG6gfBaKaMOrYORkHjggH8Kmqelizz/w9qFp4d+InirT9buYrObUrmO+s5Lhwi3ERjVSFJ6lSpBHWnaVdQeIfjLc6ro0qXFhp2k/Yp7qI7o5Jml37Aw4baBk46bq7PUdJ07WLcW+r2Frfwg5Ed1Csqg+uGBFS2tpbWNslvY28VtAgwkUKBFX6AcCiOlvL/K35A+vn/nf8zkfh5/x/eMf+xhn/APRcVdpUNvZWtm0zWltDAZ5DLMYowvmOQAWbHU4A5PPFTUdEuyS+5WB7t+pw1p/yXzUv+xfg/wDR70fEiVNFu/DviqRtkWlagI7l89IJlMbE+wJQ/hXZCxtF1Br5bWEXjxiJrgRjzGQHIUt1xk5x0pL6ws9Ts3tNStYLu2kxvhuIxIjYORlTweQDRrZW6f53/wCAJLVt9f8AKx5T9gn0/wCHOmeNJUK6hHqo1y5z18mZtrqfYQsP++as2Gk3fiT4T+L9QslL3niOa6ntwOrxj5IlH1VB/wB9V6fLZ209k1nNbxSWrp5bQOgKMmMbSvTGOMUtta29lax21nBHb28ShI4okCqijoABwBSkk00tnp8tP8l+I03dN77/AJ/5v8DldK8feGF8E2+pS6raQRQ2yrLA8qiSJ1XBjKdd2RjbjNHwt0660z4cabDfQtbyyeZP5DDBiWSRnVSO2Aw4rek8PaLLqg1KXR7B78ci6a1Qyj/geM/rWjVN3bfcSVko9jgPGF7a6f8AFbwZcX9zDbQrFfAyTSBFGY1xyeKn8YeP9Ih0O40/QL2DV9avo2gs7KxlEzs7AgM20/Ko6knHArqNU0DR9c8v+2tJsdR8rPl/a7ZJdmeuNwOM4H5Uum6FpGjKw0fS7KwDfeFrbpFn/vkCpaTjyvYq9ndHnPiXRX8O+B/h7pErBpLPXNPikYdCw3bse2c1f8c3EelfEDRb221q38PXVzaTRTahfqrW0kSFWERViuX3NkHcuAD16V391YWl+IhfWsFyIJVmi86MP5ci9HXPRh2I5FcFqkH2Hx3qd74p8PXmuadcRwjTpYLP7YlqAuJE8oZZSW53BeRjniqcrv5t/ekg+ykuiS/G5seDrbTJr/UdYt/Edr4h1K7Ecdzc2skflxomdiKiMdo5J5JJJ61yOiwyXH7P/iWGBC8jnUwqqMknzJK1tE0ddQ+IVjrmi+G5PD2nWVrNFNJNbJbPes+3avlD5tq4zlgOeld7aWNpp8BgsLWG2iLM5jhjCLuY5JwO5JJJqJRvr5Nfiv8AL8Qi7P5p/gczouoeHNb+HNnBfX1hc2D6dElyrzrtC7QpDc/Lzx2wfeuemvG8G6xo1v4b8TnWLK+vY7U6NdTrcSJGxwXikHzgIOcMSMdxXeweHdFtftP2bR7CH7X/AMfHl2qL53+/gfN+NJpvhzRNHmaXSNG0+wkfhntbVIi31KgVo3efN/XoRGPLDlNKiiipKCiiigAooooAKKKKACiiigAooooAKKKKACiiigAooooAKKKKAIbn/Vj61Vq1c/6sfWqtABRRRQBoUUUUAFFFcPf/ABW0jTdWv7S70zWFttOuBbXWpLaq1tC5xjLBiQPmH8PejrYOlzuKKpNrOlpceQ+pWizeYkXltOobewyq4znJHIHUihNa0uTVW0xNSs21BRua0E6mUD1KZz+lAF2isi68WeHLG+Nle6/pdvdghTbzXsaSAnoNpOatLrOlvcCBNSs2mZ3QRidSxZPvjGc5XuO3egC7RVCw17SNVaZdL1WyvWg/1ot7hJDH/vbScfjUcfiXQpZNkWtac7mH7QFW7QnysZ39fu45z0oA06Koxa3pU+nx30Gp2clnK4jjuEuEMbsTgKGzgknjHrUB8VeHhbG4Ou6YIFl8ky/bI9ok/uZzjd7daANWismTW/L8Tx6WYrfyHsmujcG7QOMMBjyvvFcHO/oOlTWuv6PfXaWtlq1jcXDxCZYYblHdkIyHCg5Kkc56UAaFFZEvizw7b6j9gn1/S4rzeI/sz3sYk3E4C7Sc59q16ACiiigAooooAKKKKACiiigAooooAKbJ/q2+hp1Nk/1bfQ0AcDe/8hC4/wCurfzqfRv+QtD/AMC/9BNQXv8AyELj/rq386n0b/kLQ/8AAv8A0E0AdZZOwsLcA/8ALNf5VN5jev6VXs/+PGD/AK5r/KpqAHeY3r+lHmN6/pTaKAI7x2NjOCf+Wbfypukf8ea0Xf8Ax4z/APXNv5UaR/x5rQBfooooAKKKKACiiigAooooAKKKKACikZgqlmICgZJJ6V434o+I+pajeyQ6NO9nZIcI0fDyf7RPUfQVEpqK1OPFYynhYpz69D2WivIvCl742mtZtTs7mS7tIOWjvZCwmx1VSec++R/SvTtE1eDXdHg1C1yEmXlSeUYcEH6GiM09AwuLjiFezXr19C/RRUcFxDdQLNazRzRNna8bBlODjgj3qzsJKKKKACioLm9t7N4FuJNhuJRDENpO5yCccdOFPWp6ACiioI723lv5rJJM3ECJJIm0/Kr7tpz0OdrflQBPRRRQAUVE11Al1HbPPGs8ilkiLgMwGMkDqQMjP1pzTxJMkLyossgJRCwDMBjJA74yPzoAfRUUF1BdeZ9mnjm8pzHJ5bhtjDqpx0I9KloAKKKKACimtLGkiI7qryEhFJwWwMnA78U6gAooooAKKKKACiiigAooooAKKKKACiiigAooooAKKKKACiiigAooooAKKKKACiiigAooooAKKKKACiiigAooooAKKKKACiiigAooooAKKKKACiiigAooooAKKKKACiiigAooooAKKKKACiiigAooooAKKKKACiiigAooooAKKKKACiiigAooooAKKKKACiiigAooooAKKKKACiiigAooooAKKKKACiiigAooooAKKKKACiiigAooooAKKKKACiiigAooooAKKKKAIbn/AFY+tVatXP8Aqx9aq0AFFFFAGhRRRQAV5Zpvw9TxB4q8VTeIJdXh0+TVg6WAkMVreKEQh2G3LjIxkHHHtXqdFK3vc39dP8g6WPPtF8MxT/F/xTqep6QHSNbI6fc3FvlFYREMYmIxkEKCRyK43T/DWpxRaXoh8OXaeILTXvttzrhtwsTw+aXL+f8AxblIG3r7V7nR1p7NPt+lv8tRyd013/yseF6RLpkHiKOfU31CHSLbxDLdWM8eltJDLJI5RWN4uVZCzdNoI4BJxXSeG9AutOh8ca1DoCS66NUvX017u3w0iFQVCFsHYxJ6HB5rrrbwD4atL1LmDTcGOTzY4mnkaGN853LEWKKc88KMV0VC0jbyt+X+QX95vzv+f+Z434P0rVW8bWGqTaZqUET6JPBO0+mR2iRy5Q+WqIoO30L5zg4PBqlo3gYL4f8Ahutx4aYTR3cjaiJLI7kBDH97kZAyF+9x0r3Gij/Nfg2/1Iav+P4pL9DxfUPCt3/winijTINFufs0/iqKWK2S2ba8BeLcyqB9z73I44PpVrU/BNu/ijx68XhtTBJosa2JSy+RpfLbIiwMFshfu85xXr1FS43SX9bJfpc0UrS5v63ueV6JpOqJrXh6W4sLxRF4NNvK7wsNk3yfu2JHD8H5TzWZonhSTS9K+GlxDoclrdW87vqMotSskQaNtxlOMqM/3q9npGUMpVgCpGCCOtXJtu/nf8W/1Itpbyt+CX6HhvhSTTbbXNLl1R9Qg0+11e4bS5BpbGGZ5nZULXYysitnIwF56k4zXudc7Y+A/DenXkVzaacVaB98Mb3ErxQt6pGzFEPP8IGK6KktIpDesmwooooAKKKKACiiigAooooAKKKKACmyf6tvoadTZP8AVt9DQBwN7/yELj/rq386n0b/AJC0P/Av/QTUF7/yELj/AK6t/Op9G/5C0P8AwL/0E0AdVZ/8eMH/AFzX+VTVDZ/8eMH/AFzX+VTUAFFFFAEN3/x4z/8AXNv5UaR/x5rRd/8AHjP/ANc2/lRpH/HmtAF+iiigAooooAKKKKACiiigAooooApa1DLc6DqEFvnzpLaRI8f3ipA/WvOPBs/h7X9AXw7q1rHBcRMZFcHaZT3YN/exwR6fp6pXA+J/hjDql7Je6PcJaTSndJDIp8tj3II5H5GolfornmY2jVc41aa5rXTT6pnPeNPGkUlv/YPhvbDp8Q8uSSPgSAfwr/s+/f6der+FcEsXg0tKCFmuXePP93Cj+YNYOlfCOcXKtrV/D5KnJjtskv7ZIGPyNem21tDZ2sdvaxrFDEoVEUcKBWdOMubmkYYOjiJV3XrK2lkjJ8XahcWHhycafFJNf3RFtaxxFd5kfjI3EDgZbkgfL1rjm1C40Lwt4j02O0vfD629t9ssPPkiLohwJCpjd1+Vxu5P8fIr0mSCKWSOSWJHeJi0bMoJQkEZB7HBI+hrP13RIdc0ye2fy45pImiS4MQZowxBOOhwdoyM84FbrT+v66ntS1RzeqPJo13eQaXf3k0Vxot1dymW7eYxSLt8uRSxJTO5uFwvy8AYqe4tpba00W2k1C+Karcqt9ctdSBm/cuwVCD+6DMqj5Nv5nNdHbaLpdlHcx2em2dul0SbhYoFUTE9dwA+bOe9TXFla3dm1pd20M9s67WgljDIw9Cp4xS/r8X/AJpfIP8Ag/p/X9XOD1IgXcWmNqNx9itdct4Yrh7hnkTdAS0XmsSxOTjcTuG/rkCtD7cNIk1fTElu7y1SW2t7ffeuZI5puChmYlwBlGySSA/HYV06aPpkVhHYx6daJaRZEdusCiNMgg4XGBwSPxNNj0TSYtJbS4tMs009gQ1otugiIPUFMY/ShKyf9dv8ge6/rv8A5nEQXt9apqGlS3b28KanaW0jpqMt08CSAblE8gDgk4Hqu/gjjDrstomp+IItNvbgqkemwvNNO00ltG8rq53uSxwrFssSRn0xXbxaPpkFk9nDp1pHaunltAkChGX+6VAwRyePei00jTdPtzb2Gn2trCU8sxwwKileflwBjHzHj3PrTWnn/S0/ruLqv6/r/gGTpSf2b4qn0q0urm4tPsa3Dpc3L3DQuXIHzuS2GGeCcDZwBmtqL7Z/aE/nGD7HtTyAgPmbud+7tj7uMe+aZp+lafpFuYNKsLaxhZixjtoVjUk98KBzVujoHUwLuxtofG+m3ccSi4ninEkp5ZgFTAz2A9Bxkk9zTrKMar4j1K9kBMNsn9nwEHGejSsCORklV+sZraaGN5UleNGkjBCOVBK564PbOKIYIreMpbxJEhZmKooUZJyTx3JJJ9zSSs2yjD8LWsFk+s21pCkMEWoFUjQYCjyYqzbtI9Q8W65b3ur3ltFZWdvPFHBePCISRJmT5SMj5Rw2V45FddHDFE0hijRDI29yqgb2wBk+pwAM+1ZEvhfTrzWrrUNTtbW+84Q+VHcW6v5LR7vmBOeTu7YxinLVJeS/IhK33v8AO5meGtWvL2/s5tUlaNptCt7mSNm2qHLNvbb0B6Z/CszRXm8QS6FFcanfNaXGmXM0ggu5IzMRNGEYupDDAJ6EdfTiu0vtI03VGhOp6fa3hgbfEbiBZPLb1XIOD9KlisrWCRHhtoY3jVkRkjAKqSCQPQEgEj1FCtzX9fxv+V/wG7vby/C3+Rwenwf2pqGgG/ubyR4brUbZXF5KjMsUjKmSrDcdqjJPJxzmp5rmf+yr/XXvrpNUttRktorYXTiIgT7EiMOdhLrt5K7vnyD0rr59F0u6tVtrnTbOaBZTMsUkCsokLFi+CMbsknPXJJpX0fTH1RdTfTrRr9F2rdmBTKo9A+M4/Gjrcbtrb+t9DAaGfTfFiXOqm8nju7ny7SeHUJBFHlTiN7fcE4wfmAYnqcV1dUItC0iDVH1ODSrKO/kzvu0t0ErZ65cDJ/Or9C0SQdbhRRRQAUUUUAFFFFABRRRQAUUUUAFFFFABRRRQAUUUUAFFFFABRRRQAUUUUAFFFFABRRRQAUUUUAFFFFABRRRQAUUUUAFFFFABRRRQAUUUUAFFFFABRRRQAUUUUAFFFFABRRRQAUUUUAFFFFABRRRQAUUUUAFFFFABRRRQAUUUUAFFFFABRRRQAUUUUAFFFFABRRRQAUUUUAFFFFABRRRQAUUUUAFFFFABRRRQAUUUUAFFFFABRRRQAUUUUAFFFFABRRRQBDc/6sfWqtWrn/Vj61VoAKKKKANCiiigArxfxr46ez8f3d7B4gFpbeHJLWJ9NF2E+3eYx8/93n59qsvY4INe0VyVv8M/DUWlahZ3Nmt8+oyzSz3d1HG85aTOSH2jGM8Y6UtVJPt/X+Y9GrPqZXizx5qmi+K7Owt/7NsNMuYEki1HUopmhuHYn92JE+WM4wctnrSweOdWf4ly+H73+zdMthNst4ruKYS3se3PmRS58s88bcZ96v3fw1sr7TLXTLvXNbl06C3jt3tDdL5dwidN4CZzwMlSucVbm8CWd1r9vqd7qeq3SWtx9pt7Ga4Bt4ZACAVG3dxngFsVSsn5a/1/X/BJd7edv6/r/hjjbDxhPoXhq4msbTT9Pjn8TXVnNeT+a1vbDef30gL5ySMcMq5Papo/iD4qi8K2WpzWul3M+oa6umWqrDLBHLESyiUMzscMQCDjpng9ateJPAt5Z2dpb+HUv7m2OqzapctbXUUV3HM+dvlM+I9oLMCGycVc0bwdquq6dEvjG/vnFnq0WoafHLNE88YjHCyuibWyxY4XoMc0Rs7X8v8A22/6j2f3/wDt1v0M+f4ia9pmj+ME1S006TVfDfkurWwkEEyS8gYY7gQM55ofxj46Pie48Px2GgreNpw1OCRnmKRR52mNxwXbOBkbR3x2rotQ+Hmk6lJ4jae4vFPiJIUu9joNgiGF2ZXj3zn8Kv8A/CJ2P/CVHxB5tx9r/s7+ztm5fL8vduzjGd2e+ce1L/L8bf52K92/9eX/AATirn4rXkug+GJbG0ht73XLeS4keW3muY4BHwcRxDe2W6dMDrVgfEHxFeWfhuOy0i2t9Q1e5uLWSO9WWNEMakiRQQG2kDdtIyc4yOtbS/DbSYtC0jTrW81G1l0ZWWzv4JlW4QN94E7dpB7grjir48H2puNFuLm/1C6n0aWWWGW4mV2laRSp3nbyADwBjHHam7Xfr+F/8jON+VX3t+Nv8zg9X8e+Jbj4davPF9istX0vWV0y4mgDmNv3iLuQE5GdwGCema9OtF1YaKFvpbM6p5bZkhicQ7+dp2li2OmRn1rBl+HOjT6NremSy3jQ61fNfzsJQHilJUgxkLwAVBGc/jXQaVp50vTIrNr26vjHnNxeSB5Xyc/MQAO/pRo429PyX63Kekrrb/gv9LHBeCJ/EaeIPHFhd6sdW1CzeAWzXRKQLI0JbAQfcTcRwOcDua9B083h023OqLCt6Yl88W5JjD4+bbnnGemayYfCNlb32v3cF1eRza8F+0MkoUxFY9gMZAypxzkk81rafZjT9Nt7NZpp1t4ljEtw++R8DGWbuT3NHT5L8tRf5ssUUUUhhRRRQAUUUUAFFFFABRRRQAU2T/Vt9DTqbJ/q2+hoA4G9/wCQhcf9dW/nU+jf8haH/gX/AKCagvf+Qhcf9dW/nU+jf8haH/gX/oJoA6qz/wCPGD/rmv8AKpqhs/8Ajxg/65r/ACqagAooooAhu/8Ajxn/AOubfyo0j/jzWi7/AOPGf/rm38qNI/481oAv0UUUAFFFFABRRRQAUUUUAFFFFABRRRQAUUUUAFFFFABRRRQAUUUUAFFFFABRRRQAUUUUAFFFFABRRRQAUUUUAFFFFABRRRQAUUUUAFFFFABRRRQAUUUUAFFFFABRRRQAUUUUAFFFFABRRRQAUUUUAFFFFABRRRQAUUUUAFFFFABRRRQAUUUUAFFFFABRRRQAUUUUAFFFFABRRRQAUUUUAFFFFABRRRQAUUUUAFFFFABRRRQAUUUUAFFFFABRRRQAUUUUAFFFFABRRRQAUUUUAFFFFABRRRQAUUUUAFFFFABRRRQAUUUUAFFFFABRRRQAUUUUAFFFFABRRRQAUUUUAFFFFABRRRQBDc/6sfWqtSaqxXTZmUkEIxBB6cGuL+23X/PzN/38NAHYUVj6DPLN9o86V5MbcbmJx1ooA6iiiigArh7/AOK2kabq1/aXemawttp1wLa61JbVWtoXOMZYMSB8w/h713FeWab8PU8QeKvFU3iCXV4dPk1YOlgJDFa3ihEIdhty4yMZBxx7Uk3zpdP+Ch9P68z0ZtZ0tLjyH1K0WbzEi8tp1Db2GVXGc5I5A6kUJrWlyaq2mJqVm2oKNzWgnUygepTOf0ri9F8MxT/F/wAU6nqekB0jWyOn3Nxb5RWERDGJiMZBCgkciuN0/wANanFFpeiHw5dp4gtNe+23OuG3CxPD5pcv5/8AFuUgbevtT6pPr/wPy3YSVk/66X/4B65deLPDljfGyvdf0u3uwQpt5r2NJAT0G0nNWl1nS3uBAmpWbTM7oIxOpYsn3xjOcr3HbvXjGkS6ZB4ijn1N9Qh0i28Qy3VjPHpbSQyySOUVjeLlWQs3TaCOAScV0nhvQLrTofHGtQ6AkuujVL19Ne7t8NIhUFQhbB2MSehweaF8PN5X/L/Mdtbedvz/AMj0Gw17SNVaZdL1WyvWg/1ot7hJDH/vbScfjUcfiXQpZNkWtac7mH7QFW7QnysZ39fu45z0ry7wfpWqt42sNUm0zUoIn0SeCdp9MjtEjlyh8tURQdvoXznBweDVLRvAwXw/8N1uPDTCaO7kbURJZHcgIY/vcjIGQv3uOlH/AAF97a/4JDf6/gk/+Aexxa3pU+nx30Gp2clnK4jjuEuEMbsTgKGzgknjHrUB8VeHhbG4Ou6YIFl8ky/bI9ok/uZzjd7da8s1Dwrd/wDCKeKNMg0W5+zT+KopYrZLZtrwF4tzKoH3Pvcjjg+lWtT8E27+KPHrxeG1MEmixrYlLL5Gl8tsiLAwWyF+7znFS5aX/rZP/gFqN5cv9b2/4J6RJrfl+J49LMVv5D2TXRuDdoHGGAx5X3iuDnf0HSprXX9HvrtLWy1axuLh4hMsMNyjuyEZDhQclSOc9K870TSdUTWvD0txYXiiLwabeV3hYbJvk/dsSOH4PynmszRPCkml6V8NLiHQ5LW6t53fUZRalZIg0bbjKcZUZ/vVbtF2fe3/AJM1+iIvpfyv+CZ6hL4s8O2+o/YJ9f0uK83iP7M97GJNxOAu0nOfam+JPFGneFrOKfUfOlkuJBDbWttGZJrhz/Cijqf0ryXwpJpttrmly6o+oQafa6vcNpcg0tjDM8zsqFrsZWRWzkYC89ScZruvHthqEPiTwz4msLC41OHRppvtNpbKGlKSx7d6KSNxHp15qeib6/1/X3ldWvX9Se6+IS2+i2uoNoWo2nn6nDp7wakn2Z08wj5/4gwGe3X1FdLaazpeoWcl3YalZ3VtCSJJoZ1dEI65YHAxXB+MJpfG/hTTPK8PatFENdtRNbX1mUdogwLOUGSEwSCTjoaz7jTdZ0LXviJN4a0Dek1rafY4Da/uLg7CJNq4CuQCcgdTwafR3/rSP+bGldq3l+djvrnxXpn/AAjmp6tpF5aaqmnW8kzra3KuCUUttLLnaTis7RfHH9r6zo1h/Z/k/wBqaMNV3+fu8rJUeXjaM/e+9x06VwOm6JqrXnim6j0/VTBf+GXiia505LZpZhuGwRRqMHnADDcfcYrQ0zQdZkvNDjhtbq0lHgprPz5IWVYLg7AFY4+VgecHninsr/1tP9UhKzXb+o/5s9Ntda0u+uJ7ey1KzuZrb/Xxwzq7Rf7wByv40y18QaNe3cdrZ6tY3FxLGJo4YrlGd0PIYAHJX36V5T4C8My295pX2+31+21HSrKWFopdNhithuTDL5yIDKCcEfMxz171DoXhKfTvDfw3mg0Ga2v4NS338gtCssakPuMpxkD7v3uOlOyvv2/FtEOVvx/Cx6rdeLPDljfGyvdf0u3uwQpt5r2NJAT0G0nNWl1nTG1Q6Yuo2hv1G42gnXzQPXZnP6V4xpEumQeIo59TfUIdItvEMt1Yzx6W0kMskjlFY3i5VkLN02gjgEnFTaB4SvIPEENlr0evJdwa019HNbadC1vITIWEhudm4Ag4ZS2e2OlTHW1+v/A/z/rpUtL+X/B/y/E9fj13SZtUfTItUsnv0+9aLcIZV+qZyPyq/Xk/hrTrvS/iYU0TS9RbS57m4mvDqumLH9kdgTvhuOrhicbeeDXrFC+FMOrQU2T/AFbfQ06myf6tvoaAOBvf+Qhcf9dW/nU+jf8AIWh/4F/6Cagvf+Qhcf8AXVv51Po3/IWh/wCBf+gmgDqrP/jxg/65r/Kpqhs/+PGD/rmv8qmoAKKKKAIbv/jxn/65t/KjSP8AjzWi7/48Z/8Arm38qNI/481oAv0UUUAFFFFABRRRQAUUUUAFFFFABRRRQAUUUUAFFFFABRRRQAUUUUAFFFFABRRRQAUUUUAFFFFABRRRQAUUUUAFFFFABRRRQAUUUUAFFFFABRRRQAUUUUAFFFFABRRRQAUUUUAFFFFABRRRQAUUUUAFFFFABRRRQAUUUUAFFFFABRRRQAUUUUAFFFFABRRRQAUUUUAFFFFABRRRQAUUUUAFFFFABRRRQAUUUUAFFFFABRRRQAUUUUAFFFFABRRRQAUUUUAFFFFABRRRQAUUUUAFFFFABRRRQAUUUUAFFFFABRRRQAUUUUAFFFFABRRRQAUUUUAFFFFABRRRQAUUUUAFFFFABRRRQBS1f/kFz/7jf+gmuFrutX/5Bc/+43/oJrhaANzw5/y8/wDAf60UeHP+Xn/gP9aKAOrooooAKKKKACjrRRQBztt4B8NWl6lzBpuDHJ5scTTyNDG+c7liLFFOeeFGK6KiijyDrcKKKKACiiigApGUMpVgCpGCCOtLRQBztj4D8N6deRXNppxVoH3wxvcSvFC3qkbMUQ8/wgYroqKKACiiigAooooAKOtFFAHO23gHw1aXqXMGm4McnmxxNPI0Mb5zuWIsUU554UYroqKKPIOtwooooAKbJ/q2+hp1Nk/1bfQ0AcDe/wDIQuP+urfzqfRv+QtD/wAC/wDQTUF7/wAhC4/66t/Op9G/5C0P/Av/AEE0AdVZ/wDHjB/1zX+VTVDZ/wDHjB/1zX+VTUAFFFFAEN3/AMeM/wD1zb+VGkf8ea0Xf/HjP/1zb+VGkf8AHmtAF+iiigAooooAKKKKACiiigAooooAKKKKACiiigAooooAKKKKACiiigAooooAKKKKACiiigAooooAKKKKACiiigAooooAKKKKACiiigAooooAKKKKACiiigAooooAKKKKACiiigAooooAKKKKACiiigAooooAKKKKACiiigAooooAKKKKACiiigAooooAKKKKACiiigAooooAKKKKACiiigAooooAKKKKACiiigAooooAKKKKACiiigAooooAKKKKACiiigAooooAKKKKACiiigAooooAKKKKACiiigAooooAKKKKACiiigAooooAKKKKACiiigAooooAKKKKACiiigAooooAKKKKAKWr/wDILn/3G/8AQTXC13Wr/wDILn/3G/8AQTXC0Abnhz/l5/4D/Wijw5/y8/8AAf60UAdXRRRQAVz/AIn8a6P4TjQalKz3Eg3JbQjc7D19APcn1xnFdBXzZqcd94u8b6jtli+1SSyeUksm3ftOFjUnjOAABxnFTJ2OLGYiVGKUFqz07TvjPod1dLFe2t1ZIxwJWAdR9cc/kDXoUM0dxAk0EiyxSKGR0OQwPIIPcV83R6LBo+jy3/iOGRZ51eOysTlHZuhlfuEU9B/ER6A16f8ABjUZ7rwrc2kzFktLjERJ6Kwzj88n8aUZO9mc+ExVSc/Z1d2ei1kf8JTo/wDYo1X7X/oZn+z7/Kfd5nmeXt243Z3cdP0rXrzgaFf/APCxBpX2Sb+xFvzrfn+WfK37MeXu6Z83L4/GrW9v6/q1z1Xtf+v6vY7yz1O0v5rmK0kMptZPKlYIwUP3AYjDEd8E4PB5o0zVbPWbL7Xps3nQb3j37CvzKxVhggHggivPbr/hIfKtvtv9u/2f/bV59q+xeZ9o8rcfIxj5vKz/AHeMY7Vkx2Piey8N6TbQjVLKx+03puvKtZnnDGUmMskLo+CCTlTtz1BGKFqr/wBdAejt/XX/ACPY6K8w1hPEUdvp63tz4gurcaUfKm0uF4ZXvM/KZkUkj5dvDfLnOa6vwt9v+0P/AGz/AGl/aH2G1+0+dj7L5m07vKxxuz97HtTt/X3/AOX4oV/6+7/P8zSj16xl1Q6fD9qkmVijPHZzNCrAZIMoXywR0I3cHjrxVy7u4bCynu7t/Lgt42lkfBO1VGScDk8CuZEslt4geDw5/aA82aQ3Vtc2MiWqsQxaVJXQcl9vCuynJIXksMaWG8uNIv4bOPXpbiTSbldQS+WZkacphRGH+Undvx5PyY9ttC1LSXNY9FBBGR0pkE8VzAk9tKk0UihkkjYMrA9CCOornwupDXhpubr7IZRe/aMNtEe3Hkb89fM+bH90kYxWTZaZqWpWMf8Aac+sRPDolsyeXczQk3JEu8naQWcYXIbPUZHSl0bFFXR3NFed6zczTeIYku7m+jgVbYzXNvc3kaW3RnjdIF8sEjqZGQqHB6AZ6TWrWI+JtHurhdRMah4gbR59iyFkKeYsZxt4bJYbfXtTsTe5t2t1De2sdxavvikGVbBGR9DUtcdo2j3enW2l3FtJqAuZfNSeKeeRolBRyoMRO1MMFAIAPqTk5j8Ex6muoSvqeo3skrQ/6TbXOn3USiXI5WSWR4+PmGIsKc56AYUdRs6RdesX1Q6fH9pkmDbGeOzmeJWxkgyhdgPsW46Vo1yySfZvE/laJ/aQE1yWvbaaykFryPnlSV0ADZC8K5U8/LklhUg1DUbi30+zSLVVurXzxdvJbyopPlSBfnIAky2MFSR09qV7RuHWx2lFcXFoFw8lvHPea2Um04zXB+3zrm5G3ByGGw/M/wAi7VPdflGOo0h7iTQ7F73eLlreMzb1w2/aN2R2Oc1bVv69f8vyJ5rv+vL/ADLlFFFSUFNk/wBW30NOpsn+rb6GgDgb3/kIXH/XVv51Po3/ACFof+Bf+gmoL3/kIXH/AF1b+dT6N/yFof8AgX/oJoA6qz/48YP+ua/yqaobP/jxg/65r/KpqACiiigCG7/48Z/+ubfyo0j/AI81ou/+PGf/AK5t/KjSP+PNaAL9FFFABRRRQAUUUUAFFFFABRRRQAyYkQSEcEKcH8K8Y+F+sSpo769q8vjK5e2sbi4mnvrkyWEoQniMFiS2Bxx2Ne0sodGU9GGDWToXhqx0DwvDoFuZLiyijaP/AEghmdWJJDYAB+8e1LWztv8A8OPTRPucJ4a+KeqaldW0upaarWF3aS3W61srmP7HsTeFeSRQkm4AgMuBn6irC6z4n8R/DPWNZ1eHSrfSr7Rbia2gtjI08eYztDsflPHXAHNdHongW00JvKttU1afT1jaKPTbm5D28aNxtA27iMcDJOKr6b8OdP0vTr3TrfVtYfTrq1ktEs5rsPFbRv18sFeCOxbdiiSuml2/z/4A4Plkm+/+RzPgjxVrmlf8IZousW+njTNX0ofY3gZ/Ni8qFWzIT8pyvOAOCepxzc0r4j3914407THk03UNM1OWaKC4sba4QRlFLA+a48uXIGDs6GuiHgLShN4dkaa6b/hH7Z7a2UuuJEaIRnzPl5O0dsc1U0j4Y6To13pc8N/qk/8AZEjvZR3FyGSFWVlMYXaPl+bP97gc44rWTTnf1/N/8Ai1o2Xb8RfGF9d2vjHwZDbXM0MVzqEqTxxyFVlUQMQGA6jIzg03xbdxnx94O0q6sre7t7ya5kPnhj5bxRblZVDBSc92Bx2wea0vFXg628WfYHn1HUdOm0+VpoJ9PlWN1YrtPLK3YmobTwLawX2i3t1q2q6hc6M87wTXk6uz+au1g52jIA6Yx+NZQ0bv3v8Agv1K0/C35nGy/ErxdHp8eqppekSWB1p9J8oySJLK3mFEcHkKOACMNnk8dKTxB4t1Wfwn440nxRp2mXN1oscDEW5lWCdJcMoI3BwRjnDCuvb4d6S2iR6Wbi98iPVf7VDb03eb5hk252425PTGcd6dqfw+0rVZPET3FxeKfEMcMd15bqNgiGF2ZU4985/CiN+XX+tv1uNW5r/1v/kY0Or+Jp/i6dKtLmxj0qHSoLl4JI3YlGchipDDD8YBORjHFZmh/FfU9a1mze30xZdLvb42ixRWVyZYU3FRM023yiMjlRyM9eDXZXnguyuvFNpr8V9qFneW8K27i2nCpcRq24JICDkZ9Mdaj03wJZ6PqxutL1TVbW1M7TnTI7kfZt7HJ+XbuAJOdobHtVK11fz/AD/yM7aPvp+X+Z09FFFIow9euJodc8NxwyyRpNqDpKqsQJF+zTHBHcZAOD3Ap/iHU5rGOGKxvIbe6kJYK9hLeMyjGSIomVscjLdBkVLrehjWhZst/dafPZTmeGe1EZYMUZCMSI6kbXPaqreGJHktp31/VDeQK8ZugLcPLGxBKMBFtxlRgqoYetG429rdv1ZJpuq3OseDo9Sh2W1zNblhujZlRxkZ2kg4yOhINZGnatqdv4F0iW61W1OoXdvE8bnT5rhmXywTmJJN7tzywIHPSuk0zSbbStHi0228xreJSi+Y+5sEk8nv161kxeD0t7ayjt9Z1KKSwDR2s48gvFCQoMPMRBX5F5ILcfeo7/L9RdvmUbHxTq2rwaXHYR2sU94buOWW4hkCxmCTZv8ALLBsHB+QkEZHPBzX1TxrqFpqt5BZ201yNNdYpYIdGu5zdPsVzsljBSL73Abd74610Gm+F7HSntGtpLhvsjXDJ5km7cZ33vuJGTz0/XNLP4eDapLe2Gp32nNcMr3MVt5RS4YAKCwdGIOABlSpIA9KPteQPbQytb8U3Gm6rGbWeG4tFuYbaa3XT5nZWkdUObgN5aEb87SM9uM1ua5qB0/Tt0V1DbzyMEhMtu8+5uuBEhDOcAnAPY+lULjwfbXNxKX1C/FrJcrd/YldBEJlcPuzs38sMlSxX2q/rGjpq6W5F3cWVxay+bBc22zfGxUqeHVlIKsRgg0L4Vff/hv+CPqYFn4q1G9sYLaFYP7Sm1B7ETy2skUY2RmQyGFm3j5RjaW698c1b1bVNT020t4DqVk2o7TJKItJnnDrngiKOQsg7bixGanXwjZx2jxR3V4s5uzepd+YpljmK7SwJUryM/KQRyRjGAB/C3mTxztrWpfaPJ8i4mUwq11GGYhXxHhcFmwUCHnrSd7ab/8AA/zEvP8ArX/L+upiW+o6lrmvaLqGkm1s5L7QjcM1zG0yx7nibbsDIT1xncMe9WW1m98R20OkW6Wtvc3CXS3Uk6PJEoglETgKroxDMf7wwM5zV9fB9tbw2C6fqF9Yy6fZCxgnhZGYRDbwQ6MpJ2jkj6YqZvC1slrax2F3d2FxahxHeQMjSned0m7erK25gCcr15GKt8uy21/N2/QWzb9PySJtE1E3OlSm4hjhkspZLeVIR8mYzjKjsCMEDtnHaue8P+M77WdQst1pO9pqCF1A0e7gFoNhZS08g8uQHGMqF5Ixmur07TINMsfssG91LM7vK25pHYkszHuSST6enFUtL8P/ANkSqlrql8bGNdkOnv5RiiHYKdnmYHYFyBUPVa9h9NDJ0CV4Pg9ZSw3a2UiaQpS5ddwiby+GI74POKi8JzTrrzwTx6np4e08w2mp3b3LTtuGZY2Zm2qM4K5U/MMovGd+Dw/ZQ+F49AbzJbJLYW3zth2UDGcjHPuMUmn6CLS/F7d6jealcpG0UUl35Y8lGILKojRRyVXk5PA5q205t/11/r/gjlqUdS1DVrvUtQs9JNnHDYQK032iNnadnVjsUhhswAPmIbr0455608V3On6Loul6cHWSLR7W5kf+yrm+DBlIVMQfcPyH5mP0B5x1t/4djvNQe7iv7yyaeMRXKWzIFuEGcBtykjG48oVPvwKgPhSGKG0Gm6jfadNa2yWguLcxlpIk+6rh0ZTjk52gjJwRmpWz+X6/5oT3/ry/yf8AWyX+v3dv8P5teisTDeLYfaRZ3QKlH2Z2MOCMHg9Kpm+8U/24NK+0aQrzWxu0n+ySkRAMFMZTzRvPzD59y9Pu1vahpcWp6HPpd1LK0U8JhkkBAcgjBOcYz+FOOmwnWE1Lc/nJbtbhcjbtLBiemc5Ud6btf7/y0/GxOtvu/P8Ayuc9J4murnw/pl1aXFvaXt1CJpIPsE18cdDhImVgueNx46U218S6trX9iJpUVpanVNMa+kluUaQQEGPgKGUtneRjI9c8YN5PCFvAlotjqN/afZ4BbO0LR5niyTtYshxyTyu089atab4cstKfTzatNjT7M2UKswI8slDzxkn5Bz9aIPrL+t/+AVLbTy/T/gmsPeuYmtTbeLbJNNvr6a6eQy3yS3byRLBtYDMZOxCW2hdoBOD1ANb9paG0EwNxPP5srS/vn3bM/wAK8cKOwrG07wrPpl688PiXVpEknM8sMqWpWUk9GbyN5GMAfNkAAA8Ulug6Mq+IbXWbm008XFreXqpdytcRaJem0dotriMbmljJ6oSN2MjpVW5uYZtN09Ihri6RE80N6kMlzLdxyqQFV2jZpSM7uVYj7vO2t+XRLhrNYbfXdTtnWV5PPQxO5DMW2HzI2XaM4HGQB1pF0DyNMWz0/U76ybzjNLcReW8kzMSW3GRGHJPYDGABgcUAQeF9QabRrlrqSYRWl1NEst2cP5atwXJ9Bxk88c85qpd6rY+JtS0yx0rVRcafcLPJNPpl5jcYwgEfmxtleZM4BB+X069Bp+n2+mWKWtopEaknLMWZmJJZiTySSSSfU1DqmkpqawstzcWVzAxaG5tiu+PIweHVlII7EEdD1Ao9QX+ZyVyupXtlHaLFq2pW+n6pNDN9gv8A7PPJEEPl5k82MtguoPzZJXnJrqfD9xaz6Oi2IulSF2ieO9leSaN1J3KzOzEkHvuIxjBxiof+EeMOnR2un6vqFiyu0klxD5TyTMx3MX8yNlyTzwBjoMDir2maZBpVn9ntzI+52kkklbc8jscsxPqT6YA6AAcULbX+mL+vl/Vi3RRRQMKKKKACiiigAooooAKKKKACiiigAooooAKKKKACiiigAooooAKKKKACiiigAooooAKKKKACiiigAooooAKKKKACiiigAooooAKKKKACiiigAooooAKKKKACiiigAooooAKKKKACiiigAooooAKKKKACiiigAooooAKKKKACiiigAooooAKKKKACiiigAooooAKKKKACiiigClq//ILn/wBxv/QTXC13Wr/8guf/AHG/9BNcLQBueHP+Xn/gP9aKPDn/AC8/8B/rRQB1dFFFABXivxE+HepQa1PrGh2z3VrcuZZI4Rl4XPJ+UckE85HT8OfaqKTVznr0I148sj5oTRvE/ifVMtZ315csArSzKwAAGBlm4A4717v4K8ML4T8Nx2BdZLh2MtxIvRnOOnsAAPwz3roKKSjYyw+DjRk53uwoorl49d1R7mC583TxZXN/JYpbGJvORlZ13F9+GOUyU2jAJ+bjmjtOoorlfCGlCTQ719Xi0+7kv7mcXDR2ezzwJHXEm5m398Z6DA7ZNXSbDTPDlveajpuk6fbMupPBNLFbKjLAZACAVxgDg46YHSi/vWf9bf5i6XX9b/5HaUVysHim8YAS20ZkCy3flIh3NaiPchHPDlmVT7huPS1pOqam2r29rqc9hcpe2bXcLWcTJ5QUoNpJdt4PmDDDb908c8O2tv6/rRjOgoribnSdCmvPFOp6xb2sctvcrt1BlCzW4FtCQUk+8pBORg9TT213VLTTXllUR3nl2azM8Etx5bOp3HyEbLHdxhMHnJzil0+78RtWZ2dFcgmp629lbSXbwx3csd3JC32WWFVVAPLZoWkJOR82GIIzjgg0+XVPEFlaafPd3NobVohJc30emvIvJGF2LNuTg/fwy9SdoHItW0S9Fc2J/Dmm3OoNeSpceY7BnjW7lWKQgAAtEGCNwB1U5wK1KKKBhRRRQAUUUUAFFFFABRRRQAU2T/Vt9DTqbJ/q2+hoA4G9/wCQhcf9dW/nU+jf8haH/gX/AKCagvf+Qhcf9dW/nU+jf8haH/gX/oJoA6qz/wCPGD/rmv8AKpqhs/8Ajxg/65r/ACqagAooooAhu/8Ajxn/AOubfyo0j/jzWi7/AOPGf/rm38qNI/481oAv0UUUAFFFFABRRRQAUUUUAFFFFABRRRQAUUUUAFFFFABRRRQAUUUUAFFFFABRRRQBjeJNU1XSLRbnTNOs72MELL9ovWgZSWCrtAifPXnJGMd6kfXbfS7G3fxVd6ZpFzOxVY2vgUY56K7qhY4x/COv41NrVjJqOlSW0DIrs8bAuSB8rqx6ewrO1jTdU/tSW90iCxuzdWgtJYr6do1iAZjuXaj7s7+VOM7V5qbtMehY17xPpmgW8n2q8tBeeS00FnJcrHJPtBOFB5PTqAasvrukxaqumS6pZJqDrvW0a4QSlcE5CZzjAJ6dBXNXPhXVoNMutL08afdW97Yx20lzdSukkTJHsGECMGU4BxuXaS3WpLnw3rF34rS9uJUe1huknik/tKcAIAB5f2UDysjk7yST6DPFdbInW1zo7zVLe2083MUkMxeIyQJ56IJhjIwxOMcjnpzTIdc059SXSpdRsV1YIGksUulaReMn5eGIxznA45rE/wCEWvWg1GB5LbywnkaaAzfu4i+9g3HBzhQBniNeeSBEPDWsTeL4tRvJkeC3vGnST+0bg7oyjKsf2XAiQruA35JO0ngtwLcfRnQ6lrukaMFOsapZWAYgKbq4SLJOcY3Eeh/I1Ze8to1maS4iQQLulLOB5a4zlvQY9a5vV11T/hMXOjWen3ch00Rut9M0QCmRuQyo+enK4GfUY5pv4W1uz0ubSdONhcWtzpsVm91cTPHJGyRlMiMIwYHj+IY560ovmjf+t2v0/HyB6O39bI6mXWdMg1SLTJtRtI7+Zd0Vo86iWQc8qmckcHoOxqpceJ9Mj1mDSra8tLm+ecRTW0dyplgGxm3MgyR0A5x1rEuPB1w/iya9aBbyzurqG6ctrN1bmFkVAP3CAxy4MasCdvoemamg8PasLqztZY9PWwsr6W6juklczybxJ1TZhW/e8tvbOCcDPD6Iempuw6/o9w14sGrWMpsMm7CXKH7NjOfMwfkxg9cdDUum6rp2sWpudIv7W/gDFTLazLKu4dRlSRnmuN0XwRdaZZyW9zYQ3TQWTWltM2v3hEoO3jy2Ui3zsU5QsVIGK6TQ7PWbfR54dUuVFyzt9nxN9pECYAVd5SMyYOTlhn1LdaHZCLFr4h0W++0fYtXsLn7KwW48m5R/JJOAGwflJII59KWz1/R9RsmvNP1axurVH8tp4LlHQPx8pYHGeRx7iuHufDWrWOk393qRhM0sEVuRJqVxfLI/nId5EoUIpOcogAHqe20/h3U9WnurvWbfToJbiWzBtoZmnjMcEpkLFmjXLHcRjbgbRzzwLV2fl+dv+CHc2z4m0FWs1bW9ODX4BtAbuPNxk4Hl8/NzxxmoofE+mNrVxpV1eWlrepceTBbyXKiS4+RX3KhwT97HGelZuvaDqt5Jqlvp8dhJa6xEsU89zM6y2wC7CUUIwkwPmALJhs888Mu9A1l7vUre3j002OpXcc8ly8jiaEKsY4QIQ7fu+DuXGQecYoX9fgHQ311vSn1Z9LTU7NtQjXc9oLhDMoxnJTOQMEHp3qW01Gxv2lWwvLe5MJAkEMqvsJAIBweMgg/Q1yn/AAi2sz+LIdRvbhJIre7lnSU6jOweNo5EVBbYEUZUOo3AknaTwWNdDo+k/wBneFrPSTsiMNosDGAYUMFwSvA75NH2bjduaw6LxFok63rQ6xYSLp+fthS6Qi2xnPmc/J909cdD6VX/AOEx8NH7IV8QaYwvXMdsy3aETMCAQpBwTkgY9SBXN6V4KvLCxmhudPhuZYrX7Nbyt4ivSJAGU5CsrfZ/uK2ULFSAAe9a1pp3iOGGwmuWtLq5huJPMjluyRHAwxhZRCC7LjjcgznBbI3Fu3Qk2bTW9Kv7+4sbHU7O5u7YkT28NwjyRYODuUHK88c1EfEuiLqV1p7avYreWcZluIGuFDxIBkswJ4ABBJ7ZFYWg+GtYtPEkepavMkjRxTRvINRuJ/PLspDiFwEg+6fkTI5Azxzd1bTdcluNSXSmtY4ryFCszXLxyq6nBT5UO0MuR5gO5SchTipeyK0v5GnB4g0a6006ha6tYzWQLA3MdyjRgqMkbgccAEn2o/t/RvtFnB/a1j518gktI/tKbrhT0ZBnLD3Ga53S/CF3DGPt6wkNqcV8YZL2a92BIwoHmzDcxDAMMgAdulGp+Ebm58VTXwi+22l3LDJIr6zdWnk7AowIowY5R8oYbtvOQTjGH1/rt/n+Quh0kGt6VdapNptrqdnNfwAmW1juEaWMDHLIDkdR1HcUXmt6Vp17b2eoanZ2t1dECCCe4RHlJOAFUnLc8cVz2l+G9Yi8Ux6lqcqSCF5v3v8AaU8vnK+QpEDARw4GBhc59fU8TeG9Y1rVWMMqNZlE8snUp4PJZTlgYYxsm3YHLtx6HHKV9PxDub51/RxqqaYdWsRqEmdloblPNbGc4TOT909ux9Kgh8W+HZ7O6u4td05razfy7mX7UgWFs7QGOflyRxnr2qBPD8i20yYt98mqi+LAdQJFbnj721cf1rJ1Pwvq9/aLCVtj9i1KW8tfK1K4tjOshkyHeNQ0TKJeqlwcHIGeBaxTe/8Aww+v9ef/AAPvOhufEuhWVvaz3mtafbw3gzbSS3SKs445Qk4bqOnqKs6jqun6RafatWvraxt9wXzrmZY0yegyxAzXKv4a1a10+xTQrWHT7uPzDJcf23PKYi77mP7yFhcZJJ/eAEEnaQTurc1qy1B7uxv9Jitbm4tC48i7maJGDrgsHVHKsMf3TwWHGabENi8V6SmjpqWqX9np1vLPJBHJcXSIkhR2UYZsA5C5xWrc3dvZWkl1eTxW9vEpeSaVwqIvqSeAPeuIuvBepGGyliWGeaE3KyW8Wq3NggWWYyArJCCTjgFWXB65GOegvtFlPhmysdOit0lsTBJDbzyu8RMRUhDIQWI44cgkEBsHGKelv6/rzDqX7TWdLv4YpbHUrS5jmbZE8M6uJGwWwpB5OATgdgaLzWdM06ze71DUrS1to38t5p51RFfONpYnAOe1clBYa1dane3kVrpqalaarHcta/aXEL5tBGR5vl7s4fOfL7Yx3qS98J6td2dvPJ5D3sd3PcNbQancWkZEvYTxAPlemSuG54GeE99P62/4I3ay/rv/AMD7zota8QWGh+HZ9ZuriH7LHF5iO0qqsmR8oDHj5uMfWo9P8RW82k/bdSmsLWNUV2nhvkltyCCwKyHaSMDOSq+2RzUL6FI3gWTRreKO2lktmjCNdSTqjNkn9643sMk8kZ9qdqGhSXt80reQ8ZvLa4CyZPEXPTHXOCPp2oe/z/AlN9exZPiXQhpA1U61pw04tsF59qTyS2cY3525zx1pkviC3SZfICXNu9n9rSeKZNsilgBtJIXBznO7FZes6BqszXLaa0bR3F758tut/NZGRfJRBmaJS4IZc4HBGMntUMHhG+h0dLTz4WdLJrfc0jtljNvySwJPHcknPr1oW/8AXb/MJXtp/Wv+R0Z1nS11caU2pWg1Fl3izM6+cVxnOzOcY74pdP1jTdXWVtK1G0vhC+yU206yeW3907ScH2NYz6NqjLqulqtqunal57G+S4ZbmNpFIx5ezDYPAbeOABjjlvhPw/c6PPNLf2iRymJIVmXWbq93qCf4Zx+7GecAt1xnjlLz/r+vx3G/6/rz/DY2RremPqU2mxajaSahAnmSWazqZUXAOSmcgcjnHcUWWqw3Hh+31a6aO0hktluJDJIAsSldxyxwMD14rmNN8G3Fj4geaeBbi3W5nuoLltZuso0u8/8AHqQYsjzGXIbkZOATitaXQrpvBthpiNA13ZJbMBIT5UjwlW2k4yFJXGcHHXBxiqVrfd+txvfQ07DWNN1SKOXTNRtLyOUM0b286yBwpAYggnOCQD6E0jazpiPAj6jaK1yVWAGdQZS2doXn5s7Wxjrg+lZE9v4je+sdTjsdLF1HDNbz2zX8mxVdkIdZPJyx+TlSg69eOU8P+Gp9KuhPefZZ5F0q3styAglkaRn6jhTvXuenPQUdLh0ZpW/iXQruG7mtNa06eKyG66eK7Rltxzy5B+XoeuOhq1p+pWOrWa3el3lve2zEhZraVZEJBwcMpI61ylp4c15dNlhmNtHHBLBNY2Et/JdxK0b7iDM8SyAE4xnzNpAIGBtrU0qw1q2u5r24i02CW+vFku4IZHkVIli2Da5VdzllQklQMZHOASCOgooopAFFFFABRRRQAUUUUAFFFFABRRRQAUUUUAFFFFABRRRQAUUUUAFFFFABRRRQAUUUUAFFFFABRRRQAUUUUAFFFFABRRRQAUUUUAFFFFABRRRQAUUUUAFFFFABRRRQAUUUUAFFFFABRRRQAUUUUAFFFFABRRRQAUUUUAUtX/5Bc/8AuN/6Ca4Wu61f/kFz/wC43/oJrhaANzw5/wAvP/Af60UeHP8Al5/4D/WigDq6KKKACiiigAooooAKpro+mJqjammnWi37ja12IFErDGMF8Z6Ad6uVxNprs8niLyYPEH2u6/tKSCXSNsLeVAGYb8IgkXAAO5mIOcfxChb2B6K52cUMcEeyCNI0yTtRQBknJOB6kk1HJZWsttNby20LwT7vNiaMFZN3XcOhz3zWPH4sjmtUnt9K1GUTuI7VQsatcthiwUM4wFCNkvtB42lsjKt4qQ28Rt9K1C4upHkR7NBEssRjxv3F5AmBlejHOQRkc0eYG0ttAtx56wxibYI/MCDdtBztz6Z7VXsdH0zS5JpNM060s3uDuma3gWMyHnliAM9T19TWfY+J49QntYbfTb4yXFvHcsCI8QxSFgrO2/H8HRSTyMA4OKlr490q6OpAJKDpy75VjlhnLLu28CKRyDns2DzwDzTs07C6fd/wDXl8P6NPqg1KfSLGS/VgwuntkMoI6HeRnIwMc1W8QaANZtgkRtUfzA8q3Vr58NwApAWSMMu8DORk8EA9qqyeMBA0wudD1SE221rncID5EbfdkJEpDA4bhdzDacgZGZrzxXDZ3c0R06/mjt50tpbiJE2JI4XYvLhjkuoyAQCecDml5DvqT6FoFvo1gsHl2pcO7j7PbiGKPdjIjTJ2KcDjJycnvSr4W8Po0DJoWmK1sd0BFnGDEc7srxxzzx3qC28RC7uLeH7NPZTfbGtp7e5jRnUiEyj5kkKjI2nILemB1Edn4wtruFLiTTr+0tJbZrqG5nRNkqKAxwFcsDg5+YDOOM033C3Q6CisjSdefVL2a1l0i+sHiiSUm5aEghiQuPLkY/wnr6VV09NS1meTUW1i5s7ZLmSKKyt4otrJHIUO9njZiWKknaVwCAORuJYV9LnQ0Vzeg+JZrv7NBfWF6pnllijvXSMRSshY7QA24cKeSoB29TkZrN43ttRtdVh0smG7sVDZ86CYEb9pP7t3x9GweenXCHsdbRXLXnjG10KG5k1eUOxvpILePzYYSVVVP3pGReM92zz3qx/wmNtPBBLpWn3uqCa3+0gWnlEKmSpyzOqkgjGATntkZNF9L/1tf8g62/rex0NFc/e+LobYK1rpl/fxmGKZ5LfyVEaynCZ8yRDk47A471HF470abxJ/Yqyj7R5ph3efCf3o6psD+ZkYIzs28daOtuorq1zpKKKKBhTZP9W30NOpsn+rb6GgDgb3/kIXH/XVv51Po3/IWh/4F/6Cagvf+Qhcf9dW/nU+jf8AIWh/4F/6CaAOqs/+PGD/AK5r/Kpqhs/+PGD/AK5r/KpqACiiigCG7/48Z/8Arm38qNI/481ou/8Ajxn/AOubfyo0j/jzWgC/RRRQAUUUUAFFFFABRRRQAUUUUAFFFFABRRRQAUUUUAFFFFABRRRQAUUUUAFFFFABRRRQAUUUUAFFFFABRRRQAUUUUAFFFFABRRRQAUUUUAFFFFABRRRQAUUUUAFFFFABRRRQAUUUUAFFFFABRRRQAUUUUAFFFFABRRRQAUUUUAFFFFABRRRQAUUUUAFFFFABRRRQAUUUUAFFFFABRRRQAUUUUAFFFFABRRRQAUUUUAFFFFABRRRQAUUUUAFFFFABRRRQAUUUUAFFFFABRRRQAUUUUAFFFFABRRRQAUUUUAFFFFABRRRQAUUUUAFFFFABRRRQAUUUUAFFFFABRRRQAUUUUAFFFFAFLV/+QXP/ALjf+gmuFrutX/5Bc/8AuN/6Ca4WgDc8Of8ALz/wH+tFHhz/AJef+A/1ooA6uiiigAooooAKKKKACq9lZR2EciQszCSZ5juI6uxY/hk1YrHXxNp8NrLd6pd2unWn2l7eCa5uFQTFCQT82APmV8DJyBnvgADpPD0DaXaWlvdXNs9m2+3uYinmRnBB+8pU5DEYKkc+oBrnvEXhZ5LWztBZ3urWwkkuJpUW0lnadsfMy3GItpBb7q5GABgV1UutaXBd29rPqVnHcXQBt4XnUPMD0KgnLfhTG1/R0t5531axWG32+dIblAsW4AruOcDIIxnrmi1gK+maO4tzPqjtJeXFnHa3ABABVC5H3QMN+8OSMD0Aqvb+EYIrdop9RvrsG3FshlMS+XGCCFUIijjHUgn1J4xoz67pFra29zc6rZQwXWPs8slwirNnkbSThvwpbrXNJsbyO0vdTs7e5lYJHDLcIju3HAUnJPI/MU9b3/r+tRbr+v66Ed5odte/2h5ryj7fAkEu0j5VXdgrx1+Y9c9qJtCtp0uVd5QLi7ivHwRw8ZjKgcdP3S5+p5qaTV9Nh1OPTZtQtY76Vd0dq06iVxzyEzkjg9uxqGHxJodxZ3F3b6zp8ttbY8+ZLpGSLPTcwOF/GlfqNaMBoVsNSa93y+a119qIyNu/yRDjp02jP1/Kq1xopsvD8NvpW6WfT7RobVZmGJPk2jcRjnjsRUo8U6FJJbRQazp8st4pNqoulxPg7cKQTn5uOM9D6Grel341LTYrry/KZsrJGTnY6kqy574YEZ74oaurML6nPeCtGn0X7RFHZ3NjYsFKw3cVmjmTuw+zDBGMAliTwPx1Y9ANtqT3Njql9aQyTGaWyj8poXc/ePzoWXd1IVgM5PUknXop3e4rdDNGhWn2K2tWaVoreR3XLYLb1dSCQPSQ9Mdqo2/hGCK3aKfUb67BtxbIZTEvlxgghVCIo4x1IJ9SeMdBRS21HurGPc+HIpmMtte3dlc+e863EBTcpcAMuGVlKnA4IPIB6gVag0tYrgXEtzPcT/ZhbtJLsBcAk7iFUDPPYAe1XqKVl/X3B/X6nBax4cvjrdu9jYXEktlBFDp96sdm8cYUcGUzZkGGySYgCVxjJ6dRbaG1nqT3Nrqd5FbySNK9iBEYWdvvHlC4yTuwGAz9TWrRVXAKKKKQBTZP9W30NOpsn+rb6GgDgb3/AJCFx/11b+dT6N/yFof+Bf8AoJqC9/5CFx/11b+dT6N/yFof+Bf+gmgDqrP/AI8YP+ua/wAqmqGz/wCPGD/rmv8AKpqACiiigCG7/wCPGf8A65t/KjSP+PNaLv8A48Z/+ubfyo0j/jzWgC/RRRQAUUUUAFFFFABRRRQAUUUUAFFFFABRRRQAUUUUAFFFFABRRRQAUUUUAFFFFABRRRQAUUUUAFFFFABRRRQAUUUUAFFFFABRRRQAUUUUAFFFFABRRRQAUUUUAFFFFABRRRQAUUUUAFFFFABRRRQAUUUUAFFFFABRRRQAUUUUAFFFFABRRRQAUUUUAFFFFABRRRQAUUUUAFFFFABRRRQAUUUUAFFFFABRRRQAUUUUAFFFFABRRRQAUUUUAFFFFABRRRQAUUUUAFFFFABRRRQAUUUUAFFFFABRRRQAUUUUAFFFFABRRRQAUUUUAFFFFABRRRQAUUUUAFFFFABRRRQAUUUUAFFFFAFLV/8AkFz/AO43/oJrha7rV/8AkFz/AO43/oJrhaANzw5/y8/8B/rRR4c/5ef+A/1ooA6uiiigAooooAKKKKACuQbTNUk0tLfT7YJe2NzOiXD3klrtVm3Ky4idZQVK5VgV3DuRx19FAGFaWGr6fqssiLaXkV6Y2uZ5JmikjZY1Q7UCMGHy7gCy4LGs6fwjcf8ACJaHp9v5X2nStjNHHdy2qSt5bI2JYhvXlyc4OeQRzx11FO4HDT+DLoR20lraLkQyRz2n9v3kQBaQuWE6ruk3FjkOvpg8c67eGz9j1eGJIE+228cMQLFtoSPaAzEZIBzg8+tdFRSFa+pgfYNZtbzUU04WSwXztMLx5WEsEhjCj93sKyAFRyWXjjHHORa+FNTjivZbm3imlnihRYX127chkdm3icpvT73AVQOPeu2oo2G9TnLSx122fTbu9kt7yaFJo7ovKdyo7qwKlIgHKhMY2JnPX1veG4JYNFUzxvE9xPNcmNxhkEkrSAEdiAwyO1atFO4BRRRSAKKKKACiiigAooooAKKKKACmyf6tvoadTZP9W30NAHA3v/IQuP8Arq386n0b/kLQ/wDAv/QTUF7/AMhC4/66t/Op9G/5C0P/AAL/ANBNAHVWf/HjB/1zX+VTVDZ/8eMH/XNf5VNQAUUUUAQ3f/HjP/1zb+VGkf8AHmtF3/x4z/8AXNv5UaR/x5rQBfooooAKKKKACiiigAooooAKKKKAEZgiFj0AzWVD4n0h9DtNVur6Cwtrq2W5T7ZKkRVGA5OTj+IDrjJrTmBMLgDJKn+VcX4Y0ueK48Jy3dlKj2nh9omaSIjyZD5HynPRsBuOvB96cVe/9dG/0QPSN/63R1F3r2kWFjFeX2q2Vtaz48qea4REkz02sTg/hUH/AAk+jf20NK/tG2F0YVmVTMvzK2cY5yTgZ+nNcrBbnTdNguX/ALTstRivL9LbyNMlukMb3LMFdFQ4QgIQcrxjDYzWnHLeJrcFxqVhPDNf6RHCVt4HljjmBZmRmUEKPm4LYB9amV1t/Wj/AMiratf1ukb8Wt6VPK0cGp2ckimMMqXCEgyfcyAf4u3r2qybq3WSVGniDwoHlUuMxqc4YjsDg8n0NchFpsth8OfDscVjMpsWsp54I4mMihSpkOz7xbqSOp56mquoQ3muXOtXVpp139mkTT2VJ4Gia6jjmZ5UCOAclcjawBOR2Iq2km12dvy1/P7jKLbt5pf1/Xc6yPxHok2my6jFrGnvYwttkulukMSH0L5wDzUlvq9reXMKWUsNxDNAZ0ninRlZQwHAByRz1Ax71hajfxXt1pWrQ2GoS2VjcSefG2nzJIjGMhZBEyB3AzjKg/e46Gq+uWt3rlxcSaVBcILrQriGJpYXhIdnXCncAVJweDg96nr/AF2bKe33fmkdNZ61peoic6fqVndC3OJjBOr+UfRsHj8aLXWtLvb2SzstSs7i6jUO8EU6u6KehKg5ArnJH/tfUYZdM068to7OwuIZjPaPB95V2xKGA38jOVyox15pLbS57fTfBkNtaPAbaPZLtjI8nNq4+b+782OvfHejv5f8H/IV9v67f5nS2+r6beX09laahaz3dv8A66CKZWki/wB5Qcj8abY63pWp3E0Gm6nZ3c0BxNHb3CyNGf8AaAOR+NcV4X0Yo+l22sX/AIge80yFg9rLYItsGMZV8TJAu8HJIxISTgnmtrwrNNHdf2fZ/bZ9JtrfZFJf6fJayQsCAsYLqvmLtzyF428kk07ajOpooopDCkZgiFj0AzS0yYEwuAMkqf5UpaJtDW5zHh74iaL4k8L6hr1st1bWunl/tCXSKrqFQPnAYjBB455qHSfiHa69pWk6jpVi62+oX5smW/uIreSIgNkhSx3nI+6pz37V51ofhfXYNP0TSP7LvI7PxBbQxaqXgZRbeRMzN5mR8u+MhBnGeK09P0PVY7Hw6jaXeIYfGNxcSKbdh5cJaXEh44Q5HzdORVpLmt0/yaT++5E5Wjdf1o2vuset3t9aadaPdahdQ2lvHy808gRF+pPAqIaxphtILoajafZ7ltsE3nrslOCcK2cE4B6ehri/ipo+paiug3ljHdzW2n3xmuo7KBJ5VBQhXWJwVcqT0wTzxXMXnhMTeE9It7Ox1i9t7rxXBdXUOoaeImWMjEjGJFASP1yAOTUx95280vy/z/D7rt+T/X/L8T1aLxFok9mt3DrFhJbNMIFmS6QoZCcBN2cbie3Wo9Y8Q2OkW12XubV7q1t/PNq91HE20nAYlyAqk8bjx/KvOZPBM+oat8RtNt9PextbtLSXTnWExxNOkZbchAAJDhc4/Gqc+ka3r3w38X6/qOkXsesaxHFBDYvbt5yxRbQAE68tvbp0waOnyv8Af/wfwHa0kn3/AK/D8T1Ntes7C2s/7fvdP026ugNsL3ikM3ojMFL/AJCtSvIPE2j3Ft4p1251Twxea9Fq2lQ22mvBaCcW0ioQyNn/AFfzENu4HvmvR/CNhe6X4M0ix1Vt17bWcUU53bvmCgEZ7/Wnvd/11/L9SO39dF/n+BsUUUUhhRRRQAUUUUAFFFFABRRRQAUUUUAFFFFABRRRQAUUUUAFFFFABRRRQAUUUUAFFFFABRRRQAUUUUAFFFFABRRRQAUUUUAFFFFABRRRQAUUUUAFFFFABRRRQAUUUUAFFFFABRRRQAUUUUAFFFFABRRRQAUUUUAFFFFABRRRQAUUUUAFFFFABRRRQAUUUUAYd14lkg1a4sLXQtTv/soQzT2xg2JuGQMPKrE49FNWrbXLW9jsJbJhLFfFgjFghUqCSCrENkEEEAZBznGDWONVTR/FusC5stSk+0iBoWttOnmR8JgjeqFAc+pFVLHSLyCTRnvrSRPNvb67uIkG/wAhZVkYKxXIz8wHHU9M0k3Zieh09nrmk6jPPDp+p2d1Lb/66OC4R2i/3gDx+NJZ69o+oAmw1WxugJfJPkXKPiTBOzg/ewDx14NceIb670HUNF0hL6806Oy8uEX1g9pKpUgeQGdU8xWTIB28Y5Y5rU1LUYr+1sLyxsNQEOm30ck8badNG6psdfkQqC+Nw+4D7ZpvS3y/Ow/6/A6ObULK2jne4u4IktgDO0kqqIgeQWyfl/Gq0Gu2F6bNtMura+gu3ZFnt7mNl+VSxxz83ToucdTxXNOsWoya7e31tqtpaPNay2s0VlI0xZFBDrFsZuGHRl7cjmpLN9U1LUNGuLqCZkiu7gJctaPAzRmAhXeNuUO4lecZxnAyBSV7O4m7WOmh1jTbnUZdPt9RtJb2AZlto51aSMf7Sg5H401Nc0mXUEsY9UsnvJFLJbrcIZGA6kLnJHFcnpkM507w9owsLuPUtMmje6uHtnWNNqkSOJSNr78kfKSfnyQMGn22lTweDdPiisZUnXWlndBEQwBvCWcjGcbTkn09qpLVLzt+Wv8AXYUna/pf/gf13OrOr6auqDTG1C1F+y7xaGZfNK+uzOce+KbFrelT6o+mw6nZyX8Yy9qlwplX6pnI/KuKttGl/tiSy1jUdfjdtWa9iht7CN7aQed5kbGcQEqMbQQ0gPBHTFa+kSyWniH7BpAvpdPMsr3Ed5p8kS2xbLZjmZVDguenzn5s5AGKFqkU9GzrKKKKQBRRRQAUUUUAFFFFABRRRQAUUUUAFFFFABRRRQBS1f8A5Bc/+43/AKCa4Wu61f8A5Bc/+43/AKCa4WgDc8Of8vP/AAH+tFHhz/l5/wCA/wBaKAOrooooAKKKKACiiigArj9L8xNXi1G5isZpbq+nttzRk3MWC+MSE8KFTGwAcHOSc57Cq66fZJfvfJaQLduu1rgRKJGHHBbGSOB+VHW4dLGTq+qalb3l8lgbVYrKyW6bzo2ZpCTJ8owwx9zrzj0NVrnVdRiiu4b028hEME8ZgWSLaHkKlSQ+TjHUEZ9K6N7aCRpDJDG5lTy5CyA715+U+o5PHuaa9pbSEmS3ibKhTuQHIByB9AeRQv6/r7gf9fh/wTEXVdVNw05Nn9jS/wDshi8pvMZS+3dv3YByRxtPTqM8dDUX2aDaV8iPBfzCNg5fOd31zzmpaOgdQooooAKKKKACiiigAooooAKKKKACiiigAooooAKbJ/q2+hp1Nk/1bfQ0AcDe/wDIQuP+urfzqfRv+QtD/wAC/wDQTUF7/wAhC4/66t/Op9G/5C0P/Av/AEE0AdVZ/wDHjB/1zX+VTVDZ/wDHjB/1zX+VTUAFFFFAEN3/AMeM/wD1zb+VGkf8ea0Xf/HjP/1zb+VGkf8AHmtAF+iiigAooooAKKKKACiiigAooooAKKD7U3L/AN1f++v/AK1ADqKbl/7q/wDfX/1qMv8A3V/76/8ArUAOopuX/ur/AN9f/Woy/wDdX/vr/wCtQA6im5f+6v8A31/9ajL/AN1f++v/AK1ADqKbl/7q/wDfX/1qMv8A3V/76/8ArUAOopuX/ur/AN9f/Woy/wDdX/vr/wCtQA6im5f+6v8A31/9ajL/AN1f++v/AK1ADqKbl/7q/wDfX/1qpaxZXWpaVNaWt01jLJt23EbHcmGB4xjqBjr3oJk2otpXL9FcR/whOvf9DhffnJ/8XR/whOvf9DhffnJ/8XU3fY4/b4j/AJ8v74/5nb0VxH/CE69/0OF9+cn/AMXR/wAITr3/AEOF9+cn/wAXRd9g9viP+fL++P8AmdvRXEf8ITr3/Q4X35yf/F0f8ITr3/Q4X35yf/F0XfYPb4j/AJ8v74/5nb0VxH/CE69/0OF9+cn/AMXXUaPZXWm6VDaXV019LHu3XEjHc+WJ5znoDjr2ppvsa0qtWcrTp8vzT/Iv0U3L/wB1f++v/rUZf+6v/fX/ANamdI6im5f+6v8A31/9ajL/AN1f++v/AK1ADqKbl/7q/wDfX/1qMv8A3V/76/8ArUAOopuX/ur/AN9f/Woy/wDdX/vr/wCtQA6im5f+6v8A31/9ajL/AN1f++v/AK1ADqKbl/7q/wDfX/1qMv8A3V/76/8ArUAOopuX/ur/AN9f/Woy/wDdX/vr/wCtQA6im5f+6v8A31/9ajL/AN1f++v/AK1ADqKbl/7q/wDfX/1qMv8A3V/76/8ArUAOopuX/ur/AN9f/Woy/wDdX/vr/wCtQA6im5f+6v8A31/9ajL/AN1f++v/AK1ADqKbl/7q/wDfX/1qMv8A3V/76/8ArUAOopuX/ur/AN9f/Woy/wDdX/vr/wCtQA6im5f+6v8A31/9ajL/AN1f++v/AK1ADqKbl/7q/wDfX/1qMv8A3V/76/8ArUAOopuX/ur/AN9f/Woy/wDdX/vr/wCtQA6im5f+6v8A31/9ajL/AN1f++v/AK1ADqKbl/7q/wDfX/1qMv8A3V/76/8ArUAOopuX/ur/AN9f/Woy/wDdX/vr/wCtQA6im5f+6v8A31/9ajL/AN1f++v/AK1ADqKbl/7q/wDfX/1qMv8A3V/76/8ArUAOopuX/ur/AN9f/Woy/wDdX/vr/wCtQA6im5f+6v8A31/9ajL/AN1f++v/AK1ADqKbl/7q/wDfX/1qMv8A3V/76/8ArUAOopuX/ur/AN9f/Woy/wDdX/vr/wCtQA6im5f+6v8A31/9ajL/AN1f++v/AK1ADqKbl/7q/wDfX/1qMv8A3V/76/8ArUAOopuX/ur/AN9f/Woy/wDdX/vr/wCtQA6im5f+6v8A31/9ajL/AN1f++v/AK1ADqKbl/7q/wDfX/1qMv8A3V/76/8ArUAOopuX/ur/AN9f/Woy/wDdX/vr/wCtQA6im5f+6v8A31/9ajL/AN1f++v/AK1ADqKbl/7q/wDfX/1qMv8A3V/76/8ArUAOopuX/ur/AN9f/Woy/wDdX/vr/wCtQA6im5f+6v8A31/9ajL/AN1f++v/AK1ADqKbl/7q/wDfX/1qMv8A3V/76/8ArUAOopuX/ur/AN9f/Woy/wDdX/vr/wCtQA6im5f+6v8A31/9ajL/AN1f++v/AK1ADqKbl/7q/wDfX/1qMv8A3V/76/8ArUAOopuX/ur/AN9f/Woy/wDdX/vr/wCtQA6im5f+6v8A31/9agF+6r/31/8AWoAdRRRQAUUUUAFFFFABRRRQAUUUUAFFFFABRRRQAUUUUAUtX/5Bc/8AuN/6Ca4Wu61f/kFz/wC43/oJrhaANzw5/wAvP/Af60UeHP8Al5/4D/WigC1pvjvw3rGoxWOnaj51zLnYnkSLnAJPJUDoDW/5i+v6V8+/DX/koWmf9tf/AEU9e9134/DQw1VQh2vr8zjwdeVem5S7k/mL6/pR5i+v6VBRXAdhP5i+v6UeYvr+lQUUAT+Yvr+lHmL6/pUFFAE/mL6/pR5i+v6VBRQBP5i+v6UeYvr+lQUUAT+Yvr+lHmL6/pUFFAE/mL6/pR5i+v6VBRQBP5i+v6UeYvr+lQUUAT+Yvr+lHmL6/pUFFAE/mL6/pR5i+v6VBRQBP5i+v6UeYvr+lQUUAT+Yvr+lHmL6/pUFFAE/mL6/pTXkUxtg9jUVI33T9KAOJvf+Qhcf9dW/nU+jf8haH/gX/oJqC9/5CFx/11b+dT6N/wAhaH/gX/oJoA6qz/48YP8Armv8qmqGz/48YP8Armv8qmoAKKKKAIbv/jxn/wCubfyo0j/jzWi7/wCPGf8A65t/KjSP+PNaAL9FFFABRRRQAUUUUAFFFFABRRRQAUUUUAFFFFABRRRQAUUUUAFFFFABRRRQAUUUUAFFFFABRRRQAUUUUAFFFFABRRRQAUUUUAFFFFABRRRQAUUUUAFFFFABRRRQAUUUUAFFFFABRRRQAUUUUAFFFFABRRRQAUUUUAFFFFABRRRQAUUUUAFFFFABRRRQAUUUUAFFFFABRRRQAUUUUAFFFFABRRRQAUUUUAFFFFABRRRQAUUUUAFFFFABRRRQAUUUUAFFFFABRRRQAUUUUAFFFFABRRRQAUUUUAFFFFABRRRQAUUUUAFFFFABRRRQAUUUUAFFFFABRRRQAUUUUAFFFFABRRRQAUUUUAUtX/5Bc/8AuN/6Ca4Wu61f/kFz/wC43/oJrhaANzw5/wAvP/Af60UeHP8Al5/4D/WigDyb4a/8lC0z/tr/AOinr3uvBPhr/wAlC0z/ALa/+inr3uvYzj+OvT9WeZlv8F+v6IK8a+IPxB1CbWLjStFuXtbW2YxySxHa8rj73zdQAeOOv8vZa+dNRQeHfG2oQ6rYR3kXmurxScbkY5DKf4Tggg9q8SQ8wnOMEouye7I9C1fxJHevLo17dtJBG00g8zKhFGSWDHBH1/nXuHg3xKvinw7HfFFjnVjFPGvRXGOnsQQfxx2rxDVdXsYNPOk+GxNHYyN5lxNNgS3DdlbHRV7DoTk16b8HtPmtfC9zdzKVS7nzECOqqMZ/PI/ClHexyYCclV9mnddex6DXDaYPER+Id5plz4nmns7OCG5MRs4F8wOzAoSFyB8vUHNdzWYug2q67e6rulaa9t0tpULDYFUtjHGc/Me9Xqnf+v6ue7urGRYfEPR9Q1a806JJ1uLWGSYgmNt6p97Gxzg+zbajk+JGjw6JDqs1vewW9zIsdt9oRIftBK7sqXYKFA/iYgehPFSab8PtM0wxeXeX8ogtZbSFZZFIjikxlQAo6Y4J555zxi3c+D7C40PTNNE91CdKCC0uonAmjKrtznG05HBBGD6U/wDgfm7/AIWD+v6+Zn3HxK0ODw9bayomltrh3QBXiVkZOGBLOFP/AAEnPbNWB490uXUtPsbOC7u5b+3juYzGqKFjc4BIdgT77Qcd6ddeCLS8ktJrjUtSa4toZIGn81A88bnLK+EwB/uhSPWopfh/p01vptrNfX72enLEIrZnjKEx42sTs3A8DO0jNNWvr/W//A/LzF0NHW/Elvo95a2P2a7vLy7V2jhtIg7Kq43OckAAZHuc8A1zGl/Ee103wbot14jna41C/hkkIUxRFgrEFjvZFHYY6nsDXUax4bttYv7O+a6u7O6swypNaSBGZGxuQ5BBBwPfjgis9fAWnQWOnQ2N7f2c2mxvFBdQyL5hRzllbcpVhn1Haktv68/+B+PkPqb2malbaxpdtqFg/mW1zGJI2IxkH2q1UVtD9mtYofMeXy0C75DlmwOpPrUtN2voJbahRRRSGFFFFABRRRQAUUUUAFFFFABSN90/SlpG+6fpQBxN7/yELj/rq386n0b/AJC0P/Av/QTUF7/yELj/AK6t/Op9G/5C0P8AwL/0E0AdVZ/8eMH/AFzX+VTVDZ/8eMH/AFzX+VTUAFFFFAEN3/x4z/8AXNv5UaR/x5rRd/8AHjP/ANc2/lRpH/HmtAF+iiigAooooAKKKKACiiigAooooAzPEsskHhPV5oJGjljsZmR0YhlIQkEEdDXzx/wlfiH/AKD2p/8AgZJ/jX0J4r/5E3Wv+vCf/wBFtXzLX02SwjKnPmV9Tws0lKM42fQ1v+Er8Q/9B7U//AyT/Gj/AISvxD/0HtT/APAyT/GsmrOnWT6jqlrZRsqPczJErN0BYgZP517rpUkruK+48j2lR9WXf+Er8Q/9B7U//AyT/Gj/AISvxD/0HtT/APAyT/Gote0eXQNcudMuJElktyAzpnByoPf61Bp+m3eqXDQ2MXmMiNI5Zwiog6szMQFHuSKlRouHOkrblOVVS5G3cuf8JX4h/wCg9qf/AIGSf40f8JX4h/6D2p/+Bkn+NUbyylsJxFO0DMV3ZguEmX/vpCRn2zVeqVOk1dJEudROzbNb/hK/EP8A0HtT/wDAyT/Gj/hK/EP/AEHtT/8AAyT/ABrJop+xp/yr7g9pPuzW/wCEr8Q/9B7U/wDwMk/xo/4SvxD/ANB7U/8AwMk/xrJoo9jT/lX3B7Sfdmt/wlfiH/oPan/4GSf40f8ACV+If+g9qf8A4GSf41k0Uexp/wAq+4PaT7s1v+Er8Q/9B7U//AyT/Gj/AISvxD/0HtT/APAyT/Gsmij2NP8AlX3B7Sfdmt/wlfiH/oPan/4GSf413Xwl1vVdS8WXMOo6neXcS2LsEnuGdQd6DOCevJ/OvL69C+DH/I5Xf/Xg/wD6Mjrix9OCw02ktjpwlSbrxTfU9uooor4g+rCiiigAooooAKKKKACiiigAooooAKKKKACiiigAooooAKKKKACiiigAooooAKKKKACiiigAooooAKKKKACiiigAooooAKKKKACiiigAooooAKKKKACiiigAooooAKKKKACiiigAooooAKKKKACiiigAooooAKKKKACiiigAooooAKKKKACiiigAooooAKKKKACiiigAooooAKKKKACiiigAooooAKKKKACiiigAooooAKKKKACiiigAooooAKKKKACiiigAooooAKKKKAKWr/8AILn/ANxv/QTXC13Wr/8AILn/ANxv/QTXC0Abnhz/AJef+A/1oo8Of8vP/Af60UAeTfDX/koWmf8AbX/0U9e914J8Nf8AkoWmf9tf/RT173XsZx/HXp+rPMy3+C/X9EFYHiXwbpPiqNTqMTJPGNqXEJ2uo9PQj2Pvit+ivHPRlCM1yyV0efaf8HtFtrpZb26ubxFORESEU/XHP5EV30MUdvCkMEaxxRqFREGAoHQAdhT6KSSRFOjTpfArBVFNb0qS+FlHqdm10zMogW4QuSvDDbnOR39KvV5bovhu+1nV7yWIWEVna+J5ruScq32nMb/cHGCD6kjAzwapayt/W6/zNXpG/wDWz/yPRV1nTHMgTUbRjEhkkxOp2KCVLHngAgjPqKamu6RJpraimqWTWKnDXQuEMQPu+cVyg+Hz/wDCG3unL9ij1C5vWummCFlmHn+YiSHAJXGAR27ZrD8RaJe6RZTX1/LY2F5qWq280bQOVtbIxIfnaRlwCwBGShGSBjvS9fL9P6+XmH/BPQ4vEmhz25uINa0+SEFgZEukKgqMkZBxwOT7VKdb0oX0dkdTsxdygNHb/aE8xwRkELnJ4rgvDmgf2/a6S81nbPZaXqVzLO8spnjvi6E+bGTGoYb29APl4q1q/gXWNU8StfNdWzW8d/b3NuWnlUpHGVzH5SjZ0BIY5PQcdQ7e8k/6/r9O4ulzsW1/R0uPs76rYrN8/wC7Nygb5c7uM54wc+mKU69pA0waidVshYk7RdG4TyifTfnH61yEvw+mmw0qWDu3iM6pIzAndASfk+7y3I46e9Nn8D6ykF3DY3FotvPrMl8bZZ5IQ8LIAF3ou5GDAnC9fWl0/ry/zf3FPf8Arz/yX3nZT65pVrYR31zqdnDaS48u4kuEWN8+jE4NQx63Cb2+SV7VLW1hjm+0C7QkqwJyy/wDjgk4P4Vx1j4A1fSbbSHtX0y9n05rpTBeGTymSZ9wYNhiGAwOQep571c1fwRqOqzapMZrKNrpLFoo8MY2eAszI64+4SQByTigR0OleIba/wBHTUbqaytopJSiFL1JV68AuPl3H+6Ccepq3DrWl3FrHc2+pWcsEsohjlSdWV5D0QEHBb261xv/AAgmoXUFzJe/2ekt7q1tezWkJYwJHFgMASuWZgOcgAmtKz8L3un6hqMsEGlyQ3mrx3iRzIxEUYRQzKAMCTIJB6e9Nef9bf5v7hf1+f8AwPvOtooopDCiiigAooooAKKKKACkb7p+lLSN90/SgDib3/kIXH/XVv51Po3/ACFof+Bf+gmoL3/kIXH/AF1b+dT6N/yFof8AgX/oJoA6qz/48YP+ua/yqaobP/jxg/65r/KpqACiiigCG7/48Z/+ubfyo0j/AI81ou/+PGf/AK5t/KjSP+PNaAL9FFFABRRRQAUUUUAFFFFABRRRQBk+K/8AkTda/wCvCf8A9FtXzLX014r/AORN1r/rwn/9FtXzLX1OR/w5+p4Ga/HH0Cut8D+NrrwzdJaKtsLK5uUa4klRiyLkBiCD6exrkqK9urShVg4TV0eTCcqclKO53fxC8dSa/dT6XaG2l0yOZZIZ0Rg7kL3JPqT2FYmgPFcaFrOlG5ht7m7WKSEzyCNH8tiShY8AnORnjIrn6KxhhoU6SpQ02+9dfwNZ4idSp7SX9J9PxOmt/L0Tw3qAlTS5tRNxCIixhuiqFX3FcFl7AHrjI6HBravBoM1jbW1pBYx2UqwKL1ru3823YlQ7NFsErHO7ILFcHPAHHn9FEsPzS5m9f6/r5sUa3KrJdGvvd/8AgHoty+hpdWEs0Ollo2vNyGa2kDoIf3e/yFReWHA5Oe9cx4euLO78VRza2tsEdW2rsjhh8zYQm4BdqjOP4SO5BGawaKIYdRi433Vvz2+8qpX57abO/r6ndT32nQfb5zpulw3cdgBDumtbpZHMo+YLGoQMFJ429Bkg93rfWzadfrpzaRHdXWn2kjI6W6o0gP7wAONqnGDtGOeQM1wVFR9Ujbf+v8g+sO+x3327RX8W3Nt9m0o2kNnmz2LDGkk5RSd0rKy55fAfK5A4B5q3ZJp0sl3dyabYWIWS3UuXs7qOYgPvVWYpCrEbSQuCOuOa82rQsdbvdPtXtoGgeB3EhjuLaOZQ2MbgHU4OOOKmeEfL7j103/rr6FQxCv7y01/I7mzttLjkuhrEWnwtPJc/aLaVrWI2eAVjQDZ5jZwCGRlXnPrnzapbm5mvLqW5upGlmlYu7t1YnqairejRdO7b3t/X9dkZ1qqnol3CvQvgx/yOV3/14P8A+jI689r0L4Mf8jld/wDXg/8A6MjrHMP91n6F4P8A3iHqe3UUUV8KfXBRRRQAUUUUAFFFFABRRRQAUUUUAFFFFABRRRQAUUUUAFFFFABRRRQAUUUUAFFFFABRRRQAUUUUAFFFFABRRRQAUUUUAFFFFABRRRQAUUUUAFFFFABRRRQAUUUUAFFFFABRRRQAUUUUAFFFFABRRRQAUUUUAFFFFABRRRQAUUUUAFFFFABRRRQAUUUUAFFFFABRRRQAUUUUAFFFFABRRRQAUUUUAFFFFABRRRQAUUUUAFFFFABRRRQAUUUUAFFFFABRRRQAUUUUAFFFFAFLV/8AkFz/AO43/oJrha7rV/8AkFz/AO43/oJrhaANzw5/y8/8B/rRR4c/5ef+A/1ooA8m+Gv/ACULTP8Atr/6Keve68E+Gv8AyULTP+2v/op697r2M4/jr0/VnmZb/Bfr+iCiiivHPTCiiigArKi8SaZNqX2BZZlm81oVaS1lSN5FzlFkKhGbg8Ak8H0rVrl9N0bULm5ka+uY47CLUprmK2FqVkZhIxUtIWIK5O4YUHpz1yLcHtf+up1FFcYbO6g0OyuL+bWZVnlB1HypZjMqAPsConzKAxQHywGIALE8ms/UZ72PSrOMDU5omnnMNvJc3cNyYeNjuYVaYgcjDL/Eu4hsZV7of9f1/XY9DorktItZpbiKWO61G8tbXTbeSDNxKi3E+6XfuLHcW+6CrnAyMjgYyNNGtvBqckM2pL9otQyg290hgm3jKr9od8kBuqqqnHQ4wKtrb+v6/wCB3J2V/T+vx/M9EorjL/Rbq2bVTZXGssLWGOeyH26d8ynduHLHzB8qfI25R2A3HMuo6ffzT310k+qLKmpQR26xTyKggbyVkIQHawwZDuIO05IIxRbW39dBrVnVSTxRSRpLKiPK22NWYAucE4HqcAn6A1JXLWVtf2WrC1ia/ezi1MhGnlklzEbTPLsSWXzCepODx2qpY2d7YaLY3899qMV1Npzm8ku7h2SKTywQxRztQhvQL3zSeiuOx2lFcb4HYyXV09yb6CfykAtLq6vZQBzlwblVyScA7QQMDn5q7Km1YlO4UUUUhhRRRQAUUUUAFFFFABSN90/SlpG+6fpQBxN7/wAhC4/66t/Op9G/5C0P/Av/AEE1Be/8hC4/66t/Op9G/wCQtD/wL/0E0AdVZ/8AHjB/1zX+VTVDZ/8AHjB/1zX+VTUAFFFFAEN3/wAeM/8A1zb+VGkf8ea0Xf8Ax4z/APXNv5UaR/x5rQBfooooAKKKKACiiigAooooAKKKKAKOt2UmpeH9QsYCqy3VrJChckKCykDOO3NeP/8ACmPEP/P5pn/f2T/4ivbqK7cNja2GTVPqctfC067Tn0PEf+FMeIf+fzTP+/sn/wARR/wpjxD/AM/mmf8Af2T/AOIr26iur+18V3X3GH9m4fz+88R/4Ux4h/5/NM/7+yf/ABFH/CmPEP8Az+aZ/wB/ZP8A4ivbqKP7XxXdfcH9m4fz+88R/wCFMeIf+fzTP+/sn/xFH/CmPEP/AD+aZ/39k/8AiK9uoo/tfFd19wf2bh/P7zxH/hTHiH/n80z/AL+yf/EUf8KY8Q/8/mmf9/ZP/iK9uoo/tfFd19wf2bh/P7zxH/hTHiH/AJ/NM/7+yf8AxFH/AApjxD/z+aZ/39k/+Ir26ij+18V3X3B/ZuH8/vPEf+FMeIf+fzTP+/sn/wARR/wpjxD/AM/mmf8Af2T/AOIr26ij+18V3X3B/ZuH8/vPEf8AhTHiH/n80z/v7J/8RR/wpjxD/wA/mmf9/ZP/AIivbqKP7XxXdfcH9m4fz+88R/4Ux4h/5/NM/wC/sn/xFdT8P/h/qvhTxBPfajcWcsUlq0IEDsWyWU91HHymvRaKyq5niKsHCTVn5F08BRpyU47oKKKK807gooooAKKKKACiiigAooooAKKKKACiiigAooooAKKKKACiiigAooooAKKKKACiiigAooooAKKKKACiiigAooooAKKKKACiiigAooooAKKKKACiiigAooooAKKKKACiiigAooooAKKKKACiiigAooooAKKKKACiiigAooooAKKKKACiiigAooooAKKKKACiiigAooooAKKKKACiiigAooooAKKKKACiiigAooooAKKKKACiiigAooooAKKKKACiiigAooooAKKKKACiiigClq//ACC5/wDcb/0E1wtd1q//ACC5/wDcb/0E1wtAG54c/wCXn/gP9aKPDn/Lz/wH+tFAHk3w1/5KFpn/AG1/9FPXvdeCfDX/AJKFpn/bX/0U9e917Gcfx16fqzzMt/gv1/RBRRRXjnphRRRQAUUVxi6lcr4t/tN9OuPsUlx9gW93x+V5XCrxv3kmbgHaBhuvqLV2Dpc7OqGo6LZ6rJFJdfaEkiBVZLa7lt2wcZBaNlJHA4PpWLFq3iArfQyRQ/2gqeZb2f2Ir8u/G4SmbZLwemYz0zszUJ1+8Ty5WeO5uIbG9lceRLaqHjMWFMTOezdTn1UgHk3Gld2Ort7eK1t0gt0EcUa7VUdhUlcjb63rx0+e5Z7WUNcQQWzS6ZPZ5LuFYlJHLEDdxwAfX0mfVtcgmTT5JNPkvJL4Wy3K27rGENu0u7y95OQVxjfyO47MS12Ooorl7LV9bN1aNevYPbyXsljIkMDq5ZBJ+8DFyADsHyYOM/eNULTxZr8+lXurSaSEsFs5riBnWNQjIpIViszM+cYPyIRjmkOzvY7eorq2hvbSW2uU8yGZCjqTjIPXpXN3uoeIbW2u45bzTVn8iOaGZLR9sYL7WVlMnzcYw2V+lbstnLd6SbW+uD5joFmltQYd3rt5JUHpw2Rng55pPa4k7sbp2j2mls7W32h3kADSXN1LcPgdg0jMQPYcVernvDc8ieGvDccTWsUctogeNyQ7ARZAjHfB6+2areI9Mgh1CTW9S06y1aziiXdHdIDJa7SSWi3AglsjI+U/KOTwKpq0rC2udVRWFLrsqQTviHdHqcdkoOeVZ0B7/ewxP9Ko/wBsa9NLbNDJpscV5ez2cStbyM0RTzSJCd43cRY2ADk/e7Ut1df1s/1H/X9fcdXRWDBrlzH4RvNTvI4pbiyNwriLKJIYndc8klQduepxnvWRrt9ra6Pq2nz32nPP9g+0LPb2zqFQkqVKGQnnHDbvX5eOSzvYHpqztaKqaZYrpumQWkcdtEIlwVtIPJiz32pk7Rntk1boAKKKKACkb7p+lLSN90/SgDib3/kIXH/XVv51Po3/ACFof+Bf+gmoL3/kIXH/AF1b+dT6N/yFof8AgX/oJoA6qz/48YP+ua/yqaobP/jxg/65r/KpqACiiigCG7/48Z/+ubfyo0j/AI81ou/+PGf/AK5t/KjSP+PNaAL9FFFABRRRQAUUUUAFFFFABRRRQBBeyXMNjPJY263NyqExQvJ5YkbHALYO3Prg1w9x438XW3iCz0aXwXZ/a72GSaIDW/lKx7d2T5PH3hXf1xms/wDJY/DH/YOvv5xUL4kv62YPSN/63R0uj3OpXWnrLrOnx6ddbiDBFc+eoHY79q9fpV6uR8af8jJ4M/7DB/8ASaaovHh/4qDwUO/9uD/0RLQtfvt+X+Ynpf0v+f8AkdnXBaP428V+INNGoaT4OtJLR5JI43k1rYzbHKE7fJOOVNd6eleUfDqLxq3gqA6JeaDHY/abny1vLSZ5R+/kzkrIAec9ulHUrp/Xmeo2kk8tlDJeQLb3DRqZYVk3iNscqGwM4PfAzU1ee+LrCTU/iR4Psrud40ltrwXQt3aPzVCxkoCDuCkgdDnHFOj0Kw8I/E3QoPDkP2G11S2u1u7aN28uQxhGV9pOAwyefQ0939/4X/yJPQKyfEn9syaULfw4VivLiRY/tbhStqh+9IVb7xAGAMHJIzxk1yWiarD4IsfFml3YxBorvqFov963mBdVH0k3r+VZv9jy6Jpvw+hvf+P6fW/tV4fWaWGZ3/InH4Ulq18vx/p3G3yp/P8AD+kepQo0cKJJI0rKoDSMAC59TgAc+wp9efw6RZ+OPG3iOPxLG15Y6TNFa2tjI5ESkxK7SFQcMxLYBPQDio9Ps7+y1fxZ4P0C+kgiXT47jTXmkZ/sTyh1Khjk7QyBgO2eKV9L/P8AX8gt0/rseiUV5h4ZsfDWka5p8Os+GbnQPEBYJFdSyvJHeS7TnE6sRISMna+D7Zr0+qEFFFFIYUUUUAFFFFABRRRQAUUUUAFFFFABRRRQAUUUUAFFFFABRRRQAUUUUAFFFFABRRRQAUUUUAFFFFABRRRQAUUUUAFFFFABRRRQAUUUUAFFFFABRRRQAUUUUAFFFFABRRRQAUUUUAFFFFABRRRQAUUUUAFFFFABRRRQAUUUUAFFFFABRRRQAUUUUAFFFFABRRRQAUUUUAFFFFABRRRQAUUUUAFFFFABRRRQAUUUUAFFFFABRRRQAUUUUAFFFFABRRRQAUUUUAFFFFABRRRQAUUUUAFFFFAFLV/+QXP/ALjf+gmuFrutX/5Bc/8AuN/6Ca4WgDc8Of8ALz/wH+tFHhz/AJef+A/1ooA8m+Gv/JQtM/7a/wDop697rwT4a/8AJQtM/wC2v/op697r2M4/jr0/VnmZb/Bfr+iCiiivHPTCiiigAqE2dsbUWpt4jbgACLYNgA6DHSpq5iJNQtdfvvP13Urq2sreO4Ft5Nt+83GTK8RA/wAAxgg+9HqBqJ4a0KOG4hj0XTkiusfaEW0QLNg5G4Y+bB55pLjQLP8AshrLTILfTtsbJA0EIURBmDMAFx8pIG4AjPr3qNvE9gGmCiVxHbrcBlC4kDY+VTnlvmTjgfOvNJH4khkv0h+w3i20k7W8d8VTyXkGQV4beOVI3FQpI4PIyW6f12BPqQaD4Wh0hrh5YtNzMY/3VhYC2hBQkq2zc2XyfvZ7LgDHO2bW3aYStBEZFfeHKDIbaV3Z9dpIz6HFZGpR3t74gis7bVrrTohatK32aOFi7bwOfMjbt6Yqra+JZIIwuqshe3juzcNDDxJ5Dqu5fm+XIYHbg8nqMcl7/wBdtAtrb+trnQi0txtxBENshlX5Bw5zlvqcnn3NVBoGjrdXF0uk2IuLlWSeYWyb5Vb7wY4ywPcHrVBfEsspkjk0y806SKeCNvtQhk3eY4UACOU9j1PTrg4xUR8YeXaCa60e9haS8NnBG01uDO4ZlwpMoGfk6EgknjdQBvTWltcI6XFvFKskZjdXQMGQ9VOeo9qdb20FpbR29pDHBBGu1Io0Cqg9ABwBSwSNLbxySQvAzKCYpCCyH0O0kZHsSPen0AQpZ20awLHbQqLYYgCxgeUMYwvpxxx2qvPomlXWox6hc6ZZzXseNlzJbo0iY6YYjIxV6igCi2i6U+pHUH0yza9bGbk26mQ4xj5sZ4wPyFWBaWy+Xi3iHluZEwg+RznLD0J3Nk+59amooAZHBFDGUhiSNGZmKqoAJYkk/Ukkn1zVS00PSbC2mt7HTLO2gnOZYobdEWT/AHgBg/jV6igAooooAKKKKACkb7p+lLSN90/SgDib3/kIXH/XVv51Po3/ACFof+Bf+gmoL3/kIXH/AF1b+dT6N/yFof8AgX/oJoA6qz/48YP+ua/yqaobP/jxg/65r/KpqACiiigCG7/48Z/+ubfyo0j/AI81ou/+PGf/AK5t/KjSP+PNaAL9FFFABRRRQAUUUUAFFFFABRRRQAVjXnh77X4y0vXvtOz+z7aeDyPLz5nm7Od2eMbOmDnPatmijrcOljE8UeGx4js7ZY7ySwvLK4W6tLqNQxikAIyVPDAgkEH1rHbwPqd/q+j6pr/iRr650q68+JIrNYYSu1gRsDE7jkfMScbeAMmuzooWgbhXBaP4J8V+H9NGn6T4xtI7RJJJI0k0Xey73LkbvOGeWNd7RQHSxz8nhqe58Q6DrF5qCyXGlW80UoW32i4aRVBYfN8nK5xz161Y1DQft3inR9Z+0+X/AGYk6+T5efM81VH3s8Y2+hzntWxRTuByfijwJD4m17TtRa9a2S32pdwLFuF5EsiyKjHIwA6A554JHetLXvD39t6hotz9p8j+yr4Xe3y93m/u3TbnIx9/OeenStqiktEl8weu5zOqeFLt9cm1nw1rJ0e+uo1jug9sLiGcL91ihKkMAcZBHHXNSaR4Vk0q21KYarNPrOpYM+pSRLkMFwgWP7oVey+5yTXRUUdLAcn/AMIlq+o31lJ4n8QpqFrZXC3MVtb2C24eROULtvYnB5wNoyK6yiijpYAooooAKKKKACiiigAooooAKKKKACiiigAooooAKKKKACiiigAooooAKKKKACiiigAooooAKKKKACiiigAooooAKKKKACiiigAooooAKKKKACiiigAooooAKKKKACiiigAooooAKKKKACiiigAooooAKKKKACiiigAooooAKKKKACiiigAooooAKKKKACiiigAooooAKKKKACiiigAooooAKKKKACiiigAooooAKKKKACiiigAooooAKKKKACiiigAooooAKKKKACiiigAooooAKKKKACiiigClq/8AyC5/9xv/AEE1wtd1q/8AyC5/9xv/AEE1wtAG54c/5ef+A/1oo8Of8vP/AAH+tFAHk3w1/wCShaZ/21/9FPXvdeCfDX/koWmf9tf/AEU9e917Gcfx16fqzzMt/gv1/RBRRRXjnphRRRQAVXjso49RnvQWMk8aRsCRtAQsRj/vs/pViq0WoWs9/NZQzK9xbqrSoP4AemT0zx06/nQBmQeEtPgtbSBWmKWlz9oTJXLYPyoePurtTAGP9WvPHL4/DcMd+kwvrw20c7XEdiWTyUkJJLcLvPLE7SxUE8DgY1FuYmu3tlfM0aLIy4PCsSAc9Oqn8qloAy9S0V76+ju7fVb3TpUiMRNqITvUnPPmRt3HbFUr7w7HbaTjSopJJoLWaBImkyZRKytISzEEuduQSw5Jz7dDRR0sNOzuch4a8PSwWk1pNbXNjYLNDPDDPHaRyeajbicWy7Np2oOfmOD04zqTeG2ktbq2i1i+ht7mV5GiEdvIoDli6ASRNlSWJwc+gIHFbdFNu4loV7Cyi07TreytsiK3jWNM46AYHTj8uKsUUUtwCiiigAooooAKKKKACiiigAooooAKRvun6UtI33T9KAOJvf8AkIXH/XVv51Po3/IWh/4F/wCgmoL3/kIXH/XVv51Po3/IWh/4F/6CaAOqs/8Ajxg/65r/ACqaobP/AI8YP+ua/wAqmoAKKKKAIbv/AI8Z/wDrm38qNI/481ou/wDjxn/65t/KjSP+PNaAL9FFFABRRRQAUUUUAFFFFABRRRQAUUUUAFFFFABRRRQAUUUUAFFFFABRRRQAUUUUAFFFFABRRRQAUUUUAFFFFABRRRQAUUUUAFFFFABRRRQAUUUUAFFFFABRRRQAUUUUAFFFFABRRRQAUUUUAFFFFABRRRQAUUUUAFFFFABRRRQAUUUUAFFFFABRRRQAUUUUAFFFFABRRRQAUUUUAFFFFABRRRQAUUUUAFFFFABRRRQAUUUUAFFFFABRRRQAUUUUAFFFFABRRRQAUUUUAFFFFABRRRQAUUUUAFFFFABRRRQAUUUUAFFFFABRRRQAUUUUAFFFFABRRRQAUUUUAFFFFABRRRQAUUUUAUtX/wCQXP8A7jf+gmuFrutX/wCQXP8A7jf+gmuFoA3PDn/Lz/wH+tFHhz/l5/4D/WigDyb4a/8AJQtM/wC2v/op697rwT4a/wDJQtM/7a/+inr3uvYzj+OvT9WeZlv8F+v6IKKKK8c9MKKKKACsyC3MXia4dISkTWqfMFwpfe5PPryCa06KOodLHO6lpcl5rV/NuvYtunxiJreZ4wzhpT1UjcRxwcjnpzW7al2tITNnzDGpbIwc45qWigHq7/10CiiigAooooAKKKKACiiigAooooAKKKKACiiigAooooAKRvun6UtI33T9KAOJvf8AkIXH/XVv51Po3/IWh/4F/wCgmoL3/kIXH/XVv51Po3/IWh/4F/6CaAOqs/8Ajxg/65r/ACqaobP/AI8YP+ua/wAqmoAKKKKAIbv/AI8Z/wDrm38qNI/481ou/wDjxn/65t/KjSP+PNaAL9FFFABRRRQAUUUUAFFFFABRRRQAyYkQSEcEKcH8K8Y+F+sSpo769q8vjK5e2sbi4mnvrkyWEoQniMFiS2Bxx2Ne0sodGU9GGDWToXhqx0DwvDoFuZLiyijaP/SCGZ1YkkNgAH7x7UtbO2//AA49NE+5wnhr4p6pqV1bS6lpqtYXdpLdbrWyuY/sexN4V5JFCSbgCAy4GfqKsLrPifxH8M9Y1nV4dKt9KvtFuJraC2MjTx5jO0Ox+U8dcAc10eieBbTQm8q21TVp9PWNoo9NubkPbxo3G0DbuIxwMk4qvpvw50/S9OvdOt9W1h9OurWS0Szmuw8VtG/XywV4I7Ft2KJK6aXb/P8A4A4Plkm+/wDkcz4I8Va5pX/CGaLrFvp40zV9KH2N4GfzYvKhVsyE/KcrzgDgnqcc3NK+I9/deONO0x5NN1DTNTlmiguLG2uEEZRSwPmuPLlyBg7Ohroh4C0oTeHZGmum/wCEftntrZS64kRohGfM+Xk7R2xzVTSPhjpOjXelzw3+qT/2RI72UdxchkhVlZTGF2j5fmz/AHuBzjitZNOd/X83/wAAi1o2Xb8TsqKKKzGFFFFABRRRQAUUUUAFFFFABRRRQAUUUUAFFFFABRRRQAUUUUAFFFFABRRRQAUUUUAFFFFABRRRQAUUUUAFFFFABRRRQAUUUUAFFFFABRRRQAUUUUAFFFFABRRRQAUUUUAFFFFABRRRQAUUUUAFFFFABRRRQAUUUUAFFFFABRRRQAUUUUAFFFFABWH42uJrTwHrtxayyQzRafM8csbFWRghIII5B963Kp6vpkOtaLeaZdNIkN5A8EjRkBgrAgkZBGefSpkm4tIqDSkmzyTwJe+I47mLUbOTxLNpSaQ8183iJi0clxsDIYNx3FSc8jjFdLZePtUudK8CXLwWYfxFLsuwEbCDYW+T5uOR3zXbWemW9losGlrultobdbceYclkC7ecY7Vymm/CrRtLvNLni1DV5hpE5msYZ7oPHACCDGF2/d5/3uBzjirlrLy0/Nt/f+hmk1Hz1/JWMCT4k+KIbG51mTT9JOkWWtvpkyhpPPlXzdgdedqkZXOc5OTx0rYsdX8T3Hxa12wF1Y/2TYW9uxt3jcttdXIKkEAMSOcgjAAGOtaU3w50ifw7d6M9xei3u9SOpOwdN4lMgkwDtxtyOmM471cl8HWb+MT4jhvb+2uZI0juIIZgIbkLnbvUgk4z2IpdF/XRfrcet3/XV/pY5Gy+JWsXPgbwnrL21iLnWtZWwuFEb7EjMrplBuyGwo6kjrxUmufEi/0rxUkFnLpmoab/AGjFYyxwW9wZYi5CndOB5QYE/cPPHrxWhB8I9Ct5rQx3urfZ7G/W/s7Q3QMNtIG3EKu37pPXOTycEZqV/hboz3M7/btUWCbUF1IWi3I8mOcOHLKu3nJGCGJ4Jxg81V03fz/DTT8ypdbf1v8A8ALDxL4j1/xfqVrokGlw6RpF6tpdPd+Y08xwGcptwq4B4znPtXNWni+fSrPW7fSdMtFv7/xbNpdvmSVYy7AEyyHcSDgHITaOmAK7NvAliviiTXLLUdUsJLiVJrq1tLrZBcuuMF1wT2wcEZ71DL8ONFm0/UbSSS8zfam2qidZQsttcHHzRMANuMcZz1Oc1Mdve7a/fG/32Y3bW3fT7n/mjkIfGd94N8L67psOj6Ymq6FeWqSJbNJ5F0tw6/PljvDkE5LFjnk56V1fhrxNrk/jXUvDfia309bi3tY7yGWwL7djkrtbfySCOowD6Cg/DPR30O906e61CeS/uYrm7vppw9xM8bBkyxXGBtAwAOK2ofDdnB4wufEaSTm8ubRLR0LDywisWBAxnOT6/hVX2v8A1p/mZu+tvL89fwNeiiipKCiiigAPArzrVfHlzb/B+/8AEE11Ym8keW1tZbMusW8yGNCDIAcjqT0+UkcV0njvStS1vwTqOnaJL5d5OgC/vDHvXcCybh03KCufesWx8LDxLp2m23iLw2dBsdGuFltNNS6injmIUj94FUjAzwAec5NK17r+vMd7WZz/AIX8ZzaR4Q8X2kGtx+Ibvw9E11a3k1z9pWeNo94DOGy2HDA88cCtvSfGniH/AISLTrLXrLTkt9Z0172yNozl4iiqxSTdw3DDkY9OetSeK/hzYzafrN94btPs2pXWjzaetpa+XDDPuBK7hgDdnocj3qz4W+Htno5tNQvLjULi/j09bVI7q681LNSo3pH6cjqSfY4p7pvy/R/8Bk7NL+t1/wAEwLL4keJB8Ov+Eu1TS9NFvcQxR2VvDK++SdpNhZ85Cx55ABJwOTUfiPxLrcnh3xh4Z8VQWAv4dBkvYp9OLiJ42DKVIfJDAj159q7OHwLo8fgOPwjMJrnTY4vLVpXHmcNuDblAwwPIIHaqcHw20qPT9Wgur7U7+41a1NncX15cCScQ4ICKdu0AZJ+7165olZ8yXn/wPx/AI3STe+n/AAfw/ExvC/ivWtN1DQ9H8RwabDY32j/abSa3kbdCIkUsJS3B+U5yAMdOetN8PfEbVL/xdbaVcrYX9vfWs09tPYW1xCu6MA7Q8o2ygg/eTp3rZsPhjodjdSzSz6jfK1k1hDFeXRkW2gYYZI+4yO5JPpil0f4baZo93p9zHqOq3M2mwSW9q1xchvLidduwAKAAAOCOfUmqk7tv1/X/AIH9bzGLjFL0/S/6nP6D8QNf1vSdba4fSbPUrKzkm/sx4J47i1dem8OcOuP4lwM4Heobfx34h0H4a+H77Vns7/UNZeGK1lS3mbYjR7i8qpuZ2GDwgGc9q63TvAGn2WoXF9e6hqer3M1o1n5moXAcxwscsi7VXr6nJ96rwfDPSovDkWjSajq08NtMk1lNLcjzbJk4XymCjAAJHIPvU/8AA/N3/C3+Zf8AwfyVvx/4Yxk1rUPFnhG+n1OPXbWbTLnYo0GOa1fUQQNpVZFEijJ5GeMEk4rr/B9jrGm+FrW28R3hvL9NxeRm3sFLEqpbA3ELgFsckVF/wiW7w7PpM+va3MZ5RI1612FuFwVOFZVAUfL0A7n1roAMDFPQQUUUUhhRRRQAUUUUAFFFFABRRRQAUUUUAFFFFABRRRQAUUUUAUtX/wCQXP8A7jf+gmuFrutX/wCQXP8A7jf+gmuFoA3PDn/Lz/wH+tFHhz/l5/4D/WigDI8NfCv/AIR7xDbap/bP2jyN/wC6+y7N25CvXecdc9K77yf9r9KkoratXqV5c1R3ZlSpQpLlgrIj8n/a/Sjyf9r9KkqFLy2kupraO4iaeABpYlcFowehYdRnBxmsTUd5P+1+lHk/7X6VUsNe0fVLiW30zVbG8mh/1kdvcpIyfUAkioj4n0EaodMOt6cL8NsNp9rj80N6bM5z7YoA0PJ/2v0o8n/a/Ssm68Z+F7G6ktb3xJpFtcRNtkimvokdD6EFsg1oWuqaffXEkFlfW1xNEqPJHFMrsiuMqSAcgEcg9xRuBN5P+1+lHk/7X6VTttf0e91CSws9Wsbi8jzvtorlGkT6qDkVNFqmnz6lNp8F9bSXtuoaa2SZTJGD0LKDkDkdfWgCbyf9r9KPJ/2v0qKDUbK6gmmtby3migdo5ZI5VZY2X7ysQeCO4PSo7fWdMutLbU7XUbSawVWZruOdWiAX7xLg4wMHPPFAFnyf9r9KPJ/2v0qOTULOLT/t8t3AlnsEn2hpQI9p6NuzjBz1qfI25yMYzmgBnk/7X6UeT/tfpVWw1zSdVmlh0zVLK9lhOJEt7hJGT6gE4q5LIkMLyyHaiKWY46AdaNlcPIb5P+1+lHk/7X6VBpWqWet6Vb6lpk3n2lygkik2ldynvggEfiKbPrFjbaza6VNPtvbyN5IItjHeqY3HOMDGR1NHWwdLlnyf9r9KPJ/2v0qSigCPyf8Aa/Sjyf8Aa/Sqeqa/o+ieX/bWrWOnebny/tdykW/HXG4jOMj86pt408N/Z7eeHWrS5hubtLKKS0k89TO/3UJTOCffAoWuwGx5P+1+lHk/7X6VJRQBH5P+1+lHk/7X6VJRQBH5P+1+lNeLCMc9vSpqbJ/q2+hoA4G9/wCQhcf9dW/nU+jf8haH/gX/AKCagvf+Qhcf9dW/nU+jf8haH/gX/oJoA6qz/wCPGD/rmv8AKpqhs/8Ajxg/65r/ACqagAooooAhu/8Ajxn/AOubfyo0j/jzWi7/AOPGf/rm38qNI/481oAv0UUUAFFFFABRRRQAUUUUAFFFFABRQRlSAce47VF5T/8APxJ+S/4UAS0VF5T/APPxJ+S/4UeU/wDz8Sfkv+FAEtFReU//AD8Sfkv+FHlP/wA/En5L/hQBLRUXlP8A8/En5L/hR5T/APPxJ+S/4UAS0VF5T/8APxJ+S/4UeU//AD8Sfkv+FAEtFReU/wDz8Sfkv+FHlP8A8/En5L/hQBLRUXlP/wA/En5L/hR5T/8APxJ+S/4UAS0VF5T/APPxJ+S/4UeU/wDz8Sfkv+FAEtFReU//AD8Sfkv+FHlP/wA/En5L/hQBLRUXlP8A8/En5L/hR5T/APPxJ+S/4UAS0VF5T/8APxJ+S/4UeU//AD8Sfkv+FAEtFReU/wDz8Sfkv+FHlP8A8/En5L/hQBLRUXlP/wA/En5L/hR5T/8APxJ+S/4UAS0VF5T/APPxJ+S/4UeU/wDz8Sfkv+FAEtFReU//AD8Sfkv+FHlP/wA/En5L/hQBLRUXlP8A8/En5L/hR5T/APPxJ+S/4UAS0VF5T/8APxJ+S/4UeU//AD8Sfkv+FAEtFReU/wDz8Sfkv+FHlP8A8/En5L/hQBLRUXlP/wA/En5L/hR5T/8APxJ+S/4UAS0VF5T/APPxJ+S/4UeU/wDz8Sfkv+FAEtFReU//AD8Sfkv+FHlP/wA/En5L/hQBLRUXlP8A8/En5L/hR5T/APPxJ+S/4UAS0VF5T/8APxJ+S/4UeU//AD8Sfkv+FAEtFReU/wDz8Sfkv+FHlP8A8/En5L/hQBLRUXlP/wA/En5L/hR5T/8APxJ+S/4UAS0VF5T/APPxJ+S/4UeU/wDz8Sfkv+FAEtFReU//AD8Sfkv+FHlP/wA/En5L/hQBLRUXlP8A8/En5L/hR5T/APPxJ+S/4UAS0VF5T/8APxJ+S/4UeU//AD8Sfkv+FAEtFReU/wDz8Sfkv+FHlP8A8/En5L/hQBLRUXlP/wA/En5L/hR5T/8APxJ+S/4UAS0VF5T/APPxJ+S/4UeU/wDz8Sfkv+FAEtFReU//AD8Sfkv+FHlP/wA/En5L/hQBLRUXlP8A8/En5L/hR5T/APPxJ+S/4UAS0VF5T/8APxJ+S/4UeU//AD8Sfkv+FAEtFReU/wDz8Sfkv+FHlP8A8/En5L/hQBLRUXlP/wA/En5L/hR5T/8APxJ+S/4UAS0VF5T/APPxJ+S/4UeU/wDz8Sfkv+FAEtFReU//AD8Sfkv+FHlP/wA/En5L/hQBLRUXlP8A8/En5L/hR5T/APPxJ+S/4UAS0VF5T/8APxJ+S/4UeU//AD8Sfkv+FAEtFReU/wDz8Sfkv+FHlP8A8/En5L/hQBLRUXlP/wA/En5L/hR5T/8APxJ+S/4UAS0VF5T/APPxJ+S/4UeU/wDz8Sfkv+FAEtFReU//AD8Sfkv+FHlP/wA/En5L/hQBLRUXlP8A8/En5L/hR5T/APPxJ+S/4UAS0VF5T/8APxJ+S/4UeU//AD8Sfkv+FAEtFReU/wDz8Sfkv+FHlP8A8/En5L/hQBLRUXlP/wA/En5L/hR5T/8APxJ+S/4UAS0VF5T/APPxJ+S/4UeU/wDz8Sfkv+FAEtFReU//AD8Sfkv+FHlP/wA/En5L/hQBLRUXlP8A8/En5L/hR5T/APPxJ+S/4UAS0VF5T/8APxJ+S/4UoicMCZ5D7ELz+lAElFFFABRRRQAUUUUAFFFFABRRRQAUUUUAFFFFABRRRQBS1f8A5Bc/+43/AKCa4Wu61f8A5Bc/+43/AKCa4WgDc8Of8vP/AAH+tFHhz/l5/wCA/wBaKAOrooooAK8Y1c3k/wAHPGd7AZDeXGr3H20xj5xCk4Rl+giX8q9nrN07QrXS9Q1K6tGlA1KUTzQEgxrJtCllGMgsAM84yPrS6/L9U/u0Hfb1/R/5nl+vf8Ip/a3gj/hX/wDZn9p/2nFt/s7Zv+zbT5vmbecY67vf3qhJ4L1Lxn4m8Y2NtHo8Fk2sr51/PEz3kJVI2xFgYAwO57mvYrDQdH0u4luNM0qxs5pv9ZJb2yRs/wBSACasW9la2kk8lrbQwPcP5kzRxhTK+MbmI6nAAyfSn9rm9fxt/kLpb0/X/M838XaHpR+L3giN9OtJBc/bTcb4FPnkQggvx8xzzzWVqkd3F4i+KkeioyXCaXaLCsIwVAgPCge2cYr1yaws7i8t7u4tIJbm23eRM8YZ4tww21jyuRwcdaIrCzgvZ7yC0gjurkKJ50jAeUKMLuYcnA6Z6UPWPL5NfeWpJO/p+DueJ61/wh3/AAr/AML/APCF/wBnf299ps/sX2TZ9p35G/ft+bpu3bu9XNVtLuw+IXirxfpEbSXuh3Vs08Kdbi0a3XzU+oADD3WvWLbQNHstQkv7PSbG3vJM77mK2RZH+rAZNWY7G0hnuJorWFJbogzyLGA0uBgbj/Fgcc9qbk7trfV/l+Gn4maVtOm35/5nh8fiIR/B3Wxo5luJ9f1+6tbMW6FnkWV8kqPXZu/HFS6TqcVjofj3w3Hpd9pFq+mSahYWmoQiKQIYtkmFBIxuUHg9zXsFt4c0SzW3Wz0bT4BbSNLAIrVF8p2GCy4HykjgkVNdaRpt9P517p9rcy+U0HmTQK7eW33kyR909x0NS1o13VvwX6q5UdGn2d/xv+Whzvhu/wBF1n4fWeli/s7otpCJcW6Tq7KvlBW3KDkdcVT8Luuq/A2zGt3rWsU+lNFNeO+Cke0r5hY/7ODk1tv4I8PR2N3b6XpdppD3cDW8lzpttHDNsbqAwXvita302ztdKi02G3jFnFCIVgK5XYBgLg9RiqnaXN5/8H/MmF4KK7f8D/I8Ws9el8KaNrek6Ja6He6lp+ime01vRY0JeIMFxMozhx97qQcZrX0LUXtfFCaZpniW78QWN9oMl5dm5uhceRKMbWBH3A2SNvSvTdO0TStIjkj0nTLOxSU5kW2t0jDn3CgZosdE0rTEmTTdMs7NZzmZbe3SMSH/AGsDn8amScr37f5/5r7hrTbv/l/l+J49pPiC58E+D/CHiCW5nbSrjRZbSa2MhMazqpkiYLnAZtrLn6VvaKdb0rxN4F07VdUvZ57rTr2e+WW4ZhJKQjAMCcHaWIHp2r0N9D0mXTYtOk0uzexhKmK2a3QxxkdNq4wMdsVPJY2k17DeS2sL3MCssU7RgvGG+8FbqAcDOOtU3dt+v43/AFf4Ijl91L0/C36L8TxDQ9S1y38N+CvEcviPVbm51DWxp89vPcboWhMrpgpjlsLnccnnr0rQt01rxB40mtn1m9VrXX5FuJotZaCFrVekCwK4bfyBnbg4PzGvV10HSEtLe1TSrJbe1l863hFugSGTJO9BjCtkk5HPJrhz8IoJ7wG/v7a5hF0Lkztpqfb3IfeFa6LEkdBwoOBjNNNc3lf/AC/yf3mlS0k7f1v/AJr7jW+Kun2d18NdcnurSCaa3sZWhkkjDNGcdVJ5HQdK5TxbpVtB4B8Dw6bHHp73Or6cWltYlRg5Qjf0wWHXJzXq91a297ayW17BHcW8qlZIpUDo4PUEHgioptMsLiG3hnsbaWK1dZLdHhUrCy/dZQR8pHYjpSjo7+a/Bi638mvvR45qmva/4Zs/Hml6bqt9dppk1kbe5vZjLLbpP/rDvIOAB0ODt612Pw8GspqOopfalBdac0UTwQ/2v/aEsTnOSZCina2OAc9DiuyXTLBLi6nSxtlmvABcyCFQ04AwA5xlsA45pmm6LpejLIukabZ2CyHLi1gWIOfU7QM0LT+vL+mEtXoXaKKKQBTZP9W30NOpsn+rb6GgDgb3/kIXH/XVv51Po3/IWh/4F/6Cagvf+Qhcf9dW/nU+jf8AIWh/4F/6CaAOqs/+PGD/AK5r/Kpqhs/+PGD/AK5r/KpqACiiigCG7/48Z/8Arm38qNI/481ou/8Ajxn/AOubfyo0j/jzWgC/RRRQAUUUUAFFFFABRRRQAUUUUAFFNlfyoXk2s+1S21BknHYD1rkvC3xK0LxPpF9eGQ6bJppb7bbXpCSW4BPzMPTj8+OtAHX0VzfgvxrZ+ONPu77TLS6htIbhoYpp02rcAfxr7e3auikZkidkXewUkLnG4+lD03BajqK5Lw14mvtX1RIJp7G6DRM9zBawvHJpzjGIpSztliSw6IflzjHTa1HWlsb2Kzgsbq/upEMhitdmY4wQC7F2UYyemSTzgHBoDc06K5bR/FMsvh+yne2utTvrtp2jgt0RJDGkpXcd5RVABUckH6mty11a2vNHOpQbzCFcspXDKVJDKR6ggj6ih6K7Ba2t1LtFcxD43iuFtTDoerN9vi82x/dxD7UNoY4zJ8mAc/vNntmtCHXxd6KL+w029u38xomtI/LWVHRirqd7hOCpH3semaHoG+pr0VgHxfaNDZm3s724nvPOWK2iRN++JtroSWCgg55J28Hnpme48QNa6naWc+kXym7lEUUoaErnbuJIEm7CgHJx2+lHWwdLmxRWHD4ptprqNfsd4lnNL5EOoMqeTLJkqFGG3jJBAJUKeME5GbmraumlLAotp7y5uHKQW1sF3yEAscFmVQAATkkD8SKOlw62NCiuX07xPIY9Tlu4bmR11L7JaWQjQTZ8lG8schSc7zuLYxzuxitnStWi1aGUrDNbTW8nlXFvOF3wvtDbTtJU8MpyCRz1p2/r+vURforAnv8AWLDXLKO8ksZrW/uGhS3hhdZYgEZt5csQ4+UZGxcZ6nvWt/EGpsLPU5/sn9k310LeKJI2E0YZiqSF921tx2/LtGN3U45S10G9NTqKKwJr/WLDXLKO8ksZrW/uGhS3hhdZYgEZt5csQ4+UZGxcZ6nvPZ6lqEvie7sbu3hgtUgWSDDFpG+dlLN2AOOAOfU84Cvql/XcNv6+RsUVkeJ9S1DStDnu9Lt4ZpIY2kZp2IRFUZJIHLE4wAMfUUnibUtQ0vQZ7zS7eGaWKNpGadiERVGScDlicYAGPqKYGxRVaW7aK7t7cW00nnq581F/dx7QD85zxnPHBrntO8RXcniM6fLqWk6mqB/tUenowfTyo6SMZGBycjBCH24OAOlzqqK5nw54jk1+7WYalpawyQ+aumRjfdRqcFHdt/GVIJXZwTjce/SswRGZjgKMk0PTcOotFcvp2v6nI2k3t8tr/Z+sttt4oomWS23RtIm9yxD5C4OFXBI61H4U8RXOvXRd9e0O5XazPp1pCRcQDPy7285ug6/IPwo62A6yiiigAooooAKKKKACiiigAooooAKKKKACiiigAooooAKKKKACiiigAooooAKKKKACiiigAooooAKKKKACiiigAooooAKKKKACiiigAooooAKKKKACiiigAooooAKKKKACiiigAooooAKKKKACiig8A8Z9qACisfQtS1C+uNSj1S3ht3tp1SOOJixVDGrAM3Qt83OOO3PU07jXdUfQdT1DTbW3l8qaVLUykqoSMEM785b51fAXGRt6cmlJqKuxpXdjpKKitJWns4ZXADSRqxA6ZIzUtU1Z2JTurhRRRSGFFFFABRRRQAUUUUAFFFc9r2sXttrNnplld2GnG6jZ0ub+JpFkcEDykUOmWwSfvdBwDzg62DzOhorKhurh9eisZ7kiWCzE06RQgRylmKg5JLDBU8e/JPStWjzAKKKKACiiigAooooAKKKKACiiigAooooAKKKKACiiigAooooAKKKKACiiigClq/8AyC5/9xv/AEE1wtd1q/8AyC5/9xv/AEE1wtAG54c/5ef+A/1oo8Of8vP/AAH+tFAHV0UUUAFcHoHjy9vviRrfh/VIbWGztWkFlNGrB3MYQyBySQeJFPAHQ13leY678Nda1AapNpuoWtpe3WryXUE29vlt5YBDIp+XhsZI6jIHNLXm+T++6t+rHpb+vMteA/iHqfie+8SHULCIWmnJFPZJaRMZpoZA7LkFjuYqqkAAcmtqz8fWt5/aUJ0fV7e/062F0+nzwIs0sRzhkG8qehGMg5rDu/h1qmfF6aRqEOnx6vaWdvYPG7h4hAm0h8AYB6cE8E/SmaB4D1zw9quo6vp0Gg2d3c6WLWK2tRIkKTB8h3baS+epbAJ4GO9VK19O36f5g+/p+l/1+403+I+k6rpt9/YUt07Q6Q2oveQwpItoCpKhgzDMnBOzpxyRTY/iPZWOnaRDPb6rqt/faUmoRi1s1LzLgbiVDYVu5GcdgTxWTo/wz1bw9pusabp1/bXFrrWmOl2bhmVlvWUr5i4U/Id3I6jHArV0PwVqOma1oV5PNatHp3h4aXKEdiWlyh3Llfu/KeTg+1J9bf1pL9beoaWX9fy/8H0JNK+Kuhave6XFa22prBqjGO2vZbUpA0oGTFuJzuGCOARkHmprj4laPbeHNa1qS2vjbaLftYXCCNN7yBlUlBuwVy46kHrxWLo/w61bT/Cvg/TJriyabQ9Va9uWR3KuhaU4T5ck/OOoA681n638MvE91pXiXRNL1DSl0zWdQOopJOJPODllYxnA2hcqPm5Ptzxdo81un/BX6XBWvr/W/wDwPvOo1z4l6VoWo39lNYardTadFHPc/ZLYSLHE4zvJ3AADvnn0Bwam0X4iaRruuwaXa2+oQtd25ubO4ubYxxXcY6mMk5OM9wKpah4K1G71HxhPHNahdc0yKztgztlHWN1Jf5eBlh0z9KXTPBeo2Wq+DLmWa1KaDpclnchXbLu0aKCny8jKnrg9OKmPn/W/+S+8mV1HT+tv839xH488X6zoXiTRtK0a40S0XUIZ5JLjWN4jTy9uACrDGdx9an8O+PbjVvAttrs+iXV1PJO9uYNLUTByrMN6livyHb1J9qn8R+DE8ReNtD1O/t7G803T4LhJre7TzCzOF2EKVKnBXuRiofG3hC+1waMujiwNnp8rGbTLzcltcIVwAQgOdvUKRil0X9df8h7yf9dP8yKfx1banD4eu9Lu7yyjvNX+wT272aM5cK+6KTcw8vBXO5dx4HrUx+Jmltdalb2um6vdvpjXCXbQWm5IjCCSC+7blsHaM5PcCsXS/hpqWm2Wj2y3Gn7bDxE+quIlaNPJZWGxFwcEZ+7nGB1rpPCXhi50NfESai8Eqarq095GIiTiKQKArZA54OQMj3p/Zdu342j/AMH7hLfX+leX/AG2/wARNEudc03TIhcb9SslvYpii+WiMrOFY7shiqMcYPQ81n2nj221PWNGvIbm9s9OvdOurv7LNaRkOkbAeYzhiy8cgAHIPOK5uP4Ta/b+DLywg1CxOqrdp9guGd9sdskbRKrHbndskk4AIyRzXVHwXdWmu6Fc6Y1p9l0nSJrBY593zOwQKcAcr8vPINJ9Wvl9z/4CH2X9br/gss6V8QtN1PRbrWZbHUtP0u3t/tIvLyBRHLH6oVZiT7HB9qs6D4zstd1FtP8AsV/p155Auo4b+ERtNCTjzFwSMZI4OCM8iuPsPhXfS2viG2vn0/SLPV7QQix0l5XgWXdnztrgBTwBtUYx3rb8D+Dbjw7etPe6N4cs5Fg8lbnSo3EsvIyW3ABQcZwM896atfX+t/8Agf1snt/Xl/wf637eiiikMKKKKACiiigApsn+rb6GnU2T/Vt9DQBRooooAWz/AOPGD/rmv8qmqGz/AOPGD/rmv8qmoAKKKKAIbv8A48Z/+ubfyo0j/jzWi7/48Z/+ubfyo0j/AI81oAv0UUUAFFFFABRRRQAUUUUAFFFFABXn3jL4O6F4x8Q22rTSSWUu4C+W3GBeIOQrehyB83p+BHoNFHW4eRBZWVtptjDZ2ECW9tAgSKKNcKijoAKW8ga6sZ4ElaFpY2QSL1QkYyPcVNRSl7y1BabHL6VoOoRahpsl5a6bZxaXC0Mb2UjM1wpXGGUouxc/Nty/IHPHN7ULHU4teTVNHS1nZ7cW08N1M0QChtwdWVG5GW+XHORyMVtUU3q7sSVlY4WfwJJJZaZJeWGj61dWIuUa2v0xBIJZd+5WKOUYYH8J6ke9dPZ6Wtt4b/s+3sbLTsxOotrMYhjLZ+7hV4yc52jvxWnRSavFxGtGmuhg2mh3MB8PF3iP9mWzQzYJ+YmNV+XjkZHfFZcvhXUVhiHk6fqMQvryeSxu5WWGRZpS6Mf3bZZAehXHzHngGuyopvVt9wj7seVf10OU8P8AhW60dtM8x7XZZvesywKUUCeXeoVccADjGePercVjrK+K7jULi2sJoCBBbP8Aa3DwQ8FsJ5RBZmGT83IVR2roKKOtw3OUi8O6p9ls9GnNmNJs7mOdLhZXM0gjk8xEMe3C4IUFt5yAeBnjU1uwvZ7qxv8AShbvdWTuRDcyGNJVddpBcKxU9DnaemMc5rXoo6WDqcVeeC7nU7SeTVINMu521QaglpOpkt3/AHIiMb7l9M4baeQDjtW/4c0pNJ01ok0bS9HZ5C7W+mcxk4AyT5aZPH930rWop+Qf1/X3nLadaeJo9ee91TTtJmMjmMTpqcpaCDP3UjMGM8An5vmPfAACweH9TX7Hpk32T+ybG5FxHKsjedIFYskZTbtXadvzbjnb0GeOoopdvIHrfzOW0608TR6897qmnaTMZHMYnTU5S0EGfupGYMZ4BPzfMe+AANoWMg8RPf7k8prVYQMnduDk/lg1fopW28v+GDv5lHXLGTU9AvrGBlWW4geNC5IUEjAzjtSa3Yy6l4fvrGBkWW4t3iQuSFBIxzjtV+imBVn+3C5gFqLc2+1/O8wtvzj5NuOMZznP4Vjf2Zq+ratZXOs29hZR2LSMv2S5eZ5tyFMEtGmxfmzj5skD0ro6KA22OU0vw3qFq2jWU6WMVhoZzbzW8jeZOPLaMBk2AJw2ThmyR2rdutHtrzUIryZ7sSRLtVI72ZIiOfvRKwRuv8QP6Cr1FD13DbY5ew0DVI20myvGtf7P0Zt1vLHKxkuCsbRpvQqAmA2ThmyQOlT/ANn6xqesafc6tBYWcWnTNNG1rcPM8xMbJg7o02D5ySMtnAroaKd3e4BRRRSAKKKKACiiigAooooAKKKKACiiigAooooAKKKKACiiigAooooAKKKKACiiigAooooAKKKKACiiigAooooAKKKKACiiigAooooAKKKKACiiigAooooAKKKKACiiigAooooAKKKKACiiigAooooAyG06/h/tuWykhW4vSGti5OEYRKgLceq54zxUp0hYfC7aRZYULaG3jLn/AGNoJ/rWlRSlFSi4vqNNppkVpE0FnDE5BaONVJHTIGKlooqm7u5KVlYKKKKQwooooAKKKKACiiigArI1yLU7lPs1ppml6jaSrtmS/uWjx/wEROGHscVr0Ubgc/oPh650e8hea4SdItOitNwyCWV2Y8HOFwwA5J4roKKKOlv67gFFFFABRRRQAUUUUAFFFFABRRRQAUUUUAFFFFABRRRQAUUUUAFFFFABRRRQBS1f/kFz/wC43/oJrha7rV/+QXP/ALjf+gmuFoA3PDn/AC8/8B/rRR4c/wCXn/gP9aKAOrooooAKyz4n0EaodMOt6cL8NsNp9rj80N6bM5z7YrUrw6TwXqXjPxN4xsbaPR4LJtZXzr+eJnvISqRtiLAwBgdz3NJP31H+t1/mPpf+up7jRXnOmwajq/xa8RWkmvalBYaO9lPFaQTYWVmi5VsgnYduSoxknJrktO8S6oYtL11/Ed4+v3evfYbnQ2uAYki80qUEGPlKqAd3Xvmmt0u/62t+YNNJvt/lf8j2TWdb0/w/p/27V7j7PbeYkW/Yz/MzBVGFBPJIq/Xz54kv31fw7rN9q3iS5/tFPEK2qaO1woiSJJ1CgRHkHHzbhgnH1rp9Z8UTaXrnxNgvdaltfJsIG06OS6K7GMLZMIzwSxX7vfFK/uc3z/BP9QSvNx9Pza/Q9cpvmoZTEHXzAu4pnkD1x6cV43a6tcaxqPhzSvEHie+0bT28MwXwuIr37O91cHAYtKeWwOcZ9zWpplpZD45ai1xrl4rLYWclqjX5VbkHeMFcgSL0OOeWz1NVJcsuXza+6/8AkTfS/p+Nv8z0TVNc0nRI431nVLPT0lJEbXdwkQcjqBuIzVm1u7e+tkubKeK4gkGUlicOrD1BHBrzr4pWt3eeJ/BsGnW2n3Vy91cbIdSBMDfuSTvABPTpx1xWRdeHNY8G6R4f0u21k2N1rHiNmuW01SkMKyxvmONGyNoxkZHXBxxSjr+X5f5jlaKv5X/P/I9horynXfNtvGVr4Y1TxZqml6TZ6MbmG9a+EU13OHIJeXA3bVwdv6VhDxH4g1rRfC7ale3m/UNLuiIrS/FhI8qOFjnZyyArtKnaCeudpo6XX9b/AOQ/X+tv8z3OivJH07W01TwV4bk8T6lA17pl0dQu7W9aV5nAjYsrvu5zkBscAkDGazfiF4muLW41h9D1PULW58PrBCzzax5SySEA/LbhT52QeSxA64p2s7f1vYlO/wDXlc9torynxF/amreMfEFvHr+qafbWegRXscVlcGMed+8Ib1A45AxnjOcCqnhm/wBah17wDf3Ov6henxHZzm+guJQYcpCHUogACkHuOT3pLV2/rr/kx7rT+tE/1PYapavq9joWly6jqs/kWkON8mxmxkhRwoJ6kV4nFda+3hzw1rC+KtYW51HX20yRfPDRrA0rp90ggsNvDHJGfYVd1nUtY0Twd8Q9Pg1zUpv7Iu7UWd1NcsbiNZPLZl8z72OSPpTinL+vT/NFW99R7u35/wCTPbAQQCOhoryTxGdU1DxJ41EfiDVbGDSNKhu7aGzuTGvm+U7ZJ64+XlRgHPOeKo6rrmt6rbeGRLqN0zal4dM4is9QFgwuvl/fO5ZAy/N90Enqdpqd1/Xn/kJLRN/1t/mj2misfwnYXGm+EtNtb68e9ukt18+5e4efzZCMswdiSRnOPbpitiqkrOxKd1cKKKKQwpsn+rb6GnU2T/Vt9DQBRooooAWz/wCPGD/rmv8AKpqhs/8Ajxg/65r/ACqagAooooAhu/8Ajxn/AOubfyo0j/jzWi7/AOPGf/rm38qNI/481oAv0UUUAFFFFABRRRQAUUUUAFFFFABRRRQAHO07eT2yai3T/wDPOP8A7+H/AOJqWigCLdP/AM84/wDv4f8A4mjdP/zzj/7+H/4mpaKAIt0//POP/v4f/iaN0/8Azzj/AO/h/wDialooAi3T/wDPOP8A7+H/AOJo3T/884/+/h/+JqWigCLdP/zzj/7+H/4mjdP/AM84/wDv4f8A4mpaKAIt0/8Azzj/AO/h/wDiaN0//POP/v4f/ialooAi3T/884/+/h/+Jo3T/wDPOP8A7+H/AOJqWigCLdP/AM84/wDv4f8A4mjdP/zzj/7+H/4mpaKAIt0//POP/v4f/iaN0/8Azzj/AO/h/wDialooAi3T/wDPOP8A7+H/AOJo3T/884/+/h/+JqWigCLdP/zzj/7+H/4mjdP/AM84/wDv4f8A4mpaKAIt0/8Azzj/AO/h/wDiaN0//POP/v4f/ialooAi3T/884/+/h/+Jo3T/wDPOP8A7+H/AOJqWigCLdP/AM84/wDv4f8A4mjdP/zzj/7+H/4mpaKAIt0//POP/v4f/iaN0/8Azzj/AO/h/wDialooAi3T/wDPOP8A7+H/AOJo3T/884/+/h/+JqWigCLdP/zzj/7+H/4mjdP/AM84/wDv4f8A4mpaKAIt0/8Azzj/AO/h/wDiaN0//POP/v4f/ialooAi3T/884/+/h/+Jo3T/wDPOP8A7+H/AOJqWigCLdP/AM84/wDv4f8A4mjdP/zzj/7+H/4mpaKAIt0//POP/v4f/iaN0/8Azzj/AO/h/wDialooAi3T/wDPOP8A7+H/AOJo3T/884/+/h/+JqWigCLdP/zzj/7+H/4mjdP/AM84/wDv4f8A4mpaKAIt0/8Azzj/AO/h/wDiaN0//POP/v4f/ialooAi3T/884/+/h/+Jo3T/wDPOP8A7+H/AOJqWigCLdP/AM84/wDv4f8A4mjdP/zzj/7+H/4mpaKAIt0//POP/v4f/iaN0/8Azzj/AO/h/wDialooAi3T/wDPOP8A7+H/AOJo3T/884/+/h/+JqWigCLdP/zzj/7+H/4mjdP/AM84/wDv4f8A4mpaKAIt0/8Azzj/AO/h/wDiaN0//POP/v4f/ialooAi3T/884/+/h/+Jo3T/wDPOP8A7+H/AOJqWigCLdP/AM84/wDv4f8A4mjdP/zzj/7+H/4mpaKAIt0//POP/v4f/iaN0/8Azzj/AO/h/wDialooAi3T/wDPOP8A7+H/AOJo3T/884/+/h/+JqWigCLdP/zzj/7+H/4mjdP/AM84/wDv4f8A4mpaKAIt0/8Azzj/AO/h/wDiaN0//POP/v4f/ialooAi3T/884/+/h/+Jo3T/wDPOP8A7+H/AOJqWigCLdP/AM84/wDv4f8A4mjdP/zzj/7+H/4mpaKAIt0//POP/v4f/iaN0/8Azzj/AO/h/wDialooAi3T/wDPOP8A7+H/AOJo3T/884/+/h/+JqWigCLdP/zzj/7+H/4mjdP/AM84/wDv4f8A4mpaKAIt0/8Azzj/AO/h/wDiaN0//POP/v4f/ialooAi3T/884/+/h/+Jo3T/wDPOP8A7+H/AOJqWigCLdP/AM84/wDv4f8A4mjdP/zzj/7+H/4mpaKAIt0//POP/v4f/iaN0/8Azzj/AO/h/wDialooAi3T/wDPOP8A7+H/AOJo3T/884/+/h/+JqWigCLdP/zzj/7+H/4mjdP/AM84/wDv4f8A4mpaKAIt0/8Azzj/AO/h/wDiaN0//POP/v4f/ialooAi3T/884/+/h/+Jo3T/wDPOP8A7+H/AOJqWigCLdP/AM84/wDv4f8A4mjdP/zzj/7+H/4mpaKAIt0//POP/v4f/iaN0/8Azzj/AO/h/wDialooAi3T/wDPOP8A7+H/AOJpQ024bo4wO+JD/hUlFABRRRQAUUUUAFFFFABRRRQAUUUUAFFFFABRRRQAUUUUAUtX/wCQXP8A7jf+gmuFrutX/wCQXP8A7jf+gmuFoA3PDn/Lz/wH+tFHhz/l5/4D/WigDq6KKKACoLeytbSSeS1toYHuH8yZo4wplfGNzEdTgAZPpU9cEPFPivxFrmqQ+DLTSFsNJuTaSzam8m64lUAsECfdAyBk5o3dg6XO2isbSC8nu4LWGO5udvnzJGA8u0YXcw5bA4GelQpoulx6q2ppptmuoMNrXYgUSkehfGf1rhr74hXHh/x14htNUt7+/sLG0tp0hsLVX+zgqxlkZuPl6dST6DrXRan41trDSbTU7TS9U1Wzurf7Ss2n24cJHgHc25lxwenXrxxRfS/9f1oPW9v66GnP4f0a5uZri50iwmnnCiaWS2RmkCkFQxIycEAjPTAp91omlX14l3e6ZZ3FyiGNZprdHdVPVQxGQDnpXLy+LJr7xv4Sj0i73aRrFhc3LIYx+82qhQ5I3DG48DHvWf4R+Ich8A6Jd679q1XWNTluEht7OBPNm8uRwSFG1QFUDJJFPl01/rdfoJa3a/rS52t14e0W9tLe1vNIsLi3tQBBDLbIyQgDA2qRhcADpUk2jaXcX1vez6baS3VsMQTvApkiHorEZX8K564+JWh2+i6fqZjvpI7+8axSGO2LSxzgNmNk65ypXjPJHbmmQ/EzRpNIuryS01G3ntbxLGTT5rcLcec/3EC7tvzZ4O7HvS/r+vvX3h/X9fcdVNZWtzcwXFxbQyzWxLQSvGGaIkYJUnkZHHFFzY2l48D3drDO1vIJYWljDGJwMBlz0OCeR61ykHxM01rLVbm90zVNPXS7hbSVLiONnknbG2NFjdizHK+3PXrWx4f8UWniCa8t47a7sb2yZRcWd7GEljDDKngkEEA4IJ6ULXYH5l7UdI03V40j1bTrS+SNtyLcwLIFPqAwODXM+JvAP9v61Hfx3VlsWAQC01LTVvYYwCTujUsoRjnBPOQB6VFJ44ttFufFt3q13d3Nno1zbo0S2iL9nEirwhDZkGWyS2COQAa09B8cafr+t3Gkx2moWN5DCLlI7638ozQk4Eick4zxzg+1Fr/n+H+QX0v8vx/zJvDfg/S/DWk2Fpbwxzy2KyCK5liXzE8xtz7SB8gJP3RxgAVeudA0e8u5Lq70mxnuJYjDJNLbIzvGRgoWIyVx26Vzmu+J9em8X/8ACM+DrWwa8htRd3d3qRfyYlY4VQqfMWOCeoAFWNX8bQeEtDs38WXOnR6pM0aSW0FyFB3SBC6B8MUXOSccAGi99Q20OhOmWDTzTNY2xlniEEshhXdJGM4RjjleTweOabHo+mRGzMWnWiGwUraFYFH2cEYIj4+UEccY4rD174heHdC0u2vW1WxuFupI1hWO8jzIjSBDIvPKrkkkdADXQ2V9aajZx3en3MN3bSDKTQSB0cdOGHBo8wK40LSBbwW40uyENvN9ohjFum2KXJO9RjAbJJyOcmlm0PSblLtLjS7OVb0q10slujC4K42l8j5sYGM5xir1FAFRtK095LmR7C2Z7yMRXLGFSZ0AICucfMMEjB9a5PXvhxFquqxXVnNp0dvHbLbJY3+lJdwQKpPMKFlEZOcHqDgccV29FA7mV4Z8P23hbw5aaPZPJJDbKQHkxliWLE4HA5J4HA6Vq0UU27u7FsFFFFIApsn+rb6GnU2T/Vt9DQBRooooAWz/AOPGD/rmv8qmqGz/AOPGD/rmv8qmoAKKKKAIbv8A48Z/+ubfyo0j/jzWi7/48Z/+ubfyo0j/AI81oAv0UUUAFFFFABRRRQAUUUUAFFFFABRRRQAUUUUAUTq9uNZTTFWRpmUsWCfIuADgn1wQcDPvjirVxcRWtu887bI4xljjP6d6pXcUja9psioxREm3MBwuQuMntVmBL1bmVrm4t5ICf3aRwMjLz3YuQePYUAQ2er213pYv3LWsO5lP2nCFSGK888cipNQv49OtxLKkkhd1jjjjGWdieAM4H5kCs+zAtfD8v22ylnX7TKTAId7MDOxB2nr1B+nNW9YW1ew238E80Rcf8e8bs6Echhs+YYI6ihgSW1/5sYN1by2LtJ5aR3LJlzjPG1iD379jUr3ltF5nmXESeWVD7nA2Fvug+me3rXMf6cYYZnW+ubK0v45ImmgPnmPYQxKYDEBm7jcRnr1pl5DNqa6u4sbjybi5s9iywspkRXXcdpGcDBznt1o/r8gOg/t7RzEJRqtj5ZbYH+0pgt6Zz19qvlgFLEgKBkknjFYM9iX1vWJfspYS6dHGr+X98/vMqD3/AIePpS3Nnc3HgWK2SJ2n+yxB4m4ZsBSyc9yARz60dA62/rp/mXzremf2fPex39tLb24JkkjmVgvtkHr7VFpervqWjm/jgilzykVpcrKTwOCTtUN6jOB61m3G7Ury6ubK0uI4l02WBzLbtE0jnBVQrAE4w3OMfNxW7piNHpNojqVZYEDKRgg7RxQuv9dw7f12KNr4gFzPKkunXdrHBJ5U01w8ISNsAgHEhPO4dAetaRuoFlkjM8YkjTe6FxlF55I7Dg8+1Y0enSXdr4gtZUeMXVw4jZgRnMSAMPXkdfasKSz1S6s11FrSdLrVS1ncR+Wd0MbBVDEdgNhP/A6N/uX4gdi+qafHNDFJfWySTgGJGmUGQHoVGefwo1G/j0zT5buZJJEjAykYG45IHGSB39a5+7hNtHrdlJYXFxJff8exjgZ0dfLVVUuBhNrA/eIx1FaGuwT/APCJSQlXuJ1jjDCNCzOQy5IA5PQmjp/X9aAWbfWVkvUtLuzubGaUExC4CESY5IDIzDIHOCc04a1ZR2EN1fXVvZrMMr5twmD9Gzg/gaoTzNrWp6eLS2uo4LSY3Es88Dw9EZQoDgEklvTGBWLbR6hBFp0dhayPdR6e0dzG0KsY1Z/l+V3jAJw3c9OnejUDpZ9esYIWuDPC9qtu05nSZCCAQMAZyck4z0zx1p417SfsUV2+pWkcEvCu86AE9xnOMj0rBS1N3bKunQztD/YstrGZVwd4YLtY9N2Qfyqa4mRrSyvbY6hbX0VuYlH9myyBh8uUddnAyBzlfrij+vxYf1+COnVldA6MGVhkEHIIpahs3mksYHuYhFM0amSMHIRscj8DU1N7iWwUUUUhhRRRQAUUUUAFFFFABRRRQAUUUUAFFFFABRRRQAUUUUAFFFFABRRRQAUUUUAFFFFABRRRQAUUUUAFFFFABRRRQAUUUUAFFFFABRRRQAUUUUAFFFFABRRRQAUUUUAFFFFABRRRQAUUUUAFFFFABRRRQAUE4GTwKKKAKOmavb6r55tVlCwuE3SJtD5AIZe+MHrUNzr9pa2t3PIkzLbSmLCJuMrBdxCjvjnJOMYPYZqNGmsp9cuhbyyHerxIqEmXES8L68jFKthJaeEpbTBkuDbSGTaMl5GBLEfViaTelxpapGpDKJoUlXIV1DDPXBFPqCyUpp9urAqwiUEEcg4qeqlo2kTHVK4UUUUhma2u2q+JF0RllFw0Hnq5A2EZI25znd8pPToDzSJr1rJ4lfRESU3KQGdpNo8sAFRtznO751OMdCKxtZsbttevtQtbaV5bS2tZ7cqp/esjzb41PclGK4/2hUFvpd++oxXBikhur3Tbx5ZCpAilkeIohPYqoA/4BXcqNJq9+n42vf0MJSknZd1910mdTbapp97cTQWd9bXE0H+tjimVmj/3gDkfjVK48VaJb6fd3i6naTx2alphBOjsvoMA9T0ANYsUSXy6Nappt3bLp8Treb7d0CRmFkMatj95lip+TP3c+lQyx3154b1jS7Fbu7tBp7R2z3Vk1vKHwQI/mVd4x0IUe5JNNYenza7afnbf8V+ovaStp/X9df6t1J1zSVtVuW1OzWBhuEpuECkZxnOcdePrT/7V07+0fsH2+1+2EZ+zecvmY6/dzmsiFV1HxfYaitrP5MenzKrz2zxlH8xBjDgEHAbHqM44rJvX1O/vrdZU1ATQ6tGz28dmFt0hWXAk8wpliUwTtc9TkAA1McPGTtt+mvp/l8gdVpN9vx0v/wAA69NRspLoWsd5btcEMREsqlyFOG4znggg+hok1GxhuFt5ry3jmd/LWNpVDM2M7QM5JwQcVn+G7M2kF+zwGGSfULiRiy4LgyHafcYxim2Fky+I9cuTCUebykjmZcbgIx0PoD6Vi4QUpK+y/Vf5mt2/vNGDU7C5vJbS2vbaa5h/1sMcqs8f1UHI/Goo9d0iYziHVLKQ2wzPtuEPlD1bnj8a5Xw9pWw6Zb6pc60bvT43DQPZKsAYoVfEqRDcDkkfOSTjPNNlgvJ/D+o6PpMd5dWMdgyQG7snt5I2GAsQLqvmAjPOOMDJOa6Xhqany37a9N972+782Ye2m43t8uvpv9/5duw1DUYrC1ncsjzRW8k6wFwGdUHOO+MkDOOMiqlp4k0261JdP+0xJemGOXyTKufnBO0c5JAGTx0IPesTUpptY1WWezsb0QLo13CHmtZIt0jGPCBWAOePTB7ZwasW5utP1d3W0naS40qCO3/cuyGWPzCVdgMJ95fvEdahUIqn73xW/r/M0523pt/w3+ZvWmq6dfzyw2N/a3MsP+sjhmV2T6gHiqbeI7F9Ws7Gynt7t55nhlMM6sYCsbP8wGeTtxg4rnbeLUdS1KCWNtSaQ6dcRO9zZi3jglYJhF+RWxkdSWHHBNTW6m6vfDUdrpl3bPYLJFM0lqyLb5t2XbuIww3AcrkcDnkVf1eEb37P5aP06r+usOo3a3f/AC/z/D7uph1Swub2Szt762luov8AWQJMrOn1UHIp17f2emwedqF3BaRZ2+ZPIEXPpk1yunQytZ6Bpi2NzFe6bIjXMz27KibUYORIRtfeT/CSfmya1dXLWniTTtRmgnmtIoJom8iBpmjkYoVbaoLdFYZA4z71lKjFVFFef4f59P1LVRuN/wCl/wAN1LVprtrNps99dyw2lvDPJCZZJgEIVyobccAZxn8aWXWoRd6XHa+Xcw6i7qk8cgKgLGz5GMhs7cda5UadeJp9nPHDfWFvBql1M6W1urzRo5fY4jZGyOewJw3HSrtjp3lX+jTWbahcxNfXE80t5beUyFoWGSoRNoJ9VGSfetZUKSu79/yf/D7/ACIdSV7Lv+v9dDpr3UbLTIRNqN5b2kROA88qopPpkmo5tZ0y2kgjuNRtInuADCsk6qZQem0E859qztTY2Pie11K5trie1W0khDQQPM0UhZT9xAW5AxkDtz1rG8Uzahf2mq2kUepIstpizhtrHctwCmT5jsh2kEkbcqeOMk1nSoKbj59fnbt03f8ATNJTab/r+u3qdE+thLy7gaAf6NPBDuMyru8zbz82Bxu6ZJPbk4qjB4wt7vVLy3sjZTw2kixOwvkEpJKAsEIxsBfGd2SRgDNUtQsruS6vWS2mYNqWnupEZOVVo9zfQYOT2xTp7K6Ona2otpi0uswyxgRnLoGgyw9R8p59j6VrClSsr9bdf8P+bMpTndW/r4v8kdJLqmnwX8djPfW0d3L/AKu3eZRI/wBFJyaSDVdPuryS0tr+1muYv9ZDHMrOn1UHIrJ02Y6bqWoW1zZ3Jubq8aWKZLZ3jkUgbcyAFVwBtwxHSsezOp6hrOiTzjURNGZftaSWfkwWztC3yqdgZhu77mHA5yRWSw6ab7K/4X7fL1+40dRp287fj/T9PvOkuPENimoW9la3FvdTyXIt5Y451LQfKzZZRk/w4wcdatpqmnyag1gl9bNeKMtbCZTIB6lc5rk7CJza+GbE6bdLd6bOoupHtWVIz5TqzByMMGbBypPXmnwwTHTbDR1sbldQt79J5JzAwjAEu55PNxtO5c8A5+bBHWrlh4LRf1q9fT/PfvPtJWv/AF6ev9WOqTUbKS6FrHeW7XBDERLKpchThuM54IIPoas1jeG7M2kF+zwGGSfULiRiy4LgyHafcYxitmuSpGMZWibJt7hRRRWZQUUUUAUtX/5Bc/8AuN/6Ca4Wu61f/kFz/wC43/oJrhaANzw5/wAvP/Af60UeHP8Al5/4D/WigDq6KKKACuCj8L+LPDmt6rL4OutHk0/Vrs3ksWprLvt5WADldn3gcZwcV3tFC0dw6WOLvfB2oXOr+MLtZrUJrumR2lsCzZR1jdSX+XgZYdM/Suen+F+tTxaRb3E2k3ttbaMmnSwXokkjt5QOZ4kxhm7fNtPAr1WilbS39df82Pmf9fL/ACRwWi+BdS02+8GzTT2rJoOmzWlzsdsu7qoBT5eR8p64rCT4R3y+FvDsE40i/wBQ0Z7ndbXgd7W4SaQtgnbuBHykHaec161RVXb/AK9f82JaJr+tFY4I+Bbw2PhqO3tdH01tM1cX9zBYh1iK7WGEyuS3K9cA4PSub8caDdaNb+Ibm8e08nX9WtZYJpC/lWyxqCTM4AMQO0gMmSMjkV7DRS/r8v8AJCsr3/rr/mzxzS9C/wCE58J6roltY6bapb3cN5BqNtNLd219N1YO8oDycABjk/eHpXc+CfDUmgR3bXOj6Fpcs5UbdHV8OBn7xYDPXgY45611VFO9tgPOPEHw81bVbDxvBb3FmreIJ7WS1MjuAgjCBt+FOPunGM/hW8nhi9X4qDxKZYPsQ0f7B5e4+Z5nmh84xjbj3z7V1NFCbVvL/K35D6W/rV3/AEOM1zwzr8HjFvE3g6508XVxaraXdpqQcRSKrZVwyZIYZx0IxWlqHhdPEuhWtv4oS2N7G8Usstmny7kcPtUuCdpIwQeoJroaKS0Vv67h1uYmt+EdI13TorO5to4o4popUMMaAjZIHC8g/KSOR3BNbEMEVvCsVvEkUa/dRFCgfgKfRQAUUUUAFFFFABRRRQAUUUUAFNk/1bfQ06myf6tvoaAKNFFFAC2f/HjB/wBc1/lU1Q2f/HjB/wBc1/lU1ABRRRQBDd/8eM//AFzb+VGkf8ea0Xf/AB4z/wDXNv5UaR/x5rQBfooooAKKKKACiiigAooooAKKKKACignCknt6DNRfaE9JP+/Tf4UAS0VF9oT0k/79N/hR9oT0k/79N/hQBLRUX2hPST/v03+FH2hPST/v03+FAEtFRfaE9JP+/Tf4UfaE9JP+/Tf4UAS0VF9oT0k/79N/hR9oT0k/79N/hQBLRUX2hPST/v03+FH2hPST/v03+FAEtFRfaE9JP+/Tf4UfaE9JP+/Tf4UAS0VF9oT0k/79N/hR9oT0k/79N/hQBLRUX2hPST/v03+FH2hPST/v03+FAEtUrvSbS9nE8wmSXbsLwXEkRZeuCUYZHJ6+pqx9oT0k/wC/Tf4UfaE9JP8Av03+FAC29vFa26QW8axxRjCoowAKkqL7QnpJ/wB+m/wo+0J6Sf8Afpv8KAJaKi+0J6Sf9+m/wo+0J6Sf9+m/woAloqL7QnpJ/wB+m/wo+0J6Sf8Afpv8KAJaKi+0J6Sf9+m/wo+0J6Sf9+m/woAloqL7QnpJ/wB+m/wo+0J6Sf8Afpv8KAJaKi+0J6Sf9+m/wo+0J6Sf9+m/woAloqL7QnpJ/wB+m/wo+0J6Sf8Afpv8KAJaKi+0J6Sf9+m/wo+0J6Sf9+m/woAloqL7QnpJ/wB+m/wo+0J6Sf8Afpv8KAJaKi+0J6Sf9+m/wo+0J6Sf9+m/woAloqL7QnpJ/wB+m/wo+0J6Sf8Afpv8KAJaKi+0J6Sf9+m/wo+0J6Sf9+m/woAloqL7QnpJ/wB+m/wo+0J6Sf8Afpv8KAJaKi+0J6Sf9+m/wo+0J6Sf9+m/woAloqL7QnpJ/wB+m/wo+0J6Sf8Afpv8KAJaKi+0J6Sf9+m/wo+0J6Sf9+m/woAloqL7QnpJ/wB+m/wo+0J6Sf8Afpv8KAJaKi+0J6Sf9+m/wo+0J6Sf9+m/woAloqL7QnpJ/wB+m/wo+0J6Sf8Afpv8KAJaKi+0J6Sf9+m/wo+0J6Sf9+m/woAloqL7QnpJ/wB+m/wo+0J6Sf8Afpv8KAJaKi+0J6Sf9+m/wo+0J6Sf9+m/woAloqL7QnpJ/wB+m/wo+0J6Sf8Afpv8KAJaKi+0J6Sf9+m/wo+0J6Sf9+m/woAloqL7QnpJ/wB+m/wo+0J6Sf8Afpv8KAJaKi+0J6Sf9+m/wo+0J6Sf9+m/woAloqL7QnpJ/wB+m/wo+0J6Sf8Afpv8KAJaKi+0J6Sf9+m/wo+0J6Sf9+m/woAloqL7QnpJ/wB+m/wo+0J6Sf8Afpv8KAJaKi+0J6Sf9+m/wo+0J6Sf9+m/woAloqL7QnpJ/wB+m/wo+0J6Sf8Afpv8KAJaKi+0J6Sf9+m/wo+0J6Sf9+m/woAloqL7QnpJ/wB+m/wo+0J6Sf8Afpv8KAJaKi+0J6Sf9+m/wo+0J6Sf9+m/woAloqL7QnpJ/wB+m/wo+0J6Sf8Afpv8KAJaKi+0J6Sf9+m/wo+0J6Sf9+m/woAloqL7QnpJ/wB+m/wo+0J6Sf8Afpv8KAJaKi+0J6Sf9+m/wo+0J6Sf9+m/woAloqL7QnpJ/wB+m/wo+0J6Sf8Afpv8KAJaKi+0J6Sf9+m/wo+0J6Sf9+m/woAloqL7QnpJ/wB+m/wo+0J6Sf8Afpv8KAJaKi+0J6Sf9+m/wo+0J6Sf9+m/woAloqL7QnpJ/wB+m/wpROhYACTn1jYf0oAkooooAKKKKACiiigAooooAKKKKACiiigAooooAKKKKAKWr/8AILn/ANxv/QTXC13Wr/8AILn/ANxv/QTXC0Abnhz/AJef+A/1oo8Of8vP/Af60UAdXRRRQAUUVwegePL2++JGt+H9UhtYbO1aQWU0asHcxhDIHJJB4kU8AdDSvrb1f3B0ud5RXnfgP4h6n4nvvEh1CwiFppyRT2SWkTGaaGQOy5BY7mKqpAAHJras/H1ref2lCdH1e3v9OthdPp88CLNLEc4ZBvKnoRjIOab039R21sdVRXEv8R9J1XTb7+wpbp2h0htRe8hhSRbQFSVDBmGZOCdnTjkimx/EeysdO0iGe31XVb++0pNQjFrZqXmXA3EqGwrdyM47Anijbf8Arf8AyYul/wCun+aO4oritK+Kuhave6XFa22prBqjGO2vZbUpA0oGTFuJzuGCOARkHmprj4laPbeHNa1qS2vjbaLftYXCCNN7yBlUlBuwVy46kHrxTs72/r+tUC12/r+rHX0Vx2ufEvStC1G/sprDVbqbToo57n7JbCRY4nGd5O4AAd88+gODU2i/ETSNd12DS7W31CFru3NzZ3FzbGOK7jHUxknJxnuBSWuwbK51dFcJ488X6zoXiTRtK0a40S0XUIZ5JLjWN4jTy9uACrDGdx9an8O+PbjVvAttrs+iXV1PJO9uYNLUTByrMN6livyHb1J9qOl/67B1t/W1ztKK4efx1banD4eu9Lu7yyjvNX+wT272aM5cK+6KTcw8vBXO5dx4HrUx+Jmltdalb2um6vdvpjXCXbQWm5IjCCSC+7blsHaM5PcCjpf+un+Yb7f1v/kdlRXK2/xE0S51zTdMiFxv1KyW9imKL5aIys4VjuyGKoxxg9DzWfaePbbU9Y0a8hub2z069066u/ss1pGQ6RsB5jOGLLxyAAcg84oem/8AW/8Akw3/AK7/APDndUVymlfELTdT0W61mWx1LT9Lt7f7SLy8gURyx+qFWYk+xwfarOg+M7LXdRbT/sV/p155Auo4b+ERtNCTjzFwSMZI4OCM8ijrYOlzoqKKKACiiigAooooAKbJ/q2+hp1Nk/1bfQ0AUaKKKAFs/wDjxg/65r/Kpqhs/wDjxg/65r/KpqACiiigCG7/AOPGf/rm38qNI/481ou/+PGf/rm38qNI/wCPNaAL9FFFABRRRQAUUUUAFFFFABRRRQAUUUUAFFFFABRRRQAUUUUAFFFFABRRRQAUUUUAFFFFABRRRQAUUUUAFFFFABRRRQAUUUUAFFFFABRRRQAUUUUAFFFFABRRRQAUUUUAFFFFABRRRQAUUUUAFFFFABRRRQAUUUUAFFFFABRRRQAUUUUAFFFFABRRRQAUUUUAFFFFABRRRQAUUUUAFFFFABRRRQAUUUUAFFFFABRRRQAUUUUAFFFFABRRRQAUUUUAFFFFABRRRQAUUUUAFFFFABRRRQAUUUUAFFFFABRRRQAUUUUAFFFFABRRRQAUUUUAFFFFABRRRQAUUUUAFFFFABRRRQAUUUUAVtQj86zeLO3eCucdMg1zv/COf9PX/kP/AOvXS3P+rH1qrQBR07Tv7P8AM/e+Z5mP4cYxn396KvUUAaFFFFABXmOu/DXWtQGqTabqFraXt1q8l1BNvb5beWAQyKfl4bGSOoyBzXp1ZZ8T6CNUOmHW9OF+G2G0+1x+aG9Nmc59sUrK/wDXdP8AQd2kcbd/DrVM+L00jUIdPj1e0s7eweN3DxCBNpD4AwD04J4J+lM0DwHrnh7VdR1fToNBs7u50sWsVtaiRIUmD5Du20l89S2ATwMd69Jopttu/wDW1hPVJf1pb/JHmOj/AAz1bw9pusabp1/bXFrrWmOl2bhmVlvWUr5i4U/Id3I6jHArV0PwVqOma1oV5PNatHp3h4aXKEdiWlyh3Llfu/KeTg+1dVrOt6f4f0/7dq9x9ntvMSLfsZ/mZgqjCgnkkVfo6f12f6S/IL9P66f5fmebaP8ADrVtP8K+D9MmuLJptD1Vr25ZHcq6FpThPlyT846gDrzWfrfwy8T3WleJdE0vUNKXTNZ1A6ikk4k84OWVjGcDaFyo+bk+3PHrNN81DKYg6+YF3FM8geuPTiq5nzc39dP8kHW/9df82cTqHgrUbvUfGE8c1qF1zTIrO2DO2UdY3Ul/l4GWHTP0pdM8F6jZar4MuZZrUpoOlyWdyFdsu7RooKfLyMqeuD04rqdU1zSdEjjfWdUs9PSUkRtd3CRByOoG4jNWbW7t762S5sp4riCQZSWJw6sPUEcGknbb+t/82Jq6s/62/wAkcv4j8GJ4i8baHqd/b2N5punwXCTW92nmFmcLsIUqVOCvcjFQ+NvCF9rg0ZdHFgbPT5WM2mXm5La4QrgAhAc7eoUjFdnRS6JD6t9/8rHmel/DTUtNstHtluNP22HiJ9VcRK0aeSysNiLg4Iz93OMDrXSeEvDFzoa+Ik1F4JU1XVp7yMREnEUgUBWyBzwcgZHvXUUU76W+X5f5ISVtv63/AM2eQx/CbX7fwZeWEGoWJ1VbtPsFwzvtjtkjaJVY7c7tkknABGSOa6o+C7q013QrnTGtPsuk6RNYLHPu+Z2CBTgDlfl55BrtKKX9fhYfb+utzy2w+Fd9La+Iba+fT9Is9XtBCLHSXleBZd2fO2uAFPAG1RjHetvwP4NuPDt6097o3hyzkWDyVudKjcSy8jJbcAFBxnAzz3rt6pavq9joWly6jqs/kWkON8mxmxkhRwoJ6kULR/1/XULX/r+uxdooBBAI6GigAooooAKKKKACmyf6tvoadTZP9W30NAFGiiigBbP/AI8YP+ua/wAqmqGz/wCPGD/rmv8AKpqACiiigCG7/wCPGf8A65t/KjSP+PNaLv8A48Z/+ubfyo0j/jzWgC/RRRQAUUUUAFFFFABRRRQAUUUUAFFFFABRRRQAUUUUAFFFFABRRRQAUUUUAFFFFABRRRQAUUUUAFFFFABRRRQAUUUUAFFFFABRRRQAUUUUAFFFFABRRRQAUUUUAFFFFABRRRQAUUUUAFFFFABRRRQAUUUUAFFFFABRRRQAUUUUAFFFFABRRRQAUUUUAFFFFABRRRQAUUUUAFFFFABRRRQAUUUUAFFFFABRRRQAUUUUAFFFFABRRRQAUUUUAFFFFABRRRQAUUUUAFFFFABRRRQAUUUUAFFFFABRRRQAUUUUAFFFFABRRRQAUUUUAFFFFABRRRQAUUUUAFFFFABRRRQAUUUUAFFFFAENz/qx9aq1auf9WPrVWgAooooA0KKKKACvDpPBepeM/E3jGxto9Hgsm1lfOv54me8hKpG2IsDAGB3Pc17jUFvZWtpJPJa20MD3D+ZM0cYUyvjG5iOpwAMn0pJe+pf1uv8AIfS39dTgNNg1HV/i14itJNe1KCw0d7KeK0gmwsrNFyrZBOw7clRjJOTXJad4l1QxaXrr+I7x9fu9e+w3OhtcAxJF5pUoIMfKVUA7uvfNe2RWNpBeT3cFrDHc3O3z5kjAeXaMLuYctgcDPSoU0XS49VbU002zXUGG1rsQKJSPQvjP61S0a/rt+ewSs00v60t+ep4T4kv31fw7rN9q3iS5/tFPEK2qaO1woiSJJ1CgRHkHHzbhgnH1rp9Z8UTaXrnxNgvdaltfJsIG06OS6K7GMLZMIzwSxX7vfFelz+H9Gubma4udIsJp5womlktkZpApBUMSMnBAIz0wKfdaJpV9eJd3umWdxcohjWaa3R3VT1UMRkA56VOvJy/1sv8AL8QTtNy9Pzb/AFseT2urXGsaj4c0rxB4nvtG09vDMF8LiK9+zvdXBwGLSnlsDnGfc1qaZaWQ+OWotca5eKy2FnJao1+VW5B3jBXIEi9Djnls9TXoN14e0W9tLe1vNIsLi3tQBBDLbIyQgDA2qRhcADpUk2jaXcX1vez6baS3VsMQTvApkiHorEZX8KuTTnzebf33/wA/wJs+W3kv0/y/E4L4pWt3eeJ/BsGnW2n3Vy91cbIdSBMDfuSTvABPTpx1xWRdeHNY8G6R4f0u21k2N1rHiNmuW01SkMKyxvmONGyNoxkZHXBxxXrU1la3NzBcXFtDLNbEtBK8YZoiRglSeRkccUXNjaXjwPd2sM7W8glhaWMMYnAwGXPQ4J5HrUx0+/8ADT/Icrtadvx1/wAzzDXfNtvGVr4Y1TxZqml6TZ6MbmG9a+EU13OHIJeXA3bVwdv6VhDxH4g1rRfC7ale3m/UNLuiIrS/FhI8qOFjnZyyArtKnaCeudpr2fUdI03V40j1bTrS+SNtyLcwLIFPqAwODXM+JvAP9v61Hfx3VlsWAQC01LTVvYYwCTujUsoRjnBPOQB6Uuln/W/+a+77n6f1t/w/9a8s+na2mqeCvDcnifUoGvdMujqF3a3rSvM4EbFld93OcgNjgEgYzWb8QvE1xa3GsPoep6ha3Ph9YIWebWPKWSQgH5bcKfOyDyWIHXFen+G/B+l+GtJsLS3hjnlsVkEVzLEvmJ5jbn2kD5ASfujjAAq9c6Bo95dyXV3pNjPcSxGGSaW2RneMjBQsRkrjt0q29f67/wBImOm55z4i/tTVvGPiC3j1/VNPtrPQIr2OKyuDGPO/eEN6gccgYzxnOBVTwzf61Dr3gG/udf1C9PiOznN9BcSgw5SEOpRAAFIPccnvXq50ywaeaZrG2Ms8QglkMK7pIxnCMccryeDxzTY9H0yI2Zi060Q2ClbQrAo+zgjBEfHygjjjHFTHR/15/wCa+4fTX+tF+queJRXWvt4c8NawvirWFudR19tMkXzw0awNK6fdIILDbwxyRn2FXdZ1LWNE8HfEPT4Nc1Kb+yLu1FndTXLG4jWTy2ZfM+9jkj6V66NC0gW8FuNLshDbzfaIYxbptilyTvUYwGyScjnJpZtD0m5S7S40uzlW9KtdLJbowuCuNpfI+bGBjOcYpxaj/Xp/k/vKv76l2f8An/mvuPMvEZ1TUPEnjUR+INVsYNI0qG7tobO5Ma+b5Ttknrj5eVGAc854qjquua3qtt4ZEuo3TNqXh0ziKz1AWDC6+X987lkDL833QSep2mvXm0rT3kuZHsLZnvIxFcsYVJnQAgK5x8wwSMH1rk9e+HEWq6rFdWc2nR28dstsljf6Ul3BAqk8woWURk5weoOBxxU9Lf11/wA19wJpL+vL/J/eb/hOwuNN8Jaba31497dJbr59y9w8/myEZZg7EkjOce3TFbFZXhnw/beFvDlpo9k8kkNspAeTGWJYsTgcDkngcDpWrVyd5NkR0QUUUVIwpsn+rb6GnU2T/Vt9DQBRooooAWz/AOPGD/rmv8qmqGz/AOPGD/rmv8qmoAKKKKAIbv8A48Z/+ubfyo0j/jzWi7/48Z/+ubfyo0j/AI81oAv0UUUAFFFFABRRRQAUUUUAFFFFABRRRQAUUUUAFFFFABRRRQAUUUUAFFFFABRRRQAUUUUAFFFFABRRRQAUUUUAFFFFABRRRQAUUUUAFFFFABRRRQAUUUUAFFFFABRRRQAUUUUAFFFFABRRRQAUUUUAFFFFABRRRQAUUUUAFFFFABRRRQAUUUUAFFFFABRRRQAUUUUAFFFFABRRRQAUUUUAFFFFABRRRQAUUUUAFFFFABRRRQAUUUUAFFFFABRRRQAUUUUAFFFFABRRRQAUUUUAFFFFABRRRQAUUUUAFFFFABRRRQAUUUUAFFFFABRRRQAUUUUAFFFFABRRRQAUUUUAFFFFABRRRQBDc/6sfWqtWrn/AFY+tVaACiiigDQooooAK4IeKfFfiLXNUh8GWmkLYaTcm0lm1N5N1xKoBYIE+6BkDJzXe1wUfhfxZ4c1vVZfB11o8mn6tdm8li1NZd9vKwAcrs+8DjODihfFr/T0/wCCPoVr74hXHh/x14htNUt7+/sLG0tp0hsLVX+zgqxlkZuPl6dST6DrXRan41trDSbTU7TS9U1Wzurf7Ss2n24cJHgHc25lxwenXrxxWfe+DtQudX8YXazWoTXdMjtLYFmyjrG6kv8ALwMsOmfpXPT/AAv1qeLSLe4m0m9trbRk06WC9EkkdvKBzPEmMM3b5tp4FLXl8/8Ah/8AgfePS9/66f8AB+435fFk19438JR6Rd7tI1iwublkMY/ebVQockbhjceBj3rP8I/EOQ+AdEu9d+1arrGpy3CQ29nAnmzeXI4JCjaoCqBkkirOi+BdS02+8GzTT2rJoOmzWlzsdsu7qoBT5eR8p64rCT4R3y+FvDsE40i/1DRnud1teB3tbhJpC2Cdu4EfKQdp5zVu1rL+tX/wCI3s773X/pOv4/idZcfErQ7fRdP1Mx30kd/eNYpDHbFpY5wGzGydc5UrxnkjtzTIfiZo0mkXV5Jaajbz2t4ljJp81uFuPOf7iBd235s8Hdj3qmfAt4bHw1Hb2uj6a2mauL+5gsQ6xFdrDCZXJbleuAcHpXN+ONButGt/ENzePaeTr+rWssE0hfyrZY1BJmcAGIHaQGTJGRyKl2/r/t3/ADf3Brf+vP8AyX3nXwfEzTWstVub3TNU09dLuFtJUuI42eSdsbY0WN2LMcr7c9etbHh/xRaeIJry3jtruxvbJlFxZ3sYSWMMMqeCQQQDggnpXm2l6F/wnPhPVdEtrHTbVLe7hvINRtppbu2vpurB3lAeTgAMcn7w9K7nwT4ak0CO7a50fQtLlnKjbo6vhwM/eLAZ68DHHPWmvP8Arb/gg/L+v6/M6qiiikMKKKKACiiigAooooAKKKKACiiigAooooAKbJ/q2+hp1Nk/1bfQ0AUaKwvFlpr9xpJk8K6h9kvocsImjjZbgf3csDtPoenY9ci5oVpqdnpMUeuah/aF8fmllEaoqk/wqFA4HqeTyeOgANKz/wCPGD/rmv8AKpqhs/8Ajxg/65r/ACqagAooooAhu/8Ajxn/AOubfyo0j/jzWi7/AOPGf/rm38qNI/481oAv0UUUAFFFMcSlv3boo/2kJ/qKAH0VFtn/AOekf/fs/wDxVG2f/npH/wB+z/8AFUAS0VFtn/56R/8Afs//ABVG2f8A56R/9+z/APFUAS0VFtn/AOekf/fs/wDxVG2f/npH/wB+z/8AFUAS0VFtn/56R/8Afs//ABVG2f8A56R/9+z/APFUAS0VFtn/AOekf/fs/wDxVG2f/npH/wB+z/8AFUAS0VFtn/56R/8Afs//ABVG2f8A56R/9+z/APFUAS0VFtn/AOekf/fs/wDxVG2f/npH/wB+z/8AFUAS0VFtn/56R/8Afs//ABVG2f8A56R/9+z/APFUAS0VFtn/AOekf/fs/wDxVG2f/npH/wB+z/8AFUAS0VFtn/56R/8Afs//ABVG2f8A56R/9+z/APFUAS0VFtn/AOekf/fs/wDxVG2f/npH/wB+z/8AFUAS0VFtn/56R/8Afs//ABVG2f8A56R/9+z/APFUAS0VFtn/AOekf/fs/wDxVG2f/npH/wB+z/8AFUAS0VFtn/56R/8Afs//ABVG2f8A56R/9+z/APFUAS0VFtn/AOekf/fs/wDxVG2f/npH/wB+z/8AFUAS0VFtn/56R/8Afs//ABVG2f8A56R/9+z/APFUAS0VFtn/AOekf/fs/wDxVG2f/npH/wB+z/8AFUAS0VFtn/56R/8Afs//ABVG2f8A56R/9+z/APFUAS0VFtn/AOekf/fs/wDxVG2f/npH/wB+z/8AFUAS0VFtn/56R/8Afs//ABVG2f8A56R/9+z/APFUAS0VFtn/AOekf/fs/wDxVG2f/npH/wB+z/8AFUAS0VFtn/56R/8Afs//ABVG2f8A56R/9+z/APFUAS0VFtn/AOekf/fs/wDxVG2f/npH/wB+z/8AFUAS0VFtn/56R/8Afs//ABVG2f8A56R/9+z/APFUAS0VFtn/AOekf/fs/wDxVG2f/npH/wB+z/8AFUAS0VFtn/56R/8Afs//ABVG2f8A56R/9+z/APFUAS0VFtn/AOekf/fs/wDxVG2f/npH/wB+z/8AFUAS0VFtn/56R/8Afs//ABVG2f8A56R/9+z/APFUAS0VFtn/AOekf/fs/wDxVG2f/npH/wB+z/8AFUAS0VFtn/56R/8Afs//ABVG2f8A56R/9+z/APFUAS0VFtn/AOekf/fs/wDxVG2f/npH/wB+z/8AFUAS0VFtn/56R/8Afs//ABVG2f8A56R/9+z/APFUAS0VFtn/AOekf/fs/wDxVG2f/npH/wB+z/8AFUAS0VFtn/56R/8Afs//ABVG2f8A56R/9+z/APFUAS0VFtn/AOekf/fs/wDxVG2f/npH/wB+z/8AFUAS0VFtn/56R/8Afs//ABVG2f8A56R/9+z/APFUAS0VFtn/AOekf/fs/wDxVG2f/npH/wB+z/8AFUAS0VFtn/56R/8Afs//ABVG2f8A56R/9+z/APFUAS0VFtn/AOekf/fs/wDxVG2f/npH/wB+z/8AFUAS0VFtn/56R/8Afs//ABVG2f8A56R/9+z/APFUAS0VFtn/AOekf/fs/wDxVG2f/npH/wB+z/8AFUAS0VFtn/56R/8Afs//ABVG2f8A56R/9+z/APFUAS0VFtn/AOekf/fs/wDxVG2f/npH/wB+z/8AFUAS0VFtn/56R/8Afs//ABVG2f8A56R/9+z/APFUAS0VFtn/AOekf/fs/wDxVG2f/npH/wB+z/8AFUAS0VFtn/56R/8Afs//ABVG2f8A56R/9+z/APFUAS0VFtn/AOekf/fs/wDxVG2f/npH/wB+z/8AFUAS0VFtn/56R/8Afs//ABVG2f8A56R/9+z/APFUAS0VFtn/AOekf/fs/wDxVG2f/npH/wB+z/8AFUAS0VFtn/56R/8Afs//ABVG2f8A56R/9+z/APFUAS0VFtn/AOekf/fs/wDxVG2f/npH/wB+z/8AFUAS0VFtn/56R/8Afs//ABVG2f8A56R/9+z/APFUAS0VFtn/AOekf/fs/wDxVG2f/npH/wB+z/8AFUAS0VFtn/56R/8Afs//ABVG2f8A56R/9+z/APFUAS0VFtn/AOekf/fs/wDxVG2f/npH/wB+z/8AFUAS0VFtn/56R/8Afs//ABVG2f8A56R/9+z/APFUAS0VFtn/AOekf/fs/wDxVG2f/npH/wB+z/8AFUAS0VFtn/56R/8Afs//ABVG2f8A56R/9+z/APFUAS0VFtn/AOekf/fs/wDxVG2f/npH/wB+z/8AFUAS0VFtn/56R/8Afs//ABVPQOF/eMrH/ZXH9TQA6iiigAooooAKKKKACiiigCG5/wBWPrVWrVz/AKsfWuK8Sab4wn1m1fw1ri2tjMwW4jlt4m+zgD765XLA4+6TnJHOD8oB1dFMhRo4UR5WmZVAMjgBnOOpwAMn2AHtRQBp0UUUAFFFFABRRRQAUUUUAFFFFABRRRQAUUUUAFFFFABRRRQAUUUUAFFFFABRRRQAUUUUAFNk/wBW30NFFAFGiiigBbP/AI8YP+ua/wAqmoooAKKKKAIbv/jyn/65t/Kl0n/jzWiigC9RRRQAUUUUAFFFFABRRRQAUUUUAFFFFABRRRQAUUUUAFFFFABRRRQAUUUUAFFFFABRRRQAUUUUAFFFFABRRRQAUUUUAFFFFABRRRQAUUUUAFFFFABRRRQAUUUUAFFFFABRRRQAUUUUAFFFFABRRRQAUUUUAFFFFABRRRQAUUUUAFFFFABRRRQAUUUUAFFFFABRRRQAUUUUAFFFFABRRRQAUUUUAFFFFABRRRQAUUUUAFFFFABRRRQAUUUUAFFFFABRRRQAUUUUAFFFFABRRRQAUUUUAFFFFABRRRQAUUUUAFFFFABRRRQAUUUUAFFFFABRRRQAUUUUAFFFFABRRRQAUUUUAFFFFAENz/qx9aq0UUAFFFFAH//Z)"
      ]
    },
    {
      "cell_type": "markdown",
      "metadata": {
        "id": "DebLAoLa6tth"
      },
      "source": [
        "Maximun pairwise product"
      ]
    },
    {
      "cell_type": "markdown",
      "metadata": {
        "id": "8lc73bV562Hw"
      },
      "source": [
        "![maximumpairwiseproduct.JPG](data:image/jpeg;base64,/9j/4AAQSkZJRgABAQEAYABgAAD/4RDaRXhpZgAATU0AKgAAAAgABAE7AAIAAAAFAAAISodpAAQAAAABAAAIUJydAAEAAAAKAAAQyOocAAcAAAgMAAAAPgAAAAAc6gAAAAgAAAAAAAAAAAAAAAAAAAAAAAAAAAAAAAAAAAAAAAAAAAAAAAAAAAAAAAAAAAAAAAAAAAAAAAAAAAAAAAAAAAAAAAAAAAAAAAAAAAAAAAAAAAAAAAAAAAAAAAAAAAAAAAAAAAAAAAAAAAAAAAAAAAAAAAAAAAAAAAAAAAAAAAAAAAAAAAAAAAAAAAAAAAAAAAAAAAAAAAAAAAAAAAAAAAAAAAAAAAAAAAAAAAAAAAAAAAAAAAAAAAAAAAAAAAAAAAAAAAAAAAAAAAAAAAAAAAAAAAAAAAAAAAAAAAAAAAAAAAAAAAAAAAAAAAAAAAAAAAAAAAAAAAAAAAAAAAAAAAAAAAAAAAAAAAAAAAAAAAAAAAAAAAAAAAAAAAAAAAAAAAAAAAAAAAAAAAAAAAAAAAAAAAAAAAAAAAAAAAAAAAAAAAAAAAAAAAAAAAAAAAAAAAAAAAAAAAAAAAAAAAAAAAAAAAAAAAAAAAAAAAAAAAAAAAAAAAAAAAAAAAAAAAAAAAAAAAAAAAAAAAAAAAAAAAAAAAAAAAAAAAAAAAAAAAAAAAAAAAAAAAAAAAAAAAAAAAAAAAAAAAAAAAAAAAAAAAAAAAAAAAAAAAAAAAAAAAAAAAAAAAAAAAAAAAAAAAAAAAAAAAAAAAAAAAAAAAAAAAAAAAAAAAAAAAAAAAAAAAAAAAAAAAAAAAAAAAAAAAAAAAAAAAAAAAAAAAAAAAAAAAAAAAAAAAAAAAAAAAAAAAAAAAAAAAAAAAAAAAAAAAAAAAAAAAAAAAAAAAAAAAAAAAAAAAAAAAAAAAAAAAAAAAAAAAAAAAAAAAAAAAAAAAAAAAAAAAAAAAAAAAAAAAAAAAAAAAAAAAAAAAAAAAAAAAAAAAAAAAAAAAAAAAAAAAAAAAAAAAAAAAAAAAAAAAAAAAAAAAAAAAAAAAAAAAAAAAAAAAAAAAAAAAAAAAAAAAAAAAAAAAAAAAAAAAAAAAAAAAAAAAAAAAAAAAAAAAAAAAAAAAAAAAAAAAAAAAAAAAAAAAAAAAAAAAAAAAAAAAAAAAAAAAAAAAAAAAAAAAAAAAAAAAAAAAAAAAAAAAAAAAAAAAAAAAAAAAAAAAAAAAAAAAAAAAAAAAAAAAAAAAAAAAAAAAAAAAAAAAAAAAAAAAAAAAAAAAAAAAAAAAAAAAAAAAAAAAAAAAAAAAAAAAAAAAAAAAAAAAAAAAAAAAAAAAAAAAAAAAAAAAAAAAAAAAAAAAAAAAAAAAAAAAAAAAAAAAAAAAAAAAAAAAAAAAAAAAAAAAAAAAAAAAAAAAAAAAAAAAAAAAAAAAAAAAAAAAAAAAAAAAAAAAAAAAAAAAAAAAAAAAAAAAAAAAAAAAAAAAAAAAAAAAAAAAAAAAAAAAAAAAAAAAAAAAAAAAAAAAAAAAAAAAAAAAAAAAAAAAAAAAAAAAAAAAAAAAAAAAAAAAAAAAAAAAAAAAAAAAAAAAAAAAAAAAAAAAAAAAAAAAAAAAAAAAAAAAAAAAAAAAAAAAAAAAAAAAAAAAAAAAAAAAAAAAAAAAAAAAAAAAAAAAAAAAAAAAAAAAAAAAAAAAAAAAAAAAAAAAAAAAAAAAAAAAAAAAAAAAAAAAAAAAAAAAAAAAAAAAAAAAAAAAAAAAAAAAAAAAAAAAAAAAAAAAAAAAAAAAAAAAAAAAAAAAAAAAAAAAAAAAAAAAAAAAAAAAAAAAAAAAAAAAAAAAAAAAAAAAAAAAAAAAAAAAAAAAAAAAAAAAAAAAAAAAAAAAAAAAAAAAAAAAAAAAAAAAAAAAAAAAAAAAAAAAAAAAAAAAAAAAAAAAAAAAAAAAAAAAAAAAAAAAAAAAAAAAAAAAAAAAAAAAAAAAAAAAAAAAAAAAAAAAAAAAAAAAAAAAAAAAAAAAAAAAAAAAAAAAAAAAAAAAAAAAAAAAAAAAAAAAAAAAAAAAAAAAAAAAAAAAAAAAAAAAAAAAAAAAAAAAAAAAAAAAAAAAAAAAAAAAAAAAAAAAAAAAAAAAAAAAAAAAAAAAAAAAAAAAAAAAAAAAAAAAAAAAAAAAAAAAAAAAAAAAAAAAAAAAAAAAAAAAAAAAAAAAAAAAAAAAAAAAAAAAAAAAAAAAAAAAAAAAAAAAAAAAAAAAAAAAAAAAAAAAAAAAAAAAAAAAAAAAAAAAAAAAAAAAAAAAAAAAAAAAAAAAAAAAAAAAAAAAAAAAAAAAAAAAAAAAAAAAAAAAAAAAAAAAAAAAAAAAAAAAAAAAAAAAAAAAAAAAAAAAAAAAAAAAAAAAAAAAAAAAAAAAAAAAAAAAAAAAAAAAAAAAAAAAAAAAAAAAAAAAAAAAAAAAAAAAAAAAAAAAAAAAAAAAAAAAAAAAAAAAAAAAAAAAAAAAAAAAAAAAAAAAAAAAAAAAAAAAAAAAAAAAAAAAAAAAAAAAAAAAAAAAAAAAAAAAAAAAAAAAAAAAAAAAAAAAAAAAAAAAAAAAAAAAAAAAAAAAAAAAAAAAAAAAAAAAAAAAAAAAAAAAAAAAAAAAAAAAAAAAAAAAAAAAAAAAAAAAAAAAAAAAAAAAAAAAAAAAAAAAAAAAAAAAAAAAAAAAAAAAAAAAAAAAAAAAAAAAAAAAAAAAAAAAAAAAAAAAAAAAAAAAAAAAAAAAAAAAAAAAAAAAAAAAAAAAAAAAAAAAAAAAAAAAAAAAAAAAAAAAAAAAAAAAAAAAAAAAAAAAAAAAAAAAAAAAAAAAAAAAAAAAAAAAAAAAAAAAAAAAAAAAAAAGFzdXMAAAAFkAMAAgAAABQAABCekAQAAgAAABQAABCykpEAAgAAAAMyMwAAkpIAAgAAAAMyMwAA6hwABwAACAwAAAiSAAAAABzqAAAACAAAAAAAAAAAAAAAAAAAAAAAAAAAAAAAAAAAAAAAAAAAAAAAAAAAAAAAAAAAAAAAAAAAAAAAAAAAAAAAAAAAAAAAAAAAAAAAAAAAAAAAAAAAAAAAAAAAAAAAAAAAAAAAAAAAAAAAAAAAAAAAAAAAAAAAAAAAAAAAAAAAAAAAAAAAAAAAAAAAAAAAAAAAAAAAAAAAAAAAAAAAAAAAAAAAAAAAAAAAAAAAAAAAAAAAAAAAAAAAAAAAAAAAAAAAAAAAAAAAAAAAAAAAAAAAAAAAAAAAAAAAAAAAAAAAAAAAAAAAAAAAAAAAAAAAAAAAAAAAAAAAAAAAAAAAAAAAAAAAAAAAAAAAAAAAAAAAAAAAAAAAAAAAAAAAAAAAAAAAAAAAAAAAAAAAAAAAAAAAAAAAAAAAAAAAAAAAAAAAAAAAAAAAAAAAAAAAAAAAAAAAAAAAAAAAAAAAAAAAAAAAAAAAAAAAAAAAAAAAAAAAAAAAAAAAAAAAAAAAAAAAAAAAAAAAAAAAAAAAAAAAAAAAAAAAAAAAAAAAAAAAAAAAAAAAAAAAAAAAAAAAAAAAAAAAAAAAAAAAAAAAAAAAAAAAAAAAAAAAAAAAAAAAAAAAAAAAAAAAAAAAAAAAAAAAAAAAAAAAAAAAAAAAAAAAAAAAAAAAAAAAAAAAAAAAAAAAAAAAAAAAAAAAAAAAAAAAAAAAAAAAAAAAAAAAAAAAAAAAAAAAAAAAAAAAAAAAAAAAAAAAAAAAAAAAAAAAAAAAAAAAAAAAAAAAAAAAAAAAAAAAAAAAAAAAAAAAAAAAAAAAAAAAAAAAAAAAAAAAAAAAAAAAAAAAAAAAAAAAAAAAAAAAAAAAAAAAAAAAAAAAAAAAAAAAAAAAAAAAAAAAAAAAAAAAAAAAAAAAAAAAAAAAAAAAAAAAAAAAAAAAAAAAAAAAAAAAAAAAAAAAAAAAAAAAAAAAAAAAAAAAAAAAAAAAAAAAAAAAAAAAAAAAAAAAAAAAAAAAAAAAAAAAAAAAAAAAAAAAAAAAAAAAAAAAAAAAAAAAAAAAAAAAAAAAAAAAAAAAAAAAAAAAAAAAAAAAAAAAAAAAAAAAAAAAAAAAAAAAAAAAAAAAAAAAAAAAAAAAAAAAAAAAAAAAAAAAAAAAAAAAAAAAAAAAAAAAAAAAAAAAAAAAAAAAAAAAAAAAAAAAAAAAAAAAAAAAAAAAAAAAAAAAAAAAAAAAAAAAAAAAAAAAAAAAAAAAAAAAAAAAAAAAAAAAAAAAAAAAAAAAAAAAAAAAAAAAAAAAAAAAAAAAAAAAAAAAAAAAAAAAAAAAAAAAAAAAAAAAAAAAAAAAAAAAAAAAAAAAAAAAAAAAAAAAAAAAAAAAAAAAAAAAAAAAAAAAAAAAAAAAAAAAAAAAAAAAAAAAAAAAAAAAAAAAAAAAAAAAAAAAAAAAAAAAAAAAAAAAAAAAAAAAAAAAAAAAAAAAAAAAAAAAAAAAAAAAAAAAAAAAAAAAAAAAAAAAAAAAAAAAAAAAAAAAAAAAAAAAAAAAAAAAAAAAAAAAAAAAAAAAAAAAAAAAAAAAAAAAAAAAAAAAAAAAAAAAAAAAAAAAAAAAAAAAAAAAAAAAAAAAAAAAAAAAAAAAAAAAAAAAAAAAAAAAAAAAAAAAAAAAAAAAAAAAAAAAAAAAAAAAAAAAAAAAAAAAAAAAAAAAAAAAAAAAAAAAAAAAAAAAAAAAAAAAAAAAAAAAAAAAAAAAAAAAAAAAAAAAAAAAAAAAAAAAAAAAAAAAAAAAAAAAAAAAAAAAAAAAAAAAAAAAAAAAAAAAAAAAAAAAAAAAAAAAAAAAAAAAAAAAAAAAAAAAAAAAAAAAAAAAAAAAAAAAAAAAAAAAAAAAAAAAAAAAAAAAAAAAAAAAAAAAAAAAAAAAAAAAAAAAAAAAAAAAAAAAAAAAAAAAAAAAAAAAAAAAAAAAAAAAAAAAAAAAAAAAAAAAAAAAAAAAAAAAAAAAAAAAAAAAAAAAAAAAAAAAAAAAAAAAAAAAAAAAAAAAAAAAAAAAAAAAAAAAAAAAAAAAAAAAAAAAAAAAAAAAAAAAAAAAAAAAAAAAAAAAAAAAAAAAAAAAAAAAAAAAAAAAAAAAAAAAAAAAAAAAAAAAAAAAAAAAAAAAAAAAAAAAAAAAAAAAAAAAAAAAAAAAAAAAAAAAAAAAAAAAAAAAAAAAAAAAAAAAAAAAAAAAAAAAAAAAAAAAAAAAAAAAAAAAAAAAAAAAAAAAAAAAAAAAAAAAAAAAAAAAAAAAAAAAAAAAAAAAAAAAAAAAAAAAAAAAAAAAAAAAAAAAAAAAAAAAAAAAAAAAAAAAAAAAAAAAAAAAAAAAAAAAAAAAAAAAAAAAAAAAAAAAAAAAAAAAAAAAAAAAAAAAAAAAAAAAAAAAAAAAAAAAAAAAAAAAAAAAAAAAAAAAAAAAAAAAAAAAAAAAAAAAAAAAAAAAAAAAAAAAAAAAAAAAAAAAAAAAAAAAAAAAAAAAAAAAAAAAAAAAAAAAAAAAAAAAAAAAAAAAAAAAAAAAAAAAAAAAAAAAAAAAAAAAAAAAAAAAAAAAAAAAAAAAAAAAAAAAAAAAAAAAAAAAAAAAAAAAAAAAAAAAAAAAAAAAAAAAAAAAAAAAAAAAAAAAAAAAAAAAAAAAAAAAAAAAAAAAAAAAAAAAAAAAAAAAAAAAAAAAAAAAAAAAAAAAAAAAAAAAAAAAAAAAAAAAAAAAAAAAAAAAAAAAAAAAAAAAAAAAAAAAMjAyMTowMzoyOCAxOTowMjo0MAAyMDIxOjAzOjI4IDE5OjAyOjQwAAAAYQBzAHUAcwAAAP/hCxdodHRwOi8vbnMuYWRvYmUuY29tL3hhcC8xLjAvADw/eHBhY2tldCBiZWdpbj0n77u/JyBpZD0nVzVNME1wQ2VoaUh6cmVTek5UY3prYzlkJz8+DQo8eDp4bXBtZXRhIHhtbG5zOng9ImFkb2JlOm5zOm1ldGEvIj48cmRmOlJERiB4bWxuczpyZGY9Imh0dHA6Ly93d3cudzMub3JnLzE5OTkvMDIvMjItcmRmLXN5bnRheC1ucyMiPjxyZGY6RGVzY3JpcHRpb24gcmRmOmFib3V0PSJ1dWlkOmZhZjViZGQ1LWJhM2QtMTFkYS1hZDMxLWQzM2Q3NTE4MmYxYiIgeG1sbnM6ZGM9Imh0dHA6Ly9wdXJsLm9yZy9kYy9lbGVtZW50cy8xLjEvIi8+PHJkZjpEZXNjcmlwdGlvbiByZGY6YWJvdXQ9InV1aWQ6ZmFmNWJkZDUtYmEzZC0xMWRhLWFkMzEtZDMzZDc1MTgyZjFiIiB4bWxuczp4bXA9Imh0dHA6Ly9ucy5hZG9iZS5jb20veGFwLzEuMC8iPjx4bXA6Q3JlYXRlRGF0ZT4yMDIxLTAzLTI4VDE5OjAyOjQwLjIyODwveG1wOkNyZWF0ZURhdGU+PC9yZGY6RGVzY3JpcHRpb24+PHJkZjpEZXNjcmlwdGlvbiByZGY6YWJvdXQ9InV1aWQ6ZmFmNWJkZDUtYmEzZC0xMWRhLWFkMzEtZDMzZDc1MTgyZjFiIiB4bWxuczpkYz0iaHR0cDovL3B1cmwub3JnL2RjL2VsZW1lbnRzLzEuMS8iPjxkYzpjcmVhdG9yPjxyZGY6U2VxIHhtbG5zOnJkZj0iaHR0cDovL3d3dy53My5vcmcvMTk5OS8wMi8yMi1yZGYtc3ludGF4LW5zIyI+PHJkZjpsaT5hc3VzPC9yZGY6bGk+PC9yZGY6U2VxPg0KCQkJPC9kYzpjcmVhdG9yPjwvcmRmOkRlc2NyaXB0aW9uPjwvcmRmOlJERj48L3g6eG1wbWV0YT4NCiAgICAgICAgICAgICAgICAgICAgICAgICAgICAgICAgICAgICAgICAgICAgICAgICAgICAgICAgICAgICAgICAgICAgICAgICAgICAgICAgICAgICAgICAgICAgICAgICAgICAKICAgICAgICAgICAgICAgICAgICAgICAgICAgICAgICAgICAgICAgICAgICAgICAgICAgICAgICAgICAgICAgICAgICAgICAgICAgICAgICAgICAgICAgICAgICAgICAgICAgIAogICAgICAgICAgICAgICAgICAgICAgICAgICAgICAgICAgICAgICAgICAgICAgICAgICAgICAgICAgICAgICAgICAgICAgICAgICAgICAgICAgICAgICAgICAgICAgICAgICAgCiAgICAgICAgICAgICAgICAgICAgICAgICAgICAgICAgICAgICAgICAgICAgICAgICAgICAgICAgICAgICAgICAgICAgICAgICAgICAgICAgICAgICAgICAgICAgICAgICAgICAKICAgICAgICAgICAgICAgICAgICAgICAgICAgICAgICAgICAgICAgICAgICAgICAgICAgICAgICAgICAgICAgICAgICAgICAgICAgICAgICAgICAgICAgICAgICAgICAgICAgIAogICAgICAgICAgICAgICAgICAgICAgICAgICAgICAgICAgICAgICAgICAgICAgICAgICAgICAgICAgICAgICAgICAgICAgICAgICAgICAgICAgICAgICAgICAgICAgICAgICAgCiAgICAgICAgICAgICAgICAgICAgICAgICAgICAgICAgICAgICAgICAgICAgICAgICAgICAgICAgICAgICAgICAgICAgICAgICAgICAgICAgICAgICAgICAgICAgICAgICAgICAKICAgICAgICAgICAgICAgICAgICAgICAgICAgICAgICAgICAgICAgICAgICAgICAgICAgICAgICAgICAgICAgICAgICAgICAgICAgICAgICAgICAgICAgICAgICAgICAgICAgIAogICAgICAgICAgICAgICAgICAgICAgICAgICAgICAgICAgICAgICAgICAgICAgICAgICAgICAgICAgICAgICAgICAgICAgICAgICAgICAgICAgICAgICAgICAgICAgICAgICAgCiAgICAgICAgICAgICAgICAgICAgICAgICAgICAgICAgICAgICAgICAgICAgICAgICAgICAgICAgICAgICAgICAgICAgICAgICAgICAgICAgICAgICAgICAgICAgICAgICAgICAKICAgICAgICAgICAgICAgICAgICAgICAgICAgICAgICAgICAgICAgICAgICAgICAgICAgICAgICAgICAgICAgICAgICAgICAgICAgICAgICAgICAgICAgICAgICAgICAgICAgIAogICAgICAgICAgICAgICAgICAgICAgICAgICAgICAgICAgICAgICAgICAgICAgICAgICAgICAgICAgICAgICAgICAgICAgICAgICAgICAgICAgICAgICAgICAgICAgICAgICAgCiAgICAgICAgICAgICAgICAgICAgICAgICAgICAgICAgICAgICAgICAgICAgICAgICAgICAgICAgICAgICAgICAgICAgICAgICAgICAgICAgICAgICAgICAgICAgICAgICAgICAKICAgICAgICAgICAgICAgICAgICAgICAgICAgICAgICAgICAgICAgICAgICAgICAgICAgICAgICAgICAgICAgICAgICAgICAgICAgICAgICAgICAgICAgICAgICAgICAgICAgIAogICAgICAgICAgICAgICAgICAgICAgICAgICAgICAgICAgICAgICAgICAgICAgICAgICAgICAgICAgICAgICAgICAgICAgICAgICAgICAgICAgICAgICAgICAgICAgICAgICAgCiAgICAgICAgICAgICAgICAgICAgICAgICAgICAgICAgICAgICAgICAgICAgICAgICAgICAgICAgICAgICAgICAgICAgICAgICAgICAgICAgICAgICAgICAgICAgICAgICAgICAKICAgICAgICAgICAgICAgICAgICAgICAgICAgICAgICAgICAgICAgICAgICAgICAgICAgICAgICAgICAgICAgICAgICAgICAgICAgICAgICAgICAgICAgICAgICAgICAgICAgIAogICAgICAgICAgICAgICAgICAgICAgICAgICAgICAgICAgICAgICAgICAgICAgICAgICAgICAgICAgICAgICAgICAgICAgICAgICAgICAgICAgICAgICAgICAgICAgICAgICAgCiAgICAgICAgICAgICAgICAgICAgICAgICAgICAgICAgICAgICAgICAgICAgICAgICAgICAgICAgICAgICAgICAgICAgICAgICAgICAgICAgICAgICAgICAgICAgICAgICAgICAKICAgICAgICAgICAgICAgICAgICAgICAgICAgICAgICAgICAgICAgICAgICAgICAgICAgICAgICAgICAgICAgICAgICAgICAgICAgICAgICAgICAgICAgICAgICAgICAgICAgIAogICAgICAgICAgICAgICAgICAgICAgICAgICAgPD94cGFja2V0IGVuZD0ndyc/Pv/bAEMABwUFBgUEBwYFBggHBwgKEQsKCQkKFQ8QDBEYFRoZGBUYFxseJyEbHSUdFxgiLiIlKCkrLCsaIC8zLyoyJyorKv/bAEMBBwgICgkKFAsLFCocGBwqKioqKioqKioqKioqKioqKioqKioqKioqKioqKioqKioqKioqKioqKioqKioqKioqKv/AABEIAnUFVgMBIgACEQEDEQH/xAAfAAABBQEBAQEBAQAAAAAAAAAAAQIDBAUGBwgJCgv/xAC1EAACAQMDAgQDBQUEBAAAAX0BAgMABBEFEiExQQYTUWEHInEUMoGRoQgjQrHBFVLR8CQzYnKCCQoWFxgZGiUmJygpKjQ1Njc4OTpDREVGR0hJSlNUVVZXWFlaY2RlZmdoaWpzdHV2d3h5eoOEhYaHiImKkpOUlZaXmJmaoqOkpaanqKmqsrO0tba3uLm6wsPExcbHyMnK0tPU1dbX2Nna4eLj5OXm5+jp6vHy8/T19vf4+fr/xAAfAQADAQEBAQEBAQEBAAAAAAAAAQIDBAUGBwgJCgv/xAC1EQACAQIEBAMEBwUEBAABAncAAQIDEQQFITEGEkFRB2FxEyIygQgUQpGhscEJIzNS8BVictEKFiQ04SXxFxgZGiYnKCkqNTY3ODk6Q0RFRkdISUpTVFVWV1hZWmNkZWZnaGlqc3R1dnd4eXqCg4SFhoeIiYqSk5SVlpeYmZqio6Slpqeoqaqys7S1tre4ubrCw8TFxsfIycrS09TV1tfY2dri4+Tl5ufo6ery8/T19vf4+fr/2gAMAwEAAhEDEQA/APSf+Gffhj/0LP8A5ULn/wCOUf8ADPvwx/6Fn/yoXP8A8cr0iigDzf8A4Z9+GP8A0LP/AJULn/45R/wz78Mf+hZ/8qFz/wDHK9IooA83/wCGffhj/wBCz/5ULn/45R/wz78Mf+ha/wDKhc//AByvSKKAPN/+Gffhj/0LP/lQuf8A45R/wz78Mf8AoWf/ACoXP/xyvSKKAPN/+Gfvhl/0LR/8GFz/APHKP+Gfvhl/0LR/8GFz/wDHK9IooA83/wCGfvhl/wBC0f8AwYXP/wAco/4Z++GX/QtH/wAGFz/8cr0iigDzf/hn74Zf9C0f/Bhc/wDxyj/hn74Zf9C0f/Bhc/8AxyvSKKAPN/8Ahn74Zf8AQtH/AMGFz/8AHKP+Gfvhl/0LR/8ABhc//HK9IooA83/4Z++GX/QtH/wYXP8A8co/4Z++GX/QtH/wYXP/AMcr0iigDzf/AIZ++GX/AELR/wDBhc//AByj/hn74Zf9C0f/AAYXP/xyvSKKAPN/+Gfvhl/0LR/8GFz/APHKP+Gfvhl/0LR/8GFz/wDHK9IooA83/wCGfvhl/wBC0f8AwYXP/wAco/4Z++GX/QtH/wAGFz/8cr0iigDzf/hn74Zf9C0f/Bhc/wDxyl/4Z/8Ahn/0LZ/8GF1/8cr0eigDzj/hn/4Z/wDQtn/wYXX/AMco/wCGf/hn/wBC2f8AwYXX/wAcr0eigDzj/hn/AOGf/Qtn/wAGF1/8co/4Z/8Ahn/0LZ/8GF1/8cr0eigDzj/hn/4Z/wDQtn/wYXX/AMco/wCGf/hn/wBC2f8AwYXX/wAcr0eigDzj/hn/AOGf/Qtt/wCDC6/+OUf8KA+Gf/Qtt/4MLr/45Xo9FAHnH/CgPhn/ANC23/gwuv8A45R/woD4af8AQuN/4MLr/wCOV6PRQB5x/wAKA+Gn/QuN/wCDG6/+OUv/AAoH4af9C43/AIMbr/45Xo1FAHnP/Cgfhp/0Ljf+DG6/+OUf8KB+Gv8A0Ljf+DG6/wDjlejUUAec/wDCgvhr/wBC63/gxuv/AI7R/wAKC+Gv/Quv/wCDG6/+O16NRQB5z/woL4a/9C6//gxuv/jtL/woP4bf9C6//gxuv/jtei0UAedf8KD+G3/QvP8A+DG6/wDjtH/Cg/ht/wBC8/8A4Mbr/wCO16LRQB51/wAKE+G3/QvP/wCDK6/+O0f8KE+G/wD0L0n/AIMrr/47XotFAHnf/Chfhv8A9C/J/wCDK6/+O0f8KF+G/wD0L8n/AIMrr/47XolFAHng+A3w5HTQJR/3Err/AOO0f8KI+HX/AEAZf/Bndf8Ax2vQ6KAPPP8AhRHw6/6AMv8A4M7r/wCO0v8Awon4df8AQCm/8Gd1/wDHa9CooA89/wCFE/Dv/oBTf+DO7/8AjtH/AAor4d/9AKb/AMGd3/8AHa9CooA89/4UV8O/+gHN/wCDO7/+O0v/AAor4ef9AOb/AMGd3/8AHa9BooA8+/4UX8PP+gHP/wCDS7/+O0f8KL+Hn/QDn/8ABpd//Ha9BooA8+/4UX8Pf+gJP/4NLv8A+O0f8KM+Hv8A0BJ//Bpd/wDx2vQaKAPPv+FGfD3/AKAk/wD4NLv/AOO0v/CjPh7/ANASf/waXf8A8dr0CigDz/8A4Ub8Pv8AoC3H/g0u/wD47R/wo34ff9AW4/8ABpd//Ha9AooA8/8A+FG/D7/oC3H/AINLv/47R/wo74ff9AW4/wDBpd//AB2vQKKAPP8A/hR3w+/6Atx/4NLv/wCO0v8Awo74f/8AQFuP/Bpd/wDx2u/ooA4D/hR3w/8A+gNcf+DW7/8AjtH/AAo/4f8A/QGuP/Brd/8Ax2u/ooA4D/hR/wAP/wDoDXH/AINbv/47R/wo/wCH/wD0Brj/AMGt3/8AHa7+igDgP+FH/D//AKA1x/4Nbv8A+O0f8KP+H/8A0Brj/wAGt3/8drv6KAOA/wCFH/D/AP6A1x/4Nbv/AOO0f8KP+H//AEBrj/wa3f8A8drv6KAOA/4Uf8P/APoDXH/g1u//AI7R/wAKP+H/AP0Brj/wa3f/AMdrv6KAOA/4Uf8AD/8A6A1x/wCDW7/+O0f8KP8Ah/8A9Aa4/wDBrd//AB2u/ooA4D/hR/w//wCgNcf+DW7/APjtRt8B/hy7Fn0CVmPUnUro/wDtWvQ6KAPOv+FCfDf/AKF+T/wZXX/x2j/hQnw3/wChfk/8GV1/8dr0WigDzr/hQnw3/wChek/8GV1/8do/4UJ8N/8AoXpP/Bldf/Ha9FooA86/4UJ8Nv8AoXn/APBjdf8Ax2j/AIUH8Nv+hef/AMGN1/8AHa9FooA86/4UH8Nv+hef/wAGN1/8do/4UH8Nv+hdf/wY3X/x2vRaKAPOf+FBfDX/AKF1/wDwY3X/AMdo/wCFBfDX/oXX/wDBjdf/AB2vRqKAPOf+FBfDX/oXW/8ABjdf/HaP+FA/DX/oXG/8GN1/8cr0aigDzn/hQPw0/wChcb/wY3X/AMco/wCFA/DT/oXG/wDBjdf/AByvRqKAPOP+FAfDT/oXG/8ABjdf/HKP+FAfDT/oXG/8GF1/8cr0eigDzofAP4bAYHh5wP8AsI3X/wAdo/4UJ8Nv+hef/wAGV1/8dr0WigDzr/hQfw2/6F5//Bjdf/HaP+FB/Db/AKF5/wDwY3X/AMdr0WigDzr/AIUH8Nv+hdf/AMGN1/8AHaT/AIUF8Nf+hdf/AMGN1/8AHa9GooA85/4UF8Nf+hdf/wAGN1/8do/4UF8Nf+hdb/wY3X/x2vRqKAPOf+FBfDX/AKF1v/Bjdf8Axyj/AIUD8NP+hcb/AMGN1/8AHK9GooA85/4UD8NP+hcb/wAGN1/8co/4UD8NP+hcb/wY3X/xyvRqKAPOP+FAfDT/AKFxv/Bjdf8Axyj/AIUB8NP+hcb/AMGF1/8AHK9HooA84/4UB8M/+hbb/wAGF1/8co/4UB8M/wDoW2/8GF1/8cr0eigDzj/hn/4Z/wDQtn/wYXX/AMco/wCGf/hn/wBC2f8AwYXX/wAcr0eigDzj/hn/AOGf/Qtn/wAGF1/8co/4Z/8Ahl/0LZ/8GF1/8cr0eigDzf8A4Z++GX/QtH/wYXP/AMco/wCGfvhl/wBC0f8AwYXP/wAcr0iigDzf/hn74Zf9C0f/AAYXP/xyj/hn74Zf9C0f/Bhc/wDxyvSKKAPN/wDhn74Zf9C0f/Bhc/8Axyj/AIZ++GX/AELR/wDBhc//AByvSKKAPN/+Gfvhl/0LR/8ABhc//HKP+Gffhl/0LX/lQuf/AI5XpFFAHm//AAz78Mf+hZ/8qFz/APHKP+Gffhj/ANCz/wCVC5/+OV6RRQB5v/wz98Mh08NH/wAGFz/8co/4Z++GX/QtH/wYXP8A8cr0iigDzj/hn/4Z/wDQtn/wYXX/AMco/wCGf/hn/wBC2f8AwYXX/wAcr0eigDzj/hn/AOGf/Qtn/wAGF1/8co/4UB8M/wDoW2/8GF1/8cr0eigDzj/hQHwz/wChbb/wYXX/AMco/wCFAfDT/oXG/wDBhdf/AByvR6KAPOP+FAfDT/oXG/8ABjdf/HKX/hQPw0/6Fxv/AAY3X/xyvRqKAPOf+FA/DT/oXG/8GN1/8co/4UD8NP8AoXG/8GN1/wDHK9FDK2dpBwcHB6GloA85/wCFBfDX/oXW/wDBjdf/AByj/hQXw1/6F1v/AAY3X/x2vRqKAPOf+FBfDX/oXX/8GN1/8dpf+FBfDX/oXX/8GN1/8dr0Wqs+qWFq+26vraFvSSZVP6mmk3sJyUVds4T/AIUH8Nv+hdf/AMGN1/8AHaP+FB/Db/oXn/8ABjdf/Ha7+3vLa7BNrcQzgdTG4b+VTUNNbgmmro86/wCFB/Db/oXn/wDBjdf/AB2j/hQfw2/6F5//AAY3X/x2vRaKQzzr/hQnw2/6F5//AAY3X/x2j/hQnw2/6F5//Bldf/Ha9FooA87/AOFCfDf/AKF+T/wZXX/x2j/hQvw3/wChfk/8GV1/8dr0SigDzv8A4UL8N/8AoX5P/Bldf/HaP+FC/Dj/AKF+T/wZXX/x2vRKKAPO/wDhQ3w4/wCgBJ/4Mrr/AOO0f8KG+HH/AEAJP/Bldf8Ax2vRKKAPO/8AhQ3w4/6F+T/wZXX/AMdo/wCFDfDj/oASf+DK6/8AjteiUUAed/8AChvhx/0AJP8AwZXX/wAdpf8AhQ/w5/6AEv8A4Mrr/wCO16HRQB55/wAKH+HP/QAl/wDBldf/AB2j/hQ/w5/6AMv/AIM7r/47XodFAHnn/CiPh1/0AZf/AAZ3X/x2j/hRHw6/6AMv/gzuv/jteh0UAee/8KJ+HX/QCm/8Gd1/8dp0fwN+H0Mgkh0W4jdejLql2CPx82vQKKabTugPPZvgT8O7mYy3GhTSyHgvJqd2zH8TLUf/AAoL4a/9C6//AIMbr/47Xo1FNyk9WwPOf+FBfDX/AKF1v/Bjdf8AxyivRqKm4BRRRQAUUV4r4k8eeJ/Fni6Xw94DLxRQMytLEQGk2nDOXP3VB6Y6++QK68LhJ4mTUWklq29kc9fERopN6t7JHtVFeKaenxY8L67axSifWIbhsFJJfOjI75c8x9epIH16VrfEf4i6rYazD4Z8KxkanIE851UO6M4yI1HTOCCT7jFdP9mTlVUKc4yvrdPRJd+xj9dioOU4tW6W/I9Vorwa/h+KvhGz/tq81CeeCPDTIbgTrGP9pTxj3HT1ra8Q/Ee81f4Sw61pE76fqCXyW9yIT91trE4z/CeD+nareVzbi6c1JN2uuj8yVjo2fPFppXsz1+iua+HmoXWqeANLvdQna4uZY2Mkj9WO9h/IV5novi3xFeeLvFdm+rTtHa2V+1sjEYidDhCOO1YU8BOpKpFNe5v99jWeKjCMG18R7jRXz54V1b4i+N4LjTtK1eRI42Dz3kkmwoDwFDAZHQnA54q/4v8AFfiLVPiAfCukaz/Y9tbuLdJpJzFvYLks8g+bJPA/D1zXU8oqKr7LnV0m35L/AIJgswi4c/K9dF5s90orzHwTYfEfSPE32TW7lNR0gKDJcTXHmAgjgxsRvJ9iMfTg1keKPHHifxP4ym8MeBGaFLdmSSeMgM5U4Zi5+6oPHHJ/ECsI5dKdVwhOLSV276JeZq8ZGMOaUWne1urPZaK8KvNV+Ivw1uba9128/tPT5pNrq83mox67dxG5DjJHbjvjFXPin461O3bQ7zw1qc9ra31n5+EIGcnjPuOlaxyqpOpGMJJqV7NbaEPHwjCTlFprp6ntNFeVadq3ijw1peo+MvG90ZI57dVstMSUhVd2yoKD5V4A55IGc81zOmzfFDxysmr6bfzW1ruIjCTCCM4/hUDrjpk/nUxyyTvJ1IqK0vfS/ZDljUrJQbb6dbdz3uivn+08b+NR8QtH0fXLya2kivLe1uYFUKJQZBktjg5DdRwRivoCufF4KeEceZp3V9DbD4mNe/KmrdwqCW7SG8t7dgxe43bSBwNoyc1PWZff8h7S/wDtt/6CK4TpNOiiigApks0cEZkmdY0HVmOBTmJCkgEnHQd68J8VeJxqmrXCaz5kIjKxNFCvG0MeCc8kZI3Y4zxmolNRaXcuEJzdoK57qjrIoaNgynoVOQadXiXgvxNNYaxZW+mxTTQ3gCIJ4tm5N5+62eOWHYA469q9fudT+z3Bi+xXcuCBviiyvIznP6URlzNojW9mXqKzG1lgcf2bfH/tkOOG9/8AZx+I9aG1orn/AIl18QOhEPB4J/pj8RVgadFNjfzI1cqybgDtYYI9jTqACiimyOUXgZYnAHvQA6ioRFEzlZCJZAASG5wD047Dg/lSEKm5oCDsOHQHjpnGOxwQaAJ6KAQQCOQelFABRRRQAUUUUAFFFFABRRRQAUUUUAFFFFABRRRQAUUUUAFFFFABRRRQAUUUUAFFFFABRRRQAUUUUAFFFFABRRRQAUUUUAFFFFABRRRQAUUUUAFFFFABRRRQAUUUUAFFFFABRRRQAUUUUAFFFFABRRRQAUUUUAFFFFABRRRQAUUUUAFFFFABRRRQAUUUUAFFFFABRRRQAUUUUAFFFFABRRRQAUUUUAFFFFABRRRQAUUUUAFFFFABRRRQAUUUUAFFFFABRRRQAUUUUAFFFFAFez/5b/8AXZqsVXs/+W//AF2arFABUc88VrbvPcOI4o1LMzdAKkrh/iTqbRWdtp0TY84mSXHdR0H58/hW1Gm6tRQOfE11h6LqPoYPiLxrearM8NhI9rZg4AU4aT3J/pXNRxyTPtiRpG64UZNMr1L4dw26+GzNEg855WEr45OOg+mMfnXu1JQwlK8UfJ0YVMwr2qS/ryPMY5ZbeYPE7xSKeGUlSDXe+EvG7zTpp+tOGZztiuDxk+jf4/nVH4kw28WsWzxIFmkiLSkD73OAfr1rjafLDFUk5LcSqVcBiHGLvb7me+0VjeFNTbVfDdtPK26VQY5Ce5XjP4jB/GtRLmCS4lt45o3mhCmSNXBZAemR1GcHFfOzi4ScX0PsqdRVIKcdmS0VFa3dvewCezniuIiSokicMpIOCMj0II+oqWpLCiora5gvLZLi0mjngkGUlicMrD1BHBqWgAooqKa6gt3iSeeOJpn8uJXcAyNgnauepwCcD0NAEtFQWV7BqFlFd2cnmQTLuR9pGR9DzS3l3BYWM95dv5cFvG0sr4J2qoyTgcngdqA3JqKq3uqWGm2QvNRvbeztjgedcSiNeegy2BTrG/s9TtFutNu4Lu3fO2a3kEiNg4OGHHWgCxRUFzfW9pLbR3Emx7qXyYRtJ3PtZscdOFY8+lT0AFFFFABRRRQAUUUUAFFFFABRRRQAUUUUAFfPvgPWLf4cfEHVNP8AEoeFZAYDcFSdpDZVj32sOcj2r6Crn/E3gjQfFqodYs90yDCTxMUkUemR1Hsc16OCxNOkp0qyfLNa23VtjjxNGdRxnTfvR7mJqPxh8J2F/b28d3JeLKf3k1tGWWEdic4z+Ga4DxJdHwd8c4fEGoQySWFwwnjbaclGi2NgHupJOPYdM16RoPwq8LaBfJeW9pJc3EZ3RvdSb9h9QMAZ98ZFdBrvh7S/Emn/AGPWrRLmHO5c5DIfVSOQfpXVTxWDw1S1JNxaalfd37GM6GIrQvNpNNNfLucZ4v8Aij4X/wCEPvY9Pv0vri8t3hihjVsgupGWyBgDPfmvMYNBvoPghfajJE4huNShkQH/AJ5qGTf9Cz4/CvVbL4MeEbO8Wd7e5ugpyIp5sp+QAz9DXbTWFpPp7WE1tE1o8flGAoNmzGNuPTFXHHYbCxUMMm1dNt+XRESwtau3Ks0tGlbzPOPhz498N6d8O7O21HVIbW4sldZYZMhj8xYbR/FkEdK8+8EXa6h4u8UXiKVW40y+lCnqA3OP1r09Pgp4RTUPtBivGjzn7M1x+7+nTd/49Wpp3w08OaVf3t3YwTRveQyQSKJflCSfeCjt7ela/XcFT9rKnzXn3tprcz+rYmfIp2tE5H4Agf2Hq5xyblBn/gNVvGkfw88UeMZrO81KbTNUjBSa9C7YWdeNj7u49eBx16CvSPDHhDSvCFtPBoySqk7h38yTdyBiqHiT4beG/FF2bvULR4rtsbp7d9jPj1HIP1xmsPrtF42de8kns1a/TddTb6tUWGjSsm1vc8f8O6pf+C/iPZaPouvLrGnTXMUTi3YtFIrkA4XJAYZ6g/j1FZ40XT9O+JGo6X4uvrvTIDLJtuoO+WyjHg/KR39SM969u8N/DTw34XvVvbC1klu1zsmuJN7Jn0HAH1xmr/iXwXofiyNBrNmJJIxiOeNikij0yOo9jkV1vNqKq6J2as5WSd+9tjn/ALPqOnq1dO6Wtrdjx/UfDvw5tpbeCfxlqFyJ3AzEyyLH/tMQuAP1/Wq3xb0a38Px+HdLs5nngt7NwkjkEsDITnjjvXqGj/CPwno16t0tpLeSocp9rk3qp9doAB/EGtPxP4D0TxfcwT6ykzPAhRPLlK8E5qY5pShXhLmlKKve9t7aWSHLAzlSkuVJu21zD+NGl3OpfD1mtEL/AGK5S4kVRzsCsp/Ldn6Cs34dfEnw5beC7PT9UvI9PubGPy2SRThwCcMpA5z3HXOa9RZVdCrqGVhggjIIrhNQ+DfhHUL5rkW1xa7jlo7aXahP0IOPoMVwYfE4eWH+r4m9k7po661GtGt7aja9rNM8y1fxLZ+Kvjfo9/pin7Kt9aQxuy7TJtkHzEfU8Z7AV9E1x8fws8KwapY39pZPby2LRtEI5SFLI24Fs/eOepNdhU5hiaNdU40U7RVtR4SjUpObqWu3fQKzL7/kPaX/ANtv/QRWnWfeRSNremuqMUTzdzAcLleMntXlncaFFFFADXXfGy5K5GMqeRXzZ4mmmtdd+130crxhxH5ZBKysGIcSOP4gMc4ANfStc5eeDbW/vri6uZiXlzs2xKuwHsTjJ/8Ar1nKN2mVGUoSumeL+DIjPrtrd2azIkpSEFeGiJlzsjY8A45Jwe34exX8Nz/wkczWutrA75xaybiqkQMFYdhgksR0OB0IFWbDwjbabqkV5bTHK8urRIS5xjhsZHSt3yoy+8opbOd20Z9KIRkm22VVmqk+aMbLscbFbSRWzwSa1HOY7PyYpneRZIuThsfxEqyAnOcjv2bsWa6lK+I0iczGTfHKxLBZC4LA8DAZVKjgjOewHZfZLfGPIjx6bBS/Z4c58pM+u0VoZnMQ6LrMkMdxFq8coa0gjVQzhGKFG35yT8x8wHjOGHXFdUu7YN4AbHIByAaAAqgKMAdAKWgAqObjY56K2T+RH9akoIyMHpQBzniLw3c3t0mreHbxdN1uJPKWdk3RzR/3JF/iA6g9QateH9AtvDOlPFFJJc3Ezma6u5jmS5lPVm/kB2FavlunEUmB6MM4oERLBpG3kdBjAH4UAOiUpCinqqgGnUUUAFFFFABRRRQAUUUUAFFFFABRRRQAUUUUAFFFFABRRRQAUUUUAFFFFABRRRQAUUUUAFFFFABRRRQAUUUUAFFFFABRRRQAUUUUAFFFFABRRRQAUUUUAFFFFABRRRQAUUUUAFFFFABRRRQAUUUUAFFFFABRRRQAUUUUAFFFFABRRRQAUUUUAFFFFABRRRQAUUUUAFFFFABRRRQAUUUUAFFFFABRRRQAUUUUAFFFFABRRRQAUUUUAFFFFABRRRQAUUUUAFFFFABRRRQAUUUUAV7P/lv/ANdmqxVez/5b/wDXZqsUAFeZ/EtWGvWrn7ptgB9QzZ/mK9MrlfHuivqWjrc267prQltoHLIfvfyB/A114OahWTZ5+ZUpVcNJR3Wp5YBk4HJrqfC974h0lZF0/TJrmCU7irxNtB9Qan8BXelae91danPDFMdqQmTqBzux+ldt/wAJXoX/AEE4PzNelia8rumoXR4mBwsOVVnV5X8rnl+vvq99qL3mr2k0LkYAaJlVQOgGe1ZFezf8JXoR/wCYnB+ZrzXxDb2954qkTQ9k0VyymJYem4jke3Oa0w1eUvdlDlsY43CRh+8hU5m38ztvhwrL4ZkLdGuWK/Tao/mDVW/j1CLxVqdzpKyNJM0dlJsXd5YeNdkpHojA/gxrp9E01dI0a2slIJiT5mHdjyT+Zq/XhV5KpVcltc+pwtN0qEYPdI80iurPSfCFrpzzNAr399HBv1J7CI7LhwA0yZfdj7qqDuOcjAyNHw7Ld6xL4fGo3l7/AMgj7RJGlw8fmSrIgDPjaSeuQcA5OR2ruqKz63/rax0S1v8A11v/AMA85i1KKTTdJ/4SnWbrT9OfTjIlyL17fzbjdghpVYEsFwQhPOWODt43X1Sa2+HNve6+9xFM8MSzuGFu4LMFy7YHlDnLEYKjOMECupopfZsO+tzzXR727v7BbQ38y2515bdHttSluN0DWwcqtw4V3UliQ3bI2ngGtK1nubS6srGO8unhh8QyWwMtw8jtF9meQIzMSWAY8bieg9K7iiqWn9en+T+8T1/r1/z/AAPNPCt3bwtoKaVqV1dXhSQalZi5eRYYfLYgmHJWM7hGFIUFs/xZJqkmrnUrXXf7PuZLiyutBupiram943mAD7ykbIZMOcxxkgZHAwK9YopLQaet/T8DkfFl6kPhvRryHULO0jF5but5c/NCgKnDH5lyP+BCsS31B/s9/MupRXFhc6rE+o6xp2YYTEYcHYwY7ApSNWcOSNxOVIO30mijq33f+X+RK2S8rfn/AJnnA/4mcmn21vf3VxpI17ZY3i3LO8kX2SQuFmPzMN5dQ+SfRuAana6NrDFZ6rql3b6JDqV1DPeSXjoyheYke43B1XJI3FgSVVSTnB9Aoo/r8v8AL8Snrb+u/wDn+BwWmPcapNo1rNqF+9hI16YZFuHje5gR08lmcYYjHRs5YYJJDHNa31OJ9WtDJrN2Nbk1hobqw+1viKHe+1TBnaqbQhD4BbP3juwfRqq32nxah9m85nX7NOs6bCBllzgHjpzRqmn6fmhPZ/P9TjNM8QfaLrQdPGoyS30eq3Ud7CJGLooS42rIOw4UqG67QRnFdT/wkukfY0uvtimB7z7CrhG5n8zy9mMZ+8MZ6d845rUoph/X5lW31O0utQu7K3mD3FkUFwgU/JvXcvPQ5HPFM1GK9+S506TMsQObdziOcHHBP8LccN2zyDV2ikBmWrX+oXi3NwklhaxH93bsR5kpwQS5BIC88KD2yT2rToooAKKKKACiiigAooooAKKKKACiiigAooooAKKKKACiiigAooooAKKKKACiiigAooooAKKKKACiiigAooooAKKKKACiiigAooooAKKKKACiiigAooooAKKKKACiiigAooooAKKKKACiiigAooooAKKKKACiiigAooooAKKKKACiiigAooooAKKKKACiiigAooooAKKKKACiiigAooooAKKKKACiiigAooooAKKKKACiiigAooooAKKKKACiiigAooooAKKKKACiiigAooooAKKKKACiiigAooooAKKKKACiiigAooooAKKKKACiiigAooooAKKKKACiiigAooooAKKKKACiiigAooooAKKKKACiiigAooooAKKKKACiiigCC1Vl87cCMysRkdRU9FFABRRRQBxPiLwAt5M93ozJDIxy0DcKT6g9vp0+lcbceF9btnKyaZcsR3jQuPzXNe0UV30sdVpqz1PJr5VQqy5l7r8jx2y8Ha5euAti8C93n+QD8Dz+leg+GvCNtoA852FxeMMGUjAQeij+tdDRUVsZUqrl2Rphsto4eXMtX5hRRRXGekFFFFABRRRQAUUUUAFFFFABRRRQAUUUUAFFFFABRRRQAUUUUAFFFFABRRRQBH5T/wDPeT8l/wAKPKf/AJ7yfkv+FSUUAR+U/wDz3k/Jf8KPKf8A57yfkv8AhUlFAEflP/z3k/Jf8KPKf/nvJ+S/4VJRQBH5T/8APeT8l/wo8p/+e8n5L/hUlFAEflP/AM95PyX/AAo8p/8AnvJ+S/4VJRQBH5T/APPeT8l/wo8p/wDnvJ+S/wCFSUUAR+U//PeT8l/wo8p/+e8n5L/hUlFAEflP/wA95PyX/Cjyn/57yfkv+FSUUAR+U/8Az3k/Jf8ACjyn/wCe8n5L/hUlFAEflP8A895PyX/Cjyn/AOe8n5L/AIVJRQBH5T/895PyX/Cjyn/57yfkv+FSUUAR+U//AD3k/Jf8KPKf/nvJ+S/4VJRQBH5T/wDPeT8l/wAKPKf/AJ7yfkv+FSUUAR+U/wDz3k/Jf8KPKf8A57yfkv8AhUlFAEflP/z3k/Jf8KPKf/nvJ+S/4VJRQBH5T/8APeT8l/wo8p/+e8n5L/hUlFAEflP/AM95PyX/AAo8p/8AnvJ+S/4VJRQBH5T/APPeT8l/wo8p/wDnvJ+S/wCFSUUAR+U//PeT8l/wo8p/+e8n5L/hUlFAEflP/wA95PyX/Cjyn/57yfkv+FSUUAR+U/8Az3k/Jf8ACjyn/wCe8n5L/hUlFAEflP8A895PyX/Cjyn/AOe8n5L/AIVJRQBH5T/895PyX/Cjyn/57yfkv+FSUUAR+U//AD3k/Jf8KPKf/nvJ+S/4VJRQBH5T/wDPeT8l/wAKPKf/AJ7yfkv+FSUUAR+U/wDz3k/Jf8KPKf8A57yfkv8AhUlFAEflP/z3k/Jf8KPKf/nvJ+S/4VJRQBH5T/8APeT8l/wo8p/+e8n5L/hUlFAEflP/AM95PyX/AAo8p/8AnvJ+S/4VJRQBH5T/APPeT8l/wo8p/wDnvJ+S/wCFSUUAR+U//PeT8l/wo8p/+e8n5L/hUlFAEflP/wA95PyX/Cjyn/57yfkv+FSUUAR+U/8Az3k/Jf8ACjyn/wCe8n5L/hUlFAEflP8A895PyX/Cjyn/AOe8n5L/AIVJRQBH5T/895PyX/Cjyn/57yfkv+FSUUAR+U//AD3k/Jf8KPKf/nvJ+S/4VJRQBH5T/wDPeT8l/wAKPKf/AJ7yfkv+FSUUAR+U/wDz3k/Jf8KPKf8A57yfkv8AhUlFAEflP/z3k/Jf8KPKf/nvJ+S/4VJRQBH5T/8APeT8l/wo8p/+e8n5L/hUlFAEflP/AM95PyX/AAo8p/8AnvJ+S/4VJRQBH5T/APPeT8l/wo8p/wDnvJ+S/wCFSUUAR+U//PeT8l/wo8p/+e8n5L/hUlFAEflP/wA95PyX/Cjyn/57yfkv+FSUUAR+U/8Az3k/Jf8ACjyn/wCe8n5L/hUlFAEflP8A895PyX/Cjyn/AOe8n5L/AIVJRQBH5T/895PyX/Cjyn/57yfkv+FSUUAR+U//AD3k/Jf8KPKf/nvJ+S/4VJRQBH5T/wDPeT8l/wAKPKf/AJ7yfkv+FSUUAR+U/wDz3k/Jf8KPKf8A57yfkv8AhUlFAEflP/z3k/Jf8KPKf/nvJ+S/4VJRQBH5T/8APeT8l/wo8p/+e8n5L/hUlFAEflP/AM95PyX/AAo8p/8AnvJ+S/4VJRQBH5T/APPeT8l/wo8p/wDnvJ+S/wCFSUUAR+U//PeT8l/wo8p/+e8n5L/hUlFAEflP/wA95PyX/Cjyn/57yfkv+FSUUAR+U/8Az3k/Jf8ACjyn/wCe8n5L/hUlFAEflP8A895PyX/Cjyn/AOe8n5L/AIVJRQBH5T/895PyX/Cjyn/57yfkv+FSUUAR+U//AD3k/Jf8KPKf/nvJ+S/4VJRQBH5T/wDPeT8l/wAKPKf/AJ7yfkv+FSUUAR+U/wDz3k/Jf8KPKf8A57yfkv8AhUlFAEflP/z3k/Jf8KPKf/nvJ+S/4VJRQBH5T/8APeT8l/wo8p/+e8n5L/hUlFAEflP/AM95PyX/AAo8p/8AnvJ+S/4VJRQBH5T/APPeT8l/wo8p/wDnvJ+S/wCFSUUAR+U//PeT8l/wo8p/+e8n5L/hUlFAEflP/wA95PyX/Cjyn/57yfkv+FSUUAR+U/8Az3k/Jf8ACjyn/wCe8n5L/hUlFAEflP8A895PyX/Cjyn/AOe8n5L/AIVJRQBH5T/895PyX/Cjyn/57yfkv+FSUUAR+U//AD3k/Jf8KPKf/nvJ+S/4VJRQBH5T/wDPeT8l/wAKPKf/AJ7yfkv+FSUUAR+U/wDz3k/Jf8KPKf8A57yfkv8AhUlFAEflP/z3k/Jf8KPKf/nvJ+S/4VJRQBH5T/8APeT8l/wo8p/+e8n5L/hUlFAEflP/AM95PyX/AAo8p/8AnvJ+S/4VJRQBH5T/APPeT8l/wo8p/wDnvJ+S/wCFSUUAR+U//PeT8l/wo8p/+e8n5L/hUlFAEflP/wA95PyX/Cjyn/57yfkv+FSUUAR+U/8Az3k/Jf8ACjyn/wCe8n5L/hUlFAEflP8A895PyX/Cjyn/AOe8n5L/AIVJRQBH5T/895PyX/Cjyn/57yfkv+FSUUAR+U//AD3k/Jf8KPKf/nvJ+S/4VJRQBH5T/wDPeT8l/wAKPKf/AJ7yfkv+FSUUAR+U/wDz3k/Jf8KKkooAKKKKACiiigCn/akH9tf2Zh/O8nzd2PkxnG3P97vj0qSxvY9Qs1uYQyozMoDjB+Vip/UVzv8AYWpLMNXW5uftZvRdNp+YjHtP7sru27siL/bxuFY+r6Pc3ENlYnT472eGG4M1vLbxziJZJcrIoeSNQ3ynDBiR/d547o0KUmlzevlo7/LbUwlUmrvl/q56FTJpVghaRw5VeoRC5/IAk1w9xoy31jv07RPtQubeE6Xe5ij/ALPXYuOpDJhsv+7BznHatOfw87w6rP8AY0e9nuswysQW8rMZIBJ+UZUnHHPNS6FNNXl+Xl5/1YaqSfT+vu/ryN661CC1CFiX3zpBhMHazYxnnjqKtVx1x4aSbUL2P+woglxqEVw90oiCzRfIWVsHceQxIIwffNWG8MRiVbSLT4l0wan5/wBnXaIxEbYqfkzjBkPK45yTjBNJ0qVl72vy8vPcOad3pp/w/l6HU0yGVZ4hIgcKc4DoUP5EA1y9n4XSzurS5t9Ohhng1GRlkQKGjtiJAqg9k+YfIOOelQrossS2X9q6F/bEMcGxbf8Acv8AZ5N7EviRgpyCvIJI2+9Hsab2n+Xn5/qNzmk7r+vuN3WNZfSPLP8AZd5eRyMqeZbtFgMzBVU75FPJI7Y96v20rz2ySS28ls7DJilKlk9jtJH5E1U1u1mu7KGO3Tey3dvIRkDCrKrMefQA1i+ItIlvNQuJJNF/tXzbdY7OXfGPsUg3ZbLsCmSVO5Mt8vTgZmnGE4pOyev6d2l/wwScotteX9bXOqrPh1m3mvFtlSUO0ssQJAxmPGe/TniudvtCvJLybzdM+230kkTWurbox9kVVQEZLB1wyu2FBDbuepp1/ok8lzHJd6KNUtlvbiV7YtGdyuAFO12CtzzgkYxnqADpGjS6y39O3r+diXUlbb+tTsKK4j+wZ0tLf+0/D39q2wilWHT/ADIm+xlpCyjDsF4QqmVJ27cLkHNSy6DqTLY+bbLcC2ghTUEMoP8AaZUdMk87Dk5fG77pwDml9Xp/z/l/n/Xe2oe0l/L+f+X/AAfI7KmQzR3EKywtuRuhxj2IIPQ54xT6qWVu6ST3Eo8trggmEdExwCcdWPc+wHbJ4zcbqepppqwjyJrme4k8uGCHbvkbBY4LFVGFUnkjp68VPaTyXFqks1rLaO2cwzFCy899jMvvwTVPXIkmsUSTS7nUf3gKrayJHJEcHDhmdNp7ZU55rl9U8P6pqNjp39pwXl5FEsoa1jNrLJHlsxl/PBRmVBtLA5znBbJNddOlCcUm0vN/8P8A13MJzlFtpX02/r+vI7qiuMvfC0t1p9+zWktxdrYwpYTXUiNMkqqfmDA4WTO3LDGSBzxTtR8PTWzalBpOlRjTrsW++C3jg+fBk8xlST93v/1eS45HqQKFQpvTn/rTz8/wYe0n/L/Wvl5fidjRXG6X4WZrPTbTVdPWS0gmuXaC4ERVVY5QMiYQ/QDAIz2BqlrHhm/udKh05NMaSCFJxa+Uts/ks0jbAxmyVQJsx5Y3DB6YFUsPTc+X2i9enXz8vxD2k+W/L/X3Hb399Dp1jJdXG8og+7GpZmJOAqgckkkACnWV0l9YW93ErKk8Syqr4yAwyAcd+aQJIdP8t8mQxYOT1OPWq+hW0tn4d021uU2TQWkUci5B2sEAIyOOormtHkfe5pd8y7NP9C550f2jyN2JNu8KR1GcZHr/AEyPUU+ql1bvdXcAxsjhYSmUfeJ/uj09/Y47nFusyzDsPFEV7ewwSade2aXLvHbXE/lGOdkzkDY7EHCsRuAyAa3K5XTvDFzFpxkv7u7uJ41nNvaSNEI4GfcMrsUE/K2PmZsZNV7jwzFa6fpitoCapbRxH7bYARM005VAJmMrBZGXawyzZ+bIzigOp2VFeXaxoc9xa2thPpSXv2ezk+0QPbxXLWEUkjGMRtLLGquFBXcpfHlrxjGekXRVkXUNV0zTreSZraP+yvPQbYx5IXCqeEyOD93IAB4AwdL/ANdfzDrY62ivPtJ8J3Vvp95bLYXFvaXF1ZyC3nFrE2ElzKStsAg+UD1JGBk9BdbwbDbzXUthpFtC8OqW0tg0aovkQAwmXy/7gJEuVGN2Twc8tK7t/XT/AD/AFqdpUbTKtwkJD7nUsCI2KgDGctjAPPAJyecdDXIr4OhmeCe90uGW4fVLl7mR9rM9s7zFUY55Q7kOzp6jrRD4cvLXMNrZrFbx22pQwxo6hUEsqNEqjPAIU4HQYxxSeif9dCrLmtf+tf8AI7KiuG1Tw5baRpUjWGnw2zXVj9nn8tAftNwzxiNZBn5yxLAsx6M2WAOaueCLKLTYdTjGkpp9+0iyzwQ2kNuhGzCBRHJIAPlPVycknABFO2/9df6ZCd7HQW+qwXOrXWnxrIJbYKWZh8rZGSFPcjK5/wB4VdrkLbw5qdhLaaj9tvbqZ5JGurHdCFQTZMgRwqt8rbSMueFwO1ZVt4ZdNBu7NvDUyW5liaOJLSwW4uCu7JmAk8mRRkdQrc8DI3Uugz0Hzl+0eTh923dnYduM4+9jGfbOafXB32m3cOgMLqwt7Uy2EVrHawQqIjKZiVi8sOQA2QCu7byRvx81Q6J4atbkR2tzoUFuY9QM2oWotIYIipt2VP3aSSArkj5SzHJJwARQtV/Xf/LUV9f67f56HoVFcnF4UhaSys7nTYX0uCa6P2Z9rRKjsCg2ZwV7hcYGBwMCq0HhGa1tbZ9MtorDUmt7mCS8XbvUMpEQZhyyrhMDnG0dMUrj62O1pryJGAZGVQSFBY4yTwBXnum+Ep49KubZdP1KBpprUzxXBskilCzq0jL9nCljtDZZwGIx34rT1LwnZw2d1BaeHbW6slvILmOwjjiCPjAkKqxCA49cZ/GqDodFrWsW+haXJe3ayyKg+WKBN7yHBOFH0BOTgAAkkAE1eB3KCO4rL1yzlvfCGoWVlb7ZZrGSKKDKrhihAXrgenXFStb5120nNlvMdrKn2vzceXlozs2d923Oe2z3osHRMLbWbe61u90tElWezVGZmACuGGflOecZGeB1FJo2tW2uQXE1msipBcNATIAN5GDuXBOVIIIPp2rD1TRtVOpXl/pkai4kuVjRi4GYJIUjkbPbayh8d/Lx3zVTVfD12dOuLCLS2uNPlv8AeYYI7aSQRrCioVW4/dgblwc8+g5zSX9fev0f5g+lv60f6ncVHHMsryqocGJtrbo2UE4B4JHzDnqMjOR1Brh18NaqdK062WzVGtLby7vfIn+nQhzi1+XAAxzkgAZ2gYdwNGXw697qAF5YI9i+pGd4ZCpUxfZBGAy5wRv4289OmOaff+uv9f1uHV0Vx2m+FP7PutNubfTYYLiDUbkSSptDLaETCJMg52DMWEHTjgY4gs9N1mTS7DT5dImtzp+my2jTSTRFZnMYVSm1ydpKnlgpGRx1xMtItoq2trncVR1fUxpNiLg2090zSpEkMGze7OwUAb2Vep7kVzcngfT3ZkfRbV4pNPIkDorCS57O2fvSct8555PPNaeqaZf33hqwtI5ZYbtJbVpZUZC8e11LMC4KkjB6g596q2vzX52M7u3yf5GhpWqpqsUxFvNaz28nlT21wF3xNgEA7SynKkEEEjB+oq55yi4EOH3FS+djbcZx97GM89M5rktf8OS/2QtpFBc6ulzc+dfyGO1kuJGCYVgswEIA2qOF4AGBnJqCLw5qa6BHZvC+9NNNt8syqQfNBABXAHyjggADtjpRu/67f5jei/rudvUckyxSRIwcmVtq7Y2YA4J5IGFHHU4GcDqRXM6h4XT7fFaabZRwaVeReVfLDtQIEcyLgdyxZwcDnOTTLPSNVeW1u9ShZrj7WzTbHUFY1t3iUgg/xN8w5yPM5xg4XS4+p1tNkcRRM7ZwqknHtXncXha+/wCEfu7K00drG2M0LNELeyjurxBu3q+0vC/UEblXOCD/AHq6jw5pbad4Ya0SG9hyX2QXgtw0ef4QIP3ar3AHrSls7At0mSaP4lj1aaGKTTr3T3uLf7Tbi68o+fHxkqY3bGNy5BwfmHHXG1XGxeErpPCiR3N3eXuoiwS2jSWSNPs4OwuiGNVHVB8xJPyjBqTWvDtrHNEqeF4tY05YGSKyiWFVglLEtJtkZVy2fvDLDHuauVk7ImN3G7OuorDsn1rTtLtrSWx+3zW9vbI9x9qA85ydsp+YZ+UDdk/ezjrWpZTXM8chvLT7KyzOiL5gfegYhXyOm4YOOozik1ZldCxRRRSAKKKKACiiigAooooAKKKKACiiigAooooAKKKKACiiigAooooAKKKKACiiigAooooAKKKKACiiigAooooAKKKKACiiigAooooAKKKKACiiigAooooAKKKKACiiigAooooAKKKKACiiigAooooAKKKKACiiigAooooAKKKKACiiigAooooAKKKKACiiigAooooAKKKKACiiigAooooAKqapqUOkaZNe3KuyRAfJGMs5JwFUdySQB9at1ga9bajqWq6fa6e0cEduTdyzXFu0sbMOETAZcnJLdeNo9aXoM1V1OyNhDetdRR286B45JHChgV3d/YE/hVO68U6La6YmoHUrWW1kmWBZYp0ZSzMB1zjjOT6AE1gQ6ZfRx2OlX9ublLHVllSWO3ZYmiKO6kAk4CsduMnGF9RU2r2dyLnV5o7WZ4xeWNxiOIsZFRkLlQB8xAXoMnjFPS/z/wAv8xeX9dTopda0uBbdptSs4xdY+zl51HnZ/u8/N17VJNqVjbzrDcXlvFK7hFjeVVZmPRQCep7CuS1W2a51m9uLqfWLex1G0jjj+x6eJdy4YMjq0Luh+bPO0fN6itbR9NFr4jv5jDKQLS2hinmX5nADZGcdemcd8UdAL41ywi0uG+1C6trGKb7rT3CBc+gbO0/gasXGpWNrCJrq8t4YihkDySqqlRjLZJ6cjn3FcppEcukR6PeahZXbRR6e1viO2eV4JC4PKKCw3Adcfw89afpWkzrqGiPdWTpHE97NGjJkWyu4MansDtPTt07UdP6/rzH1/r+vI7BHWSNXjYOjDKspyCPUUtFFAippl297aPLKFDLcTxDaOMJKyD8cKKt1m6D/AMg6X/r9uv8A0okrSoAy73W/s1+1na6feahOkYklW2EY8tSSASXdRztPAyeKsDUolnuEn2wJbwpK8kkqDaG3feGcrjb1PB7ZwaxvEP2Vb4ywrq0GqLFtiuLC1ldXHJCsQpjIyTw/TJ6ZzWXqcN+y30l5bsL2e308RKi5SS5R3coM4DAEcjIGOpHWhbA9zqbbX9Hvd32PVbG42sqt5VyjYLHCg4PUngetS3uow2cFw26OSW3jEjxeaqEAkgEliAAcHk8cGuRf7VLDdtd2d0NSW7tL24hECjMSOBuRUkkycI2RuLHHToKdqX2nVW8RT2theCKbT7aOAyWzo0pDylsKwDcZHBGe/QimloJ6f15/0zrZ9UsLa8itLm+tobmb/VQSTKryfRScn8KZNrOl29ylvcalaRTu/lrE86qzNx8oBOSeRx7iuT1LS3l1fWLfU7rWIbfUJUaMWNmk0cibFXBfyXZCGB6sAOCO9WbzTJTofjHZZyNPdSOYsRktNiBAu3jnkHGO+aS1/r0/zK62N6PX9Ml12XR1u4ftsSqxiMi5bO44AzkkBckY4BFWLXVLC+mmhsr62uZYDiVIZldoz6MAePxrDuY7ka9qkMcdxHJqGnRx206wuyB1EudzgEIRuH3iM54zVXwzYIL2xee41n7VZWphFvdWSRQxAhQyh1hVX5UYwxHGaFv/AF5k30udhRRRQMKKKKACiiigAooooAKpX+jaZqpQ6pp1pemPIQ3ECybc9cbgcdBV2iqjJxd4uwmk1ZgBgYHSiiipGFFFFABRRRQAUUUUAFFFFABRRRQAUUUUAFFFFABRRRQAUUUUAFFFFABRRRQAUUhYDqaN6+ooApX+h6Tqs8U2p6XZXksP+rkuLdJGTnPBIOOavUm9fUUb19RQAtFJvX1FKDnpQAUUUUARXVrb31rJbXsEVxBINrxSoHVx6EHg1HYabY6VbfZ9Lsreyg3FvKt4ljXJ6nCgDNWaKACiiigCG7tLa/tXtr63iubeQYeKZA6MPcHg0yx06y0u1Ftplnb2cAJIit4ljUE9TgACrNFABRRRQAUUUUAFFFFABRRRQAUUUUAFFFFABRRRQAUUUUAFFFFABRRRQAUUUUAFFFFABRRRQAUUUUAFFFFABRRRQAUUUUAFFFFABRRRQAUUUUAFFFFABRRRQAUUUUAFFFFABRRRQAUUUUAFFFFABRRRQAUUUUAFFFFABRRRQAUUUUAFFFFABRRRQAUUUUAFFFFABRRRQAUUUUAFFFFABRRRQAUUUUAFFFFABRRRQAUUUUAFFFFABRRRQAUUUUAFFFFABRRRQAUUUUAFFFFABRRRQAUUUUAFFFFABRRRQAUUUUAFFFFADY40iUrEiopYsQowMk5J+pJJ/GnUUUAFV76xt9RtvIu0LpuDAq5RlYdCrKQVI9QQasUUAU7DSrTTTI1skhklxvlmmeV2A6Au5JwMnAzgZNXKKKACiiigAooooAKKKKACiiigCP7NB/zxj/74FH2aD/njH/3wKkooAj+zQf8APGP/AL4FH2aD/njH/wB8CpKKAI/s0H/PGP8A74FH2aD/AJ4x/wDfAqSigCP7NB/zxj/74FH2aD/njH/3wKkooAj+zQf88Y/++BR9mg/54x/98CpKKAI/s0H/ADxj/wC+BR9mg/54x/8AfAqSigCP7NB/zxj/AO+BR9mg/wCeMf8A3wKkooAj+zQf88Y/++BR9mg/54x/98CpKKAI/s0H/PGP/vgUfZoP+eMf/fAqSigCP7NB/wA8Y/8AvgUfZoP+eMf/AHwKkooAj+zQf88Y/wDvgUfZoP8AnjH/AN8CpKKAI/s0H/PGP/vgUfZoP+eMf/fAqSigCP7NB/zxj/74FH2aD/njH/3wKkooAj+zQf8APGP/AL4FNe3hEbYhj6H+EVNTZP8AVt9DQBn+VH/cX8qPKj/uL+VU9VsZ9RtPs8F39mRuJCI9xYemcjA9fX+c1jBPbWixXVz9pdeBIU2kj35OT70ATWsMT2cLPGjExqSSoOeKl+zQf88Y/wDvgU+xiB0+3JJ/1S/yqfyl9TQBV+zQf88Y/wDvgUfZoP8AnjH/AN8CrXlL6mjyl9TQBQuYYktZWWKMFUJB2j0p2mRxy2oZ4kJ91FTXsQFhcEE/6pv5VFpH/HmtAFv7NB/zxj/74FH2aD/njH/3wKkooAj+zQf88Y/++BR9mg/54x/98CpKKAI/s0H/ADxj/wC+BR9mg/54x/8AfAqSigCP7NB/zxj/AO+BR9mg/wCeMf8A3wKkooAj+zQf88Y/++BR9mg/54x/98CpKKAI/s0H/PGP/vgUfZoP+eMf/fAqPUL+30vTri+vnMdtbRmSVwhYqoGScAEn6AVxzfGbwIrKraxMGb7oOnXOT9P3dAHa/ZoP+eMf/fAo+zQf88Y/++BWV4d8W6N4rhnl0G6e4S3YLIXt5IsE9OHUZ6dq2aAvcj+zQf8APGP/AL4FH2aD/njH/wB8CpKKAI/s0H/PGP8A74FH2aD/AJ4x/wDfAqSigCP7NB/zxj/74FH2aD/njH/3wKkooAj+zQf88Y/++BR9mg/54x/98CpKKAI/s0H/ADxj/wC+BR9mg/54x/8AfArOs/ENpe+JtS0OKOYXOnRxSSuyjYwkBK7TnP8ACc5ArVoAj+zQf88Y/wDvgUfZoP8AnjH/AN8CpKKAI/s0H/PGP/vgUfZoP+eMf/fAqSigCP7NB/zxj/74FH2aD/njH/3wKkooAj+zQf8APGP/AL4FH2aD/njH/wB8CpKKAI/s0H/PGP8A74FH2aD/AJ4x/wDfAqSigCP7NB/zxj/74FH2aD/njH/3wKkooAj+zQf88Y/++BR9mg/54x/98CpKKAI/s0H/ADxj/wC+BR9mg/54x/8AfAqSigCP7NB/zxj/AO+BR9mg/wCeMf8A3wKraxq1roWj3Wp6gXFtaxmSQxoXYAegHWrUMqzwJNHnZIoZcjHBGelACfZoP+eMf/fAo+zQf88Y/wDvgVj+H/EM3iC71B4LDytLt5fKtb5pc/bCOHZUxwgPAbJ3dq3KA8iP7NB/zxj/AO+BR9mg/wCeMf8A3wKkooAj+zQf88Y/++BR9mg/54x/98CotS1G10jS7nUdRl8m1tYmlmk2ltqqMk4AJPHpXK2vxc8D3k8cUeurEZCAr3NtNAhz/tugX9aN3YDr/s0H/PGP/vgUfZoP+eMf/fAp4IZQVIIIyCO9LQBH9mg/54x/98Cj7NB/zxj/AO+BUlFAEf2aD/njH/3wKPs0H/PGP/vgVJRQBH9mg/54x/8AfAo+zQf88Y/++BUlFAEf2aD/AJ4x/wDfAo+zQf8APGP/AL4FSUUAR/ZoP+eMf/fAo+zQf88Y/wDvgVJRQBH9mg/54x/98Cj7NB/zxj/74FSVn65rdn4d0eXU9TMgtoSocxRtI3zMFHA56kUAXPs0H/PGP/vgUfZoP+eMf/fAqQHIyKKAI/s0H/PGP/vgUfZoP+eMf/fAqSigCP7NB/zxj/74FH2aD/njH/3wKkrOj8QaXL4jm0GO8RtTggFxJbYOVjJwDnGPwznketAF37NB/wA8Y/8AvgUfZoP+eMf/AHwKkooAj+zQf88Y/wDvgUfZoP8AnjH/AN8CpKz73W7PT9X07TbkyC41JnW3CxMykou5ssBgcetAFz7NB/zxj/74FH2aD/njH/3wKkooAj+zQf8APGP/AL4FH2aD/njH/wB8CpKKAI/s0H/PGP8A74FH2aD/AJ4x/wDfAqSigCP7NB/zxj/74FH2aD/njH/3wKkooAj+zQf88Y/++BR9mg/54x/98CpKKAI/s0H/ADxj/wC+BR9mg/54x/8AfAoiuIZzIIJo5TE5jk2MDsYdVOOh5HFSUAR/ZoP+eMf/AHwKPs0H/PGP/vgVnyeJdHi8Sw+H2v4zqs0bSpaqCzBQMknAwvHrjPatSgCP7NB/zxj/AO+BR9mg/wCeMf8A3wKkrGg8XaHc+K7jw1DfhtXto/NltjG4wuAchiNp4YcAmjrYDV+zQf8APGP/AL4FH2aD/njH/wB8ClllSCF5ZmCRxqWZj0AHJNZnhzxPo/i3SzqPh+8+12okMRk8p0+YYyMMAe4o3A0vs0H/ADxj/wC+BR9mg/54x/8AfAqSigCP7NB/zxj/AO+BR9mg/wCeMf8A3wKkrP03W7PVbzULazMhl06f7POHjKgPtDcE9RgjkUAXPs0H/PGP/vgUfZoP+eMf/fAqSigCP7NB/wA8Y/8AvgUfZoP+eMf/AHwKkooAj+zQf88Y/wDvgUfZoP8AnjH/AN8CpKKAI/s0H/PGP/vgUfZoP+eMf/fAqSigCP7NB/zxj/74FH2aD/njH/3wK5XUfin4P0rVbnTb7VZI7q1fy5kWyncI3XBZUI7+tdBo+t6Zr+nrfaLfQ3tqxwJIX3AH0PofY80LVXQbOxa+zQf88Y/++BR9mg/54x/98CpKz9W1yy0VrIXxkH266S0h8uJnzI2cZwOBx1NAFz7NB/zxj/74FH2aD/njH/3wKkooAj+zQf8APGP/AL4FH2aD/njH/wB8CpKjnmS2tpJ5c7IkLttBJwBk8DrSbSV2G4fZoP8AnjH/AN8Cj7NB/wA8Y/8AvgVX0jVLbW9HtdTsC5trqMSxF0KkqfUHpVym9NA3I/s0H/PGP/vgUfZoP+eMf/fAqSigCP7NB/zxj/74FH2aD/njH/3wKkooAj+zQf8APGP/AL4FH2aD/njH/wB8CpKKAI/s0H/PGP8A74FH2aD/AJ4x/wDfAqSigCP7NB/zxj/74FH2aD/njH/3wKkooAj+zQf88Y/++BR9mg/54x/98CpKKAI/s0H/ADxj/wC+BR9mg/54x/8AfAqSigCP7NB/zxj/AO+BR9mg/wCeMf8A3wKkooAj+zQf88Y/++BR9mg/54x/98CpKKAI/s0H/PGP/vgUfZoP+eMf/fAqSigCrcQRLGNsSDnsoqv5Uf8AcX8quXP+rH1rivEnhXWdc1m1vbPxM2mxWbB7eCK13bXxgsx3jcTkjBGMEjHJyAdT5Uf9xfyopIRIsKCd1eUKA7IpVWbHJAJOB7ZP1NFAGnRRRQAUUV5/f/FNNP8ABFzrkukM13bajJp72C3HO9GO479v9xS/T296L/1+H6js/wCv68j0CiuZbxraDxPHpipH9k/so6pPfPNtSGPdhcjGOeTnIxiopfH+kX3h3WLzw7ex3N3p9jJdLDNE6ZAQlW2sFLISPvDg+tJ6K7/q3/DBFczSXX9f+HOrorkIPiJo9h4X0PUPE19DaXep2Udz5MMTufmQMxCKGYKCep/OrusePvDGgT28OratHby3EYlRPLdiEPRm2g7F92wKpqza+RKd1c6KisDWPHPhvQZI01XVI4Wlt/tMSqjSGSPONy7Qd3rxk456VDYfETwnqmqWun6frUE9zeLugVFba/Gdu7G3dj+End7UlrsM6WisF/G/hyPXv7HfVIxe+aICuxtgkPSMyY2B/wDZzn2reo6XDrYKKKKACiiigAooooAKKKKACiiigAooooAKKKKACmyf6tvoadTZP9W30NAHG3WrXsd5MiTYVZGAGxeBn6VLpupXdxqMUU0u5GzkbQOx9qzr3/kIXH/XVv51Po3/ACFof+Bf+gmgDsrH/kHW3/XJf5CsQ+LAPGY0H7PH/rPKLfaP32fJ83zPK28xfwb933+Md627H/kHW3/XJf5CsRp/EH/CaLGIn/svzMZ2R+X5Pk53bs7xJ53y4xjbzjuACf8A4SZP+gRq/wD4BNWjp98NQt2lFtc2+1tuy5iMbHgHOD25rPM/ijPGn6R/4HS//Ga0bBr57cnVIbeGbccLbytIuPqyqc9e1ADr7/kH3H/XJv5Gq+kf8ea1Yvv+Qfcf9cm/kar6R/x5rQBfooooAKKKKACiiigAooooAKKKKACuH8Zf8lG8Cf8AX5df+iDXcVx3iyxu7nx74LuLe1mlhtrq5aeVIyyxAwEAsRwuTxzR1XqPo/R/kdVfLctp84sZooLkxnypZkLojY4JUEZHtkV5nfeLL7w1q+ms3jzTPEP2m9itbnTRFBHIiyNt3xiM7htPZt31rofifpmoap4Vgj062mvoob6Ca9sYTh7q2VsvGORnPHHfFcv4mM+v6TpVt4W8HXthZ2mqWk1w0+n/AGZlRZR8sceNxx1JwFAB5pLdPzX3aBLb5M6HxNrviGD4jaZoGgSRKl/p0zlp4wyQMrr+9PRmwuQFyASwz60zxDr2p+BvDVnb6lrtrf6pqV79nh1C/iS2hgUjJZwpAwoB75JIGat31ldv8ZdJvUtpmtI9IuI3uBGTGrmRCFLdASAePal+IWgXurWulajpNrHfXej3ouhZSkAXKbSrx5PAJB4z3FTF+6vX8Ob/ACB/E/66f5/I5tPG8mg6zpQbx3pXiu11C7S0nt4fs6TQF+FkTym5UHAIYE4PWuw8VG/QwyReLLTw5ZhSHklgjaR29mkO0DHbaTWVpOv6fqOqQWsPgHWLSUuA811pUcMcPqxcnBx/s5rLuoTo3xN1nU/EPhrUNaiu1hGl3VrZ/axboqYePH/LMlsnPAOeTV72F/X9f1/mXfB3jK91BPEti2oWniOfRAr295YhQLxXjLKpCEruypU7fyqDwpd+IvFem2urWfju1MzbXutMi06Jo7c/xREE+YpHIyW98U7wTa6ta+OPGOr6nok1hFexWkttbooJZVRxsyPlL8DIBIBYc96zPFQg8UES+G/COuWPigSKbfU3sDaeQwIyZJTgOuM5X5s9hT+0vl/wf+CDW6PWK4KDUPEnjLxBq6aJrK6HpOk3RslkjtEnluplALk78hUBIHAyeeRXeIGCKHOWxyR3NeeabcX3gHXtbtLrRNU1HTdSv3v7O6062NxsMgG+N1XlcMOCRjB6il9rXt+On6XH9nT+lr/wCPwS+op8VPGK64YWuYLayVpoVKpMoVyHCnO3IIyMnBB5rOtPHUviWKXU4viHonhqEyOtpp0v2d3KKxAabzG3AtjO1duARya2vCNtq118RPFOpavpU+n22oWtoLZZRk7AHXBYZXf3IBONwrH0BD4D0weH9d8F3+qrayutpqGnaet0s8RYld+OUYA4II7daO1+39f16g93by/L+vwO08B+J28XeE4dSmWFbhZJIJ/s7bo2dGKlkPdTjI9jWX4y13X7Lxt4a0fw9LCg1VLlZTPFvRNiqRIQOTtG7CggEkAmum0GVLjR4p49Kl0gSkt9kmjRHTnGWCEgEgA9a4nx9cX1n8T/AAXc6baNeyxJes9sjBXlTYu4KTxuxyASM4xmn9pJ/wBaCjsyxd3/AIm8F65pL61rSa7pGqXi2UpezSCS1kf7jKU4KEjBzyPU0ajrPie8+JmoeGdEuorW3/s+C4F1LAsgtMs4YheC7N8oAJwME+xg1a51Dx/rOi2Floeqadpthfx397d6lbG3z5fKxorcsS3UjgY6mtbT7K6T4x6zevbTLaSaTbRpOYyI2YO5KhuhIyOPekul+7+62n43CWl7eX5/5EOs6rr2jx6F4ZstRiv9e1R5AdSubdVWOJBueQxJgEgEADgE9agvb7xL4IvNPuda1tNe0m8u47S4MlmkEtq0hwrqUwCu7AIIzz1q74z0zUYtd0PxPo9m+oS6S0qT2cbASSwSqAxTJALKQCBkZ5FZms3V98QZtO0qy0PVNP0+G9iur+71K2NvhY23CNFY5ZiwHIGAO9Nateuvpf8Ay/EHovlp6/8AD/gaN/qOs6149u/Dul6n/Y1vYWcVzLPHAks07SMwAXzAVCjbydpOT2qp4Jm8Qv4u8Q2GueJLjVI9JljjjH2WCKOQSRhxnYgbcvQ4bHPSsnxzNZ3XxGtftGi6nrcFjYssi6FuFxbyuwIEjoyEKV5C7u5JB4NdD4K1zQnkm0TTNF1DQbtUNy1nqNsYpZlJwZd2W8znAJ3E+tQvhv6/n/kEt7en5GL4F1Dxn428N6dqs2uR6ZbxSsshWyjkkvtshDE5wsa8bRtGeCc9q6HxW9/DdLIfGtn4asfL+USW8JkZ+ckvKSuMY4C+vNVvhJY3em/DLTbXUbWa0uEectDPGUdczORlTyMgg/jWFYo3h7xn4huPEXhXUtYvby9MthqFtYi5U25UbIg+cR7SDwdo71cklLlRUlZtrvb8y7ofjTUNS+H/AIquP7QtLy+0T7TFDqNmqmO42xb0kA5XPPI5GRVeC58c6n4At/FMXiG3sZhYC7XT/sKPHKAm7945+bLYz8u0DOMHGag0XSdaTwr8RF1HSZLW61CWeS3tokLBw1sNqoQPnP8ACduRuBArptKsrqP4M2tlJbTLdroSxG3aMiQP5GNu3rnPGOtRJtU5S62j99ncaSvFeb+66Me3ufG3iPwjF4osdcttJaa2+1W+mLZLNGy7chZJG+YlvVduM966bSdXvPEfgCy1aykg0+8vrJJleZDJHCzKCSRkZA57iq3hO0ubb4U6XaXFvLFcx6SkbwuhV1by8bSp5Bz2rjrzQ9Vk+Dvg+3fSru6isXtZNV0pUKyzQqp3IUONxBwdh64q5pKUora6/Nmcb2T8n+hYl8W3nh7xJo0L+OdO8SR6hfJZXFiscCSw78gSJ5R3ABgAQ2evWt7WtW1zWPGUvhjwxew6WLO1W5vtQe3E7oXJCRohO3JAJJOe1cz4iFz4gfw0PDnhG90/TtP1q0nnknsfs7hQ+MJFjdtGSWYgAADr23dWTUfCfj+78SW2k3mraZqdnHBdR2EYkngljJ2sEyCykMRxyCKOiv3f5K34/wBWG/Lsvz/y/q5J4hm8SeEvhjrt7c+If7S1G3hMttd/Yo4jGOOCgyrHOecd+lWPEfiLVIW0HRdCaFdX1oEi5nTclvGiBpJCoI3HkADgZNUfFmo3Xi74T+IRY6Dq9rM9uY4ba7tSk0x4OVjBLY7cgHg8VN4k0rUre88NeJdKsZL6fR0eO5skIWSSGRAG2biAWUqDgkZ5FSvjd9tP1/4Fw6K3n+n/AAbEV7feJfBF5p9zrWtpr2k3l3HaXBks0gltWkOFdSmAV3YBBGeetGr6z4luPio3hrRLuC1tZNJW6aeaASfZ280qWUcbmIwACcDrg9DDrN1ffEGbTtKstD1TT9PhvYrq/u9Stjb4WNtwjRWOWYsByBgDvWlHY3Y+Nk98bWYWZ0JIhceWfLL+eTt3dM45x1qo6tX8/u5f8weiduy+/m/yK+m6j4g0Dx9ZeHtd1dNatdUtZp7a4a1SGaJ4yu5SEwpUhuuAa39ItvEMOv6xLrN9bT6ZLIh02GJMPCoX5gxwM5Pufw6Vj65Y3cvxc8K3kVrM9rBaXqzTrGSkZYJtDN0BODjPXFbGka1f6hr2sWF3otxY29hIi295I2UvAwySvA6fU9fwoWy9H+f/AAxPV+q/JFP4kf8AJMPEn/YNn/8AQDXO3HjXwc3wwisLvVtO1GSTTEg/s+CZJ5ZZDGAEEakndu46cGun8f20958OvEFtZwyXE82nzJHFEhZnYocAAck+1SeFdDsdM8P6aYdLt7O5FpF5pW3WN92wbt3Gc565qbcykn5fqO9pxfr+hxcmp+JfB/g7wDp1vH5moXEiWdxbS4wxMLbVZsEgKdpJHOFNdBeX+r+B/Cmr634l1ka48aK8MEdoluqOTtCLjJILMoyxJFL41srq78R+DpbW2mmjt9WMkzxxlhEvkuNzEdBkgZPrWj438PyeKPBeo6TbyLFcTRhoHboJFYMufbKim3dSk+/4abDiknGPSy/NmFNY/EG10h9YPiO0mvY4jO2kf2eotzgZMYkz5meo3Z/Cnal42udQ8NeGLnw8Y7WTxJcRwrcXC7xagozNxwGb5SoB4zTZ/GmtXGjSadD4P1lNekhMWx4ALVJCMbvPzsKA88HJHasrxRo0Xhv4T6H4WaL+05lkt43tbdN09yqsGlMIxkMOTu42juOtD/Vfnr+glf52f/A/Us38XirSvH2gaXJ40vbmy1QTbkFlaLJG0ah858rlD06Agkc1K2seKtZ+IXiTw3pGoRWNtZC2kW9ktllNsrxZKovG5mbJy2QADx0qv4d13w1o2sQtL4U8RaJNdMtrHqOtQvIMsflj81pHKgnHGQCa1/DVhdwfFbxpdz2s8dtcpY+RM8ZCS7YmDbWPDYPBx0ppX/H80Uur9PzNPVLfV7Xw3bRDxPb2U8OBd6pdWifvBjkhdwRCTjrke1c74V8V3J8eN4cl8T2Pii3lsmuo7u3EQkgdHCmNxF8vRsjgHik8aWUsPxC0rWNV0S713QobJ4lt7a2+0/ZrkuCJTF1OV4yAcVHpkWpaj8XNO1geH7jS9IXSp4IjNCEfdvQ5cDhM/wAIJydp4FJNtp97/k/+HFJWVvT9B+mX/i3xN4j8T6ba60ml2emah5UN0tpHLKQUUiMBhtAHUkhid2OMUzQb/wAa+IL7V9Bm1q2sX0S58mXVYLNWku9yhlxG2UTAPPBzkYxWv4Isru08QeMJLq2mgS41gyQtJGVEqeUg3KT1GQRkelL4Nsrq18W+Mprm2mhiudRjeB5IyqyqIUBKk9RkEZFTDWKv/Kvv0/4IS3+f4akfhjXNZePxJpWuXMV1f6HJsS9ihEYnRot6MU5AYd8cVjeG7jx14q+H9hrw8Rw6bcNa70gFhHItwVyN0hPTdjOEC4B71r6RYXkfijx3LJaTpHdNB9ndoyBNi3wdp/iweOO9Wfh/Z3Vl8KNHtLy2mt7mOwCPDLGVdWweCp5B9qJX5W+tl+TGviS83+aMXQL3xp458I2viGz1u30AzxboLOKySdXK8EyM5zhiDgLjAxyTSal431W4+CMHiizZLLUpfJDlEDKreesb4DA8Hnr0zW18LrK60/4W6JaX9tNa3MVuRJDNGUdDubgqeRXISaLqh/Zzt9NGm3hvxJGTa+Q3mj/Sg33MZ6c9OnNauym0trr8yKd3BSe//AOl8a6/r2neL/C2l+H5IVOrG5jlE6bkG1FIc4+Y7eTgEZ6E1BeXnifwh4g0Q6pr6a3p2rXospYpLJIXgdlYqyFOoyMENk+9WvE9heXHxN8D3UFrPLb2rXvnzJGSkO6EBdzDhcngZ61J8QLG7vbrwqbO1muBBrsEsxijLeWgV8s2OgGRyeKS+z5v9bFy+H/t1v56/wDAEv8AUdZ1rx7d+HdL1P8Asa3sLOK5lnjgSWadpGYAL5gKhRt5O0nJ7VU8ES+IX8X+IdP13xJcapHpMsccY+ywRRyCSMOM7EDbl5Bw2OelZPjmazuviNa/aNF1PW4LGxZZF0LcLi3ldgQJHRkIUryF3dySDwa6LwRrmgtLLommaLf6BdqpuWs9RtjFLMpODLuy3mc4BO4n1qYbff8An/kKW9vT8v8AM6y7uobGzmurpxHDBG0kjnoqgZJ/IV4/BFcadounfE25RlubjU2u7xT1WwnxEqn2VBE34Gu3+Itvf6totp4f02GcjWLpLe7niQlYLcfNIzMBhcgbRnruqlP8FvAMttJGnh+KNnQqJFlkypI6j5utJXXvf13f36L7x6bf12/z/AveP/EV5oOk2Elhcw2UV5eJbz6nNF5kdnGwJ8wjIHJAAJOOeateHLHWoZ/tV34sTX9OlizGDZxI27IwyyR4BGM8Y/Gsfw3rF/o/gC3tfEeiapeXFjK+nTLb2bSmZEyFlCnl0ZQORnk1R8LacD8QF1LwtoOoaBorW0g1CK6gNtHcykjyykB5DDBy2BxxzVJK7t/Wn9feS721/rUZoOqeI/GL3ctv4yt9G1CC4kjbRVsIpDbqrEL5gc72yADkFRzxW5rus6pp3jzwZpUd2vkah9qW9VYlxMY4QykZyV+bng/XNYXjC50vxLBPA/gnX5daRWS0uk08wvFJ/Cy3OdqgHB+9j2qzd6Xrf/CW/DeTUYpru4sobldRuo4yyJIbcDLMBgZbOM4yaKfT+uj/AK+4vq/R/wBf5F6S/wBc8R+NtZ0bTtXOiWmjpCC8NvHLNO8i7t37wMoQDjgZJzzVDwnfeIvJ8VtrHiOfU5dHlmtYj9mgjiYiNXV8KgO4ZwQSR14rM8VzWN18TLia50HV9cgtLJLcSeHy6yQSlizJM6OhPG0hdxxk8c1v6FrGjX3hzVdC0PR73Rrq3tHkbTLy1MUxDhsPjJ37jnkEknrWUr+zbXZ/8P8A13DTnSfdFDwyfHXi3wVpusnxLDpM89srxwx2EcomOPvyFv72M4QLgHvUeoePdWk+BU3iq38u11WEhJPLUMm9bgRvgNng4PXOM11Hw9tbiy+G+gW15BJb3EVjEkkUqFXRgvIIPINcBcaHqzfs46jpg0y8N+9zIy2gt381gbzcCExk/Lz06c1s9ZtLv+oqSvyuXdG54nvfGnhvw5J4sk1u2lW2CTXGjfYlEWwsAUWX7+4A/ePBP8Io8QXPjfRPDM3iw67at9liFzNowsl8ny+CUEud+4DPzZwSOgrZ+JtldX/wt1i0sbaa5uZLdQkMMZd2O5eAo5NS+O7S5vPhZrNpaW8s9zJpzokMSFnZtvQKOSfaok7KTXTYIa8t+u/4FPxr40OjJo1jaX1jpdzrLMRe6gwEVrGqhmcgkBm5AAyMk1kaX40k03xdpWlv4y0zxZaarI0BaDyVntZApZTiI4KHBHIyDjk1e8XaBfSTeGvENhpg1SXR1aO505toaaGRAG2huN6kAgHGat6Drmn6rrEMFp4H1bTyCS13e6WlukOBnO4nJJPA2g1dlzfP8P8AhvxI1cV6fiZ8OqeK9d8f+JtB07U4tOsdOe3ZLs2yyyRh4gfLQEAcnJLNux0xzxc8P6nr8XinV/CWtapHe3ENkl5Z6klssb7XLLh0Hykqw7YBqbwvY3dv8RvGdzcWs0UFzLaGCV4yqygQ4O0ng4PBxSWtjdr8bNQvmtZhZvocMS3BjPls4mYlQ3TODnHWklsvL9Ljm7Xa7r80YHwr0zW5P7TvJvE9zJbxa3eJPaNaw7bhg2CxbbuUng4BAGK9RIyCPX0NefeCprzw1q2q6BqWjanuu9WuLu3vYbcvbPHK24EyDhSO4PNeg0t4r0X5IFdN37v82ebt4d07w58UfCkGmxMGmhv5Z55XLyzuUTLO55Y113ie28Q3NpaL4VvrWznW7ja4a5TcHgH31HB5PHp9RWZrdldS/FHwtdxW0z20FveiWZYyUjLKm0M3QZwcZ61p+Jtav9Ds7SbTNFuNYee7jgkjgbBiRjzIeDwPwHPJFPpH+uodX/XQ2q8X1tJNP8ceJvFVsGMuganZzyherWz24SZf++SG/wCA17RXGaHpEk/i/wAcJqNnKLLUJLdEaSMhJk+zhW2k8HuDip1Tuu36oemz/rRjvH92b/QbLQtPkzN4inW1V0PIgI3SuPYRg/8AfQqr8KYkt9N8QwwqEjj1+7RFA4ABAArN+HGha5HrkjeJbeRIvDsDaVpkkgI89C5JmGRzlBEuR6H3FSaLo2tnwL42s7KKey1G81O/azaQGItu+4yk44PZulPSKbXZv8Vb8NfmFm7J9Gvyd3+nyIPFOuaz4bs73UJfiJo/261VpU0iS2hjjl28+WAWMu4jjIbr2rotd1fWf+EZ0zxPoJaSGKNLq800RqxuYGUFgpI3B1ByMEZxg1x8gM3w2uvD3hvwHf2epvYNDM1zYiGNG2YZvNP+tY8427iSRnFdHdSa5F4G8P6Bolrcwajf2kVvNdtCwXT4xGPMdjjAcDhVPJP0p2sml5W/H8NAvdpvzv8Ah+O5Y0bxNc+MvFCz+HLsL4bsI/39wsYP22dhkRqWHCoCCxGDuOOxpui+INTuz43+0XO/+y7ySKz/AHajylEKsBwOeSTzmofD2iz/AA/8Qw6LplvdXPhvUF3QsFaU2NwB82884R8ZyeA2emaZoOnXsLfEDzrO4j+130r2+6Jh5ymBQCnHzDIxx3rGrs+X+V/fdf0vIqG6v3X3Wf8AT8yhok/jvxH8P7HxEviODTrhrMTJaiwjkWfav3pGPI34zhAoXPep9Iu/GnjLwlbeI7PW7fQzcQebBYR2Szo+O8jvz8xH8OMAjrW14Ns7q1+EmlWdzbTQ3UelrG8EkZV1bZjaVPIPtS/DuzubL4W6LaXtvLb3MdiFeGVCjoeeCp5BrWe87fL8SI7Rv/Wxk3PjTUrz4W6F4htStnd313ZxzBFDKA86pIAGzwefcZ61t/EXV77Qfh7q+p6VP5F5bwhopNittO4DowIPXuK5K38P6zN8BtIsrWwk/tSxkhuhZTjyncx3G8phsYJA4zTvHeu6r4v+HuqaZoXhbW47iSEGb7bZmLYAwJVRyZGOMAICPeiW8ku/4af8EdPeN+yNrxnr+u6bqHhS20F4vN1S6aCZZkBRgYidx4zhT82FIzjGeaztav8Axp4T1vSYBrVtrqa1cGzSO5s1g+yyFSwkBj5ZQAcqeeOvcafiewvLjxN4GlgtZ5Y7W8kad0jJEI8hhliPujPHPepfGtldXfiPwdLa2000dvqxkmeOMsIl8lxuYjoMkDJ9aX2n/it8tP8ANk68vy/HUo3V14o8KeJND/tPXo9a0/VrwWUsT2SQNA7IxVkKdRlcENn6131cl45srq7vvCrWltNOsGuRSzGKMt5aBHyzY6Dkcn1rrapfD8/0Q38Xy/V/8A808KeJtC0PxV41i1rWtP0+V9ZLrHdXSRMy+UgyAxBI4q18PjDqHjDxZrmjRlNDvpYFtpApVLiVEIllUHsSQMjripfCPhyFvFHi281fRoy8urFrae6tRl4/KQZRmHK5z04610niuyv73wbqtnojmG+ltJI7ZlbZhypAwe317VnF8tNPryr8kXvJrz/U4fxTrms+G7O91CX4iaP9utVaVNIktoY45dvPlgFjLuI4yG69q2/EXie+j0/wfe6ZL9nTWNSto512K26KRCxXkcduRg1y0gM3w2uvD3hvwHf2epvYNDM1zYiGNG2YZvNP+tY8427iSRnFbGr6Xfy+Gfh7FHY3LyWmoWT3KLCxMKrEQxcY+UA8EnpWqSTt5x/PUhu6v5S/LQs61rniSX4nv4Z0K4hghm0pLnz5oQ62p81lZ8cF2IwApOO/Y5lhvNe8PeN9A0rWtbbVbTUrW4jMr2sUObhDvU4QcfISuM4O3PWp47G7HxsnvjazCzOhJELjyz5Zfzydu7pnHOOtL8SrS8bQbLVtKs5r2+0a/hvIoLdC0kqhtsiqBycozce1TflUX9/3tfgtSnrKSXl+Sf5mVH4y1Rvix9m+0KfDjXDaSsflr/x9rEJd+7GfVMZxkdK0U1/U7vxV4tW2udun6NZJFEnlqR9pKNIzZxk4BQYzj2rIm8L6hF8GYiltI2vwyLrRjVSZDdeZ5zJjrnkpitDwhpt6nw71a8v7OeDUtaku72W3ljIkUvuCIV65CBRioqJqEl1Sf3/1zW9EONnJdm/w/q33soT+M9Yt/hb4W1SW9ht59V8iO+1aeANHaB0JMhQYUZIAGcKCea6fw3Y61DP9qu/Fqa9p0sWY82cSMGyMMJI8ArjPGPxrL8NXcnhz4UaBFqei6lcstlFDPawWhkkj+TnfH97HYjBPtWb4W05W+IC6l4W0HUPD+itbSDUIrqA2sdzKSPLKQHkMMHLYHHHNa/baXn+RmvgT9Cp/wnDeIb6+mi8f6R4WtLa5e3trWT7O802w7TJJ5pyFJBwqgHGDmuq+H3ix/Fmg3E1w9tLdWN3JZzzWjboZmTGJEOT8rAg9TXK6ZAfALXulax4PvtZs2u5Z7G/06xW6LRu27ZIo+ZWUkjOMGu/8OzxXWlC4h0abRlkckW1xCkcnpuKqSBn35qY/D8vx/q+hUt/n+Bq0UUUAFFFFABRRRQAUUUUAFFFFABRRRQAUUUUAFFFFABRRRQBDc/6sfWqtWrn/AFY+tVaACiiigDQooooAK8zHgXUpvitdzXNqp8NSvJqCv5i83LwCFl25z03NnGOa9MopWTHc8f0L4ceIbnwd4nsNc221/d2sWm2MjSK6tBAvyMSpJAYnkHkelXNN8H6jJpOrtc+HtQttUbRZrCGa81v7WspZfuIGc7VJGcnbj0r1Sihq979Vb8/82NOzTXR/5f5HlmneHfFHhjVNC1my0RdVkTw9Bpd1Zi8jie3kTBLBmO0rng4J6d6sa3oPia08S69qGlaNFqkfiPT4rZ1a8SP7FIqFDnd95Pmz8vOR0r0uiqm+e9/P8b3/ADJj7u3l+Fv8jzzQ/BepaP4o0FpY1ubXTfDjafJdBlx525eACd2CAecYxWToXgjXrLwd4GsrjThHdaVrLXV6nnRnyoi0p3ZDYbhl4GT+Ves0U1Jr77/i3+bE1ePL/W1jyOy+H+oWWvXNpqOkX2p2M+rG+iu4daMNugaQOC8Bbl1PopzgcivXKKKlaJIfW4UUUUAFFFFABRRRQAUUUUAFFFFABRRRQAUUUUAFNk/1bfQ06myf6tvoaAOBvf8AkIXH/XVv51Po3/IWh/4F/wCgmoL3/kIXH/XVv51Po3/IWh/4F/6CaAOysf8AkHW3/XJf5CsRvD98fGg1b7aPswk3hd77wnk+X5O3O3Zu/eZxnd27jbsf+Qdbf9cl/kKnoAxTompEkjxTqY9hDa8f+Qa0bC1mtLfy7m+nvn3E+bOqK2PT5FUfpVmigCC+/wCQfcf9cm/kar6R/wAea1Yvv+Qfcf8AXJv5VX0j/jzWgC/RRRQAUUUUAFFFFABRRRQAUUUUAFFFef2vj3xRql5qI0PwQl9aWF7LZmf+2EjZ2jOCQjJ9O/40dbB0uegUVh+FvFNt4psriSK3uLK6s5jb3dncqBJBIOcHGQRg5BHUVuUAFFFFABRQTgGua+H3iO78WeCLLWdRjhiuLhpQywKQg2ysgwCSeijvQO2lzpaKKKBBRRWfomt2niDT2vdP3mATywBnAG4xuUJGCeCVOPagDQooooAK5zV/D13f+PPD2tQyQrbaZHcrMjsQ7GRQF2jGD05yRXR0UdbgFFFFABRRRQBxv9g+JNC17Vb3ww+l3dtqtwLmW31B5Imik2BTtdFbKnaOCox61a0fw5qbeKD4j8TXVrLfJbG1treyjZYoIywZjuY7nYkDnAAx0rqKKFpby/4b8geoUUUUAFFFFABRRRQAUUUUAFFFFABRRRQAUUUUAFFFFABRRRQAVzPiPw9qd1r+na/4fubVNQsIpYPIvUYxTRybSRleVIKjBAP0rpqKAOLvPD3iXxRLaQ+KZdKs9Nt7mO5e108yTPOyNuUGRwu1cgE4XJxjNdpRRR0sHW4UUUUAFFFFABRRRQAUUUUAFFFFAHG/2D4k0LXtVvfDD6Xd22q3AuZbfUHkiaKTYFO10Vsqdo4KjHrVrR/Dmpt4oPiPxNdWst8lsbW2t7KNligjLBmO5judiQOcADHSuoooWlvL/hvyB6hRRRQAUUUUAFFFFAHFWug+KPDd9qQ8NvpN7Y6heSXnl6g8kMkLvyw3IrB1z04B96v6B4bv7fxFd+IvEN3b3Gp3NutqkdpEUht4VYttBYlmJJyWOPoK6aihaA9b+f8Aw/5hRRRQAUUUUAFFFFABRRRQAUUUUAFFFFABRRRQAUUUUAFFFFABRRRQAUUUUAFFFFABRRRQAUUUUAFFFFABRRRQAUUUUAFFFFABRRRQAUUUUAFFFFABRRRQAUUUUAFFFFABRRRQAUUUUAFFFFABRRRQAUUUUAQ3P+rH1qrVq5/1Y+tVaACiiigDQooooAKKK841T4qXulX2syS+GGl0XRbxbW7v479d6k7cERFQT98dDSvry/1/WoHo9FYE/jjw5ba0ukz6pGmoPNHAtsUbeXkUMoAx0II56DuRTIfH3he48Q/2HDrEL6h5hiEYVtpcdUD42lv9kHPtTA6KiuYuPiL4YttSWwa/mkne4NqnkWU8qNMOsYdEKlh3APHerEHjjw5c61/ZEGqRvqAkmjNuEbcGi+/kY4AweTwe2aAN+isDR/HHh3X7ua10vUfNnhi85o3hkjYx9N6h1G5fdciqEXxV8EzNGI9fg/exebGTG4DjHIBK4Lf7H3u2KAOuornYvHvhibw8dcTVohpqzi3ed0dfLkJC7XBGV5I+8BgHJ4qi3xX8EpBLK2uxgQvskXyZd6+5Tbu2/wC1jb70AdhRXPN4kT/hLLeyjvLFrGbTGvgAsjTMAwG9WA2bMHpndnGOKi0r4i+FNb1K2sNL1mKe5uo/MgUI6iQYyQGIA3AdVzkdxRv/AF6/5AdNRXMf8LF8MHVIdOjv5pbi4na3h8mynkSSRThlV1Qqcd8HjvXT0bq4eQUUUUAFFFFABRRRQAUUUUAFFFFABTZP9W30NOpsn+rb6GgDgb3/AJCFx/11b+dT6N/yFof+Bf8AoJqC9/5CFx/11b+dT6N/yFof+Bf+gmgDq7NiLGDBP+rXv7VNub1P51BZ/wDHjB/1zX+VTUALub1P50bm9T+dJRQBFeMTYz5J/wBW3f2pNI/481ou/wDjxn/65t/KjSP+PNaAL9FFFABRRRQAUUUUAFFFFABRRRQAV5L4K8V3GkXHiSxtvDGuaox167cT2cMZhyWHyl2dcH8K9arnPBvh678Owaul7JC5vtVuL2PyWJwkhBAOQOeOeo96Fu/T9UD+H5/ozml0TUrLwR461rXYEtL7W7eedrRHD/Z0WAoilhwWwMkjjmrHgHwhp914f8PeJNYEl/rAsopYbiSV9tupjAVETO0AKcHjJOSa6/xFp8ur+GNU062ZFmvLSWCNpCQoZkKgnAJxk+lM8MaZNovhPSdLumjeeys4oJGjJKlkQKSCQDjI9Ka2fyt8r/8AAG7cq+f42OH8L+G9N+IVjd+IvF0L6jJPezx2sEkriO0ijcoqooIAb5cluuTSaZrt34UsfHWlCea9j8NxC5sXuHMjLHJCXWMseWCkEc84rXi8OeJ/DN5er4OuNKn029uHuRa6l5iG1kc5bYyA7lJydpAxnrV7QvBotNL1dNeuV1G+1xmbUZlTYjArsCIuSQqrwMknvUa8jS7fjp/wdR6c133/AA/rp/kYnh74daXd+GbPVb6W6m8QXdstxJq/2lxOsjruypBwFBOAuNuByDXJ2G4/srp5hBbzvmIGAT9u9O1drpeg+OdK02PQYdU0iTTIEEEOoSRyG6SIcAGP7hYDgNuxxkg03TPhzJH8IH8F6hehXPmhbqEltpMzSRtyBkj5cjjnNaOSV2trq3yuKGiSlvfU1fiN/wAku8R/9gyf/wBANc9rVzdXGgeB/DttdTWcetCKO5mgcpJ5McG9kVhypbAGR2zU+r+HfHniTwve6Fq1/oltFNbNEbizWUyXBxwCGGIwTjcRvOM4xWrq3g6fUvDGi29verZ6vovlS2t0q70WVE2kEcEowyD04qe/qv1uRZ3XpL79LDtO+GvhLSWuG0/SREbmJoZh9olYSKcE7gWIJ469evrXNfBvwnoUPhi21qLTIE1Jbm6jW5C/OFErqB/3zxXWaCPGpv2Pig6CtoqEKNOExkduMEl8BR145+tUPCXh3xF4Vun0tZtMufD/ANomnikPmLdIHYvs242nDH72enamr3+RW8fn+n/DHZUUUUgCiiigAooooAKKKKACiiigAooooAKKKKACiiigAooooAKKKKACiiigAooooAKKKKACiiigAooooAKKKKACiiigAooooAKKKKACiiigAooooAKKKKACiiigAooooAKKKKACiiigAooooAKKKKACiiigAooooAKKKKACiiigAooooAKKKKACiiigAooooAKKKKACiiigAooooAKKKKACiiigAooooAKKKKACiiigAooooAKKKKACiiigAooooAKKKKACiiigAooooAKKKKACiiigAooooAKKKKAIbn/Vj61Vq1c/6sfWqtABRRRQBoUUUUAFedaP8NdPu/GPiDWfE+jrPJLqfnWLSzlkaMIuGMYbb94H7wzXotFK3vc39dP8geqschoOgXtn8TfFmsXVqEtb+O0S0n3KS4SMhxgHIwcdQM1x9n4J8Tw6bpvhSXToVsNO1kaidaN0p82MSGQAR/f3nODnj3r1+in1T7W/Abbd/P8Ayt+R4VpGoWlrrEOq3enX91osmvPNpn2a9h8hZJHKLIIGxPuySSDkDkgAV2+geHde0rR/GxtYo7PVNS1O6uNOmZkbcrKPLY4zgZzwenpXTafpXhuW/l1XSrDSnuxIyS3ltDGZN4OGBdRnIPBBOa2KFpHl8rfl/luF/eb87/n/AJnlfhjwt4lTxbY6xrFhdxbdJntbh7zVRdO0xKHIG4qitg4C8ccgcUmj+CdatdB+HdtPpqpLot08t+vmxnyQQ3PB+bkj7ua9Voo/zT+5t/qRy3/Ffekv0PKtQ8E61PoviO1j05WN94miv4U82PEkAeMs/XA+63B59q0dS8KarceJfHV3FYq0OraNHa2b+Yn72QRuCuM5HJXk4FeiUVPKmkv625fyNFJqXN/W9/zPNtH8J61a6poU1xZbI7TwodOmPmodlx8nycHnoeRx71WsfCGsWOg/DyOWwEbaHM0uogSp+5HlsCeD83J/hzXqVFVJuTv53/Fv82RZfhb8Ev0PDPCt7a2Wq6TfXum39xps2rSnR2gvoGgiM7sFdYciboxyGzjkgDpXudZ1r4d0Wx1B7+y0ewt7yTJe4itUSRs9csBk1o0LSKQ3q2wooooAKKKKACiiigAooooAKKKKACmyf6tvoadTZP8AVt9DQBwN7/yELj/rq386n0b/AJC0P/Av/QTUF7/yELj/AK6t/Op9G/5C0P8AwL/0E0AdVZ/8eMH/AFzX+VTVDZ/8eMH/AFzX+VTUAFFFFAEN3/x4z/8AXNv5UaR/x5rRd/8AHjP/ANc2/lRpH/HmtAF+iiigAooooAKKKKACiiigAooooAKKKw9e8Y6P4dcR39wWnIz5EK7nx6nsPxNJtLcipUhTjzTdkblFcppXxH8P6pcrAJZrSRzhftKBQx9MgkD8cV1dCaexNOtTqq9N3CiiimahRRRQAUUUUAFFFFABRRRQAUUUUAFFFFABRRRQAUUUUAFFFFABRRRQAUUUUAFFFFABRRRQAUUUUAFFFFABRRRQAUUUUAFFFFABRRRQAUUUUAFFFFABRRRQAUUUUAFFFFABRRRQAUUUUAFFFFABRRRQAUUUUAFFFFABRRRQAUUUUAFFFFABRRRQAUUUUAFFFFABRRRQAUUUUAFFFFABRRRQAUUUUAFFFFABRRRQAUUUUAFFFFABRRRQAUUUUAFFFFABRRRQAUUUUAFFFFABRRRQAUUUUAFFFFABRRRQAUUUUAFFFFABRRRQBDc/6sfWqtWL6QQ2rSNkhMscewNYf/CQWv8Azzm/75H+NAGpRVWy1CK/3+SrrsxncB3/AB9qKANqiiigAr5/8d+MNOPxD1DWftcgvPDU9vDp8McUjLLhibkFgNoyG2/MR92voCsqy8MaPp+jXWlWtkFsrxpXuImdn80yffJZiSc59aWqkpLp+f8AVx6Ws+v5HE+M/E2vadrVnqEN9c6f4Ulto5BqFnZR3Sq7H/lsG+ZUwVwVx1p58Q+IbL4lraa/fXVhpV3dLHpgisY5LW7UrwrS/fSQnPXjjpW/J8NvCky2qzaW0kdpEkMUb3UxQon3VZS+HA/2gatL4H8Orrw1n+zt18spmVnmkZFc/wAQjLbAfcDNUrJ+Wv3f1/TJd2vP+v6/yPP7XxLrFp4dkaykFqk3iq5s55rCxjadItzYMcSqRI+RydrNjJOetSTa3440rwrplxeapMt/qfiGOyhN/ZRLttnLqhaNFUgnhiCc8duRW94o+Ha3tnbW+hW9qbRb6W+urG6uZolnmf8A5aCZNzoQcnC8HNT+HPh9FaaeYvED/awmopqFpbLdzyR2ToAFCu7bn5yTu4JPSiNuvl+HLf8AJ/qPZ/f+PNb81+hzV54w8TaLpPjyyuNVS+vfD4t5bW+a1SMkSjO1kA2nHTOO9SvqHjhvGtx4bHimBDNpA1RLldNjzAwbaYkBOCpJzltxx+dd1d+DNAvm1drqw8w60sa3/wC+kHnCMYTo3y4/2ce9Wf8AhHdL/tz+2Psv+n/ZPsXneY3+p3btuM4698Z96X+X42/zsVpf+vL/AIJ5m3xB8Sapofg6GxWdLzWrWae5msLeGSU+XxiNZmCDJ5Oc4HQVfl8QeN3Twpp13Kmj6jqd1c29y8tsjlo0QskmwMQG2jOA2M+o4rr5fAfhufQbLRpNMBsrDm1UTSB4f92QNvHX1qxb+EtEtf7M8myKnSnkksyZnJjZwQ5JLfMTk/ez1puzb9f1/pGcbqKvvb8bf56nlus+I/Ed98M9fgutYIvNJ19dOa9hgWN7iPzUAJA4U/N264x6167aWV7DootLnVJbm78tlN8YkVyTnDbQNuRx2xxVB/Bfh+XTdUsJdNR7XVrhrm9jeRyJZWwS3Jyp4H3cYxxWjpWlWeiaZFp+mxNFbQ52K0jORk5OWYknk9zRpy2fl+ST/H8yn8V1t/wWec+AtLuNP8U/EDTrTU52ulkt1S/u/wB84kaAnzGBwD8xzjgdulek6dHcw6ZbR310t3crEoluFjCCVscsFHAyecVS/wCEX0fzdXk+xgtrShb/ADIxEwCbAMZ+X5eOMVesLG20zT7exsYhDbW0axRRgk7VUYA556UX0+S/BCt+bLFFFFIYUUUUAFFFFABRRRQAUUUUAFNk/wBW30NOpsn+rb6GgDgb3/kIXH/XVv51Po3/ACFof+Bf+gmoL3/kIXH/AF1b+dT6N/yFof8AgX/oJoA6qz/48YP+ua/yqaobP/jxg/65r/KpqACiiigCG7/48Z/+ubfyo0j/AI81ou/+PGf/AK5t/KjSP+PNaAL9FFFABRRRQAUUUUAFFFFABRRRQBW1O7/s/Sbu827vs8Dy49dqk/0rxr/hDNa1vQ/+EgilW9nuZCzQqcuRnGc9M57dh+Ve03NvHd2k1tMMxzI0bj1BGDXjttqGtfDXWprWaIz2khJCMSElHZ1PY+v5GsqiT+I8TM4xc4OqnyarTo+5rT+HtC8G+EpG8QxR3up3iFUjB5U+iHsB3b/9VdN8ONVm1TwfH9pYvJaytb7yeWAAI/RgPwryG9vdT8Ua2ZZQ9zdzttSNBnA7Ko7AV7b4O0FvDvhuCzlIM7EyzYORvPb8AAPwrOm3Kd0tDLL5+0r/ALmNoRVvX18/yNS/vYdN024vbk4ht4mlcj0Ayaw7HxS8Phe91HxDb/Z7nTSwvIbdS2zgMu0Hk/Iyn65q94i0d9esYdPeQpZyTq13slaN2jX5gqsvIJYLk5HGa5bxN4YOiaJrlzpNxN9nvLApcfbbua5cSqw8tlMjMcYZgRkdF966Vvr/AF/Wx9BLRf1/XmdIPFEKfa1vrC9sZLe2e6VJ1TM8SfeZNrkdxwxBGRkCkHiiI2MdyNOvsXMgjsoysYe8JUtlAX+UYBPz7emelUrzQtX1ma6uNSFlbyLp9xZWqQTPIHMu3Mjkou37i/KA2OeTV/UdJu5LXS5rIwte6Y4kSOViscv7to2UsASvDEg4PIHFL1/rV/pb79ugenn+n/B/z6mfqXit1hsJLe3u4JhqSWt3ZPGjTAtGzBOCV5+U7g2PfGa1rLXBe290f7PvIbu1x5tjKI/NGRlcEOUOR0IbHXJGDWNN4d1i4kXUmksotRa/iu3hDs0SJHEUEYfaCxOT820Y3dOMEuvD+sX9rf3dx9ijv7uS3JtEncwNFE2fKaTYGIbL5OzoQMHByK9nfv8Aov8Ag9/8x7q39b/8A0F8V24sriW6sb21uYJkgaxkEbTM742Bdjsh3Z67sDnOMGqdr4pddV1d9ThubO3tLe1K2k0aGRZJGkGAULBi3yAYYjPHBzVS18H3tul3PbQaXYTvdW93b2lqCIUaMYKMwUZ3DPzhe/3eOZ5vDeq6nLqF3qLWdtcXC2jwRwSNKkUlvI0gDMVUsCSOcDgnjjJa63/paf8ABF1Rt6ZrQ1C4ltZ7G60+7iUSG3utm4oSQGBRmUjIPfI7gZFXkuYJLmS3SaNp4grSRBwWQNnBI6jODj6GsnTbDUpdbfVtZS1glFv9mht7WZpVVS25mLsqZJwvG3jHU5rXWCJJ3mSJFlkADyBQGYDOAT3xk/nR0DqZUupahH4rtrE20KWE0UhErMTI7qFOQBwqjcRzyT6AcyyalOfEBsLaJZI4LQzz/wB7czYjVTkDna+c+gqS6sZJtasLxGQR2ySq4JOTuC4x+VN0nT5bSa/ubtka4vLlpGKEkKgAWNeQOiqCfctUq93coh8P6jf6hHfDVIYIZ7a7MISBiwC7EYAk9T82M4A46VHe+J47XUrmxg0zUL6a0jSWf7MiYjR92GyzLu+6flXLexq3plhLZXGpSSshF1dmdNpPC+Wi4PvlTWA/9sjxrrv9jJZS77a1VhdStH5ZxL842q27/d+X/eqnsrdl99v8yI769391/wDI37PWrO/vEt7RmkElpHdpKB8jRuSFx3zx6Vnf8JhbSfY0stPv7y4vYJJ4YIVjDFY3VWyWcKOWHU/rxVe18PajoMlh/YYtLtIdPjsJBdzNEQEJIkG1W3Hk/KcduafoHhu90q40uS7ngmNnYTW0rR5G93lRwQMdMKe/HvQvi8tf1t+g3fp5fpf9Qbxe815pKadpd1cw3xmWXBjV4mjJVkIZxyGBz1HHGatSeKrZLt1+x3jWUc32eTUFVPISTcF2n5t/DHBYKVBzk8Gs+28O6rpy2M1r9jnntr68maOSZo1aOeV2GGCMdwDDjGCcjPeiXw5qhtLrRITZ/wBk3dzJO9y0r+ciyS+Y8Yj24OSWAbeMAj5Tjk6jel7f1v8A8A1rbXvtmrSWlrpl5LBFI0Ml8DEIUdeq4Lh/bITHvWtXNy6Pfz+Ko76OysbGOOUNJeW925mukAI2SR+WqkdOSzYxxXSULZB1CiiigAooooAKKKKACiiigAooooAKKKKACiiigAooooAKKKKACiiigAooooAKKKKACiiigAooooAKKKKACiiigAooooAKKKKACiiigAooooAKKKKACiiigAooooAKKKKACiiigAooooAKKKKACiiigAooooAKKKKACiiigAooooAKKKKACiiigAooooAKKKKACiiigAooooAKKKKACiiigAooooAKKKKACiiigAooooAKKKKACiiigAooooAKKKKACiiigClq/wDyC5/9xv8A0E1wtd1q/wDyC5/9xv8A0E1wtAG54c/5ef8AgP8AWijw5/y8/wDAf60UAdXRRRQAV5xqnxUvdKvtZkl8MNLoui3i2t3fx3671J24IiKgn746GvR6860f4a6fd+MfEGs+J9HWeSXU/OsWlnLI0YRcMYw237wP3hmkr867f8Ff8EfT+vM6afxx4cttaXSZ9UjTUHmjgW2KNvLyKGUAY6EEc9B3IpkPj7wvceIf7Dh1iF9Q8wxCMK20uOqB8bS3+yDn2qloOgXtn8TfFmsXVqEtb+O0S0n3KS4SMhxgHIwcdQM1x9n4J8Tw6bpvhSXToVsNO1kaidaN0p82MSGQAR/f3nODnj3p9Vf+tvy/4ASVk7f1pf8APQ7i4+Ivhi21JbBr+aSd7g2qeRZTyo0w6xh0QqWHcA8d6sQeOPDlzrX9kQapG+oCSaM24RtwaL7+RjgDB5PB7ZrynSNQtLXWIdVu9Ov7rRZNeebTPs17D5CySOUWQQNifdkkkHIHJAArt9A8O69pWj+NjaxR2eqalqd1cadMzI25WUeWxxnAzng9PShX5bvt+Omn4v5BbVrz/DXX8Eb+j+OPDuv3c1rpeo+bPDF5zRvDJGxj6b1DqNy+65FUIvir4JmaMR6/B+9i82MmNwHGOQCVwW/2PvdsVzPhjwt4lTxbY6xrFhdxbdJntbh7zVRdO0xKHIG4qitg4C8ccgcUmj+CdatdB+HdtPpqpLot08t+vmxnyQQ3PB+bkj7uaP8Agfi2r/kyG+3n+S/4Y7OLx74Ym8PHXE1aIaas4t3ndHXy5CQu1wRleSPvAYByeKot8V/BKQSytrsYEL7JF8mXevuU27tv+1jb71zWoeCdan0XxHax6crG+8TRX8KebHiSAPGWfrgfdbg8+1aOpeFNVuPEvjq7isVaHVtGjtbN/MT97II3BXGcjkrycCpb0vb+rJ/ndGiScrX/AKvb8tTo28SJ/wAJZb2Ud5YtYzaY18AFkaZgGA3qwGzZg9M7s4xxUWlfEXwprepW1hpesxT3N1H5kChHUSDGSAxAG4DqucjuK5zR/CetWuqaFNcWWyO08KHTpj5qHZcfJ8nB56Hkce9VrHwhrFjoPw8jlsBG2hzNLqIEqfuR5bAng/Nyf4c1crRfz/8Abmr/ACVmRr+H6L9bnV/8LF8MHVIdOjv5pbi4na3h8mynkSSRThlV1Qqcd8HjvU/ivxWnhpbKC3sZdS1PUZTDZWULBDKwGSSx4VQOpryzwre2tlquk317pt/cabNq0p0doL6BoIjO7BXWHIm6Mchs45IA6V6D430HVbnWtB8R+H4I7y90WWUmyllEX2iORNrAOeAw7Z4pfZTfz/ArTmaX9b2Kut+ONc0Tw3a6lrGiW+jSvqsFpMlxdC4QQufmkDIVxgZ6+h4roNK8Z6BrWn3t7pmorNDYZ+1ZjdGiAGclWAbGATnHPauc8QWfiPxd4d037Z4dGn3EGt2072rXscx8hGBZywwvr8oyePfFVNR8OeLIvEPjzUfD6LbXGp21oum3BkT52RMOAMnacZALAcnNHR3/AK0j/wAH8RpJta/1f+vkb8nj7Sb7w7rd54du0ubvS7OS4ME8MkZBCFlJVgrFSR1H51T0Dxrf6nrug2d3Faxw6j4fGqTsisCkmUBAJbAX5j1yfeucsvBviFrzxDezabdRf2l4deyhjvNUF3MZ8t8rMzELnPAB2j2yRVyx8E6zJcaRFdQG1iTwi2lTziVCYZ22jGAcnGCcjjjrT2V/62n+qX4CVmrP+vh/zf4nX6X448Oa1evaaZqaTzKjSAeW6iRV6shIAkA9VJFV9L+I/hLWtRtbHTNainuLtN0CiN1EnGSoYqBuA6rncPSuR8GeCtQ0640+PWdDvludKtZIYb99bM9uSU2fuoS2VDDsVUDj0o03wXrlp4T+HtpJp4jn0bUBPfoJY/3KfPk5DYb7w+7k807JPft+LevyIba2Xf8AC2nzOuuPiL4YttSWwa/mkne4NqnkWU8qNMOsYdEKlh3APHerMfjfw5Lrv9jx6pG175phC7G2GQdYxJjYX/2c59q8o0jULS11iHVbvTr+60WTXnm0z7New+QskjlFkEDYn3ZJJByByQAK2dC+H+oabq8dhquj32oWsOqG9hv49aKWyjzN6ubct98Z7Lg+vNTHW1/62/zZUtL26f8AB/yR39l418P6jrr6PZX/AJ16jvGVWGTYWX7yiTbsJGDkA9q3a820Pw9r+n/EQ3el6ZdaLo0s00moQy6ik9vcls7XijGWRi2Cfu+lek0L4Uw6tBTZP9W30NOpsn+rb6GgDgb3/kIXH/XVv51Po3/IWh/4F/6Cagvf+Qhcf9dW/nU+jf8AIWh/4F/6CaAOqs/+PGD/AK5r/Kpqhs/+PGD/AK5r/KpqACiiigCG7/48Z/8Arm38qNI/481ou/8Ajxn/AOubfyo0j/jzWgC/RRRQAUUUUAFFFFABRRRQAUUUUAFRXFtBdwmK6hjnjPVJEDA/galooE0noytaabY6fn7BZW9tu6+TEqZ/IVZoooBJJWQUUUUDCiiigAooooAKKKKACiiigAooooAKKKKACiiigAooooAKKKKACiiigAooooAKKKKACiiigAooooAKKKKACiiigAooooAKKKKACiiigAooooAKKKKACiiigAooooAKKKKACiiigAooooAKKKKACiiigAooooAKKKKACiiigAooooAKKKKACiiigAooooAKKKKACiiigAooooAKKKKACiiigAooooAKKKKACiiigAooooAKKKKACiiigAooooAKKKKACiiigAooooAKKKKACiiigAooooAKKKKACiiigAooooAKKKKACiiigClq/wDyC5/9xv8A0E1wtd1q/wDyC5/9xv8A0E1wtAG54c/5ef8AgP8AWijw5/y8/wDAf60UAdXRRRQAUUUUAFFFFAGdD4d0W21NtRt9HsIr5yS10lqiysT1y4Gf1rRoooAKKKKACiiigAooooAzrXw7otjqD39lo9hb3kmS9xFaokjZ65YDJrRoooAKKKKACiiigAooooAzofDui22ptqNvo9hFfOSWuktUWVieuXAz+taNFFABRRRQAU2T/Vt9DTqbJ/q2+hoA4G9/5CFx/wBdW/nU+jf8haH/AIF/6Cagvf8AkIXH/XVv51Po3/IWh/4F/wCgmgDqrP8A48YP+ua/yqaobP8A48YP+ua/yqagAooooAhu/wDjxn/65t/KjSP+PNaLv/jxn/65t/KjSP8AjzWgC/RRRQAUUUUAFFFFABRRRQAUUUUAFFFFABRRRQAUUUUAFFFFABRRRQAUUUUAFFFFABRRRQAUUUUAFFFFABRRRQAUUUUAFFFFABRRRQAUUUUAFFFFABRRRQAUUUUAFFFFABRRRQAUUUUAFFFFABRRRQAUUUUAFFFFABRRRQAUUUUAFFFFABRRRQAUUUUAFFFFABRRRQAUUUUAFFFFABRRRQAUUUUAFFFFABRRRQAUUUUAFFFFABRRRQAUUUUAFFFFABRRRQAUUUUAFFFFABRRRQAUUUUAFFFFABRRRQAUUUUAFFFFABRRRQAUUUUAFFFFABRRRQAUUUUAFFFFABRRRQAUUUUAFFFFAFLV/wDkFz/7jf8AoJrha7rV/wDkFz/7jf8AoJrhaANzw5/y8/8AAf60UeHP+Xn/AID/AFooA6uiiigArlLjx9Y2em+INUu4GXTNFm+zmdHDNcSgDcqrxjDMFBzyc9MV1deVxeGZte8D+K/B6zJbapb6rLcRNJ0bfL58Tn/ZPTPsfSl1+X6ofb1/Rm5afEDUoNV0628U+Fp9Et9VlENnc/a45wZCMqkirgoT+PNUNU+Kl7pV9rMkvhhpdF0W8W1u7+O/XepO3BERUE/fHQ02803xf411LQ7fX9Bg0Sx0q+jvricXyTm5eMHasaqMgEn+LHFSaP8ADXT7vxj4g1nxPo6zyS6n51i0s5ZGjCLhjGG2/eB+8M0/tLtr+n/B7C6fd+v/AAO5JrnxB8R6V4rs9FtvBsd2dRaT7BMdWWPz1RdxYr5Z2cdia0rfx/EmqeIrXWLH7DHoFpBc3Eom8zd5kZdlAAH3cYzk59qTxHoWo3/xK8IaraW/mWWm/a/tUu9R5e+LavBOTk+gNZN54H1HWPEfj5bmP7NZa7Z20Fpcl1YMyRkElQcgBsdQM9qHpDTez+/oWkr6+X56/gTQ/Ey/hWwv9d8J3WmaHqMkcdvftdRyMvmfcMkQ5QHPqcVdg+IcTfEy58JXentbqmEt74y7kml8tZDHt2jadrEjk5xXPX2j+NvFWhad4V1nQrXTrS3lgN5qi3yyLOkRB/dxgbgW2j72MVd1PwHfazfeLndPsktzc2t3o95vUlJoogA3ByPmGDkdCabsnfpr92n47/cZq706/rr+GxuWPjuC48Ka5rt3a/ZodHubmBk83d5nknGc4GC3pzjPeq+kfEBtR8D6vrlzpLWd7pCy/adOafcQyJvA37f4lI5xxn2rjIfBnjLUvh+mg3tiumz6rrsl5qUqyxSLbwlhJkDed2WA+XnpzV6TwT4t06/8URNdnXoNf0d0a6KQ2xW6VSiLsBA5U43AfWpd0n6fjZP/ADXqVDVq/f8AC9v+D6HoH9tzy+C11yzsPPmeyW7Wz83G7KBtgbHXtnH5Uo8S2DeDv+EljLvYfYvto2j5imzdjHrjt61zOg67rmjeFWh8VeF5NIstL0zDXbX8MwlZFC7QiEnJ5x+XetDwhp2o6N8J9Os2sluNQisM/Y5n2BnILeWxIOOu3pVTt73L8vx/yJhe0eb5/gL4a8X6jrFi+p6zoS6NpJtvtUN8+oRyqydfmAxsOOe4461Z0vx3oHiG3vf+Ef1KO7ntYTKY2jdCVxwwDAFlz3HHvXn8Hw+17VLbxDb2ukr4S03UdPMK6Z9vFxG9zvDCQBPljXA2nHr0rb0zQvEmq+JoNW1fRotHTT9Hk0+OFbpJmuXbHI28KgxxnnnpUSvZ27f5/wCS+8qO6v3/AMv+D9xu+DPG1v4h0nSl1CWKLWLzThfvbxxuqeWW2llJyMZ7biaW18aWmq6/o0Wj39nNp+oxXLDzIZlmlMRAJjO3btBznd1425ri7zwT4otfh94XfQ7NV8RabaSWM8LToMRSxlWO7ODtba3B7V0cXg650vxZ4O/s233aZo2nXNrNNvUbWZUC8E5OSD0H1rR2u/n+T/4HzM7tQXfT9L/r8jT0/wCJPhHVNQtLKw1qKW4vCRAvluAzD+HcVwG/2SQfalu/iL4YstR+wy38rzm4+yjyLKeZTN/zzDohUsO4zkVxNj4H8QW/w/8ABunNpwS803X1vbyMTR/u4hNIxbO7DfKy8Ak+1Y9jf2dprUmr3WnX93oTa+1xY/Zb2EQiZ32CTyGInL7icjOO4GKElzW8/wDL/N/NGlT3b2/rf/JfJnp3jjxPqvhPSG1PTtBXVrWCJ5bp2vRAYVXGMAqxbPPT0rA1H4ia3p3hrR9Y1TRbTR4r/VLe3bzrv7Qv2aRSzSZXbtIA75xXT+OtMu9Z8A61p2mxedd3Vm8cMe4LuYjgZJAH4msLxJ4a1TUfC/g6zt7QSy6bqVjNeIZEHlxxrhzycHHoM57ZpR+LXuvz1Dr8pflobth448N6lpF7qdpqsX2OwYrdSSq0RhP+0rgEZ7cc9qs6H4n0fxIsx0e889oCBLG0bxyJnoSjgMAexxg9q898QfD/AFzW9S8cmGJYY9TksJrF2mCrOYRllO07k5GMkDsa6TwNoctlqN9qN9omoaddzRRxNLf6v9ueYKWOAdzYAzxzzk8Chf193+egpaOyO0ooopAFNk/1bfQ06myf6tvoaAOBvf8AkIXH/XVv51Po3/IWh/4F/wCgmoL3/kIXH/XVv51Po3/IWh/4F/6CaAOqs/8Ajxg/65r/ACqaobP/AI8YP+ua/wAqmoAKKKKAIbv/AI8Z/wDrm38qNI/481ou/wDjxn/65t/KjSP+PNaAL9FFFABRRRQAUUUUAFFFFABRRRQAUUUUAFFFFABRRRQAUUUUAFFFFABRRRQAUUUUAFFFFABRRRQAUUUUAFFFFABRRRQAUUUUAFFFFABRRRQAUUUUAFFFFABRRRQAUUUUAFFFFABRRRQAUUUUAFFFFABRRRQAUUUUAFFFFABRRRQAUUUUAFFFFABRRRQAUUUUAFFFFABRRRQAUUUUAFFFFABRRRQAUUUUAFFFFABRRRQAUUUUAFFFFABRRRQAUUUUAFFFFABRRRQAUUUUAFFFFABRRRQAUUUUAFFFFABRRRQAUUUUAFFFFABRRRQAUUUUAFFFFABRRRQAUUUUAFFFFABRRRQAUUUUAUtX/wCQXP8A7jf+gmuFrutX/wCQXP8A7jf+gmuFoA3PDn/Lz/wH+tFHhz/l5/4D/WigDq6KKKACiivFNP1ePwh8TvE2vXj7bG7vLm0nJPAeKBJo/wASBKPxFK/vW8m/y/zHZ20Pa6K8P8C3H/CI3Xj2/wBbvGs7g2tld3M/l+aYp5kdzhf4sO+MV0PhrXvE99r2t+H9Q1K7t3XS1vLS9vrS2jmgZmK5KRlkKcA4b5uuaqSa08v0uJ6f13t/mj0yaaK2gknuJEiijUu8jsFVVHJJJ6CiGaK5gSa3kSWKRQySIwZWB5BBHUV4/oHjnXPFvh7xHeXd1bwxaTozo1oIUdbubY5Nxhl/1Z28Doec1csNZ8S6lN4a0fSNXh0tLvwwl9LIljG+2QbRlFwFXrjGMAdAOtL+v/Sn+SHbS/8AXT/M9Xorx7w54y8XXdn4P1zUdVt5rXWr9tPnsEs1QDG8CXf97dmMnAwOelO1Lx34gtvhz4z1NNSCXum689nZyGGP93EJIwFwVw3DNyQTV8rvb+t0v1QJXdv66/5M9fory3xL4g8VnW/FkWka1HYW2h6dDexqbNJWdijMUyeinac9T0wRU3hnxL4mk8VeGhq+pwXdn4k0t7z7LHarGLRlVWAVuWYYbHzE1MVzf16/5Mluyu/62/zR6ZRXkvxX05dV+IHhW1fw/wD8JCGtrw/YPtIt92BH828kYx1qzbHWfB/gbRdAu9UvINcvrmX7LBZRJeSiMZbyg0xCfKpX5mOOMCl0v/W9h9bf1tc9LuL21tJIUurmGF7h/LhWSQKZHxnauepwDwPSpq8fsfFmr6tpvhaTVRDJdp4pfT5pJrWIuyor84+ZUfsSh9cHBrV0bUPGPiOfxPJa69FawaXf3tlbQrZI7yMF/dkseAFJXA2knnJo2Tfz/Bf5gtXZen4v/I9LqFr21S9js3uYVupULxwGQB3UdSF6kDI5968isfidq8smma3PcqNFis4odRi8pObp4JZC27GVwUQYBA+er+kap4hm1rwmdQe3udUvdCu7pnmtYlbzCUZF3BQVUbgCARnHOTQ9G/L/ACb/AEDovP8A4H+Z6pWdH4e0WHVG1KHSLCO/YktdLaoJSfXfjP615lYeO/EOj+HPEE3iK6u5Nf06x+0HTL2xjijQltvmRyR/6yPJxyc8Hmug8Dap4vutYMeu297Npk1mJlu7y3t4WSbI+VBC7ZQgkgnkY6mmt9P63/yB7f15f5nfUUUUgCiiigAooooAKbJ/q2+hp1Nk/wBW30NAHA3v/IQuP+urfzqfRv8AkLQ/8C/9BNQXv/IQuP8Arq386n0b/kLQ/wDAv/QTQB1Vn/x4wf8AXNf5VNUNn/x4wf8AXNf5VNQAUUUUAQ3f/HjP/wBc2/lRpH/HmtF3/wAeM/8A1zb+VGkf8ea0AX6KKKACiiigAooooAKKKKACiiigBGYIjMeijJrk/CnxBt/F80f2DQNctrWVGeO+u7ZFgbacYDK55znt2rqpgTBIAMkqcD8K8v8Ah74I1Gy+HJl/tDWrTVLqwuIFsby4dYLZ2ZtrCEj5T0Ofc+tK9k32/wCCOydl5no1nrOmahdT21hqVpdXFucTRQzq7xH/AGgDkfjVDUfFulWun6tLZX1nf3el20lxLZw3SGQbFJwwGSvTGSK8v8F+E7sGwhmj1+x1jTdOntlE2nQw2qM0ZUjz0QGQbsMDuY5GT3q/4asxB8MtQ0FfB2oWGtW2iXEE9y2nhVuJNpG1JBzIWPIxnp9KJaJ27f5/5fiOFnJX7/5HoPhrxXp3iTTbOWC6tVvZ7SK6lsUuVkkgDqGwwGD3xkgVdtNe0e/v5bGx1WxubuH/AFlvDco8ifVQcivLtL8M3ek6v8NrnTNDkt5YdMnXUHS2KbZDbghZmxwS+fvd81T8O2Gv3/jTwrq2o6RqFrcQ3VyNQX+y47a3t2eN+FKrvdSR99mKk45ya1lFc9l5/m0Rqo3fY9X1XxDaaRquk6fcxzNLq07QQNGoKqyoXJbJGBgds0atrElhqGm2NrDbzXF9KyhZ7xYcIoyzKCCzkDsqn3KjmuX+Iz3NnrvhPVINL1HUYbC+lknTT7Vp3VTCyg4X3Iqve3N14l8eeBtXtdG1W1treW+E4vLNomhzCApcfwgngE9ayh7zaff9E/zKt+X46naL4i0R7mO3TWLBp5iwjiF0hZypIbAzk4IIPoQap6j4qsovDN7rGi3Fhqq2vBCahFHHuyAQ0pO1evevKbnwQ8/gtDL4clkvpfFxmmLWbGVoDOQWPGfL2d+mOaueIfDN7CvxOt9J0W4S2vLexNnFbWrBJmC/P5YAwxB64/GiLvG/9dH+v4DSvK39b2/4J6W3jHQovEkeg3GpW0OpSQrKsDzKN244Cg55Y+g5xzV9NZ0yTVH0yPUrR79Bue0WdTKo9Smcj8q4SSyk0v4xQ6hcaDd3VrfaVBbR3VvaeasM6yEkyH+DAI+Y9hXMeFfCN7ba1Y2PiBdfS/stWe8WaDTYTbSEux8w3ITdtZTgqWzzjHAxSV2l6/nb/gmetm/T8r/noe30UUUiine6nDY3lhbTLIXv5zBEVAwGEbyZPPTCHpnnFLqOradpFuJ9Wv7WxhLbRJczLGpPpliBmsbxZKbS/wDD961vdTQWuoM8xtbWS4ZFNvMoO2NWbG5gM471X1LXZ7u4snsxq9pp8qSAzwaTIZ/NDKFQpJESikFjuKgHH3h3PQbsren6s6WW9toLFr2W4jW1VPMMxcbNuM5z0xWda+LNCutBj1n+1bOGxcKTNNcIqxkgHaxzgNg9M1X8K2lzB4FtLW6hliuFgZGjmADKcnAOOPy49OKxLPUb238NaBaCHVLKG3gFteTQ6ZJJPFMiIFVUaNsoct+8CleOvOaO/wAv1F2+Z18us6ZBZrdz6jaR2zxmVZnnUIUGMsGJxjkc+4pJda0uG7trWbUrOO4uxut4XnUPMPVFzlvwrjvDWk3YuNCbUrK5zbz6nJuuYxujLT5jLbRtBKnIxx6VFq2jyy67rVtquo6/bW2qTIYV02wjnikQRouGfyHaMhlbqygcEd6PtWB6I7aTWtLh1SPTZdSs0v5BlLVp1ErD2TOT+VTXl7a6davdahcw2tvGMvNPIERR7k8CuG159V1G5ktCuqCaHU7d0t4LEfZ2gSeMiVpih3NtBJCuCOm3AJrpPFF5eWdtaG1FysD3G26ntLU3E0KbGIZIwrZO4KM7WwCeO4FrFP8AroPqaA1jTG0r+011G0On7d32sTr5WPXfnGPxqCTxLoUNjBeza1p0dpcnEFw12gjlPTCtnB/CuQsrO+gjjvry11C4trbXZLqRZrcGZ4jBtWXykUbsOwOFXI9Mg1parq11e3US2yata2NxakwPbaYxlllLMGjkEkZ8pcBSC4XOevFJ6K/9bXEtf687f8H+rmxf+JrDS9WjttSuLa0tntTcfa57hY0GHVQvPHO7rmp9W1uz0nRn1Ga5tVi2gxPNcpFHIT90b2OAD6+nrXH6NHNo7eGb3VdLvW+y+HxbyyR2jzPBKTFlSqAtk7TnA4xzU2m21zokumanqNldmzRb3bDDbvNJa+dOHiBjjBb7gK8A46dKtpLS/f8ANi1u/l+SO3t5hcW0UytGwkQMGifepyOzdx71Xt9X027vZ7K01C1nu7b/AF1vFOrSRf7yg5H41n+G7W4h0W53QtaC4uZ5reFxgxI7krkds53Y7ZxXM+EtIkiuNIg1PUNfa/0uJs209hGlqrlCrYmSBQ6nOR+8JJwTzUPb5f19w+n9f1qdXYeIYLnwfD4hvE+y272Yu5VyX8tdu48gc4HtS6brwv742dxp15p1wYjNGl0Iz5sYIBYGN2A5I4ODz0rK0m31G2+E1pb29o39oppaotvMgB37MbSrcZ9jx61X8K2UNpr5Oiw6kLA2pS5bU4JUZJVZdixmVQ23BfKr+7GBtAyc20udr+uo5abHS6hrOnaW0cd9fWtvPNnyIZp1RpiOygnJP0qtB4l04aHpuo6rd2umDUIo3jS5uFTLMoOwFsbjzWVqGLPxBrH23Trq7TU7WOK3aG1eZXCq4MTFQQgyc5fCnd14NYC6Xf2a6XPf3etWFs2h21oRp1glyyyLnekiNDKy53LyAB8pz0FStn8v1/4Anv8A15f8H+tvSJp4reB555UiiRdzSOwCqPUk9BWa3irw8sM0za9pgigkEUrm8j2xuf4WOeD7HmsvWdICfCu60iyS6u1XSzbxJKhM0g2YAYAD5sdsCrJ0xF8dWtytmBFHpUkAlEXyr+8TCZ7cZ49M02tbev5XJvpf0/Oxp32taVpdvFcalqVnZwzECOS4nWNXz0wSQDS3mr6bp8PnX+oWtrFs8zfNOqLtyBuyT0yQM+4rjbKTUrDRdG0+aPU7KAWIVTZWHnSGXOPKfcjiNduOWCj/AGhipfC+j3MNz4UfULKVZLHQniZpUP7mXMIwT0DYDfhnHeiFpf16/wCX4lS0X3fodyDnpWOPEKrqkVpc6bfWsc8higu5lTy5XAJ2gBi68KcFlUH8RWhaXYuxMRBPD5UrRfvo9u/H8S+qnse9cta65BrHiWJ7+z1aBLaZks4JNIulUvyvnPIY9g4JC84AOScnCpatB0Ztaj4jgs4rZrC1n1d7qdoI47B4idyhi2Wd1UY2MDznPGKLjX2trW1L6TfG+utxj05TCZsL94k+Z5YA4539wOpxWbqo0W6063lv9M1i2jiuZfKFhBdRyo+5lZsW/wA4DZJz0IOe9VBBIuiW95qdxrdpcRXMqWM9tbNc3SwOflWRfLk4IUcuuRhckNQB1WnahFqdmLiBZE+ZkeOVdrxupwykeoI+ncEiodV1ZdLWFVtbi9ubhisNtbBd74GScuyqAB3JA6DqRVLwxYXdlos5uDJHc3VxNcAXJ8xk3N8u/BAzgAkAgDoOBVO7j1PTdS03VtZkGoC2WeGY6ZYSDYsgQq3lB5HbBjxlc/e6YyaPUF/mW5/FUS2NpNZ6bfXs11O9utpCI1lSRAxcN5jqoxsP8XPGM5rXsriS6s45p7SaykccwTlC6fUozL+RNce1nYtpzXmvWesRi51Ca6txYpdCaEMAgyLf513KMkH+8c4PFb/hgXo0c/b/ALRjz5Ps4ujmYQ7js39849fmxjPOaFt/X3C/r/gmxRRRQMKKKKACiiigAooooAKKKKACiiigAooooAKKKKACiiigAooooAKKKKACiiigAooooAKKKKACiiigAooooAKKKKACiiigAooooAKKKKACiiigAooooAKKKKACiiigAooooAKKKKACiiigAooooAKKKKACiiigAooooAKKKKACiiigAooooAKKKKACiiigAooooAKKKKACiiigClq//ILn/wBxv/QTXC13Wr/8guf/AHG/9BNcLQBueHP+Xn/gP9aKPDn/AC8/8B/rRQB1dFFFABWBe+B/DupW91Dfaas0d3eLfTK0r/NOAAH+9xwAMDj25rfrzjVPipe6VfazJL4YaXRdFvFtbu/jv13qTtwREVBP3x0NLTmS6/8ABX62HrY6258IaFeS6tJdaekrawkcd9vdiJlQYTjOFwO649aqwfD7wxbW9zDb6aY1urb7JOy3Mu+WLOdrPu3H65zjjOOKln8ceHLbWl0mfVI01B5o4Ftijby8ihlAGOhBHPQdyKZD4+8L3HiH+w4dYhfUPMMQjCttLjqgfG0t/sg59qdr/wBf13E31f8AXb8vwJZPBfh+SQP/AGcqEWB0393I6A2xGPLIUgEehPI7GprTwto9hdWdza2flzWVl9gt281zsg4+TBPPQcnJ965fxp8UtN0O3uLXQ720udXt7qGCS3lRyg3OFYbhgFgCTgHIxyK6d/Feixz6xC97iTRI1lvx5T/uVZSwPT5vlBPy5o3XN/X9a/iw68v9dv0/IitfBXh+z07TLG2sNltpNybqzTzpD5UpLHdktk/fbg5HNU9R+GvhHVr28u9Q0WKaa9OZz5kih2/vbQwAb/aAB96m1D4geGNKsbC7vtVWOLUIRPbBYZHeSMjO/YqlgMHqQMVDB8Q9EuPGbeHI2nNyIo3WQW8hRmfJ25C4XAAOWwOcdQaevN5/r/SDz/r+tTTm8L6PcTanNNZ7n1a3W2vT5rjzY1UqF6/Lwx5GDzRb+F9HtbjS54LPbJpFu1tZN5rnyoyoUryfm4UcnJ4rN8YeLL/w7faRY6Roq6vearLJHHE12LcLsTcTuKkdM+lVdJ+JmjXWim91w/2JLHfS6fNFcNvVJ41Lsu9RgjaCc8Z6daSe9v6/q/4g1sn/AF/VvwOkuNFsLrWrPVp4N99ZJJHby72GxXxuGAcHOB1BqvrvhjR/Eq241qz+0G1fzIXWR42jJGDhkIOCOozg1n3nxF8KWGm2N/dauiW+oR+bbERSM0id22BSwX3IAqfUPHHh3TLa2nuNREkd1CbiH7LFJcF4gMmTEasdo/vdKH59AXl1HQ+CfD1tHax22mJDHaXpv4Ejd1WOcjG4AHHQ9OntV7S9E0/RjeHTbfyTfXL3dx87NvlbG5uScZwOBge1Y0vxI8J2+mW2oXWrC3tbuF57eSe3lj81EKgkBlBPLLgYyc8ZqbUfHvhvSbuG31HUvIeZEdWaCTYFf7pZwu1c/wC0RT12/r+tPw8haf1/Xn+PmMb4d+Fm0O90c6Sv2C+uftdxCJpBvlyDu3bsjoOAQPatK68OaTe30N3c2geeC2ktI23sAsTgBlwDjnA56+lUNa8feGfDt5LaaxqqW1xDGkrxeU7sEbOGAVTkfKckdOM4yKXTPHnhnWdYXS9L1eG5u3j81EQNtkXqdr42tjuASR3pb6f1tb8vwG+7HaX4H8OaMt0LHTV/0yLyZzPK85eP+5mRmO3/AGRxUmheDtD8NTSS6LZtbs6bDm4kkCrnO1Q7EKOBwMCs4fFHwWZ44jr9urSbwC6OqgrnKliuA3H3SQTxgcio9R+IOlz+CdR1zw7qlkwsZFjkkvYZgkTF1BDoq+YODxgenaha7Ba7sdhRXNav8QvC+g3ktpq+rR29zAqNLEIpGZQwyGwqn5fVug74qfVfG3h7Ro4HvtQyLiA3MYt4ZJyYQMmTEasQn+0eKAWpvUVS0jV7PXdJg1LTHkktLhd0TvC8RdfXa4BwexxyORV2m01owCiiikAU2T/Vt9DTqbJ/q2+hoA4G9/5CFx/11b+dT6N/yFof+Bf+gmoL3/kIXH/XVv51Po3/ACFof+Bf+gmgDqrP/jxg/wCua/yqaobP/jxg/wCua/yqagAooooAhu/+PGf/AK5t/KjSP+PNaLv/AI8Z/wDrm38qNI/481oAv0UUUAFFFFABRRRQAUUUUAFFFFABRRRQAUUUUAFFFFABRRRQAUUUUAFFFFABRRRQAUVzXjjRNK1XQzLqemWd5JC8Yie4t1kaMNIgYKSDjPfHWmXT3Gl3DaN4Vj0rSLaxtPtbLNaExMGZ/lRUdAmCpLNzjcOOanmS3HZvY6iiuB1vXNT1rwzqc1rJY2dnHpqSTwXETPLJ5sW75XDqEAzgEq2SG6VevPE2qx+K7e2soUl0lrlbOWZrZRtmKkkCQzhjg44EJHUbupFPR2e5N01c7CiuPvfEFxe6PcwPDAzwWrLqKbmAWQv5ewYYEA7ZD1zjb602PxJfxeLbSwsrWI6DJctYxyLbJGEkSNtyq/n7jtaMjHkgcdeMkWrsPXXyOyorntY1HVv7bOm6Rd6baMln9qL3sDy7gGKkBVkTA6ZbJx6HPFSLxhNceHNQ1RYYYTBp0N5HG5J2mSMthjkZGRjtQtVdf1v/AJMOtjrKK46TxJ4in8Xz2el6P9o06zuY7e4bEWSGVGZ95nVkwHyF8pt23g/N8sMup6nfX+kX1zPYmxfVJY4bSKJhOhjSZeXLkM3ynKhFxnGTjk6JjsdvRXDaD4l8XaxYTXp0NVguLM3Fk+IQFfgrHlbljLkE8kQ/d5xu+Xe0HVZ59JuZtXuI2ntXZbjbYva+ThQxUqzvnAOdysVPbPWh6bi9DborgYPGetxLqL6hbQRxpbx3VnJPAsAMbShcttnlOMEHJCEYPynoNCTXtc0+W8sLp9Nvb2GSz8uaGF4I9s8pj2shdyGXaTndyCOB3Fr/AF52/MNDrqK4/U9c16wg1CZbnS2XRoFlu0e1kVrvK7z5f7390CPlBPmZbPpzB/aeoadqWvXtvc6eLKDUYlntZYmM0heKEAK4cBD8wwCrZPpng/r8v8w6XO3oriz4t1M+L4LeGBZdGurmW0inNuqfvY43Z8P55ZsNEy/6lR/tcDdt6Df6ld+HY9U1X7MzXFulxHBaxsPLBQEqWZjvOe+FxnHPUj0V2Npp2NmiuG0bxH4w1TTbi7GiL5c9r59i+2EKCSMJ8t03m/KxOT5IO3B27vlt2uqa7e3GmRxapYqxnmjvVl0iWIkoAdgVpsqcE/NlgcgjI6tq25NzrqK4/QvFOp6j4pW2nhU6VeQS3FhcfZ0iMiIygEETuzAhxyY4+3HOKsXurapp+o6zNNf2hsreONLa2WxZpfNkACAt5oDZc4xhc5HzLgmlsrlWd7HUUVxOn+J/ENxYyW9za2sOppqSWTefEEVFeIPuKRzS8jOceZ83T5c5D5vEPib/AISRtOsNLW+isTDHeyxxRoJS6hi6l7kNGoycDZJnaRnOcH9fhf8AVCOzorkNN8T6neeL47Z4FbR7sTfZJzbrGWMeMkN57Mw6jmJOxz0yeKPE+p6XqappEC3FtamP7fut1IQOwCjzGnQqSP7qSduOxSadvMO519FcsNX11r5rkPp406PUfsTW/kOZnBfZv8zftUgkfLsOcdRnjOuPEXiWy0tDG1pqd3e6nNZ2wt7QJ5IjaXO4PcKJDiPAG9COT8xGC1rFSX9bf5h1t/XX/I7qiuOutc8UW+lWN1e2celqFkN/K9l9r8va2FPlxT7kDD5vlMu3PJAXcdnWr3UEurCw0ia0t7i8Ln7RdwtKgCLkqEV0JY5/vDgMecUMDYorzqHX9dtNOstP0Gzju7y4mvZ5JEjjkUhblgQqPcQ92ByGbHAwc5HV6lqt/beHrW4FvDZX908EJS5bzI7aSRgp3bSN2CcYBG44GRnNO3b+ugG1RXKWviHU4tWi02/ksZ5BqYspZreNowym1abIUu21sgDBJ4+vFfVPFerCNINEs47m7mvri3jZESRVWE8ja80QZuvAcYwTjg0no7f10/zG00tf63/yOzorlfENxrFx8NLyd400zUWtW82OVBLt7MMJJgEjphjjPfFQo15oFo2naRDp0Uyz21soSB47ZN4+ZlhDnaBydoIz3PO4D0dvOxKd/wAzsKK5C617XbWxmsk+zXetpdmCL7LZZSZBGshby5LhAuFfBzL24znFUV1q4vrGLVZ41S4k0gl1Ryg3ecqnBRyR+DnHqepFvb+trg3ZX/rex3tFc0+s6oq6rqatatp2m+epsUt2a5laNSf9ZvCrk8hdh4IOeeF8J6t4g1PzW13TRbwOiy286rEisD/CAlxNu4wd3yg56ULUb0/rtudJRXF6Z4j8Rarrc4Gj40YT3FsZcRAxeWWXeXE5ZiWUfJ5Kkbup2/NdtdRm0z4d6RLaiLzpLe0gjebPlxtJsQMwBBIG7OMjPTIzmmldfd+IPR2OnorFtr7ULbV7TTdVuLO4lltZ53lggaEHY8YGFZ3wMPzyecdOlZ2jeINW1y8tVtjYRwf2fb3szlHcyeY0o2JhgFHyA7jux6HOQdL/ANf1oOzs32Orori7bxJriWlxFqZtrfU2lgijgm094UtvNcqGZxM6TjpgIy84U7SeNjRtXuGuLuw1q6sXu7a5W3WW2BiWYtGJAoRmYhgpORubgZ4zgFv6/r1CxuUUUUhBRRRQAUUUUAFFFFABRRRQAUUUUAFFFFABRRRQAUUUUAFFFFABRRRQAUUUUAFFFFABRRRQAUUUUAFFFFABRRRQAUUUUAFFFFABRRRQAUUUUAFFFFABRRRQAUUUUAFFFFABRRRQAUUUUAFFFFABRRRQAUUUUAFFFFAFLV/+QXP/ALjf+gmuFrutX/5Bc/8AuN/6Ca4WgDc8Of8ALz/wH+tFHhz/AJef+A/1ooA6uiiigArzrR/hrp934x8Qaz4n0dZ5JdT86xaWcsjRhFwxjDbfvA/eGa9FopW97m/rp/kD1VjkNB0C9s/ib4s1i6tQlrfx2iWk+5SXCRkOMA5GDjqBmuQsvBHieLTtM8KSadCthp+sjUDrRulPmxiUyACP7+85wc8e9erx31rLeTWkVzC9zAFaWBZAXjDfdLL1GcHGetT0+qfa34Dbbuv62t+R45qHg7xYnh7WPDlrokFzBNrQ1KLUPtaL5iNMrldh53gDnOBjOCeAdHxB4Y8UReIvGX9jaVDfW3iaxjijuXu1iFsyRMhDKeTnORjjpkjt6XJfWkN7DZy3UKXU6s0UDSAPIF+8VXqQMjOOlFlfWmpWiXWnXUN3buSFmgkDo2Dg4I4OCCPwpW93l/rZL9ATtJyX9a3PM9O8O+KPDGqaFrNloi6rInh6DS7qzF5HE9vImCWDMdpXPBwT071uQWGv6f8AFK41aPR1udP1Wyt4ZpkukX7I8ZbdlTyw+bjaK7eiqk+aXM+7f33/AMybaW/rS3+RxPjzwe3i3X/DKXFm11plrcTPe7Z/KKKY8LyGDfex93+VRa/4Ghij8KWPhrSYU0/TdZS6uIlKgIgR8udxyxyR6mu7opLTbvcJLmVn2t/X3nB+ItI17T/iB/wk2haUmtJcaWdPktjcpC0JD7g+X4KnOCBz9a4R9AvfD02g6FD591qVhpM41I6feRW8ixTS7ggecbGTIcfLhhgHIr3GG9tbmeeC3uYZZbdgs0aSBmiJGQGA6HHPNVtS0HSNYaNtX0qyv2i/1ZurZJSn03A4pdLf11/zKv8A193+RwHh3T017VvA+t6JpMlvoumWV3blbiRGaBvlRMfMS2SjYYZ9e9UvHXhfxn4hufEdmttc3lpcRodMZNUEEEagAsjRAje5YHG8FeRyMV6zHGkUaxxIqIoAVVGAB6AU6qbu/wCu9yYrl1/rQ4K58ManL4r8Q3v2INDeeH47K3kLp88o37kxnI6rycD3qhpHhDWbSf4btLYBBolrcR6gRKn7lmhCgcH5stn7ua9MopLR3/rr/mxrT+vJL9DySHwNrq+DfC9i2mr9psfEv2+6TzY/kh852353YPyleBk+1S+JfBevX+m/EKGy0/e+s3NpJYgTRr5wQJvPLfLgqfvYzXq1FOL5dv62/wDkUO/vKXbX8/8AM8+vvC2qza344uUsgyaro8VrZP5ifvZBE6levy8leTgVx19p95aXmgaYlpc/b9P8OLaatHZX0FvKqNjCF5soyfK/3PmB5yOM+5Vn6joGj6xJHJq+k2N88X+ra6tklKfQsDip/r8/8wvpb+un+RQ8D39hqXgjS7jSLSWzshAI4YJjlkVDsxnJyPl4OeRzW/SIixoqRqFVRhVUYAHpS1Und3JSsrBRRRSGFNk/1bfQ06myf6tvoaAOBvf+Qhcf9dW/nU+jf8haH/gX/oJqC9/5CFx/11b+dT6N/wAhaH/gX/oJoA6qz/48YP8Armv8qmqGz/48YP8Armv8qmoAKKKKAIbv/jxn/wCubfyo0j/jzWi7/wCPGf8A65t/KjSP+PNaAL9FFFABRRRQAUUUUAFFFFABRRRQAUUUUAFFFFABRRRQAUUUUAFFFFABRRRQAUUUUAMlhjnjMc8aSISCVdQQcHI4PvVXUtF0vWBENX02zvxC26IXUCy+WfUbgcH6VdooAoXmh6TqN3FdahpdldXEKlI5p7dHdFPUBiMgcnj3pf7D0n+1G1P+y7L7e4Aa7+zp5rAYwC+M8YHfsKvUUbAVhp1kPtGLO3H2pg9x+6X98wAALcfMcADJ9BUSaHpMeqSalHplmt/LjzLpbdBK+BgZfGTxx1q9RQBj6j4X0zWdU+1axZWmoRLCsaQXVssqqwZjvG7PPzEdKsXegaPqF7HeX+k2N1dRJ5cc81sjui8/KGIyByePc1oUULRWQFC50LSLzUodRvNKsp76DHk3UtujSx4ORtcjIwSTxRHoWkxapJqUWl2SX8pzJdLboJX7cvjJ/Or9FAGWvhjQFlu5V0PTRJfKy3Ti0jzcAnJDnHzAnk5zVrT9MsNJsxaaVZW9lbAkiG2iWNAT1O1QBVqigDEl8JaQmlzWWl6fZaaszqzm2tUQNhlY5C4znaB+XpVyx0LSNMtDa6bpVlZ25lExht7dI0LjGG2gY3DA568Cr9FHW4FG80TStRvbe81DTLO6urUgwTz26O8RByCrEZXnnikl0PSZ9Sj1GbS7KS+iO6O6e3QyocYyHxkcVfooAopoekxalJqMel2SX0pzJdLboJX4xy+MnjirkUUcEKRQRrHHGoVERcKoHQADoKdRQBkjwr4eVrsroOmA3oIuiLOP/SMncd/Hzc8855qRfDuiJY29kmj6etray+dBALVBHFJkneq4wrZJORzzWlRQBRs9D0nTrqa50/TLO1nnYvLLBbojSMeSWIGST6mi60TSr65e4vdMs7ieSA27yy26uzRHrGSRkqf7vSr1FAFO00fTLC3jgsdOtLaGNg6RwwKiow4BAAwDz1pl7oWkalewXmoaVZXd1bkGGee3R3iwcjaxGRzzxV+ijrcCjbaHpNlfTXtnpdlb3c775Z4rdFkkbnlmAyTyeT6mi60PSb7UI7690uyuLuJNkdxNbo8iLzwGIyByePc1eooAi+yW4UqIItpk80jYMF853fXPOfWqc3h7RbhLtJ9IsJVvmD3SvbIRcMOhfI+YjtnNaNFAGS/hTw9JHaI+g6YyWX/Hqps4yIOc/IMfLzzx3q5qOl6frFr9l1axtr633BvJuYVkTI6HDAjNWqKAM688PaLqFjHZX+kWF1axOXjgmtkdEY5+YKRgHk8+5qzLYWc+nmwntYJLNo/KNu8YMZTGNu08Yx2qxRQBh2/hDRoba9spNNsZdNupUkWxa0TyY9qqMbMbeq56DrVyXw/o0+ljTJ9JsZLBSCLR7ZDEMdPkIxx9K0KKAK8en2cWnrYRWkCWap5a2yxARhf7u3GMe1Pa1t3fe8ETNuD7igJ3DofqOxqWigCjf6JpWqwNDqmmWd7E0glaO4t1kUuBtDEMDzjjPXFS/wBnWOzZ9jt9u0pt8pcbSc46dM849as0UAUjo2ltq41VtNtDqKrsF4YF84LjGN+M4x2zTdO0LSNHlmk0nS7KxkuCDM1tbpGZDz94qBnqevrV+igCh/YOkDV21UaVY/2iwwbz7MnnEYxjfjd0469KsPZWslibJ7aFrQx+UbcxgxlMY27emMcYqeijpYPMyW8K+HnsYLJtB0xrS3cyQwGzj8uJj1ZVxgH3FX4rK1hJMNtDGWjERKRgZQZwv0G5sD3PrU9FAGZaeGtCsLG4s7HRdOtrW6G24ghtERJhjGGUDDcHHNTWmjaXYW0FvY6bZ20Fu5khihgVFicggsoAwDhjyPU+tXaKACiiigAooooAKKKKACiiigAooooAKKKKACiiigAooooAKKKKACiiigAooooAKKKKACiiigAooooAKKKKACiiigAooooAKKKKACiiigAooooAKKKKACiiigAooooAKKKKACiiigAooooAKKKKACiiigAooooAKKKKACiiigClq/8AyC5/9xv/AEE1wtd1q/8AyC5/9xv/AEE1wtAG54c/5ef+A/1oo8Of8vP/AAH+tFAHV0UUUAFeVaB4c0zx94j8U3ni9Jby60/VXs7WBriSMWkKgbCgUjBbJOe+K9Vrmta+HnhXxDqf9o6tpEc12QA8qyPGZAOm8KwD/wDAs0LSV/66a/13H9mxwutDWrXx544vfD2rLph0/SrW4bNssxl2RuQnzcAHBycZ6dKtar431XU9D0p9F1C9ttWk0ZdTubaxsYZUClRhneZgFTIYYB3H+foEvhnSJrjU55LTMmq262143mOPNjClQvX5eGPIweaz5fh74WnaxM2ko/2G3FrADK+PJHRGG7519mzSs+W39df+AO6vf+un+TORsNXn17xl8OtVvFRbi80e7mkCDC7ikecD0rm/DPibWNM8B+DtE0JblZNTkvnkms4YpZgsczHaiysEyd3JOeBwK9ftfCei2U2ly2tl5b6TA9vZHzXPlRsAGXk88AcnJqq3gHwy/h+20VtLX7DaSNLbp50geJmJJKybt4JLHoattWt/W7f6kR0TT62/BWOQvPEfjaDQfDUN2U0vVb/WjYSvPbI3mQlX2yFFYgNgA4VsZHpxVWXxf4p07S/EVhLqK3t1pOrW1r9vW1QTGCXGSsQ+VpBnAABz6GvQY/CGhxWunWy2R8rTLn7VagzSEpLz8xJbLH5j97PWsPxb4Aj1W1uf7Ghtlkv7yO61GC5lkVL3YuFXeuWiwdpyg7VLf9f+A/5P7ws7/wBef/A+45m68TeMNA8J6rqd1dX90bnVIrLSjf2MMMiwsQPNMYVDuySAHIHA4HNdb4HvfE88+o2/iW2vBbRFGs7q9ihimlBB3qywsV4IGCMZBqr4a+H4tLLVbbxAsU9jqQjX+yxdTXUMO0HLB5juLEkHOBjaK6TQvDWleG4ZY9Ht3hWYguZJ5JWbHT5nYnAyeKa0/r0B6/1/Xoec694o1TQ7f4j32mPbw3GnXdl5Di1jBO5Y928hcvkEjLEkDoRW94f1fxBZ/E6fw3ruqR6pDNpS6jG62qw+Q3mbCi7eq85+bJ966G98GaBqEOrRXlh5iaw8b3w86QecyY2nhvlxtH3cdKuDQdNXxF/botv+Jl9l+yef5jf6rdu27c7evOcZ96cbK1/692356j+y11u/zX6XOE1jTLTxj8YLjQfExkn0yx0uO4trDzWSOZ2chpCFI3EYA9qseOLnV/B3hiwsfCOmqLGK4tohO1+VdN06jysMrFg2dpYngHviuo8Q+DdA8V+Sde05Lp4M+VKHaORAeoDoQ2PbOK0dO0200rTYLDT4RDa26BIowSQoHuealaJLz+/W/wDwAerf9W0OH8c+IvF2neG7Ge10WG1llubdZ2TUgfLZp1URD938wYYBbjG7ocV3GmTXtxp0UuqWaWV0wPmQRzeaqHPZ8DPHPQVaIz15oo6B1CiiigAooooAKKKKACiiigApsn+rb6GnU2T/AFbfQ0AcDe/8hC4/66t/Op9G/wCQtD/wL/0E1Be/8hC4/wCurfzqfRv+QtD/AMC/9BNAHVWf/HjB/wBc1/lU1Q2f/HjB/wBc1/lU1ABRRRQBDd/8eM//AFzb+VGkf8ea0Xf/AB4z/wDXNv5UaR/x5rQBfooooAKKKKACiiigAooooAKKKKACiiigAooooAKKKKACiiigAooooAKKKKACiiigAoorI8T+J9N8I6HJqusyOkCssarGhd5XY4VFUdSaANeivO/+FvA9Ph947I9Rov8A9nR/wt7/AKp748/8En/2dAHolFed/wDC3v8Aqnvjz/wSf/Z0f8Le/wCqe+PP/BJ/9nQB6JRXnf8Awt7/AKp748/8En/2dH/C3v8Aqnvjz/wSf/Z0AeiUV53/AMLeA6/D7x2B6nRf/s663wx4n03xdoceq6NI7wMzRssiFHidThkZT0IoA16KKKACiiigAooooAKKKKACiiigAooooAKKKKACiiigAooooAKKKKACiiigAooooAKKKKACiiigAooooAKKKKACiiigAooooAKKKKACiiigAooooAKKKKACiiigAooooAKKKKACiiigAooooAKKKKACiiigAooooAKKKKACiiigAooooAKKKKACiiigAooooAKKKKACiiigAooooAKKKKACiiigAooooAKKKKACiiigAooooAKKKKACiiigAooooAKKKKAKWr/8guf/AHG/9BNcLXdav/yC5/8Acb/0E1wtAG54c/5ef+A/1oo8Of8ALz/wH+tFAHV0UUUAFFFFABRRRQAUUyaaK2gknuJEiijUu8jsFVVHJJJ6CiGaK5gSa3kSWKRQySIwZWB5BBHUUAPooooAKKKKACiiigAoqG4vbW0khS6uYYXuH8uFZJApkfGdq56nAPA9KmoAKKKha9tUvY7N7mFbqVC8cBkAd1HUhepAyOfegCaiiigAooooAKKKKACiiigApsn+rb6GnU2T/Vt9DQBwN7/yELj/AK6t/Op9G/5C0P8AwL/0E1Be/wDIQuP+urfzqfRv+QtD/wAC/wDQTQB1Vn/x4wf9c1/lU1Q2f/HjB/1zX+VTUAFFFFAEN3/x4z/9c2/lRpH/AB5rRd/8eM//AFzb+VGkf8ea0AX6KKKACiiigAooooAKKKKACiiigAopkxIhcjghT/KuL0PV9budK8NWFlNb+deaILqa8vUeZg6iIcqHUtnec/MPXPYtK/8AXq/0B6K529FcZJ4q1STS7SfdaWCGW4hur+a0kngjeGUx8qrqUVtrNuZsDGDkmrQvNXbxfJ5eo2klkmmRz+WtuxDks+SreZjkjrg8YHuZbtv/AFo3+g7P+vWx1NFcnY6/rT+H9K1W+WxUanJaKtvHE2YVlI3Zffhjggjgbenzdasar4luNOv9St44YpDAlmtsDkbpbiVoxuP90EKeBnrVuLTt52+en+ZCknb+v62Okornbm8160Nnp7XOnTajfSvsuBaOkUMaruJMfmkuc4HDr1zxjmvqWsXGiX7TaisV1La6PNcyNAHiEjK68BC7AA++SPXHFTu7f1tcbdlf+t7HVUVzh1XWNNulg1drG4NzbzTQNbQvH5TRqDsYM7bwQT8w29OnNV9O1/WB/Y11q32L7Nq8O5YLeJw9u3kmXly5DjCkfdXHHWjv5f8AB/yC608/+B/mdXRXEaD401DV76zYWU81tfxs6INIuoBbDYXXdPIPLkBxjIC8kYyK1fDGsXuqPKNSu7MXCoGfT0tJIJ7Yns29zvGcgMFUHGRTswudFRRRSGFed/F7keBweh8Yafn/AMiV6JXnHxjJEPgojgjxdYfykpN2VxrVno9FeH+DfF+sWPw/1W1vNRur7VLuGGbS5bqZpJC1wxgChjzhZVJ9gasaBf3UWg+FYtXlfWLlPFc1ot1fTSvIm3zFDAhxk4HRsjnpVW9639bpP7rkyair+v5XX3ntFFch4+8ZTeFY9MgsYke71O4MKSSwyTJCqruZjHEC79uBjr1GKwJPiTry+GbG6j0iD7fNriaVi4imgiuFdSVlQOA6AnHUHGD1pLXb+tv80Vb+vv8A8j06ivMJ/iD4m0+x8TxXtlps2oeG5reS4NssnlzW0nzMVDNkOqgnJJHHSl8VeN7y40vxg1hb2txpOk2cKK7mQGeaTDMu5HU7QjDgYOT1xxR0C2tv6/rr6Hp1ed/CHgeOAOg8Yahj/wAh1He+KtZtNR1DRvBWmaRDaeHbCK4ukug6hwyFxHEE4X5R1OeT0qr8BtTXW/D/AIo1WOMxJfeJru5WMnJUOkTYz7Zo0uLW39f11PUqKKKACiiigAooooAKKKKACiiigAooooAKKKKACiiigAooooAKKKKACiiigAooooAKKKKACiiigAooooAKKKKACiiigAooooAKKKKACiiigAooooAKKKKACiiigAooooAKKKKACiiigAooooAKKKKACiiigAooooAKKKKACiiigAooooAKKKKACiiigAooooAKK5X+yo9Y8W6x9qvNTj+zCBYVttRnhRMpknYjhSc+oNVtN1i8nfSIrrF3PHfXtqZtxQy+SJFVsKQuSFGcgjOcAUk7oHpqdnRXHWfiq+TSL681Cazlu4IVf+y1tZLeaB2OArl3bcu7jeFAOMjNaUl7rWmNYJqc9hcteXywf6PbPEI0KOxHMjZOVHPH0pvR2/rXQDform9S17UYJNXisbZJWsnt1QrC8pRXALuUU5faMnauCcVDb6vJcXOhNLe2eo+bPOr3FnHJCq7YmONnmNhhjBDE49AaSaabE3Y6qiuVsPEOqS22l6tdfYzpmqvGsUEcTLNAJB+7ZnLEPn5QQFXGepxzFa+Itbezs9UuhYLZT332NrZIn83mcxLIJN+Bzgldv41Vne3y+f8ATBtLf1OvoriF8b3s+tFbO0nntFvjZGCPSLpmIEvltL9pA8oAEElcdB94HitPSNav7vXprXUbmztSrSBNOe0kScqrEB1lL7ZFIwTtTAzjORSWuo3o7HSUUUUAFFFFABRRRQAUUUUAFFFFABRRRQAUUUUAFFFFAFLV/wDkFz/7jf8AoJrha7rV/wDkFz/7jf8AoJrhaANzw5/y8/8AAf60UeHP+Xn/AID/AFooA6uiiigArxTT9Xj8IfE7xNr14+2xu7y5tJyTwHigSaP8SBKPxFe11gXvgfw7qVvdQ32mrNHd3i30ytK/zTgAB/vccADA49uaVvev5Nfe1+l/mPS1n/W/6nl3gW4/4RG68e3+t3jWdwbWyu7mfy/NMU8yO5wv8WHfGK6Hw1r3ie+17W/D+oald27rpa3lpe31pbRzQMzFclIyyFOAcN83XNdrc+ENCvJdWkutPSVtYSOO+3uxEyoMJxnC4HdcetVYPh94Ytre5ht9NMa3Vt9knZbmXfLFnO1n3bj9c5xxnHFOWu3a34f5g9fw/S/6nAaB451zxb4e8R3l3dW8MWk6M6NaCFHW7m2OTcYZf9WdvA6HnNXLDWfEupTeGtH0jV4dLS78MJfSyJYxvtkG0ZRcBV64xjAHQDrXdSeC/D8kgf8As5UIsDpv7uR0BtiMeWQpAI9CeR2NTWnhbR7C6s7m1s/LmsrL7Bbt5rnZBx8mCeeg5OT70Pr/AF0l+rT/AOGQdLf19n/J/wBNnmvhzxl4uu7Pwfrmo6rbzWutX7afPYJZqgGN4Eu/727MZOBgc9KdqXjvxBbfDnxnqaakEvdN157OzkMMf7uISRgLgrhuGbkgmvQrXwV4fs9O0yxtrDZbaTcm6s086Q+VKSx3ZLZP324ORzVPUfhr4R1a9vLvUNFimmvTmc+ZIodv720MAG/2gAferuua9tP+Cn+j+8Fo/wCvP/Nfcct4l8QeKzrfiyLSNajsLbQ9OhvY1NmkrOxRmKZPRTtOep6YIqbwz4l8TSeKvDQ1fU4Luz8SaW959ljtVjFoyqrAK3LMMNj5ia7abwvo9xNqc01nufVrdba9PmuPNjVSoXr8vDHkYPNFv4X0e1uNLngs9smkW7W1k3mufKjKhSvJ+bhRycnipjZb/wBb/wDA+4mV3Gy/rb/g/eed/FfTl1X4geFbV/D/APwkIa2vD9g+0i33YEfzbyRjHWrNsdZ8H+BtF0C71S8g1y+uZfssFlEl5KIxlvKDTEJ8qlfmY44wK9DuNFsLrWrPVp4N99ZJJHby72GxXxuGAcHOB1BqvrvhjR/Eq241qz+0G1fzIXWR42jJGDhkIOCOozg0vspf1vcf2m3/AFpb+v8AM81sfFmr6tpvhaTVRDJdp4pfT5pJrWIuyor84+ZUfsSh9cHBrV0bUPGPiOfxPJa69FawaXf3tlbQrZI7yMF/dkseAFJXA2knnJrrofBPh62jtY7bTEhjtL038CRu6rHORjcADjoenT2q9peiafoxvDptv5Jvrl7u4+dm3ytjc3JOM4HAwPano015fjaP+TErp69/wvL/ADX3Hldj8TtXlk0zW57lRosVnFDqMXlJzdPBLIW3YyuCiDAIHz1f0jVPEM2teEzqD29zql7oV3dM81rEreYSjIu4KCqjcAQCM45ya69vh34WbQ73RzpK/YL65+13EImkG+XIO7duyOg4BA9q0rrw5pN7fQ3dzaB54LaS0jbewCxOAGXAOOcDnr6Unrf+uj/V/ckPsl/Vmv0X3nmlh478Q6P4c8QTeIrq7k1/TrH7QdMvbGOKNCW2+ZHJH/rI8nHJzwea6DwNqni+61gx67b3s2mTWYmW7vLe3hZJsj5UELtlCCSCeRjqa39L8D+HNGW6Fjpq/wCmReTOZ5XnLx/3MyMx2/7I4qTQvB2h+GppJdFs2t2dNhzcSSBVznaodiFHA4GBTW93/W//AABPb+vL/gm3RRRSGFFFFABRRRQAU2T/AFbfQ06myf6tvoaAOBvf+Qhcf9dW/nU+jf8AIWh/4F/6Cagvf+Qhcf8AXVv51Po3/IWh/wCBf+gmgDqrP/jxg/65r/Kpqhs/+PGD/rmv8qmoAKKKKAIbv/jxn/65t/KjSP8AjzWi7/48Z/8Arm38qNI/481oAv0UUUAFFFFABRRRQAUUUUAFFFFACModCp6EYrK03w7aaW2nG3kmb+zrH7DFvYHdH8nLYA+b92OmB14rWopp2/r+u4bqxif8I00NmLXT9Z1Cwj8+ad/JEDGQyyM7Al42wAWIGMHHc9aVPDFrBNZvYXNzZpa2oszFEUKywgfKrblJ4yTlSD71tUUnruO73MmTw7av4dtdIWaeOOzWIQTow8xGjxsbJGCeB1GD6VXTwhZlb43t1eXs18kSzTzuobdESUddiqFYEg8ADIBxnOd6indslJK1jEk8NtPaxrc61qM13BKZbe+PkrLCSu0gBYwhGCeGU/yqRvDltO27UZ579ms3s5TPsHmo7AsWCKozxjjA9q16KX9foP8Ar9TFtvDUcUzy3mo32oSeS8ELXLJ+4jbG4LtRck4HzNubjrU66DarFpMe+UrpQxDkj5/3Rj+bjn5WPTHP5Vp0UCsjH03w9/ZLhLTVb8WUaFIbFvKMUI7BTs34HYFiBT9P0M2d+17d6nealc+WYo3uhEvlISCVAjRByVHJBPHWtWigYUUUUAFedfGBQ6eCFPQ+L7Af+jK9Frzb42TjT9D8M6tMjtaaX4lsry6ZBnZEu/J/MgfUih6he2ps2nwz0SzuPD8yS3jvoCuttvkXEoYkjzAF52k5GMYNTQ/D3SoIbGNLi8IsdVfVY8unMrliVPy/d+c8cHpzWJ/wvPwX/wA/p/7+w/8Axyj/AIXn4L/5/T/39h/+OUuZXv8A13/M5XiaDVm/zOt8ReGbLxNbW6XklxbzWsomtrq1k8uWB8Y3Keexxggg+lUp/BFreadp9rqGqapenT9Rj1GOe4mVpHkTorHbjb7ACuf/AOF5+C/+f0/9/Yf/AI5R/wALz8F/8/p/7+w//HKFJJ3Q/rdHv+Z1EHhDTYNY17US00r69HHHdxSMpjCohQBRjIyCc5JrOtfhto9n4CuvCcdxfNZ3ZLTXDyqZ2JIOd23HAUAcdBWR/wALz8F/8/p/7+w//HKP+F5+C/8An9P/AH9h/wDjlHMh/W6V7835m1rfw80vW79rw3mpWEs1uttdfYbnyhdxDosgwc9SMjBwcZrn/grZwafYeMbKzjEVvbeK76KKMdERRGAPwAqb/hefgv8A5/T/AN/Yf/jlR/BOcahofibVoUdbTVPEt7eWrOMb4m2YP5gj6g0J9i6dWFT4Xsek0UUUzUKKKKACiiigAooooAKKKKACiiigAooooAKKKKACiiigAooooAKKKKACiiigAooooAKKKKACiiigAooooAKKKKACiiigAooooAKKKKACiiigAooooAKKKKACiiigAooooAKKKKACiiigAooooAKKKKACiiigAooooAKKKKACiiigAooooAKKKKACiiigDDuvDTz6vcX1trmpWP2oIJoLbyNj7RgHLRs4OPRhU8fh2xt105bXzIF04uYQrZyXUqSxbJY/MTk8k8nNatFGysG5hL4Vhm+0f2vqF7qzTwNb7rny0McbEEqvlIndQcnJGBg05/DbzWXkXWtalcSJKs1vcv5Ikt2XIG3bGFPBI+cNnPNbdFAGJb+Gvskd61tq+oR3d8yNNefumkLKu0EBoyg4wMBcegFOtPDNta3FvcPc3NzcwzvO80xTdM7R+WSwVQv3cDCgDitmigVrmHaeFba0urdheXktpaPvtbGRk8m3bBAK4UMcAnAZmA7AYFTL4ctF0mDTxJN5MF0t0rbhuLiXzcHjpu4+n51rUUbA1fcyIvD4tdSa5sdTvrWCSUzS2UflGGRycsfmQuMnkhWAzn1NLFoTDVkvrzVb2+8l2e3gnEKxwEgqSuyNWPBI+Yt19a1qKNhhRRRQAUUUUAFFFFABRRRQAUUUUAFFFFABRRRQAUUUUAUtX/5Bc/8AuN/6Ca4Wu61f/kFz/wC43/oJrhaANzw5/wAvP/Af60UeHP8Al5/4D/WigDq6KKKACvONU+Kl7pV9rMkvhhpdF0W8W1u7+O/XepO3BERUE/fHQ16PXnWj/DXT7vxj4g1nxPo6zyS6n51i0s5ZGjCLhjGG2/eB+8M0lfnXb/gr/gj6f15nTT+OPDltrS6TPqkaag80cC2xRt5eRQygDHQgjnoO5FMh8feF7jxD/YcOsQvqHmGIRhW2lx1QPjaW/wBkHPtVLQdAvbP4m+LNYurUJa38dolpPuUlwkZDjAORg46gZrkLLwR4ni07TPCkmnQrYafrI1A60bpT5sYlMgAj+/vOcHPHvVLdL+un5f8AACSsnb+tL/nob/jT4pabodvcWuh3tpc6vb3UMElvKjlBucKw3DALAEnAORjkV07+K9Fjn1iF73EmiRrLfjyn/cqylgenzfKCflzXmmoeDvFieHtY8OWuiQXME2tDUotQ+1ovmI0yuV2HneAOc4GM4J4B0fEHhjxRF4i8Zf2NpUN9beJrGOKO5e7WIWzJEyEMp5Oc5GOOmSO039y/X9bL/ggknN320/N/odfqHxA8MaVY2F3faqscWoQie2CwyO8kZGd+xVLAYPUgYqGD4h6JceM28ORtObkRRusgt5CjM+TtyFwuAActgc46g1yuneHfFHhjVNC1my0RdVkTw9Bpd1Zi8jie3kTBLBmO0rng4J6d63ILDX9P+KVxq0ejrc6fqtlbwzTJdIv2R4y27Knlh83G0VcklOy2u/1t+mvmTd8vyX6X/Uv+MPFl/wCHb7SLHSNFXV7zVZZI44muxbhdibidxUjpn0qrpPxM0a60U3uuH+xJY76XT5orht6pPGpdl3qMEbQTnjPTrUfjzwe3i3X/AAylxZtdaZa3Ez3u2fyiimPC8hg33sfd/lUWv+BoYo/Clj4a0mFNP03WUuriJSoCIEfLnccsckepqY+ff/L/AII5aK67f5/8A1bz4i+FLDTbG/utXRLfUI/NtiIpGaRO7bApYL7kAVPqHjjw7pltbT3GoiSO6hNxD9likuC8QGTJiNWO0f3ulYXiLSNe0/4gf8JNoWlJrSXGlnT5LY3KQtCQ+4Pl+Cpzggc/WuEfQL3w9NoOhQ+fdalYaTONSOn3kVvIsU0u4IHnGxkyHHy4YYByKXT+vP8AyWvmP+vy/wCGseny/Ejwnb6ZbahdasLe1u4Xnt5J7eWPzUQqCQGUE8suBjJzxmptR8e+G9Ju4bfUdS8h5kR1ZoJNgV/ulnC7Vz/tEVyfh3T017VvA+t6JpMlvoumWV3blbiRGaBvlRMfMS2SjYYZ9e9UvHXhfxn4hufEdmttc3lpcRodMZNUEEEagAsjRAje5YHG8FeRyMVTST/rv/TJi7/1/Wx3OtePvDPh28ltNY1VLa4hjSV4vKd2CNnDAKpyPlOSOnGcZFLpnjzwzrOsLpel6vDc3bx+aiIG2yL1O18bWx3AJI71h3PhjU5fFfiG9+xBobzw/HZW8hdPnlG/cmM5HVeTge9UNI8IazaT/DdpbAINEtbiPUCJU/cs0IUDg/Nls/dzSjq9f63/AMl9491/XZP/ADR0A+KPgszxxHX7dWk3gF0dVBXOVLFcBuPukgnjA5FR6j8QdLn8E6jrnh3VLJhYyLHJJewzBImLqCHRV8wcHjA9O1cpD4G11fBvhexbTV+02PiX7fdJ5sfyQ+c7b87sH5SvAyfapfEvgvXr/TfiFDZafvfWbm0ksQJo184IE3nlvlwVP3sZpxV7X/r4f839xWnOl0v/AJ/5L7zsdX+IXhfQbyW01fVo7e5gVGliEUjMoYZDYVT8vq3Qd8VPqvjbw9o0cD32oZFxAbmMW8Mk5MIGTJiNWIT/AGjxXOX3hbVZtb8cXKWQZNV0eK1sn8xP3sgidSvX5eSvJwK46+0+8tLzQNMS0uft+n+HFtNWjsr6C3lVGxhC82UZPlf7nzA85HGZ6f15/wCS+8SSsm/62/zf3HsukavZ67pMGpaY8klpcLuid4XiLr67XAOD2OORyKu1geB7+w1LwRpdxpFpLZ2QgEcMExyyKh2Yzk5Hy8HPI5rfq5JKTSJWq1CiiipGFNk/1bfQ06myf6tvoaAOBvf+Qhcf9dW/nU+jf8haH/gX/oJqC9/5CFx/11b+dT6N/wAhaH/gX/oJoA6qz/48YP8Armv8qmqGz/48YP8Armv8qmoAKKKKAIbv/jxn/wCubfyo0j/jzWi7/wCPGf8A65t/KjSP+PNaAL9FFFABRRRQAUUUUAFFFFABRRRQAHnrTfLT+4v5U6igBvlp/cX8qPLT+4v5U6igBvlp/cX8qPLT+4v5U6igBvlp/cX8qPLT+4v5U6igBvlp/cX8qPLT+4v5U6igBvlp/cX8qPLT+4v5U6igBvlp/cX8qPLT+4v5U6igBvlp/cX8qZNa29xA8NxBHLFIu143QMrD0IPUVLRQBzv/AAr3wX/0KGg/+CyH/wCJo/4V74L/AOhQ0H/wWQ//ABNdFRQBzv8Awr3wX/0KGg/+CyH/AOJo/wCFe+C/+hQ0H/wWQ/8AxNdFRQBzv/CvfBf/AEKGg/8Agsh/+Jo/4V74L/6FDQf/AAWQ/wDxNdFRQBzv/CvfBf8A0KGg/wDgsh/+Jrdhtbe3gSG3gjiijXakaIFVR6ADoKlooAb5af3F/Kjy0/uL+VOooAb5af3F/Kjy0/uL+VOooAb5af3F/Kjy0/uL+VOooAb5af3F/Kjy0/uL+VOooAb5af3F/Kjy0/uL+VOooAb5af3F/Kjy0/uL+VOooAb5af3F/Kjy0/uL+VOooAb5af3F/Kjy0/uL+VOooAb5af3F/Kjy0/uL+VOooAb5af3F/Kjy0/uL+VOooAb5af3F/Kjy0/uL+VOooAb5af3F/Kjy0/uL+VOooAb5af3F/Kjy0/uL+VOooAb5af3F/Kjy0/uL+VOooAb5af3F/Kjy0/uL+VOooAb5af3F/Kjy0/uL+VOooAb5af3F/Kjy0/uL+VOooAb5af3F/Kjy0/uL+VOooAb5af3F/Kjy0/uL+VOooAb5af3F/Kjy0/uL+VOooAb5af3F/Kjy0/uL+VOooAb5af3F/Kjy0/uL+VOooAb5af3F/Kjy0/uL+VOooAb5af3F/Kjy0/uL+VOooAb5af3F/Kjy0/uL+VOooAb5af3F/Kjy0/uL+VOooAb5af3F/Kjy0/uL+VOooAb5af3F/Kjy0/uL+VOooAb5af3F/Kjy0/uL+VOooAb5af3F/Kjy0/uL+VOooAb5af3F/Kjy0/uL+VOooAb5af3F/Kjy0/uL+VOooAb5af3F/Kjy0/uL+VOooAb5af3F/Kjy0/uL+VOooAb5af3F/Kjy0/uL+VOooAb5af3F/Kjy0/uL+VOooAb5af3F/Kjy0/uL+VOooAb5af3F/Kjy0/uL+VOooAb5af3F/Kjy0/uL+VOooAb5af3F/Kjy0/uL+VOooAb5af3F/KgRoOiL+VOooAKKKKACiiigAooooAKKKKACiiigAooooAKKKKACiiigClq//ILn/wBxv/QTXC13Wr/8guf/AHG/9BNcLQBueHP+Xn/gP9aKPDn/AC8/8B/rRQB1dFFFABRRXlWgeHNM8feI/FN54vSW8utP1V7O1ga4kjFpCoGwoFIwWyTnvihau39dP8x9L/1/Wh6dHfWst5NaRXML3MAVpYFkBeMN90svUZwcZ61PXkGtDWrXx544vfD2rLph0/SrW4bNssxl2RuQnzcAHBycZ6dKtar431XU9D0p9F1C9ttWk0ZdTubaxsYZUClRhneZgFTIYYB3H+auuXm/rr/kPld7f10/zPTpL60hvYbOW6hS6nVmigaQB5Av3iq9SBkZx0osr601K0S6066hu7dyQs0EgdGwcHBHBwQR+FeZ2Grz694y+HWq3iotxeaPdzSBBhdxSPOB6VzfhnxNrGmeA/B2iaEtysmpyXzyTWcMUswWOZjtRZWCZO7knPA4FXy2X9d3/kRF3Tfa34q57vRXl154j8bQaD4ahuyml6rf60bCV57ZG8yEq+2QorEBsAHCtjI9OKqy+L/FOnaX4isJdRW9utJ1a2tft62qCYwS4yViHytIM4AAOfQ1P9fl/mgutv66/wCTPW6K8juvE3jDQPCeq6ndXV/dG51SKy0o39jDDIsLEDzTGFQ7skgByBwOBzXW+B73xPPPqNv4ltrwW0RRrO6vYoYppQQd6ssLFeCBgjGQaFr/AF6f5jeh19UNS0HSNYaNtX0qyv2i/wBWbq2SUp9NwOKv0UANjjSKNY4kVEUAKqjAA9AKdRRQAUUUUAFFFFABWfqOgaPrEkcmr6TY3zxf6trq2SUp9CwOK0KKAERFjRUjUKqjCqowAPSloooAKKKKACmyf6tvoadTZP8AVt9DQBwN7/yELj/rq386n0b/AJC0P/Av/QTUF7/yELj/AK6t/Op9G/5C0P8AwL/0E0AdVZ/8eMH/AFzX+VTVDZ/8eMH/AFzX+VTUAFFFFAEN3/x4z/8AXNv5UaR/x5rRd/8AHjP/ANc2/lRpH/HmtAF+iiigAooooAKKKKACiiigAooooAr6hex6bpl1fTqzRWsLzOEGWIUEnGe/FcL/AMLn8Pf8+ep/9+o//i66zxX/AMibrX/XhP8A+i2r5lr3MswVHEwk6nRnk4/FVKEkodT27/hc/h7/AJ89T/79R/8AxdH/AAufw9/z56n/AN+o/wD4uvEaK9b+yML2f3nn/wBpYjy+49u/4XP4e/589T/79R//ABdH/C5/D3/Pnqf/AH6j/wDi68Roo/sjC9n94f2liPL7j27/AIXP4e/589T/AO/Uf/xdH/C5/D3/AD56n/36j/8Ai68Roo/sjC9n94f2liPL7j27/hc/h7/nz1P/AL9R/wDxdH/C5/D3/Pnqf/fqP/4uvEaKP7IwvZ/eH9pYjy+49u/4XP4e/wCfPU/+/Uf/AMXR/wALn8Pf8+ep/wDfqP8A+LrxGij+yML2f3h/aWI8vuPbv+Fz+Hv+fPU/+/Uf/wAXR/wufw9/z56n/wB+o/8A4uvEaKP7IwvZ/eH9pYjy+49u/wCFz+Hv+fPU/wDv1H/8XR/wufw9/wA+ep/9+o//AIuvEaKP7IwvZ/eH9pYjy+49u/4XP4e/589T/wC/Uf8A8XWz4Y+IGleK9TksdOt7yOWOEzEzooXAIHZjz8wr54r0L4Mf8jld/wDXg/8A6MjrlxeWYelQlOKd15m+Hx9apVjCWzPbqKKK+XPfCiiigAooooAKKKKACiiigAooooAKKKKACiiigAooooAKKKKACiiigAooooAKKKKACiiigAooooAKKKKACiiigAooooAKKKKACiiigAooooAKKKKACiiigAooooAKKKKACiiigAooooAKKKKACiiigAooooAKKKKACiiigAooooAKKKKACiiigAooooAKKKKACiiigAooooAKKKKACiiigAooooAKKKKACiiigAooooAKKKKACiiigAooooAKKKKACiiigAooooAKKKKAKWr/APILn/3G/wDQTXC13Wr/APILn/3G/wDQTXC0Abnhz/l5/wCA/wBaKPDn/Lz/AMB/rRQB1dFFFABXNa18PPCviHU/7R1bSI5rsgB5VkeMyAdN4VgH/wCBZrpaKOtwMqXwzpE1xqc8lpmTVbdba8bzHHmxhSoXr8vDHkYPNZ8vw98LTtYmbSUf7Dbi1gBlfHkjojDd86+zZrpaKA/r+vuMe18J6LZTaXLa2XlvpMD29kfNc+VGwAZeTzwBycmqreAfDL+H7bRW0tfsNpI0tunnSB4mYkkrJu3gksehroqKA2MWPwhocVrp1stkfK0y5+1WoM0hKS8/MSWyx+Y/ez1rD8W+AI9Vtbn+xobZZL+8jutRguZZFS92LhV3rlosHacoO1dtRQ9f6/rsg0/r+vNnDeGvh+LSy1W28QLFPY6kI1/ssXU11DDtByweY7ixJBzgY2iuk0Lw1pXhuGWPR7d4VmILmSeSVmx0+Z2JwMnitWincQUUUUhhRRRQAUUUUAFFFFABRRRQAUUUUAFFFFABTZP9W30NOpsn+rb6GgDgb3/kIXH/AF1b+dT6N/yFof8AgX/oJqC9/wCQhcf9dW/nU+jf8haH/gX/AKCaAOqs/wDjxg/65r/Kpqhs/wDjxg/65r/KpqACiiigCG7/AOPGf/rm38qNI/481ou/+PGf/rm38qNI/wCPNaAL9FFFABRRRQAUUUUAFFFFABRRRQBk+K/+RN1r/rwn/wDRbV8y19NeK/8AkTda/wCvCf8A9FtXzLX1OR/w5+p4Ga/HH0Cuw8BeHtN1fUIbq/1q1tJLe7j2Wc6qTcjIOBlh16dDXH1NaXUtjewXdswWaCRZIyRnDKcjj6ivarQlODjF2Z5NOUYzTkro7r4meHdMsNSutRs9WtPPkmRTpkSKrQjZ14b2z0H3q5rRLK0/svUtVv4PtSWIjSO2LlVd5CQCxUg4GCcAjJxyKoarql1rOqTahfuHuJiC7KoUHAAHA9hUml6xNpYuI1hhube6TZPb3CkpIByDwQQQeQQQRWFOlVhh1Byu9P0uv+Dub1KtOdZzUbLX/h/+AW49MXWLO41OP+ztItLZkidS8xBZskYB3sScdvy6mrF14G1iz0n7fOgVFRJHj8uQFFYgA7imw9RwrEjPTg4z7jWjLp89jb2VraW88qSskJkOGQMBgu7Hncc1ZbxTO9zbXklhZPqFsYyt6VfzG2Ebdw37CcADO3OPfmm1XT93b+v+D+BKdO3vb2f33/y/4Jam8CanDdWkLTQL9q83Y8qSwBfLTe2RIinGO+CPesyx0ObU9cXTNMmiu2bJE0SvswF3E4KhuOeNuSegPFXH8XXP7sW9hZWyxtO+2MSHc0ybHYlnJJx05rM0vUptJv1urdY5CFZGjlXckisCGVh3BBIpw9vyvm3tp667/gOp7DTl76+nkbU3gbULaWT7Xc21tDHbfaTPOssa7A2w/KyB857becjGcioz4RMdreT3OrWcUdvDDNHJtlZZkk+6RhMj05Gc9gOaonW9kN3FZ6faWkd3CIZViMjcBw2RvdjnIA9MdqnXxPcfZ3guLS1uIJLWK1aOQOAVjOVbKsDu/HHtUWxFt/y2/HUL0b7fmWx4Gv31T+z4ryzmuli8+WKHzXMMeAQzAIc5yBtXLcjiiTwLqFvctFe3VraLuiWOSYSgSGTO0BQhYfdIO5VxiqTeJrt9ZudQmgtpTdQ+RPbujeXIm1RjruH3VOQQcitnQNfsrOwvGtZLPSbqeVA0TSXaxGNQeVaImTdk8gttxjipm8TGN99tl16/1ZlQVCTt6/loUbfwRqF218tpNDM1lJJG+2KfazIuWAfy9g9PmK8/UE83XVS+L1sbwx6RY20ttavMtjLciQyRxyE7hwwBzk8sCRnrXK1vRdV3c9tLf1934mdZU1pDz/r8wr0L4Mf8jld/9eD/APoyOvPa9C+DH/I5Xf8A14P/AOjI6xzD/dZ+heD/AN4h6nt1FFFfCn1wUUUUAFFFFABRRRQAUUUUAFFFFABRRRQAUUUUAFFFFABRRRQAUUUUAFFFFABRRRQAUUUUAFFFFABRRRQAUUUUAFFFFABRRRQAUUUUAFFFFABRRRQAUUUUAFFFFABRRRQAUUUUAFFFFABRRRQAUUUUAFFFFABRRRQAUUUUAFFFFABRRRQAUUUUAFFFFABRRRQAUUUUAFFFFABRRRQAUUUUAFFFFABRRRQAUUUUAFFFFABRRRQAUUUUAFFFFABRRRQAUUUUAFFFFABRRRQBS1f/AJBc/wDuN/6Ca4Wu61f/AJBc/wDuN/6Ca4WgDc8Of8vP/Af60UeHP+Xn/gP9aKAOrooooAKCQASTgDqTRXgHxH8Z3mu69c2FvOyaZayGJIkOBKVOC7evI49Bj3pN2ObE4iOHhzPU95gvLa6JFtcQzFeojcNj8qmr5e0Oy1KaSe90yY2v2CIzSXXmGMR46DcP4mPAHc17v8PPFEninwws92Qby3fyZyBjeQAQ2O2QfzBpKVzHDYxVnytWZ1VFFcl4N1KZ7XxJPqFzNMlrrN2qmRy/lxrjCrnoB2Aqu/pf8jv/AM7fn/kdbRXAWHxSW5sLjUbvQb630+Oze7iuBHIQwHRWLRqoZgeNrMPep9a8W+JtP0XT7r+wbS3uLzUILZInv/MBWQjqQgwT0746807a2/rV2A7iiuRv/HD6cviIT6avmaFZw3LqLniVpFYlAdvGCuM859BUq+MZpPEM2nRaV/o9rbxXN3eyXSpHBG6M2SCMkjb27ZJI7rb+v67B/X5f5o6miuH0T4hXWuXV7Z22hN9rjsvttognZUulztADyRoBk4+Ybl9+K2PFZvZfDsK2s0ljdzXNugaOQgoxkXjI6jsexFO239dbCvv5f8OdBRXHy6vcarrWhT20slvaq6/aIlcjdI8bnY2OuzZ0Pdge1T2HjC41HV7iwtdOjk/cST2cyyTLHcKjKPvvCq87wQULj3xgk/r7hnU0Vzlr4nGrQ2t3YxutlNerbxyiRd0hAbeCpU4UMu3qCcEjAwWjh8TavdfZTb6Jbbb4N9lMl+V5Xk+ZiM7QQDgjcTxkLk4m/wDX3f5gdPRWLpviFr9V32nkv9j+0Ovm7grBmUoDgZGVPPGfQVQuPF12lk93a6THLDBp8WoXJe72FY3ViVQbDuYBD12g+oprVXX9b/5MOtv66f5o6misnS9Wu7vUrqx1GxitZoIo50MNwZQ8blwMkquGzGcjkdOTWtQAUUUUAFFFFABTZP8AVt9DTqbJ/q2+hoA4G9/5CFx/11b+dT6N/wAhaH/gX/oJqC9/5CFx/wBdW/nU+jf8haH/AIF/6CaAOqs/+PGD/rmv8qmqGz/48YP+ua/yqagAooooAhu/+PGf/rm38qNI/wCPNaLv/jxn/wCubfyo0j/jzWgC/RRRQAUUUUAFFFFABRRRQAUUUUAZPiv/AJE3Wv8Arwn/APRbV8y19WyxRzwvDPGskUilXR1yrA8EEHqKzP8AhFPD3/QB0z/wDj/wr18vzCOEjKMo3uebjMHLESTTtY+ZaK+mv+EU8Pf9AHTP/AOP/Cj/AIRTw9/0AdM/8A4/8K9L+3Kf8jOL+yp/zI+ZaK+mv+EU8Pf9AHTP/AOP/Cj/AIRTw9/0AdM/8A4/8KP7cp/yMP7Kn/Mj5lor6a/4RTw9/wBAHTP/AADj/wAKP+EU8Pf9AHTP/AOP/Cj+3Kf8jD+yp/zI+ZaK+mv+EU8Pf9AHTP8AwDj/AMKP+EU8Pf8AQB0z/wAA4/8ACj+3Kf8AIw/sqf8AMj5lor6a/wCEU8Pf9AHTP/AOP/Cj/hFPD3/QB0z/AMA4/wDCj+3Kf8jD+yp/zI+ZaK+mv+EU8Pf9AHTP/AOP/Cj/AIRTw9/0AdM/8A4/8KP7cp/yMP7Kn/Mj5lor6a/4RTw9/wBAHTP/AADj/wAKP+EU8Pf9AHTP/AOP/Cj+3Kf8jD+yp/zI+Za9C+DH/I5Xf/Xg/wD6Mjr1j/hFPD3/AEAdM/8AAOP/AAqxZaJpWmzGbTtMs7SVl2l4LdUYjrjIHTgflXPic2hWoypqL1NaGXTpVFNy2L1FFFfPHtBRRRQAUUUUAFFFFABRRRQAUUUUAFFFFABRRRQAUUUUAFFFFABRRRQAUUUUAFFFFABRRRQAUUUUAFFFFABRRRQAUUUUAFFFFABRRRQAUUUUAFFFFABRRRQAUUUUAFFFFABRRRQAUUUUAFFFFABRRRQAUUUUAFFFFABRRRQAUUUUAFFFFABRRRQAUUUUAFFFFABRRRQAUUUUAFFFFABRRRQAUUUUAFFFFABRRRQAUUUUAFFFFABRRRQAUUUUAFFFFABRRRQAUUUUAFFFFAFLV/8AkFz/AO43/oJrha7rV/8AkFz/AO43/oJrhaANzw5/y8/8B/rRR4c/5ef+A/1ooA6uiiigAr5012K+8FePL4GJJEkd2CTpujuIXOcEdwehx0IPpX0XWbrXh7S/ENqINYs47lF5QnIZPow5FTJXOTFYd1orldmtj521vXob62j0/SLP+ztLiYyC3EhcvIerO38RHQeg/GvXfhDo1xpnhJ7q6Vka/l82NCMfuwMKfx5P0xWhp3ww8LaddLcLYNcOpyouJC6g/wC70P45rrqUYtO7OfC4SdOp7So9fIKwLfwRoFrrcmrW9nKl5JM07sLubYztncSm/bzn0rfrl49b1dL+OaeSwksZtSexS3SBkmXDMA28yEMRtyRtHGTnjm1uem9i3Z+C9AsFuEtrDbDcxtFJbtNI8OxjllWNmKqD/sgUxfAvh5dJfTfsMjWryJLta6lZlZPulXLblx2wRVi48TWMK3ygyxz2cEk7LdW00KOqfeKsU+ZQSMlA3UcHIy+TxJpkN49pLO3nxMqzCOCR1iLBSoZguFzvGM4zz6HAGxTv/AnhzVJDJf6d5zG3FsxM8g3xgcBsN8xHYnJB5BrQTQdMSa8lFqpa9gS3uNzMwkjQEKpBOOjHp1zzTxrNgZp4lny8E6QSKEbh3xtHTnr1HA5z0OKsXiWyK2qyCZ5blQyraWs06qCxUFmWP5QcHlgOh9KN9O/9fqG39f12K0HgTw5bW80EWnnZNataSbriViYSQSm4sTjjjnjtitmSwtpbaG3kjzFAyPGu4/KUIKn8CBVaLX9Om1M2Ecshm3MgYwSCJ3XO5FlK7GYYOVBJG1uODjK1zV9XtdSvxp8+nw22nWEd5Kt1A7GXLS5UOHAQYj6lW69O1F2tR8t9P67GvFoemwMTDaIha6a8O0kZmYEM555yCfaqkPhHRoA4ignw0TQANdzMI42IJRMt8i/KvyrgcYqSPxLprzPC8zRywx+ZcAxsVtxsD/vHA2r8pyMkZwcZwaSDxTpM9vczCaaIWsYllS4tZYXCHOGCOoZgSCAQDk8Dmi1tBJ31/r+tSyui6elx5yWyo3mJJhGKrvRdqttBxnacZxyAAegw+HS7O3W1EUO0Wm7yfmJ2ZGD35/GszT/FFvfandRfvIoI/ISPzraWGQySFxhlcAj7oxkDrV2717TrJJTNLIzRTCAxxQPLI0m0PtVFUsx2nPyg4GT2NH9fl/wPwEtf6/rzIZ/C+lXHk74Zk8lWVfJupYtys24q21hvXPZsjk+tTnQtONpNbfZv3M9qtpIu9vmiUMAvXjhm5HPPWo7PxDZX2qNYQRXyzLEspMtjNGmGGQCzKAD7HB7dQcalGw763IEs4I72S7SPE8kSRO+Tyqliox04Lt+dT0UUAFFFFABRRRQAU2T/AFbfQ06myf6tvoaAOBvf+Qhcf9dW/nU+jf8AIWh/4F/6Cagvf+Qhcf8AXVv51Po3/IWh/wCBf+gmgDqrP/jxg/65r/Kpqhs/+PGD/rmv8qmoAKKKKAIbv/jxn/65t/KjSP8AjzWi7/48Z/8Arm38qNI/481oAv0UUUAFFFFABRRRQAUUUUAFFFFABRUF7ZW2pWM9lfQrPbXCGOWJ+jqRgg15dqnw68Iw/FHw/p8WgWa2lxY3kksIT5XZTHtJ+mT+dHWwPRXPWKK5pn03wQ2iaNo2lxw2up3zW4SJ9iwkxvIWxg5+5jHHXNXNe8Q/2JqGi232bz/7VvhabvM2+V+7d92MHP3MY469aN9vT+vvFtubNFB6V4h4I034X3HhaOTxS/h8ao1zc+eLy7jSX/XvtyCwI+XH4Yo6ldLnt9Fclqnii28LX+g6DpWlNeJf28i2UdrIAB5SrtUZ427STuJAAXvUml+LL9/EkWieI9D/ALJurqF5rR47tbiOYJjcNwVSrDIOCOnen10FstTqaqarqtlomlz6jqk4t7S3XdJIVLYHToASTnsBk1Q8M+Iv+Eg0u4uJ7b7FcWl1La3NuZN/lvG2PvYGQRhunQ1zj+LLXX7Hw1d32ib7fU9ZaGzD3JwAgkMc5ULhs7MhTwMg5yBS3aXp+IbXb6X/AAO6hlWeFJY922RQy7lKnB55B5H0NPrmNU8WXi65Po3hrRm1i+tUWS6L3It4YA3KqXIYliOcAHjriiz8cWraVrFxq9nPpt3oiF7+zciRkXaWDIV4dWAODx05xRdWuFnsdPRXMaT4g8SX91bNdeFBa6fcAMLgalHI8akZBePA/JWbrXT07WFcKKKKQwooooAKKKKACiiigAooooAKKKKACiiigAooooAKKKKACiiigAooooAKKKKACiiigAooooAKKKKACiiigAooooAKKKKACiiigAooooAKKKKACiiigAooooAKKKKACiiigAooooAKKKKACiiigAooooAKKKKACiiigAooooAKKKKACiiigAooooAKKKKACiiigAooooAKKKKACiiigAooooAKKKKACiiigAooooAKKKKACiiigAooooAKKKKACiiigAooooAKKKKACiiigAooooAKKKKAKWr/APILn/3G/wDQTXC13Wr/APILn/3G/wDQTXC0Abnhz/l5/wCA/wBaKPDn/Lz/AMB/rRQB1dFFFABRRRQAUUUUAFZGmeGtO028ub5LW2N/cSyyNeLbqsu12ztLdSBwOvatesOLxRE+oi3l069ht2uWtEvXEZheUEjb8rlxkggFlAzgdxk6g9jGtvh4IVu913aCW4sJ7I3ENgI5ZRLt/eTPvJlcbc5+UEk8Ct86DHJb6zBNNvTVWywC48v9ykXrz9zOeOvtmtaind2sO7MC18L+TeadczXnmvahmuMR7RcyncQ/X5QDJIcc/eHPFVpfCVy39npb31rELNQhuBaOLkjfuIWVZV2qePlIYHHIPSuoopdbi6WOY0zwZBpfiF9Qhh0l42mkmV20xftas5JI+0B+Rlj1XOOMnrV+fwzp174jOr6ha2t3KsEUcAnt1doGR3bcrHOCd46Y+6Pw2KKNg7+ZkyaDHPBrUM07bNVfc2xcNF+6SPgnOT8menfGKpSeG7++WeXVtVhmujHGts9vaGJISkgkVipdix3qufmAwMADJNb8kyxSRIwcmVtq7Y2YA4J5IGFHHU4GcDqRUlAzm5PDmpz+fcz6tbnUJHgdJEsiIUMTMQPLMhJBDEH5wc857U5fDmoJuuk1SD+0zdG5ExsyYeYljZTH5mcYXI+cEHHJ5B6KsceIDNqL22n6VfX0UUvky3cPlLDG+cMMvIrNt77QecjqCAL+vw/yRP8AX9fiSWun6hDq5vJr63kSW3SO4iW1ZS0i7vmRt52g7vukN061qVXsL2PULNLmEMqOWADjB4JH9KL+9j06xlupwzRxjJCDJ6470DLFFV7S9jvDcCIMPImMLbh1IAPHtzVigAooooAKKKKACmyf6tvoadTZP9W30NAHA3v/ACELj/rq386n0b/kLQ/8C/8AQTUF7/yELj/rq386n0b/AJC0P/Av/QTQB1Vn/wAeMH/XNf5VNUNn/wAeMH/XNf5VNQAUUUUAQ3f/AB4z/wDXNv5UaR/x5rRd/wDHjP8A9c2/lRpH/HmtAF+iiigAooooAKKKKACiiigAooooAK4zWf8Aksfhj/sHX384q7Oijrf+trA9Vb+tzjfiFIbCbw5rEkUj2em6qJrt40LmKNopI95A5wC4zisTxB4q03xL4n8GjQJWvrWLV98t3HG3lK3kyAJuIALHk4GcY5xkZ9NooWn33/L/ACB6r5W/P/MD0rx3wB4r8B6b4PitNfvtKiv47m581LhFLjM7kZyPQivYqKB9LHCalcW178TfBFzYukttNZXskLp91kMcZBHtirniD/kqXg//AK43/wD6BHXX0U+3z/G/+ZJ5X40lvPD/AIk1PTtLV1bxlBHDbMoOI7oMIpG9v3TBv+2ZrY8VWEGlXfgHT7NNkFrq0cMajsq28oH8q7yilHRL1X4bL5Dlrf0/M8/i1a08D+NvEUniWRrOx1eWK7tb6RCYmIjEbRlgMKwK5APUHinaJPbap4j8TeKriBxoM1nDaRvPA3+kpGHMjhCMlPnwOOcGu+opW0/r0/IP6/r5nlen6hpNhr+l2/w11ue+hmulju9HV2uLaCA53uCwJgK9QNwB6Yr1Siiq6WDrcKKKKQBRRRQAUUUUAFFFFABRRRQAUUUUAFFFFABRRRQAUUUUAFFFFABRRRQAUUUUAFFFFABRRRQAUUUUAFFFFABRRRQAUUUUAFFFFABRRRQAUUUUAFFFFABRRRQAUUUUAFFFFABRRRQAUUUUAFFFFABRRRQAUUUUAFFFFABRRRQAUUUUAFFFFABRRRQAUUUUAFFFFABRRRQAUUUUAFFFFABRRRQAUUUUAFFFFABRRRQAUUUUAFFFFABRRRQAUUUUAFFFFABRRRQAUUUUAFFFFABRRRQAUUUUAUtX/wCQXP8A7jf+gmuFrutX/wCQXP8A7jf+gmuFoA3PDn/Lz/wH+tFHhz/l5/4D/WigDq6KKKACiiigAooooAK5zTPDkwvJbnUb27aNb6a4gsi0YhUl2KvlV3ng5wzEZPTgY6OijrcOljij4WW20Gy8zREv5POD6jaZjZ7tQrhAzOwVwhZSFZtoA46AVmano1w1hY2EWiwyv51xcRaTcW8V0lvASADtaWOMMpIxtc7d5CgjkekVS1HRtL1hEXV9NtL9YySguoFlCk9cbgcUrdBnNaFoNrJJBe2enRm2t9Mt0sBcqoEc6NLuJVcgMNy5dR/EdpOTWXpnhbUkg1Rhp1xaPfWoWVGFpBvm3gkr9nxxgthnYt16d/RURY41SNQiKAFVRgAegpapv3rk20t6fgcVqHgm0DasdO0W0j/cRvp4jREEVwN250H8DnEeWGCcDk44l1LwoL24v7uTT45bt9Tt5IJmK71gHkiUK2cqCqyAgY3DPBzXYUUX1v8A10/yGtGcpZeHZdO1cLY2Mdtp8eqGeKOHaiJGbTYSqjpmQtwB1JPvVG28N2+heHrO8ltEsLqPTHi1G6hx5pJjH3mXJchhwfmxjiu5pskaTRPFMiyRupVkYZDA9QR3FJ6qw7nFeBdMTTNSu1u9Fg0vUXt4+Lexht0aMEjI8uWQk7upYrnC4HBrX0ttR0i4k02TSLi5t3upJIr6CWLYqSOX+cO4cFSxB2q2QAR1wNTTtH03R43j0nTrSxSQ7nW1gWIMfUhQM1cpt3ZKVlY5HT/Co04WF7Z6bbxaos87XFwSN7qyy7Q7jll3GPjnGBgccZGleGNShj1KRdNmtXvbZRLHIlnEHmDhiQIOq8tguS3Xp39FopLR3G9VY4fxB4bv7+Jw9vcXFob+WaS1txbO0qsqhH23AMZwQeDg85HTBs2/hG2vPs6avpz3ltDp4ijTUhFIySbmOCqfIGAOAVGAOAetdfRStpb+trB1v/W9zzHW9ME91FJqmlpqNtYWVsmoSSWkVxJbMg3uFaSVcZUgkqsm70z11bHw1dQ+Nm1C7h1F3Ny8kd5CLMQ+SclY2YgXGAMLtBIyAenTqrnQtIvdQiv7zS7K4vIdvl3MtujSJg5GGIyMHkVfqr63FZWsFFFFIYU2T/Vt9DTqbJ/q2+hoA4G9/wCQhcf9dW/nU+jf8haH/gX/AKCa0Z9B864kl+07d7FseX0yfrUlnov2S7Sf7Rv25+XZjORj1oA1bP8A48YP+ua/yqaobP8A48YP+ua/yqagAooooAhu/wDjxn/65t/KjSP+PNaLv/jxn/65t/KjSP8AjzWgC/RRRQAUUUUAFFFFABRRRQAUUUUAFFFFABRRRQAUUUUAFFFFABRRRQAUUUUAFFFFABRRRQAUUUUAFFFFABRRRQAUUUUAFFFFABRRRQAUUUUAFFFFABRRRQAUUUUAFFFFABRRRQAUUUUAFFFFABRRRQAUUUUAFFFFABRRRQAUUUUAFFFFABRRRQAUUUUAFFFFABRRRQAUUUUAFFFFABRRRQAUUUUAFFFFABRRRQAUUUUAFFFFABRRRQAUUUUAFFFFABRRRQAUUUUAFFFFABRRRQAUUUUAFFFFABRRRQAUUUUAFFFFABRRRQAUUUUAFFFFABRRRQAUUUUAFFFFABRRRQAUUUUAFFFFAFLV/wDkFz/7jf8AoJrha7rV/wDkFz/7jf8AoJrhaANzw5/y8/8AAf60UeHP+Xn/AID/AFooA6uiiigAooooAKKKKACsISXVr4g1NnuZJwLNZo4TwifM4ACjvxyep+mAN2ohawi8a6CfvnjEbNk8qCSBjp1JpMZg6OZLbUNOUXc1wL+waefzZmkBdTH8yhjhQd54XA6ccVLd+ILuC4ufJ01JYLa5S2Z2udrM77NuF2kYy4ByR7Z6VoWGjWOmytJZwsjMuwbpXcIuc7VDEhFz2XA4HpUj6ZaOsoaLImmSeT5jy67dp69ti8dOKrr/AF3/AMiTMj1q4kuobe5gFtOt99mlWGYSI37gyg5ZASMY4wpz3x1XStdu797JrnTo7eC+hMsLrc+YwwAcMu0AZB7E/hWidMtDc/aDD+987z924/f8vy89f7vGOn406DTrW3jtUhi2raJ5cI3E7FxjHXngd6QyzRRRQAUUUUAFFFFABRRRQAUUUUAFFFFABRRRQAU2T/Vt9DTqbJ/q2+hoAo0UUUALZ/8AHjB/1zX+VTVDZ/8AHjB/1zX+VTUAFFFFAEN3/wAeM/8A1zb+VGkf8ea0Xf8Ax4z/APXNv5UaR/x5rQBfooooAKKKKACiiigAooooAKKKKAEZgiMx6KMmuT8KfEG38XzR/YNA1y2tZUZ4767tkWBtpxgMrnnOe3auqmBMEgAySpwPwry/4e+CNRsvhyZf7Q1q01S6sLiBbG8uHWC2dmbawhI+U9Dn3PrSvZN9v+COydl5no1nrOmahdT21hqVpdXFucTRQzq7xH/aAOR+NUNR8W6Va6fq0tlfWd/d6XbSXEtnDdIZBsUnDAZK9MZIry/wX4TuwbCGaPX7HWNN06e2UTadDDaozRlSPPRAZBuwwO5jkZPer/hqzEHwy1DQV8HahYa1baJcQT3LaeFW4k2kbUkHMhY8jGen0olonbt/n/l+I4Wclfv/AJHoPhrxXp3iTTbOWC6tVvZ7SK6lsUuVkkgDqGwwGD3xkgVdtNe0e/v5bGx1WxubuH/WW8NyjyJ9VByK8u0vwzd6Tq/w2udM0OS3lh0yddQdLYptkNuCFmbHBL5+93zVPw7Ya/f+NPCurajpGoWtxDdXI1Bf7Ljtre3Z434Uqu91JH32YqTjnJrWUVz2Xn+bRGqjd9j2yiiisxhRRRQAUUUUAFFFFABRRRQAUUUUAFFFFABRRRQAUUUUAFFFFABRRRQAUUUUAFFFFABRRRQAUUUUAFFFFABRRRQAUUUUAFFFFABRRRQAUUUUAFFFFABRRRQAUUUUAFFFFABRRRQAUUUUAFFFFABRRRQAUUUUAFFFFABRRRQAUUUUAFFFFABRRRQAVT1fU4dF0W81O6WR4bOB55FjALFVBJAyQM8etXKw/G1vNd+A9dt7WKSaaXT5kjijUszsUIAAHJPtUybUW0VBJySZl+H/AIlaVr1/HZy2Gp6RNPbG6t/7TtxEs8QGS6MGIIAOeo4ro01rS5I7ORNSs2S+OLRhOpFwcZwhz83HpmuJ8L/DuGy8PwX91dape6u+k/Zol1KfcLPfGN0aJgbBnjnJ4xmuW0KDWZovh5pkvhvV7Y6Fdsl9PPbFY0PlsAQf4lP977vQZyauWkuVeX5u/wBysZpvl5vX8l/wT1seItFa7itRrFgbiZ2jihF0m+RlO1lAzkkEEEDoRVZfGGgt4nm8PnU7ZdTiRWMDyqpbdk7VyfmYBSSB0GPWvJ7vwhc/8ILrNzF4fmOrv4qa4ikFmxnMX2gYdTjdt25ORxgmuugsm0z4yaxNPoV1LDq1tbi1vYbTfFE6hg5dx9w8jr1pdE/62T/Ww76vy/za/S52ia/o8lpbXSarYtb3cvk28wuUKTSZI2I2cM2QRgc8GlOvaOurDS21WxGoHpaG5TzT/wAAzn9K8V07Tddi8L+EPDcnhvVluNF8RxzXlwbc+SE85yGVv41w/JHAwckVZ16x8Ra3rssl1ot/Hc2niGCVBbaXGsDWyyqFmM+0yO23GdrcDORgVVlfTa/4aa/j+BUtL/13/wAvxPYrnXNKstQhsLzU7O3vJ/8AVW8twiySf7qk5P4VS0/xJHc2mrXN8traQ6bdyW7Ot9FIpCY+ZiCBGTn7rEEd64zSrT+xviRrn9ueFrzUZ9T1KOex1OKyWaOOLaoXdIf9XsIJ7H0zWFdeG9Yl03VppNGu7q1g8avqFxYmE7ry1AUZRWwJBnkDocVMdVd9vu1j+V2Nq1/J/fo/zsj1HRfEcOo6BFqt/LYWkM0mxDFfpOnLbVBkGF3kkDaCRk4BNX7DVtO1Xzf7L1C1vfJfZL9nmWTy29G2k4Psa8X1Tw3qOpeGvF1xYeH72z0zVtRsGs9Ma0KSEI6CWQwryoPXkDgZNdtoehHSfjLq0thpZstMl0eBVeG38uF5FcjAIG0sFx74qrXt/XS//AM27X+X4ux3tFFFSUFFFFABWfPrumw6Hdaut5DNY2sckkk0MgdQEzuGQcZGCMetV/FXiGHwt4Zu9XuIXnWAALEnBkdmCque2SRz2rz/AMQaD4jX4YaZ4UtbO3bUtXvf9Ma0ttltaxlzKwcxqAB91CeC3Pek79P6uNW6nceHPGmleJPDk2tRGWwtrd3S4XUAsTQFRk7+SAMEHOehrTtdZ0u9uJ7ez1K0uJrcAzRxTqzRA92AOR+NePapY+J9BtvHUHiC1tmttY0SS6WfTIZBaxTRxlCpLZ2sy4PJ5xxV3wnpst74m0K90rw1daRb6foTw3txLbrGt07ouwKQf3nILZ9+eab2uu36P9V+JOqdn/W36P8AA9Tg1vSroMbXU7OYLCJ2MdwjYiPR+D90+vSs/U/F2nW3hDVNf0m4tdWh0+CSUrbXKsrFFJ27lzg8V5tZ+BLkfs/w22n6J5GtzxxPexPD5dxcok24xMWAb7o4U8dqLnSLvU08Z6loPhq+0jTbrw+bOKyks/IkubgBjlYRycAhc457ZokrcyXS/wDX6eoRd0n3t/X6+h6loniLTtctY2tbu1a58iOWe1juFd4Nyg4YDkde4FTWGvaRqlxLBpmq2V5ND/rY7e4SRo/qASR+NeVaFpmpxeJNMutB8I3Okz6NoM0FybmBYY7ucovlxhgcSDcCc5784NQ+FdL1e48ZaDqt9pOpwxjT7qG+VtMjtI4pCgPloEUMVznDOSCcYPWqla7t5/rb8vxJi3yq++n6X/P8D1VfFGgul20WtafL9iQvciO5RjCB13AHj8aj0rxfoOs6D/bNjqto1iqhpZWmUCDIB2yc/IeRwea8z8I6HfxLrGiafpN5JojaXLHbS6xpa21xDKT8sIfjzV75xwQOarzaRqWpfDDw3b2Wh6rYyaJd27alB9gUSzbEKmSNHBWbBweQc1P/AAPxbT+4v/g/kmeo6l4rtLPS7e/020vNehuWKxf2PGLjPvuBCge5NWfDviCy8T6LFqem+aIZGZCkybHRlYqysOxBBFcJpWlxaf4D12a2i8VyDULtXljjso7S7YnYrNFGqqFUjqcA8MR616Np9haaZYQ2enW8dtbQrtjijXaFH0p2sIsUUUUhhRRRQAUUUUAFFFFABRRRQAUUUUAFFFFABRRRQAUUUUAVNTRpNPlRBlmUgD1ODXI/2Nf/APPD/wAfX/Guzuf9WPrVWgDL0WzntPP+0R7N23HIOcZ9KK1KKANCiiigAooooAKKKKACiiigAooooAKKKKACiiigAooooAKKKKACiiigAooooAKKKKACiiigApsn+rb6GnU2T/Vt9DQBRooooAWz/wCPGD/rmv8AKpqhs/8Ajxg/65r/ACqagAooooAhu/8Ajxn/AOubfyo0j/jzWi7/AOPGf/rm38qNI/481oAv0UUUAFFFFABRRRQAUUUUAFFFFABRQThST29BmovtCekn/fpv8KAJaKi+0J6Sf9+m/wAKPtCekn/fpv8ACgCWiovtCekn/fpv8KPtCekn/fpv8KAJaKi+0J6Sf9+m/wAKPtCekn/fpv8ACgCWiovtCekn/fpv8KPtCekn/fpv8KAJaKi+0J6Sf9+m/wAKPtCekn/fpv8ACgCWiovtCekn/fpv8KPtCekn/fpv8KAJaKi+0J6Sf9+m/wAKPtCekn/fpv8ACgCWiovtCekn/fpv8KPtCekn/fpv8KAJaKi+0J6Sf9+m/wAKPtCekn/fpv8ACgCWiovtCekn/fpv8KPtCekn/fpv8KAJaKi+0J6Sf9+m/wAKPtCekn/fpv8ACgCWiovtCekn/fpv8KPtCekn/fpv8KAJaKi+0J6Sf9+m/wAKPtCekn/fpv8ACgCWiovtCekn/fpv8KPtCekn/fpv8KAJaKi+0J6Sf9+m/wAKPtCekn/fpv8ACgCWiovtCekn/fpv8KPtCekn/fpv8KAJaKi+0J6Sf9+m/wAKPtCekn/fpv8ACgCWiovtCekn/fpv8KPtCekn/fpv8KAJaKi+0J6Sf9+m/wAKPtCekn/fpv8ACgCWiovtCekn/fpv8KPtCekn/fpv8KAJaKi+0J6Sf9+m/wAKPtCekn/fpv8ACgCWiovtCekn/fpv8KPtCekn/fpv8KAJaKi+0J6Sf9+m/wAKPtCekn/fpv8ACgCWiovtCekn/fpv8KPtCekn/fpv8KAJaKi+0J6Sf9+m/wAKPtCekn/fpv8ACgCWiovtCekn/fpv8KPtCekn/fpv8KAJaKi+0J6Sf9+m/wAKPtCekn/fpv8ACgCWiovtCekn/fpv8KPtCekn/fpv8KAJaKi+0J6Sf9+m/wAKPtCekn/fpv8ACgCWiovtCekn/fpv8KPtCekn/fpv8KAJaKi+0J6Sf9+m/wAKPtCekn/fpv8ACgCWiovtCekn/fpv8KPtCekn/fpv8KAJaKi+0J6Sf9+m/wAKPtCekn/fpv8ACgCWiovtCekn/fpv8KPtCekn/fpv8KAJaKi+0J6Sf9+m/wAKPtCekn/fpv8ACgCWiovtCekn/fpv8KPtCekn/fpv8KAJaKi+0J6Sf9+m/wAKPtCekn/fpv8ACgCWiovtCekn/fpv8KPtCekn/fpv8KAJaKi+0J6Sf9+m/wAKPtCekn/fpv8ACgCWiovtCekn/fpv8KPtCekn/fpv8KAJaKi+0J6Sf9+m/wAKPtCekn/fpv8ACgCWiovtCekn/fpv8KPtCekn/fpv8KAJaKi+0J6Sf9+m/wAKPtCekn/fpv8ACgCWiovtCekn/fpv8KPtCekn/fpv8KAJaKi+0J6Sf9+m/wAKPtCekn/fpv8ACgCPUdNs9X06aw1O2jubWddssUgyrCqPh/wro3haGaLQrP7Ms7BpS0ryM5HTLOSePrWl9oT0k/79N/hR9oT0k/79N/hQBHqWnWur6Xc6dqMXnWt1E0U0e4ruVhgjIII49KktbaKztIba2TZDCixxrknaoGAMnnoKPtCekn/fpv8ACj7QnpJ/36b/AAoAloqL7QnpJ/36b/Cj7QnpJ/36b/CgCWiovtCekn/fpv8ACj7QnpJ/36b/AAoAloqL7QnpJ/36b/Cj7QnpJ/36b/CgCWiovtCekn/fpv8ACj7QnpJ/36b/AAoAloqL7QnpJ/36b/ClE6FgAJOfWNh/SgCSiiigAooooAKKKKACiiigAooooAKKKKACiiigAooooAhuf9WPrVWrVz/qx9aq0AFFFFAGhRRRQAV5T8QPifd6dqkuj+HWSN4DtnuioYh+6qDxx0JPf0xk+rV803kdrYeNdRg8R280sX2iVJDE+HQljiRc/e9cHg5qJNo87H1ZwglB2v1NHSPiN4ut70NFeS34ALPBLH5gKgZJ4GQAMnIIr27wx4itvFGgw6laqU35WSInJjcdVz39QfQivBr+/sNB0+XS/Dl19rlulIu9RCFC8Z6RIDyF/vep46CvR/gpbzx+Gb2aQEQzXX7vPfCgEj+X4e1KLd7HLgqtRVfZuV/0PSa5LTdc8Q6/rFzLpEWmw6PZ3rWjm58xppthxIylTtXnIAIOcdq62uYs/Cl/pOuXFxo+uG3027ujdz2EloshLtjftkyCobHTBx2rRb6/1/Wp7b20NBfFWjNDFKt5lJr46eh8p+bgEgp09VPPT3qOLxjoM15JbJqChkEh3vG6xt5fL7ZCAjbcHO0nGD6Vhr8PJ1voyNbb7BDq/wDasVr9lGQ5YllL7uRyccDGe9N0j4aQaLdyvaS6e0WJfIeXSo2uIy4PWbPzgbjwQMjgmhbf12X63Dr/AF3f6WL978RNBtdCfVY3uriBJY4vls5VLGQ4UjcoyOpyODjjkgG2PE9qupTtPfW8NhFp6XpE0MkcqKzMNzFgABxjbjdnOawovhrInh/UNOOsiM3U0M8K29qUt7Zo2DDZCXOMkc4YA8dKv6j4HOtPevq2pGR73To7ORoYPLw6SFxIMse5Hy89Opp/1+H+YLz/AK1/yL0Pjnw7Npt1frqIS3tCguDLDJG0W8gISrKGAJPXGPfipbXxfol7aXtza3jSJYEC4X7PIHTPT5Cu457EA57Vh3Hw+uNRtNUOra0Lm+1FbeJrhLQRokcLhwBHuOSTnJz36dqm1rwG2rXms3EeqG3OqfZfk8jcq+Tn5WG4b1bPI4oYLzNE+OfDi6WNQl1JYrb7QbYtNE6FJQpbYysoKnAzyB29RTYfFdk13fTT6hbR6db2UN3l4ZI5I1fd8zlgBg44AGeue1ZNh8N4rCOJI72IJHrEeqmOKzWNAVj2mNVDYUZ5B7dOetX9Z8Ew61daxLcXjxrqVtBCAkYzC0Ts6vkn5uSOMdvejS39dv8AMP6/H/I1dG8RaX4gSY6VcmUwECWN4nidMjIyjgMAR0OOaqQeNvD1xqy6bFqIN0072wUxOF81c5TcV27uOmeeozSaB4cuNL1O/wBU1PUhqGoXyxo8iQCFFSMEKAuTzySTn8q5nQPB+oX148+pXk1vZWuv3F/HYva7WkcO2xg5OdhBzjBz60ac1un/AAwteW/9bM6e38aaDeQ3kllffaBZrun8uGRtnzFcHCk5yOgye+MVV07xrpw8Of2lq+o22RcGB1t7eZSkh5EQjYeYzYI/hBPXAqGTwKT4HPh6PUyjfaWuDP5HyvmYybHTd8y87SM84qlbfDT7Da/8S/VI7W7j1EajbyRWSrFE/liNk8oHBUjPAIIyOTjJS8/62/r5Dfka7eO9HGtaZpqfa3k1KIywuLSXAG4KNw25XJJ6jAxzjIplt410220W2u9Y1GB3uZpo4vsdtM3mbHZTiPBfgDk4xn2IpZvDGoza1pGrHWk+22MUkM7GzG24R2UkBQw2H5QAct+NUIPAN1p8enS6VrYt7+wa5Ane0EiSRzyGQqU3DkHGCG7dOcUf8H/gB/X+ZsXvjXw/p13HbXuoiKWREfBiciNX+6XYLiPPbcRWlZapZ6jJdR2c3mNZzGCcbSNjgA45HPBHI4rltV8AT6nPf7dbeG31aOFNTj+yqzTGMAbkbI8vIHPDD0rqNPtbq1a5F1e/ao3l3W6eUE8iPAATI+9yCcnnmnp/X9f15bNa/wBf1/XmXKKKKQwpsn+rb6GnU2T/AFbfQ0AUaKKKAFs/+PGD/rmv8qmqGz/48YP+ua/yqagAooooAhu/+PGf/rm38qNI/wCPNaLv/jxn/wCubfyo0j/jzWgC/RRRQAUUUUAFFFFABRRRQAUUUUAFFFFABRRRQAUVSsdZ0vU5potN1K0u5Lc7Zkt51kMZ9GAPH41Dp3iXQtYumttJ1rTr64RS7RWt2krqoOCSFJIGSPzoA06KKgsr231C1W5s5PMiZmUNtI5Vip4PuDQBPRRRQAUUUUAFFFFABRRUFte293Jcx28m9rWXyZhtI2vtDY568MDx60AT0UVSh1nS7jUpdOt9StJb6EZktknVpUHuoORQBdoqpHq2nS6nJp0V/avfRLuktVmUyoPUpnIH4U2HWdLuNSl0631K0lvoRmS2SdWlQe6g5FAF2iohcwNdNbLPGbhEDtEHG9VJIBI64ODz7UtxcwWdu893NHBCgy8krhVX6k8CgCSiqmoarp2kW4uNVv7WxhLbRJczLGpPpliBmrMciTRLJC6yRuAyupyGB6EGgB1FUrPWdL1C7ntbDUrS6uLc4mhhnV3i/wB4A5H41YN1brdratPGLh0MiwlxvZQQCwXrgEgZ9xQBLRRVS31bTru+nsrW/tZ7u3/10EcytJF/vKDkfjQBborMtPEmh6hqL6fYa1p91ex7t9tDdI8i7eDlQcjHetOgAooooAKKKKACiiigAooooAKKKKACiiigAooooAKKKKACiiigAooooAKKKKACiiigAooooAKKKKACiiigAooooAKKKKACiiigAooooAKKKKACiiigAooooAKKKKACiiigAooooAKKKKACiiigAoqKK6guJJUgnjleF9kqo4JjbAOGA6HBBwfWmvfWkUdw8t1CiWv/AB8M0gAh4DfMf4eCDz2OaAJ6KRWV1DIQysMgg5BFLQAUUUUAFFFFABRRRQAUUUUAFFFU9S1jTdGhWbV9RtLCJ22q91OsSsfQFiOaALlFVU1K0kuIIYZ1le4jMsRjBdWQY+bcOAORgk89qtUAFFFFABRRRQAUUUUAFFFFABRRRQAUUUUAFFFFABRRRQAUUUUAFFFFABRRRQBDc/6sfWqtWrn/AFY+tVaACiiigDQooooAK47xl8OdO8WSi7WVrK/ChTOi7lkA6bl4zj1zn64FdjRStczqU4VI8s1dHkmnfBFhdK2q6urQA8pbx4ZvbJ6fka9TsLC20vT4bKwhWG3gXbHGvYf1Pv3qxRQkkRRw9Kj8CCsqx1w6jfNFa6ZeNaLI8f28mIRFkJVgBv8AM+8CPudvTmtWuTex1CbWJv7G0690USed9ouJZ4zBNlWCskSSNhy5V921SQDk54pm50moXsem6bcXs6s0dvG0jhBkkAZ4zVjPGa4GPw7ctb3y6b4d/scvpktvMvmRf6dO23a2UY7sYf55MN+86dcbaaTdjxB9nNv/AMSlZTfrJ5i4888eXs643EyZ/vEU3ohdDoIJluIEmjDhXUMBJGyMB7qwBB9iKfXDWXg37VYxx65pcNw0OiW1tCsxV/LnUS79vJwwynzD8D1rO1TTo7rxILrUdKjv7O2ktkurp7KKaSCRQpKCR5VYJkqSFjfO5sHJwHZc1hy93+v6/pM7fVdZbTbi2t4dNu9QnuA7LHamIEBcZJMjoP4h0NWtOv4NU0+G9tS3lTLkB12sp6EEHoQQQR6is3WdKvNR1rT5bS9ubBIYphJPbCIsC2zC4kVhg4PQdutV08LWy6xATaiW1tLNVtnnbzdkwctvwx5cZyGIyMnB5NRf+vvA6OivP7fSG0y3a4n0htHNvYTJqOpJKha9cqBvGws7ncC+6RQw7Dk1T0nw63kXVnJoUWnalK1mzra2sNorQJOpcgxzSHPDZJZScLgZBqktbf1/XUD0yiuC8R+F7i51S3j0zR1jt7NIzYSWkFokcJDbmDNIPMQ5HHlY68nuLt54RivJp7qfTYpruTVEcTOVL/ZiVDqCTkIV3gp0OWyDk5S1f9d0v+CJ6L+ux2FBOBmuQTwonmR2TabCNJj1SSYWoCiIQtbkY2DjaZCflx1Ocd6jsfCf2GbT7i202GG5h1C5DyptDLaETiJM5+5zFhBwOOBjge1ylr/Xr/l+J2EMqzwRzIHCyKGAdCjAH1VgCD7EZp9cQng4Xmnuur6ZDcTR6Pb29v5pVvLmVZN23n5WBK/MMex4rO1jT4bvxS13f6VHf2VvNbpc3T2UUskEi7TsEkkqsEyVJCxvnc2Dk4Dsua39WJeiuekUUUUhhRRRQAU2T/Vt9DTqbJ/q2+hoAo0UUUALZ/8AHjB/1zX+VTVDZ/8AHjB/1zX+VTUAFFFFAEN3/wAeM/8A1zb+VGkf8ea0Xf8Ax4z/APXNv5UaR/x5rQBfooooAKKKKACiiigAooooAKKKKAGyp5sLx7mTcpXchwRnuD614jc6x47+Fl1N4dgtZvE1tqTkaJeSks8cjHJST1xycEjpnOMge4UUuo76HKfD3wzqvhvQZf8AhIdWn1PU76U3NyXfckTnqqeg/T0Arqn2mNvMxswd27pj3pabLFHPC8UyLJHIpV0cZDA9QR3FOWoloc9axJq+rx6rbIttp9nayW9rLtA88OVy4HaMbBj+9yemCYNGbUvD93pOgX13Y38Elu0cDW1s0DxLEgwzAyOGB6ZG3BI45rSsvCPhvTLoXOm+HtKtJwColgso42AIwRkLnkVa07Q9J0dpTpGl2diZjmQ2tukW8+p2gZp7f16/5gZepJ/aPi6LTru6ube2jsvtMaW9y8BlfzMElkIJCjb8ucfPyDxXJWM2pXOl6BpenMt1Bcpeys7anLYeeyT/AC4lhRmJwzNtGAevQYr0S/0rTtVSNNUsLW9WNt6LcwrIEb1G4HB96bdaNpl7YGxvdOtLi0LbjbywK8ec5ztIxnJJ/GpWit/XX+vkD+K/9dP6+ZR09dUtfB7rrE0bX0cUuZIJjIAAW2fOVUkhdoJwOQa5uw0yWX/hGhNq+rSf2pZF74/2hKPOIiVgRhv3fJ/5Z7c9813MFnbW1mtpbW8UNsq7FhjQKgX0CjjHtQtnbJ5Gy3iX7Ou2HCAeUMYwvoMDHFN7v5fqLXT5/ocXa3s15pEWiubq7uXvb2OF21GW2PlQTMg3zplyQCo7k4ye5qtolzea7Dodvc6jcLDI+oxzG2u3zKkU2xB5owxwAPnGGP4mu1utD0m9thb3ul2VxCJTMIpbdHUSEkl8EY3EknPXJqeOxtIWRobWGNoyxQrGAV3HLY9Mnk+tG6LbV9P63OeeyW98Xxpp9zfJFp5WS8cX8xR32/JDsL7Txhm4/u/3jWZb3E6aZpmuLfXUmp3l/HbzW7XTmIhpdskYhJ2KUXccgBvk5J5z1f8Awj+jG/N8dJsftZfzDcfZk8wt/e3Yzn3qRNH02LVH1KPTrRL+Rdr3SwKJWHoXxkj8aFo0/wCv66E9zM8Rlp9S0fTZLme2tbyaRZWgmaF5CsZZUDqQy5IJ4IJ249a5SWe8s4r6y0mb7Qlz4i+yySzXzwHZ9mUhTOqsyncqpuwWPTOTmvQr6ws9TtHtdStILu3f70NxGJEb6qeDTBpWnCxksxYWotZRiSAQrscYAwVxg8AD6AULS/8AXVf5B/X4NfqZ3ha01eysriHWmh4n/wBGjjvZLto49q/K0siKzHduOSCcEcmoTFHrOtWY0+JEsdKuHla4VQBJNtZDGnsN5LN0yNvJ3Y2dP02x0m1Frpdlb2VuCSIbaJY0B9cKAKz4fB3hm2vVvLfw5pMV0j+Ys6WMSurZzuDBc596e7Doc9bbP+EZ0Dy9n9of2uu7H3vN81/P9/u+Zn2rYMUWs61ZiwiRLHSrhpWuFUASTbWQxp7DeSzdMjbyd2NdNJ06PU31KOwtUvpF2PdLColZfQvjJH41Rh8HeGba9W8t/DmkxXSP5izpYxK6tnO4MFzn3pR0Vn/W3+QPVt/L8/8AMhs7K2s/HF21tEqNPZLJK3Uuxkbkk8n09gABwKXxrZW934S1CS5iWVre2lki3chW2EbsdMjse1bfkx+eZvLTzSuwybRu25zjPpmiaGO4heGeNZYpFKujqCrA9QQeopRVkl/W7Y/tN/1sUdTvobFYXW3FzfyApawqBvcnGRn+FeAWPQAfSqelaPFpVvpltcX7LcQiZvIjl2RzFzuf5O6qT8voKuap4f0bW2iOtaRYagYQRGbu2SXZnrjcDjOB+VOtdC0mxgihstLsreKHeIo4bdEWPf8AewAOM98daYuxkxGO/wBTg1SztyumaTDKLdoY/muWIwRGo6oAOP7xxjgAnA0XV4Lrx/pt1c2+pJqF7ZXQlE2l3MSxDfAUjDPGBtUA5bpuJPG4CussvCHhrTbyO707w9pVpcx52TQWUaOuRg4YLkcGtUwRNcJO0SGZFKJIVG5VOCQD1AO0Z+g9Kadnf+uoyneX13Depa2+lXc6SISbyN4RFEeeGDSB+w+6p6/WuU03yhovgb7P/wAfPmDfj73/AB7yedu7/e6/7WM13VVINJ062v5r620+1hu7gYmuI4VWST/eYDJ/GkhHPac+peG7nSdLubyx1CzvJGhh8i2aGWMBGk3kmRg4+XBIC/eFdZVCw0LSNKuJZ9M0qys5pv8AWSW9ukbP9SAM1fo2Vg6hRRRQAUUUUAFFFFABRRRQAUUUUAFFFFABRRRQAUUUUAFFFFABRRRQAUUUUAFFFFABRRRQAUUUUAFFFFABRRRQAUUUUAFFFFABRRRQAUUUUAFFFFABRRRQAUUUUAFFFFABRRRQAUUUUAFBGQRRRQBzejR2Wh3HiHy0S2tLaZZGx2AgRmYnuepJPJNVm0iO48BXc2rW4e4uY5r+WOTnbIykqCOh2Daoz/dB6gV08lnaypOkttC63H+uVowRLxj5vXgAc1JJGksbRyoro4KsrDIIPUEVM4uUWu6sUnZpkGnf8gu1/wCuKf8AoIqzSKqooVAFVRgADAApauTu2yIqySCiiikMKKKKACiiigAooooAKw9X066OsQ6tpU9r9rt7donguwdkkbEHhhzGcr97DA9wcDG5VDUdB0fV5YpNW0qxvpIf9W9zbJIU+hYHFIDG8P6w2r65HPEHhtptJhmW335RGMjgkY4PQcjqMV1FRrbQJN5yQxrLsEe8IA20chc+gyeKkoWit6/m2HW/9bBRRRTAKKKKACiiigAooooAKKKKACiiigAooooAKKKKACiiigAooooAKKKKAIbn/Vj61Vq1c/6sfWqtABRRRQBoUUUUAFFFFABRRRQAVQute0ix1COxvdVsre8lx5dvNcIkj5OBhScnJ4FX65bQNV0rTrq707ULy2tNXnv5meGeRY5bjc58tlBOXBTYARkcbeMYAtwe1zpopY54xJDIsiHOGRsg4460SyxwRNJPIsca9WdsAfia4/Q/t+nw6bcNqc89vc3M8bWXkx7FUCVwUIXfu+QdWIOTwOMY1v4hvtVh1NJdQivLOa0M6ItzHM1uwkT923lwpsYB+VJcjA57kWrsJuyuekpNHK0ixyK7RttcKwJU4BwfQ4IP41Uk0PSZdUXU5dLsnv0xtu2t0Mq4GBh8Z6e9cjreqX2mf2kbG5gsUm1YJNeTzrCsK/Z4yPnaORVyQBllI5xwSKt2E+s6wLGA+II4Q1k8zXOlmK4ExEm1SHePafl+9hBlum0cE6J/1tcb03/rWx2NFed6l4k1FrnSoZdafTJL6ztpI2iks4o2dyfMLCcFz2wIw2OMjkVatde1iXxpJaXGqabbIlxJF/Z9xeosrRKDtkWHyQ5JADZEu3BPAxgD0dv60DodxJGk0TxTIskbqVZGGQwPUEdxVXTtH03R43j0nTrSxSQ7nW1gWIMfUhQM1geCtYk1N7yOfVjqksIQvLBcW89spO7iN4kRu3IkGRxjI5PV07WAKKKKQBRRRQAVRk0PSZdUXU5dLsnv0xtu2t0Mq4GBh8Z6e9XqKACiiigAooooAKbJ/q2+hp1Nk/1bfQ0AUaKKKAFs/wDjxg/65r/Kpqhs/wDjxg/65r/KpqACiiigCG7/AOPGf/rm38qNI/481ou/+PGf/rm38qNI/wCPNaAL9FFFABRRRQAUUUUAFFFFABRRRQAUUUUAFFBAZSGGQeCD3qL7NB/zwj/74FAEtFRfZoP+eEf/AHwKPs0H/PCP/vgUAS0VF9mg/wCeEf8A3wKPs0H/ADwj/wC+BQBLRUX2aD/nhH/3wKPs0H/PCP8A74FAEtFRfZoP+eEf/fAo+zQf88I/++BQBLRUX2aD/nhH/wB8Cj7NB/zwj/74FAEtFRfZoP8AnhH/AN8Cj7NB/wA8I/8AvgUAS0VF9mg/54R/98Cj7NB/zwj/AO+BQBLRUX2aD/nhH/3wKPs0H/PCP/vgUAS0VF9mg/54R/8AfAo+zQf88I/++BQBLRUX2aD/AJ4R/wDfAo+zQf8APCP/AL4FAEtFRfZoP+eEf/fAo+zQf88I/wDvgUAS0VF9mg/54R/98Cj7NB/zwj/74FAEtFRfZoP+eEf/AHwKPs0H/PCP/vgUAS0VF9mg/wCeEf8A3wKPs0H/ADwj/wC+BQBLRUX2aD/nhH/3wKPs0H/PCP8A74FAEtFRfZoP+eEf/fAo+zQf88I/++BQBLRUX2aD/nhH/wB8Cj7NB/zwj/74FAEtFRfZoP8AnhH/AN8Cj7NB/wA8I/8AvgUAS0VF9mg/54R/98Cj7NB/zwj/AO+BQBLRUX2aD/nhH/3wKPs0H/PCP/vgUAS0VF9mg/54R/8AfAo+zQf88I/++BQBLRUX2aD/AJ4R/wDfAo+zQf8APCP/AL4FAEtFRfZoP+eEf/fAo+zQf88I/wDvgUAS0VF9mg/54R/98Cj7NB/zwj/74FAEtFRfZoP+eEf/AHwKPs0H/PCP/vgUAS0VF9mg/wCeEf8A3wKPs0H/ADwj/wC+BQBLRUX2aD/nhH/3wKPs0H/PCP8A74FAEtFRfZoP+eEf/fAo+zQf88I/++BQBLRUX2aD/nhH/wB8Cj7NB/zwj/74FAEtFRfZoP8AnhH/AN8Cj7NB/wA8I/8AvgUAS0VF9mg/54R/98Cj7NB/zwj/AO+BQBLRUX2aD/nhH/3wKPs0H/PCP/vgUAS0VF9mg/54R/8AfAo+zQf88I/++BQBLRUX2aD/AJ4R/wDfAo+zQf8APCP/AL4FAEtFRfZoP+eEf/fAo+zQf88I/wDvgUAS0VF9mg/54R/98Cj7NB/zwj/74FAEtFRfZoP+eEf/AHwKPs0H/PCP/vgUAS0VF9mg/wCeEf8A3wKPs0H/ADwj/wC+BQBLRUX2aD/nhH/3wKPs0H/PCP8A74FAEtFRfZoP+eEf/fAo+zQf88I/++BQBLRUX2aD/nhH/wB8Cj7NB/zwj/74FAEtFRfZoP8AnhH/AN8Cj7NB/wA8I/8AvgUAS0VF9mg/54R/98Cj7NB/zwj/AO+BQBLRUX2aD/nhH/3wKPs0H/PCP/vgUAS0VF9mg/54R/8AfAo+zQf88I/++BQBLRUX2aD/AJ4R/wDfAo+zQf8APCP/AL4FAEtFRfZoP+eEf/fAo+zQf88I/wDvgUAS0VF9mg/54R/98Cj7NB/zwj/74FAEtFRfZoP+eEf/AHwKPs0H/PCP/vgUAS0VF9mg/wCeEf8A3wKPs0H/ADwj/wC+BQBLRUX2aD/nhH/3wKUW8KsCsMYI5BCjigCSiiigAooooAKKKKACiiigAooooAKKKKACiiigAooooAhuf9WPrVWrVz/qx9aq0AFFFFAGhRRRQAUUUUAFFFFABRRWDY6xdS649teyx26GWSOGB7CZGkCk4ImZtjEgbsAdPpR1Dpc3qKz77XbDTrhobqSUSLGJXEdvJJsQkjcxVTgfKeT6Uv8Abenm8NstxukVd7lEZlRSu4MzAbVBHQkgHBx0oAv0VmL4i01oJJfMmUR7SVe2lV23HClVK5bJ4G0Gn2euWF9IscDzB2do1WW2kiJZRkj5lHQUAVL7wzHfXlzL/aN5BBeALd2kQi8u4AG0hiyFxleDtYcdMHmtsDAwKzZvEGnQCLdLI7TNIsaRW8kjMY22vhVUng0kPiCxuLy3t7f7RKbiETRyJbSFNp6ZbGF/HGPrR5AadFZqa/p7RzOWuI/ICl0ltZUc7jhdqMoZsngYB5q5aXUd5biaFZlUkjE0LxN/3y4B/SgCaiiigAooooAKKKKACiiigAooooAKbJ/q2+hp1Nk/1bfQ0AUaKKKAFs/+PGD/AK5r/Kpqhs/+PGD/AK5r/KpqACiiigCG7/48Z/8Arm38qNI/481ou/8Ajxn/AOubfyo0j/jzWgC/RRRQAUUUUAFFFFABRRRQAUUUUAFFFFABRRRQAUVj3C3EfiqyZryQwyxygW4+VFwF5I/iOc8np275ttdWWpGeyt9QQzR8SrbTjzI8HkHHK+nY/Q0AXaK5/TftZXUDo85ltt6LaveyvKpYf6whiSxXsOeoOOKn8VeedD8u1uJLaWW4hiEsTFWXdIo6j60AbNFcbrmsXV54XiW2mktrsQyTXLRMVaMxfKy5HTMmB9M1o61r82myO1tNFKluF86EWksh5xkGVTtQ4OfmFAHQ0Vh3OsXkGuLpKxwma4YSW8hB2iIff3DOdwxxjruHoarNql5FNJHYxwCWfVmti0u9gF8rduxu6jHQYB9s5oWv9fIHp/XzOlormJNZ1m3h1CaU2LJpswjlCwuDOCFbK/P8nDDru59Kvy6tOkWuMEjzpw/dZB+b9yr/ADc+p7Y4o6XGtXY2KK5uXWNWkkvTafY447O0juD5sbMZCylivDDH3evP0NWdP1PUH1CzivhbGO+tmuIxCjBotu35SSTu4fqAvTpTtrb+v60Jvpc26K5rWZYv+EmSG7k1LyvsW5EsWn+/vxkiL27txTl1DULPR7KG4uVjv2RmdJbR7mQrn5SViIxxjLdM1N9Lj62OjorlTr8slumpRwIsn9iyXYVmYgMCDtxkDGfbPvV1tXvbB7aXVjbC2uIpHIiRgYiqBwpYsd3yh+cDoKe2/wDW/wDkHX+vL/M3aK5eDxDe3NlDFPBDHeHz/tUYDYRUTcMc5BO+Pv3NLFrF3EmnxmS2sLaS1hZJbiGSRZWYcoH3gKRxjcSTmgDp6K5i58S3i6hcLaW7yxW04hMKWM8jS4xuIlUbFxk8EHp1GaueKJvKs7PdJcpG95Gkn2ZpA7Kc5A8v5vyo7eYdzborlUvr/TrW4lso7iS2kuoIrRNRZ93zkK/LfOBkjG7nrxitF7rVTfJpsM1mLlYPPmna3bZgsQqqm/PY5O7t054P6/C4GzRXP22tX2pzQW1ktvbT+XI9w8qNIoKSGPaoBUnJBOc8AdKg0C+ngtNMt2SMfarq7EvU7Sru3B47j0oA6eisCTW7x7qWztkgE7X5tYXdSVVREJCzAHJPUYBHah21dfE1hbvfW21rWV5FW2YK+HTt5nBweDzjnrng7f10uBv0UUUAFFFFABRRRQAUUUUAFFFFABRRRQAUUUUAFFFFABRRRQAUUUUAFFFFABRRRQAUUUUAFFFFABRRRQAUUUUAFFFFABRRRQAUUUUAFFFFABRRRQAUUUUAFFFFABRRRQAUUUUAFFFFABRRQc4460AFFY+iCeG71SK7vJLoxzqd8hwBmNSQB0UZPT+fWqbfbL7wve30d7Nb/aTJcIUPzLEFIRVJ+7kKrEjnk9+aTdlcaV3Y6SioLJi+n27MSzGJSSTyTip6pqzsSndXCiiikMKK5O/vrqz8fLKbiX7CkFvDNDvOwea8ih9vTO5UGfQmoYtWnHjK4v5LiZtPWxujHbq52EQvGC+3puLGQZ9MV1LDSavfpf8A4HqZOpZ280vvOyornI9X1i3NjJfRWs66irCGG3VkaKTyzIFZixDghSMgLg449M691zU5/B+sTrqVpHewWhkMCWkkM1scHIYNJn2DYA4yM0Rw0m7X7fnYHVilc7SiuflvtaXWLXSYZbEyy2slxJctbvtXa6gAR78n7wH3vf2qG98STWutQxwzQ3NrJdpaskdlL8jMdpPn58vIY8rjPbrUrDylogdVJNvp/lf8jpqKxtGvtS1K4uZZ/s0VpBczW6oqMXk2OQG3bsL0xjBz1yOlJHqOoz69fW0f2aKzsWQu7Rs7yBkDFRhgFI9eewx3qPZNNq+xfMbVFcjo3iu/1O6s3W0kltr5GZVXTriL7ONhZS0zjY4OAMgDkjGRSL4n1GPQdQvbiay+2W1t5p09rWSKSBvRtz/OvUbgAD1FbPCVFLle+n46f10Mvbwa5lsdfRXPeI9QlSS404KnkzaTdTsxB3Bk2KAOcYw57elV9Jn1AeIHR72FbCHTbaQxPE3APmZIbfgH5eTjpgY4zUKg3T52/wCti3NJ2/rp/mdTRXK2/imZNRdLiSO6tWtZrmN4rGaDAj2nAZyVkBDdVx096hkn1OTWvDd1qhtTHK8sqpBGymL/AEdztJLHf16gL06c8V9Wl9rTRv7k/wDITqrp3t+X+Z2FFc3Za5qTw6ZqN2LU2GqMixxRxsJIA6koSxYh+wICrjPfFXtTv7wata6ZpjQRTzxSTtNcRtIqohUYChlJJLjuMYPWodGSlyvz/Df7hqpFq/8AWu33mtRXE2ut3Ol6UIggF3d6pdoWS2luVj2u5Y+XH8zdhjjryeKnh1K41PVNAkvLeSGWO+uI8vbyQCUCB8OEkG4Ag9DnnPJrR4Wau+mv4X/yJdaKduv/AATr6KydQvr9tXh0zSmt4ZWga4knuYmkVVDBQAoZSSSeueMd6zvEXiG60eGR7e4t5ZLSDzbiBbGaUscE43o2IgQOC2azhQlNpLdlymlfyOnorj7y6MGpanIqBt+paemCzDAYxjPykev09QRxVFIriO61vVL37FczRanFbI4tnSVQWgwBIJMhAD93oTycg4rWOFurt9vxt/mZyrWaSX9a/wCR31FY9ne6lqOo3EkElrBYW1w0DI8LPJLt+8QwcBecjG1ume9UIPE0x163tzNFdWd2ZBE8VlLGF2oXBErEpICFI+XFZKhJ3t0VzRzS++x09Fccb3UtSPhvULo2otLy7WaKKNGDxBoZCoZixD8HnAXB9auRa7qRtrbVZVtf7NubhYVgWNhMivJsVy+7B5IJXaMA9Tjm3hpLr/w/b8Cfap6/P5HS0VjaNfalqVxcyz/ZorSC5mt1RUYvJscgNu3YXpjGDnrkdK2awnFwdmaJ3CiiioGFFFFAENz/AKsfWqtWrn/Vj61VoAKKKKANCiiigAooooAKKKKACsxtOvbjUoZ769he3t5DLDDDblG3YKjcxds4DHoF5/KtOigDn72w1K58SXjWNytpFJYxRNJLbGQMd8udp3Lhhn3HPIq1D4fgis720aRmt7uFYCvRlVY9nXuce1a1FHSwdbnHXfh5tL0aREt7JjI8SGfT9MaKVArZ3sI2LPyBwm0jJII7T6Vpt9PaxS28qW0lrcu0U1xaTf6QrJhi8cknmZySMlv4emMV1VFAGRp2htYz20sl15zQrcBv3e3eZZFfPXjG3H41H/YFxGsa22oeSPs728rCI7yGJIZDuG1gT1Oa26KAOZsvCP2KG7CnSy1zCkJjXTdsJCsTlk35YnPUt6VsaRYS6bYCCe5Nw+4tu+YKoPRVDMxAHoWP4DgXqKACiiigAooooAKKKKACiiigAooooAKbJ/q2+hp1Nk/1bfQ0AUaKKKAFs/8Ajxg/65r/ACqaobP/AI8YP+ua/wAqmoAKKKKAIbv/AI8Z/wDrm38qNI/481ou/wDjxn/65t/KjSP+PNaAL9FFFABRRRQAUUUUAFFFFABRRRQAUUUUAFFFFAEEtpHLe290xYPAGCgHg7sZz+VM1KwGp6fJaNcTW6yYDPAQGxnpyCMHoeOlWqKAMyPR5UtHt21a+ZGChCBFGYwDn5dkY9Md+Kt31lHfwJFMzKqyxygoRnKMGH4ZFWKKAMmTw5YyHUzmVTqShZiGHyjH8PHGckn3NMu/DUF410GvLuOC7YPNBGyhWYAANnbu/hHGccdK2aKAM2XQ7aaaWd5JvtDypKswYbo9v3VXjAXk8d9zZ60o0S2E4l3y7heG8xkY3lCmOnTB/wDr1o0UAZ02iW09vqELvKFv5BJKQRlTtVeOPRR1z3qK98PQ3sl2Td3UEV6u25hiZQsny7c5Kkg4wOCOla1FAGemjW6LdAPL/pUCwPyOFVSoI464NPj0uGO4s5laTdZwtBGCRgqduc8dfkH61doo63Ar/Yo/7U+37m83yfJxkbdu7P51XvNIW7vRdJd3NrJ5flOYCo8xM5wcqcd+Rg89a0KKAMgeGrNbMWyyTiMWLWI+YZ8s9+nXjr+lWNS0a21WxitbkyCOJ1dShAJxxg8dCCQfY1fooAzjodqdTur/ADIJbqHyXAYbQMYJAx1IA/75FRzaCs1nFZtf3Ys0iWFrdfL2yKBjk7N3PfBFatFAGadGCXslxaXt1arM4klhiKFJGAAz8ykjIAztIq1eWUd75Hmsw8iZZl2kcsM4z7c1YooAr3tlHfxRxzMyiOZJhtI6owYfhkVDe6Wt3cpcxXU9ncIhj82DbllJztIZWB556ZFXqKAMr/hH7eNbf7FcXFnJAjRiWJlLOrHLBt6sDk85xnNIPD1vHZ20Fvc3MD2sryxTqys6ly277wIIO49Qa1qKAMdPDdtHC6pc3Qma5+1C43r5iSFdpI4xyM8EEcnjGKmOj7prWdr+6NxbBl8793ukViCVYbNuPlHQA8da0qKACiiigAooooAKKKKACiiigAooooAKKKKACiiigAooooAKKKKACiiigAooooAKKKKACiiigAooooAKKKKACiiigAooooAKKKKACiiigAooooAKKKKACiiigAooooAKKKKACiiigAooooAKKKKAKUulxSx36+bKn24YkZSAV+QL8vHHA96nltIpLB7PGyJojFhONqkY4/CpqKPIBkMYhhSJclUUKM9cAU+iijcNgooooAzbzQrS+kvnnaX/AE62W2kCsBtVSxBXjhsuefYUkHh+ygktWTeVtbNrNUYgqyMVJ3cZJ+Qc+5rTorT2s7Wv/VrfkTyp6mPa+HIraaFzfXk4tUK2iTMhFtlduV+UFjjjLluM+ppD4ahnju11K9u9Qa6tzbM8/lqUjPVV8tFHXnJBNbNFV7ape9xckTOtdHW3vobya8ubu4hge3Ek2wblZg3IVVGRtAGMcdcnmqf/AAilt5yZvbz7PHdi8itd6COOTfvJGF3EFieCSOeMcVu0UlWmndMPZxatb+rW/IrWNhFp8UscLOwlnknbeQcM7Fj+GTSQWEVveXdypYvdlTIGIwNq7Rj8BVqio5pO/mVZGVYaH/ZrqtrqV6LSMFYrNjGY4wegB2b8DsCxAqJ/DMNyLj+1L681AzQPb7pzGvloxBYL5aKOSBycnitqir9tO976/iTyRtYxB4Yie4knvNQvbyeS0ktDJM0YxG5BIAVAMjb1xnnnPGJZPD1u9ysq3Fwim2FrNEpXbPGAwAbKkjG48qR1rWoo9tUfUFCK/r+uxi2vhmCC4ilub28vjDA9vGtwybVjbGVwqrn7o5PPqTRa+GYba5spXv724WwyLaKZ0KxqUKbeFBbg9WJPHXrnaopuvUfX+v6bD2cexj2vhu3tbi3b7XdS29o261tJGXy4DggYwoY4BIG4nHboKs6jpK388FxHdXFndQBlSe327grY3KQ6spBwOo7Cr9FS6s3Lmb1/r+mPlVrGMPDFqllHDFcXUcsVw9zFdBwZUkcncckEEHcRggjmrCaMplsZrq9ubqaykeRJJdgLlkKncFUDGGPQCtGim6s3uxckTP1DSFvrmK6iuriyuokaNZ7fZu2HBKkOrKRkA8jjHFUr3wrBfLdJLqF8kV5EI7qON0AnIXbuJ2ZBwB90gHHIrdoojWnG1nsNxTdzKn8P2txJK7yTAy3EFw2GHDQlSoHHQ7Rn+lK+gWr295EZJtt5drdyEMMh1KEAcdP3Y/XmtSil7Wa6/wBaf5IXJHt/Wv8AmzMGiLHqElzbXt1BFM/mT2qFDFK2MEncpYZwM7SKrWXhW3s57Fze3lwmngraxSsmyJShTbhVGRg9WyeOvXO5RT9tNK1/6/rQHCLd2Ylv4Xgt5bTF7evBYyeZa2zunlw/KVwMKGIwxA3E47U6Pw1bJcRn7VdNaRTefHYsy+Skm7cGHy7uGOQCxAPbgVs0U3WqPr/X9dQ5I9itY2EWnxSxws7CWeSdt5BwzsWP4ZNWaKKybbd2WFFFFIAooooAhuf9WPrVWrVz/qx9aq0AFFFFAHjfw+8Qaze+OtPt7zV764hfzN0cty7K2ImIyCcdRXtm5vU/nXgfw1/5KFpn/bX/ANFPXvdevm0VGukl0/Vnm5dJuk79/wBELub1P50bm9T+dJXI+L/iFp/hWUWixNeX5XcYUbaIwem5ucZ9MZ+mRXj3sd1SpCnHmm7I6/c3qfzo3N6n868n0/40k3QXVNKVYCeXt5Msvvg9fzFen2N9banYw3ljKs1vMu5HXuP6fTtQmmRRxFKt8DLO5vU/nRub1P50lctZeOY73xE2jLoGtRXCbTI8sMYSNGJAdiJCdpwe1PrY32Vzqtzep/Ojc3qfzpKKAF3N6n86Nzep/OkooAXc3qfzo3N6n86azbVLHoBmqGhazb+INDttUsklSC5UsiygBhgkcgEjt60AaO5vU/nRub1P50lFAC7m9T+dG5vU/nSUUALub1P50bm9T+dJRQAu5vU/nRub1P50lFAC7m9T+dG5vU/nSUUALub1P50bm9T+dJRQAu5vU/nSMx2nk9PWikb7p+lAENFFFAC2f/HjB/1zX+VTVDZ/8eMH/XNf5VNQAUUUUAQ3f/HjP/1zb+VGkf8AHmtF3/x4z/8AXNv5UaR/x5rQBfooooAKKKKACiiigAooooAKKKKAAjKkA49x2qLyn/5+JPyX/CpaKAIvKf8A5+JPyX/Cjyn/AOfiT8l/wqWigCLyn/5+JPyX/Cjyn/5+JPyX/CpaKAIvKf8A5+JPyX/Cjyn/AOfiT8l/wqWigCLyn/5+JPyX/Cjyn/5+JPyX/CpaKAIvKf8A5+JPyX/Cjyn/AOfiT8l/wqWigCLyn/5+JPyX/Cjyn/5+JPyX/CpaKAIvKf8A5+JPyX/Cjyn/AOfiT8l/wqWigCLyn/5+JPyX/Cjyn/5+JPyX/CpaKAIvKf8A5+JPyX/Cjyn/AOfiT8l/wqWigCLyn/5+JPyX/Cjyn/5+JPyX/CpaKAIvKf8A5+JPyX/Cjyn/AOfiT8l/wqWigCLyn/5+JPyX/Cjyn/5+JPyX/CpaKAIvKf8A5+JPyX/Cjyn/AOfiT8l/wqWigCLyn/5+JPyX/Cjyn/5+JPyX/CpaKAIvKf8A5+JPyX/Cjyn/AOfiT8l/wqWigCLyn/5+JPyX/Cjyn/5+JPyX/CpaKAIvKf8A5+JPyX/Cjyn/AOfiT8l/wqWigCLyn/5+JPyX/Cjyn/5+JPyX/CpaKAIvKf8A5+JPyX/Cjyn/AOfiT8l/wqWigCLyn/5+JPyX/Cjyn/5+JPyX/CpaKAIvKf8A5+JPyX/Cjyn/AOfiT8l/wqWigCLyn/5+JPyX/Cjyn/5+JPyX/CpaKAIvKf8A5+JPyX/Cjyn/AOfiT8l/wqWigCLyn/5+JPyX/Cjyn/5+JPyX/CpaKAIvKf8A5+JPyX/Cjyn/AOfiT8l/wqWigCLyn/5+JPyX/Cjyn/5+JPyX/CpaKAIvKf8A5+JPyX/Cjyn/AOfiT8l/wqWigCLyn/5+JPyX/Cjyn/5+JPyX/CpaKAIvKf8A5+JPyX/Cjyn/AOfiT8l/wqWigCLyn/5+JPyX/Cjyn/5+JPyX/CpaKAIvKf8A5+JPyX/Cjyn/AOfiT8l/wqWigCLyn/5+JPyX/Cjyn/5+JPyX/CpaKAIvKf8A5+JPyX/Cjyn/AOfiT8l/wqWigCLyn/5+JPyX/Cjyn/5+JPyX/CpaKAIvKf8A5+JPyX/Cjyn/AOfiT8l/wqWigCLyn/5+JPyX/Cjyn/5+JPyX/CpaKAIvKf8A5+JPyX/Cjyn/AOfiT8l/wqWigCLyn/5+JPyX/Cjyn/5+JPyX/CpaKAIvKf8A5+JPyX/Cjyn/AOfiT8l/wqWigCLyn/5+JPyX/Cjyn/5+JPyX/CpaKAIvKf8A5+JPyX/Cjyn/AOfiT8l/wqWigCLyn/5+JPyX/Cjyn/5+JPyX/CpaKAIvKf8A5+JPyX/Cjyn/AOfiT8l/wqWigCLyn/5+JPyX/Cjyn/5+JPyX/CpaKAIvKf8A5+JPyX/Cjyn/AOfiT8l/wqWigCLyn/5+JPyX/Cjyn/5+JPyX/CpaKAIvKf8A5+JPyX/Cjyn/AOfiT8l/wqWigCLyn/5+JPyX/Cjyn/5+JPyX/CpaKAIvKf8A5+JPyX/Cjyn/AOfiT8l/wqWigCLyn/5+JPyX/Cjyn/5+JPyX/CpaKAIvKf8A5+JPyX/Cjyn/AOfiT8l/wqWigCLyn/5+JPyX/ClEThgTPIfYhef0qSigAooooAKKKKACiiigAooooAKKKKACiiigAooooAKKKKAIbn/Vj61Vq1c/6sfWqtABRRRQB4X8Nf8AkoWmf9tf/RT173Xgnw1/5KFpn/bX/wBFPXvdexnH8den6s8zLf4L9f0QV843cJ1zxlqCahfJaTSzy7ZJwdm8MdqE/wAI7Z7V9HV5b49+Gl3qGpy6t4eVJHnO6e1LBSW7spPHPUg9/XOB4klcrH0p1IJxV7dDiptMh8K2Eo1m3jm1e5Ro4bRyGW2Q8ea+OrH+EdvvelehfBq4mk8N3sMhJiiuf3ee2VBIH8/xrg7L4c+KdSvAk1i9uDgNNcuAFH6k/gDXtfhrw/b+GdCh061Yvty0kpGDI56tj9PoBSinc5cFSn7Xn5bRRrVzltpd/D4+1fUxCot7iwgigkZhhpFLkggHIxuHaujoqz2zyvw94Q8Q2urTX11YNbNdafcw3aLJAEkmbBUqE5KnnBckjnOO8954Dv4/BGjW1lbytcq8U2rWwnjeS5YR7SMy7o22nop+XA46CvTaKf8AwPwbf6h/X36HlmpeDNYutD0rS47C5lskSclbmW1ea2kZvkySCgQDsgJHQU5/CmuvdeHbmTS3ur20tbaK4kvJopYE2nLn73mK45+ZMhuM16jRTTs7/P8Ar7xNXVjj/GOhXmqa9pF0um/2tYW6yrLafaBFskbGyXkgHbgj1GciuWn8D663hvw5a3VpNPDZQTR3Njby27MsjNlXHnAxtxxnhhnjvXrNFLpb+v61H1uUNDtHsNBsbSVp2eGBUY3EgkkGB0ZhwSOmRV+iokureS6kto54mnhAaSJXBZAehI6jODj6U27u4krKxLRUNtd214jvZ3EU6o5jZonDBWBwVOOhHcVNSGFFFFABRRRQAUUUUAFFFFABSN90/SlpG+6fpQBDRRRQAtn/AMeMH/XNf5VNUNn/AMeMH/XNf5VNQAUUUUAQ3f8Ax4z/APXNv5UaR/x5rRd/8eM//XNv5UaR/wAea0AX6KKKACiiigAooooAKKKKACiiigBsqebC8e5k3KV3IcEZ7g+tePeHvEOq/Dj4gx+BtfvZdb0/UG8zTroN5txDuJ+WRRlsZzz+I4yB7DKrvC6xv5blSFfGdp7HHeuK8C/DmLwteXesaxeHWPEF87GfUJFxhSeFQfwjGM/l0Aoj8V+gP4bHb1n6qNVKqdKubG1RAWkku4HlzjsArpjv82T9K0K53xNZa5qE9vBp9rp91puC1zBc3r27TNnhSVifKeo4zwDxkFMYreJJ38J2WoQ2q/2hfwq0FsWJXeV3Ek8HYBlifQepFaWm6j9p8O2mpXhSLzbVLiUjhVygY9e1ZN34c1DVZU1CbVbrR777KbdoLB4Z4VBJPDSwbuflyQF6D0q3puhS2/guLQ9QvZLp/sf2aSdgueV2kDaqjA6DjOAM5NN35ZNb9Px/4BP2o9uv4f8ABKC+J57zXNFiis7yxtbxpW3XMceLiMRFgwwzFecHDbW9utX7HxPb315BD9ju7eG7z9juplQR3WF3fLhiw+UEjcq5A4zVGDR9cubzSjqosEg00OjNbyuzXAaIpvwUAQ5P3ct1+9xzV8L+C4fD93bIPDvh9fsceyPVbeMLdSfLtyy+UNpI6kOc8+tVpcSvbU29T8Qpp2pxadDp17qF5LA06RWqpyisFJLO6qMFhwTz2zVbT/GFrqM9kEsL+G2v2KW11PGqxySBWYpjdvBARuSoBxwTxV5tOmbxVFqYZPJSye3K5O7cXVgemMYU96y7fw5dxaf4fgaSHdpl41xMQxwymOVcLxycyDrjoaldL/1r/kVu3/XT/PQ0Drwj1qLT7rTry2E7tHb3MvlmOdwpYqu1yw+VWPzKOlRaf4l/tWxN5p2kahPAVBjfESeac4KqGkByO5OAexNYWneDtQh1jSbu7g0sS6dcPJNfozPc3waKRNzkoNpy4JXLD0IwAdT+x9YtPAtvpGmy2wvljWGSQzMihM/OVYISG25wdvB57Un0Hpcli8Wwz6fHPDpt+8808kEFovlGSYx53FTv2bRg/MWA49xnT0zU4tUtnkiSSF4pDFNBMAHicdVbBIzyDkEggggkGshtK1OOHTrmxstPtrnTVeGGzF05heJlA2+Z5YKkFVP3G6Y78XtC0yewW9uL5ozd6hcm5mWEkoh2KgVSQCcKi84GTk4HSq6v+u3/AASen9f1/X3ZOp+LJHW3/sy1vI4JNRgtlv2jjMM374JIoG4sOAw3FQD2PIrQfxTbR33lm0u/sn2gWp1ABPIExbZs+9vzuO3O3bnjNZg8Pa0tnbaUDY/YLS+juY7gyv5siLN5mwx7MKQON245x0GeIbTwRBY688//AAj2gX0cl492NRuEAu4izl8AeU24gk4beuBjjiiOyv3/AMv+D/W492/66/8AA/rbqdRXUpIAukTWsEpPMt1E0qqP9xWXP/fQ/GsGDxBqd9Z2dtaCzj1C5uLiH7Q8bPCFhYhpQgYEgkKAu4Y3dTjm/wCJrfW7uzig0JLVkd8XQnu3t2MePuo6xvgk9TjOM4IPIq/2bq/2bT7qGw0yzvdOLxxWcd27QPEygbfM8oFOQp4Q/d9+JKJrW/1jU7CeG1ksbbULS5a3uJZYXkjyACGWMMp+YMpwW4z1NV/7e1WTwhc39ra2017A88ZcsVgPlFh5mPvFTt+6CTk4zj5qr3OjeIotLeOwFjJcX929xqIa8kgwpAAjjkEbnoqqWwDgHGCeNaCzvp/DE9hc2Vlp8rQPBDDa3DSxIu3C/MY0I+m2lO/I7b2/G3+YRtzK+1/wNO0laezhlcANJGrEDpkjNZmmalqFzruo2d/bQwRwRxSQKjFnKsZB856Z+QHA6Z6mtO0iaCzhicgtHGqkjpkDFVI9PlXXb68LqI7i2hiTafmUoZCT0/2xj8auVruxMb8quc/ofijUNR1uK1llsZWYsLqwhhdZ9NwCQZWLkNkgAfKmc5GQK0J9Z1C/uLKz0iJbC5uYJLhzqVuXMSIyrgxq68sW4+bgDv0qlpfhzUrebSYbqLT4odIJKXlvK5musoVYMhQBNxO5vmfJH4i7PY639ostVij0+XU4oJLeaBpnjhdWZWBD7GYEbB1U5yenWlpp/Xp+I3fp/X9Iq3fibUv+EQk1Ows4Dc27TJc+a58uNonZHwB8zZKnA44OSex6que/4R2dfBV3pKSxtd3YmeSQ5CebK7O3qcZYgewrenhW4t5IZC4WRSrGN2RgCMcMpBB9wQRTYvteRlatf3w1S00rSHt4bq4iknae5iaVI0QqD8ispJJcfxDGD9Kwr/xjcR2dgH1HSdElknuILmfUkLxBoW2EKPMj+8cEZbp61qTaBcabcWd5oH+kTW0csJi1K+mfzEkKk/vm8xwQUGBgjqOOtLaWOtaNpccdhBYX1xNNLPdfaLp4FDyOXOwiNyQMkAEDgCp6f13/AMiv6/r5mxp7ySafA89zBdSMgJntkKRye6gs2B/wI/WrFZnh/Sn0fSBbTSI8jTSzv5YwimSRnKqP7o3YH0rTqnuIKKKKQBRRRQAUUUUAFFFFABRRRQAUUUUAFFFFABRRRQAUUUUAFFFFABRRRQAUUUUAFFFFABRRRQAUUUUAFFFFABRRRQAUUUUAFFFFABRRRQAUUUUAFFFFABRRRQAUUUUAFFFFABRRRQAVX1C9j03TLm+n/wBVbQvM/wBFBJ/lViq+oWUepabc2M/+quYXhf6MCD/OlK9tBxtdX2MbTtU1eLUrGDW/sbJqUTPCLaNkMDKoby2LMd/BPzAL937vNMuNd1R9B1PUNNtbeXyppUtTKSqhIwQzvzlvnV8BcZG3pyai/sjxDcGKS6bT459PtZIrJ45XYSysoUSuCg2YAPyjf97rWudIWHwu2kWWFC2ht4y5/wBjaCf60ql+WXL8v6/rfuEN1zf1/X6F20laezhlcANJGrEDpkjNS1FaRNBZwxOQWjjVSR0yBipa0la7sTG9lcKKKKkYUUUUAFFFFABRRRQA2RikTsOqqSK47SfGl3e+B7nUbqG3i1W3s1ujEoby5Edd0cignO0jIxngqwzxXYyKXidR1ZSBXF3vgq/l8FaXYWdzbw6rZWKWUkhLGKaMqqyIeM443KccEDsTTjbW/l+v/AFL4dNzcv8AxNDY3U8SWN5dx2gBvJ7dUKWoK7vmBYMx24OEDHBHHNbEbrLGskbBkYBlYdCD3rnLzR9Ygu9VGjfYjBq7b5ZbmR1e2fyljLKgUiQYRTgsnOeea3rK0Sw0+3s4cmO3iWJM9cKMD+VJbf18xvfT+v61J6KKKACiiigAooooAKKKKACiiigAooooAKKKKACiiigAooooAKKKKACiiigCG5/1Y+tVatXP+rH1qrQAUUUUAeF/DX/koWmf9tf/AEU9e914J8Nf+ShaZ/21/wDRT173XsZx/HXp+rPMy3+C/X9EFFFFeOemFFFFABXl0HjDWH8Ti2TVvPmGvSWQ0z7IvzWoYgybwM/KO+e3Oa9RrP0nR7fRku1tXkcXd3Jdv5hBw7nJAwBx6U1pK7/rVA/hsv60f/AOITXfE6+D9R1z+0Fm23UltFElmp+zRrcFGmOOXKrnjgYHIPJqpN4z1W30HUriHV/tthbahbwxassMSPLG4HmBMgRblPG4gL616lWZrOhw60LVnuLi1ns5vOgntyu6NtpU8MGU8MRyDS/4H6f18w/4Jwun654gv7PQ4bTxJFLNql9cxPceXBP5MaoWRSIwF3gAE8kZPccU3WPGOs2njRbSxvf3Fre21rcW06pulVyoaUKI87SW+9vUZ4wa7/R9Ft9FhnWB5ZpbmUzzzzMC8rkAbjgADgAYAA46VoU9FJMXSx5jPr/iZrkTQ6yscUniOTSUhNpGwWMlsMTjJZccc445zSXHi/WLPRbqzudSP2uHWpNPTUnWOJQioHBkOxlUnOOEOa9PopdLf10/yf3lPV3/AK6/5r7jyyDxnrU2j6J/bGrDRY52uku9TFsrfvIn2omGXapYZPKjOOAKt6t4i1OzutdfTplkWO304/avsiloo5N4kmKgAtgc7TwPTGa9IooEeXWfiLVYNDkt9G1CGWzj1i1srLUVtERJYpCA4CKAp2k4yoFa2m63qKTXtjquvFXstbitI7lrNS1yjIrCJgowpO7G8AYxXd0U1v8A15f5P7xdP68/8/wCiiikMKKKKACiiigAooooAKRvun6UtI33T9KAIaKwvFmg3eu6SY9L1S60y+iy0MsE7xqx/uuFPIPr1HUdwbmhaS+i6TFaTX91qEw+aW5upWdnY9cZJ2j0UdPc5JANKz/48YP+ua/yqaobP/jxg/65r/KpqACiiigCG7/48Z/+ubfyo0j/AI81ou/+PGf/AK5t/KjSP+PNaAL9FFFABRRRQAUUUUAFFFFABRRRQAUUHO07eT2yai3T/wDPOP8A7+H/AOJoAloqLdP/AM84/wDv4f8A4mjdP/zzj/7+H/4mgCWiot0//POP/v4f/iaN0/8Azzj/AO/h/wDiaAJaKi3T/wDPOP8A7+H/AOJo3T/884/+/h/+JoAloqLdP/zzj/7+H/4mjdP/AM84/wDv4f8A4mgCWiot0/8Azzj/AO/h/wDiaN0//POP/v4f/iaAJaKi3T/884/+/h/+Jo3T/wDPOP8A7+H/AOJoAloqLdP/AM84/wDv4f8A4mjdP/zzj/7+H/4mgCWiot0//POP/v4f/iaN0/8Azzj/AO/h/wDiaAJaKi3T/wDPOP8A7+H/AOJo3T/884/+/h/+JoAloqLdP/zzj/7+H/4mjdP/AM84/wDv4f8A4mgCWiot0/8Azzj/AO/h/wDiaN0//POP/v4f/iaAJaKi3T/884/+/h/+Jo3T/wDPOP8A7+H/AOJoAloqLdP/AM84/wDv4f8A4mjdP/zzj/7+H/4mgCWiot0//POP/v4f/iaN0/8Azzj/AO/h/wDiaAJaKi3T/wDPOP8A7+H/AOJo3T/884/+/h/+JoAloqLdP/zzj/7+H/4mjdP/AM84/wDv4f8A4mgCWiot0/8Azzj/AO/h/wDiaN0//POP/v4f/iaAJaKi3T/884/+/h/+Jo3T/wDPOP8A7+H/AOJoAloqLdP/AM84/wDv4f8A4mjdP/zzj/7+H/4mgCWiot0//POP/v4f/iaN0/8Azzj/AO/h/wDiaAJaKi3T/wDPOP8A7+H/AOJo3T/884/+/h/+JoAloqLdP/zzj/7+H/4mjdP/AM84/wDv4f8A4mgCWiot0/8Azzj/AO/h/wDiaN0//POP/v4f/iaAJaKi3T/884/+/h/+Jo3T/wDPOP8A7+H/AOJoAloqLdP/AM84/wDv4f8A4mjdP/zzj/7+H/4mgCWiot0//POP/v4f/iaN0/8Azzj/AO/h/wDiaAJaKi3T/wDPOP8A7+H/AOJo3T/884/+/h/+JoAloqLdP/zzj/7+H/4mjdP/AM84/wDv4f8A4mgCWiot0/8Azzj/AO/h/wDiaN0//POP/v4f/iaAJaKi3T/884/+/h/+Jo3T/wDPOP8A7+H/AOJoAloqLdP/AM84/wDv4f8A4mjdP/zzj/7+H/4mgCWiot0//POP/v4f/iaN0/8Azzj/AO/h/wDiaAJaKi3T/wDPOP8A7+H/AOJo3T/884/+/h/+JoAloqLdP/zzj/7+H/4mjdP/AM84/wDv4f8A4mgCWiot0/8Azzj/AO/h/wDiaN0//POP/v4f/iaAJaKi3T/884/+/h/+Jo3T/wDPOP8A7+H/AOJoAloqLdP/AM84/wDv4f8A4mjdP/zzj/7+H/4mgCWiot0//POP/v4f/iaN0/8Azzj/AO/h/wDiaAJaKi3T/wDPOP8A7+H/AOJo3T/884/+/h/+JoAloqLdP/zzj/7+H/4mjdP/AM84/wDv4f8A4mgCWiot0/8Azzj/AO/h/wDiaN0//POP/v4f/iaAJaKi3T/884/+/h/+Jo3T/wDPOP8A7+H/AOJoAloqLdP/AM84/wDv4f8A4mjdP/zzj/7+H/4mgCWiot0//POP/v4f/iaN0/8Azzj/AO/h/wDiaAJaKi3T/wDPOP8A7+H/AOJo3T/884/+/h/+JoAloqLdP/zzj/7+H/4mjdP/AM84/wDv4f8A4mgCWiot0/8Azzj/AO/h/wDiaN0//POP/v4f/iaAJaKi3T/884/+/h/+Jo3T/wDPOP8A7+H/AOJoAloqLdP/AM84/wDv4f8A4mjdP/zzj/7+H/4mgCWiot0//POP/v4f/iaN0/8Azzj/AO/h/wDiaAJaKi3T/wDPOP8A7+H/AOJo3T/884/+/h/+JoAloqLdP/zzj/7+H/4mlDTbhujjA74kP+FAElFFFABRRRQAUUUUAFFFFABRRRQAUUUUAFFFFABRRRQBDc/6sfWqtWrn/Vj61xXiTwjqGsaza3em+ItS0yEsBeQQ3LhWUDrGM4VuAD25zjIIYA6uimQxLBCkSFisahQXcuxAGOWJJJ9ycmigD5B0P4kaxoGswalZ21i80G7assblTuUqc4YHofWuu/4aQ8X5/wCQdon/AH4m/wDjtFFa1Ks6r5pu7M6dOFNWgrAf2kPF4/5h2if9+Jv/AI7R/wANI+L/APoG6J/34m/+O0UVkaB/w0j4v/6Buif9+Jv/AI7R/wANIeL8/wDIO0T/AL8Tf/HaKKAPoyCW7mt45fNgXeobHlHjI/3qzotBnh1L7cmq3nmmVnZHmkeJgc/J5bOUCjIxtAPA565KKANXN3/z2g/78n/4qjN3/wA9oP8Avyf/AIqiigAzd/8APaD/AL8n/wCKozd/89oP+/J/+KoooAM3f/PaD/vyf/iqM3f/AD2g/wC/J/8AiqKKAI5EvnkjZbuOMI2WVYOJBgjByScc54wcgdsgyZu/+e0H/fk//FUUUAGbv/ntB/35P/xVGbv/AJ7Qf9+T/wDFUUUAGbv/AJ7Qf9+T/wDFUZu/+e0H/fk//FUUUAGbv/ntB/35P/xVGbv/AJ7Qf9+T/wDFUUUAGbv/AJ7Qf9+T/wDFUZu/+e0H/fk//FUUUAGbv/ntB/35P/xVGbv/AJ7Qf9+T/wDFUUUAGbv/AJ7Qf9+T/wDFUh+1kf66H/vyf/iqKKAG7Lr/AJ7Q/wDfk/8AxVGy6/57Q/8Afk//ABVFFABGl1FEkazQkIoUZhPb/gVPzd/89oP+/J/+KoooAM3f/PaD/vyf/iqM3f8Az2g/78n/AOKoooAbIt1JGyNNDhgQcQnv/wACot1uraMJHNCR7wn/AOKoooAl869/562//flv/iqPOvf+etv/AN+W/wDiqKKADzr3/nrb/wDflv8A4qjzr3/nrb/9+W/+KoooAPOvf+etv/35b/4qjzr3/nrb/wDflv8A4qiigA869/562/8A35b/AOKo869/562//flv/iqKKADzr3/nrb/9+W/+Ko869/562/8A35b/AOKoooAPOvf+etv/AN+W/wDiqPOvf+etv/35b/4qiigBk91ew28kvmW7bFLY8lucD/er5z/4aV8Y/wDQN0P/AL8Tf/HaKKAD/hpbxjn/AJBuh/8Afib/AOO0f8NK+MP+gbof/fib/wCO0UUAH/DSvjD/AKBuh/8Afib/AOO0f8NK+MP+gbof/fib/wCO0UUAH/DSvjD/AKBuh/8Afib/AOO0f8NK+MP+gbof/fib/wCO0UUAH/DSvjH/AKBuh/8Afib/AOO0f8NK+Mc4/s3Q/wDvxN/8doooAP8AhpXxh/0DdD/78Tf/AB2j/hpXxj/0DdD/AO/E3/x2iigA/wCGlfGH/QN0P/vxN/8AHa0NL/aG8V3vm+bp+jDZtxthl75/6ae1FFAGh/wvfxP/AM+Ok/8AfmX/AOOUv/C9/E//AD46T/35l/8AjlFFACf8L38T/wDPjpP/AH5l/wDjlH/C9/E//PjpP/fmX/45RRQAv/C9vEw/5cdJ/wC/Mv8A8crP1T9oXxXZeV5Wn6Md+c7oZe2P+mnvRRQBn/8ADSnjD/oG6H/34m/+O0v/AA0n4wz/AMg3Q/8AvxN/8doooAT/AIaU8Yf9A3Q/+/E3/wAdo/4aU8Yf9A3Q/wDvxN/8doooAP8AhpTxh/0DdD/78Tf/AB2j/hpTxh/0DdD/AO/E3/x2iigA/wCGlPGH/QN0P/vxN/8AHaP+GlfGH/QN0P8A78Tf/HaKKAE/4aV8Yf8AQN0P/vxN/wDHaX/hpTxh/wBA3Q/+/E3/AMdoooAP+GlPGH/QN0P/AL8Tf/HaP+GlPGH/AEDdD/78Tf8Ax2iigA/4aU8YZx/Zuh/9+Jv/AI7R/wANKeMP+gbof/fib/47RRQAf8NKeMM/8g3Q/wDvxN/8do/4aU8Yf9A3Q/8AvxN/8doooAP+GlfGH/QN0P8A78Tf/HaP+GlfGH/QN0P/AL8Tf/HaKKAD/hpTxh/0DdD/AO/E3/x2l/4aU8Yf9A3Q/wDvxN/8doooAP8AhpPxh/0DdD/78Tf/AB2l/wCGk/GG7H9m6H/34m/+O0UUAH/DSfi//oG6J/34m/8AjtH/AA0l4w/6Buif9+Jv/jtFFAB/w0l4v/6Buif9+Jv/AI7R/wANJ+L/APoG6J/34m/+O0UUAH/DSXjD/oG6J/34m/8AjtJ/w0n4w/6Buif9+Jv/AI7RRQAf8NJ+MM/8g3Q/+/E3/wAdpP8AhpTxh/0DdD/78Tf/AB2iigAP7SnjAf8AMN0P/vxN/wDHaT/hpXxh/wBA3Q/+/E3/AMdoooAP+GlvGH/QN0P/AL8Tf/HaP+GlfGGf+Qbof/fib/47RRQAf8NK+Mf+gbof/fib/wCO0f8ADSvjH/oG6H/34m/+O0UUAH/DSvjH/oG6H/34m/8AjtH/AA0r4w/6Buh/9+Jv/jtFFAB/w0r4w/6Buh/9+Jv/AI7R/wANK+MP+gbof/fib/47RRQAf8NLeMP+gbof/fib/wCO0f8ADSvjD/oG6H/34m/+O0UUAH/DSvjD/oG6H/34m/8AjtL/AMNK+MP+gbof/fib/wCO0UUAJ/w0r4wzj+zdD/78Tf8Ax2l/4aV8Yf8AQN0P/vxN/wDHaKKAE/4aV8Y5/wCQbof/AH4m/wDjtH/DSvjD/oG6H/34m/8AjtFFAB/w0r4w/wCgbof/AH4m/wDjtH/DSvjD/oG6H/34m/8AjtFFAB/w0r4w/wCgbof/AH4m/wDjtH/DSvjD/oG6H/34m/8AjtFFAB/w0r4x/wCgbof/AH4m/wDjtH/DSvjHOP7N0P8A78Tf/HaKKAD/AIaV8Yf9A3Q/+/E3/wAdo/4aV8Y/9A3Q/wDvxN/8doooAP8AhpXxh/0DdD/78Tf/AB2j/hpXxh/0DdD/AO/E3/x2iigA/wCGlfGH/QN0P/vxN/8AHaP+GlfGH/QN0P8A78Tf/HaKKAD/AIaV8Y/9A3Q/+/E3/wAdpP8Ahpbxjn/kG6H/AN+Jv/jtFFACn9pbxiP+Ybof/fib/wCO0n/DS3jH/oG6H/34m/8AjtFFAB/w0t4x/wCgbof/AH4m/wDjtL/w0r4xz/yDdD/78Tf/AB2iigBP+GlvGP8A0DdD/wC/E3/x2j/hpbxj/wBA3Q/+/E3/AMdoooAX/hpXxj/0DdD/AO/E3/x2j/hpXxh/0DdD/wC/E3/x2iigA/4aV8Yf9A3Q/wDvxN/8do/4aV8Yf9A3Q/8AvxN/8doooAP+GlvGH/QN0P8A78Tf/HaP+GlfGH/QN0P/AL8Tf/HaKKAD/hpXxh/0DdD/AO/E3/x2l/4aV8Yf9A3Q/wDvxN/8doooAT/hpXxhnH9m6H/34m/+O0v/AA0r4w/6Buh/9+Jv/jtFFACf8NK+Mc/8g3Q/+/E3/wAdo/4aV8Yf9A3Q/wDvxN/8doooAP8AhpXxh/0DdD/78Tf/AB2j/hpbxj/0DdD/AO/E3/x2iigA/wCGlvGP/QN0P/vxN/8AHaP+GlvGH/QN0P8A78Tf/HaKKAD/AIaV8Y/9A3Q/+/E3/wAdo/4aV8Y5x/Zuh/8Afib/AOO0UUAJ/wANLeMP+gbof/fib/47S/8ADSvjH/oG6H/34m/+O0UUAH/DS3jH/oG6H/34m/8AjtH/AA0t4w/6Buh/9+Jv/jtFFAB/w0r4w/6Buh/9+Jv/AI7R/wANK+MP+gbof/fib/47RRQAf8NK+Mf+gbof/fib/wCO0f8ADSvjHP8AyDdD/wC/E3/x2iigAP7SvjAf8w3Q/wDvxN/8do/4aV8Yf9A3Q/8AvxN/8doooAP+GlvGH/QN0P8A78Tf/HaP+GlfGGf+Qbof/fib/wCO0UUAH/DSvjH/AKBuh/8Afib/AOO0f8NK+Mf+gbof/fib/wCO0UUANk/aR8XyLhtO0Tg54gm/+O1H/wANGeLf+gdov/fiX/47RRQBYvf2hPFdtOqJp+jENDE/MMvVkVj/AMtPU0UUUAf/2Q==)"
      ]
    }
  ]
}