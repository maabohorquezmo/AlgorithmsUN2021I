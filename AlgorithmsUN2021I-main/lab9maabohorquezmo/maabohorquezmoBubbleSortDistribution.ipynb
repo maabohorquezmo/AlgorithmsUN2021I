{
  "nbformat": 4,
  "nbformat_minor": 0,
  "metadata": {
    "colab": {
      "name": "maabhorquezmoBubbleSortDistribution.ipynb",
      "provenance": [],
      "collapsed_sections": [
        "86DrxrhE4J8b",
        "ajrjnfdR3dGU",
        "HsWzivpw4Tnk"
      ]
    },
    "kernelspec": {
      "name": "python3",
      "display_name": "Python 3"
    },
    "language_info": {
      "name": "python"
    }
  },
  "cells": [
    {
      "cell_type": "markdown",
      "metadata": {
        "id": "86DrxrhE4J8b"
      },
      "source": [
        "## Bubble sort **optimized** counting steps algorithm"
      ]
    },
    {
      "cell_type": "code",
      "metadata": {
        "id": "kBOyutKybS0d"
      },
      "source": [
        "#Do the counts for bubble sort optimized algorithm \n",
        "def stepsBubbleSortOptimized(array):\n",
        "  steps = 0\n",
        "  for i in range(len(array)):\n",
        "    no_swaps = True\n",
        "    for j in range(0, n-i-1):\n",
        "      # Counting comparisons \n",
        "      steps+=1\n",
        "      if array[j] > array[j+1]:\n",
        "        # Counting swaps\n",
        "        steps+=1\n",
        "        array[j], array[j+1] = array[j+1], array[j]\n",
        "        no_swaps = False\n",
        "    if no_swaps:\n",
        "      return steps\n",
        "  return steps"
      ],
      "execution_count": 1,
      "outputs": []
    },
    {
      "cell_type": "markdown",
      "metadata": {
        "id": "ajrjnfdR3dGU"
      },
      "source": [
        "## **Using permutations without repetition from  `itertools`**\n"
      ]
    },
    {
      "cell_type": "code",
      "metadata": {
        "id": "--EFy3Yac1gF"
      },
      "source": [
        "# generating permutations given an entry n \n",
        "from itertools import permutations\n",
        "def generateArray(n):\n",
        "  array = []\n",
        "  for permutation in (permutations(list(range(n)))):\n",
        "    array.append(list(permutation))\n",
        "  return array"
      ],
      "execution_count": 2,
      "outputs": []
    },
    {
      "cell_type": "markdown",
      "metadata": {
        "id": "3kAGddR0e2bs"
      },
      "source": [
        "Do the calculation of steps given an entry $n$"
      ]
    },
    {
      "cell_type": "code",
      "metadata": {
        "colab": {
          "base_uri": "https://localhost:8080/"
        },
        "id": "RzljSIcNdIgU",
        "outputId": "3c6ca7d6-31a5-4446-d5fd-1463188dfced"
      },
      "source": [
        "n = int(input(\"Ingrese n: \"))\n",
        "genArray = generateArray(n)\n",
        "stepsList = []\n",
        "for perm in genArray:\n",
        "  stepsList.append(stepsBubbleSortOptimized(perm))"
      ],
      "execution_count": 3,
      "outputs": [
        {
          "output_type": "stream",
          "text": [
            "Ingrese n: 7\n"
          ],
          "name": "stdout"
        }
      ]
    },
    {
      "cell_type": "markdown",
      "metadata": {
        "id": "ievZqEIZfKV0"
      },
      "source": [
        "Agrouping the steps by number and generate the plot"
      ]
    },
    {
      "cell_type": "code",
      "metadata": {
        "colab": {
          "base_uri": "https://localhost:8080/",
          "height": 312
        },
        "id": "Qi2aG-qmfJW1",
        "outputId": "9727b495-87bd-4d15-84ec-dc811bbfba65"
      },
      "source": [
        "from collections import Counter\n",
        "import matplotlib.pyplot as plt\n",
        "\n",
        "a = dict(Counter(stepsList))\n",
        "steps= [str(x) for x in a.keys()]\n",
        "values= [x/len(stepsList) for x in a.values()]\n",
        "plt.bar(steps, values)\n",
        "plt.title(\"Counting steps on Optimized Bubble Sort Algorithm\")\n",
        "plt.ylabel(\"Probability\")\n",
        "plt.xlabel(\"Steps\")"
      ],
      "execution_count": 4,
      "outputs": [
        {
          "output_type": "execute_result",
          "data": {
            "text/plain": [
              "Text(0.5, 0, 'Steps')"
            ]
          },
          "metadata": {
            "tags": []
          },
          "execution_count": 4
        },
        {
          "output_type": "display_data",
          "data": {
            "image/png": "[encoded data removed]",
            "text/plain": [
              "<Figure size 432x288 with 1 Axes>"
            ]
          },
          "metadata": {
            "tags": [],
            "needs_background": "light"
          }
        }
      ]
    },
    {
      "cell_type": "markdown",
      "metadata": {
        "id": "HsWzivpw4Tnk"
      },
      "source": [
        "## **Using permutations with repetition from `ìtertools`**"
      ]
    },
    {
      "cell_type": "code",
      "metadata": {
        "id": "IrZXOlIT4fbs"
      },
      "source": [
        "from itertools import combinations_with_replacement\n",
        "\n",
        "def generateArray2(n):\n",
        "  comb = combinations_with_replacement(list(range(n)), n)\n",
        "  return [list(perm) for perm in comb]"
      ],
      "execution_count": 5,
      "outputs": []
    },
    {
      "cell_type": "code",
      "metadata": {
        "colab": {
          "base_uri": "https://localhost:8080/"
        },
        "id": "JaUPHKxK49K8",
        "outputId": "1de37399-1d33-4fcf-c4cd-e70e26311147"
      },
      "source": [
        "n = int(input(\"Ingrese n: \"))\n",
        "genArray = generateArray2(n)\n",
        "stepsList = []\n",
        "for perm in genArray:\n",
        "  stepsList.append(stepsBubbleSortOptimized(perm))"
      ],
      "execution_count": 6,
      "outputs": [
        {
          "output_type": "stream",
          "text": [
            "Ingrese n: 3\n"
          ],
          "name": "stdout"
        }
      ]
    },
    {
      "cell_type": "code",
      "metadata": {
        "colab": {
          "base_uri": "https://localhost:8080/",
          "height": 329
        },
        "id": "GICpsT8a4-i7",
        "outputId": "5715545c-d969-459e-9d62-a4f5a67cdcf5"
      },
      "source": [
        "from collections import Counter\n",
        "import matplotlib.pyplot as plt\n",
        "\n",
        "a = dict(Counter(stepsList))\n",
        "print(a)\n",
        "steps= [str(x) for x in a.keys()]\n",
        "values= [x/len(stepsList) for x in a.values()]\n",
        "plt.bar(steps, values)\n",
        "plt.title(\"Counting steps on Optimized Bubble Sort Algorithm\")\n",
        "plt.ylabel(\"Probability\")\n",
        "plt.xlabel(\"Steps\")"
      ],
      "execution_count": 7,
      "outputs": [
        {
          "output_type": "stream",
          "text": [
            "{2: 10}\n"
          ],
          "name": "stdout"
        },
        {
          "output_type": "execute_result",
          "data": {
            "text/plain": [
              "Text(0.5, 0, 'Steps')"
            ]
          },
          "metadata": {
            "tags": []
          },
          "execution_count": 7
        },
        {
          "output_type": "display_data",
          "data": {
            "image/png": "[encoded data removed]",
            "text/plain": [
              "<Figure size 432x288 with 1 Axes>"
            ]
          },
          "metadata": {
            "tags": [],
            "needs_background": "light"
          }
        }
      ]
    },
    {
      "cell_type": "markdown",
      "metadata": {
        "id": "pkX7Za8P8PPl"
      },
      "source": [
        "## **Fibonacci analysis**</br>\n",
        "Based on [Hernandez's notebook](https://github.com/gjhernandezp/algorithms/blob/master/AnalysisOfAlgorithms/fibonacci.ipynb)"
      ]
    },
    {
      "cell_type": "markdown",
      "metadata": {
        "id": "TPfrqzknFAQt"
      },
      "source": [
        "Analysis using the recursive algorithm in a range of $[0,50]$"
      ]
    },
    {
      "cell_type": "code",
      "metadata": {
        "id": "f4IMhsws8Rxb"
      },
      "source": [
        "# fibR - Fibonacci Recursive O(2^n)\n",
        "def fibR(n):\n",
        "    if n==0 :\n",
        "        return 0\n",
        "    if n==1 :\n",
        "        return 1\n",
        "    return fibR(n-1)+fibR(n-2)"
      ],
      "execution_count": null,
      "outputs": []
    },
    {
      "cell_type": "code",
      "metadata": {
        "id": "TbaR7a7UCpUt"
      },
      "source": [
        "from time import process_time\n",
        "timestamps = []\n",
        "n = 50\n",
        "for i in range(n+1):\n",
        "  t0 = process_time()\n",
        "  k = fibR(i)\n",
        "  tf =process_time()\n",
        "  timestamps.append(tf-t0)"
      ],
      "execution_count": null,
      "outputs": []
    },
    {
      "cell_type": "code",
      "metadata": {
        "colab": {
          "base_uri": "https://localhost:8080/",
          "height": 312
        },
        "id": "Z1sKf-0nETG-",
        "outputId": "571ba015-57c7-4097-db1a-7b29f3992842"
      },
      "source": [
        "plt.bar(list(range(n+1)), timestamps)\n",
        "#plt.plot([0, 35], [0, 4], ls=\"--\", color=\"green\")\n",
        "plt.title(\"Time expensed using FibR\")\n",
        "plt.ylabel(\"Time (s)\")\n",
        "plt.xlabel(\"Fib number\")"
      ],
      "execution_count": null,
      "outputs": [
        {
          "output_type": "execute_result",
          "data": {
            "text/plain": [
              "Text(0.5, 0, 'Fib number')"
            ]
          },
          "metadata": {
            "tags": []
          },
          "execution_count": 18
        },
        {
          "output_type": "display_data",
          "data": {
            "image/png": "[encoded data removed]",
            "text/plain": [
              "<Figure size 432x288 with 1 Axes>"
            ]
          },
          "metadata": {
            "tags": [],
            "needs_background": "light"
          }
        }
      ]
    },
    {
      "cell_type": "markdown",
      "metadata": {
        "id": "Wlf_GFswFI0F"
      },
      "source": [
        "Analysis using the iterative algorithm in a range of $[0,500]$"
      ]
    },
    {
      "cell_type": "code",
      "metadata": {
        "id": "ukcn1Ax4E9h-"
      },
      "source": [
        "# fibI - Fibonacci Iterartive (forward) O(n)\n",
        "def fibI(n):\n",
        "    if n==0 :\n",
        "        return 0\n",
        "    a, b = 0, 1\n",
        "    for i in range(1, n):\n",
        "        a, b = b, a+b\n",
        "    return b"
      ],
      "execution_count": null,
      "outputs": []
    },
    {
      "cell_type": "code",
      "metadata": {
        "id": "nxJ1A4CvFl9b"
      },
      "source": [
        "from time import process_time\n",
        "timestamps = []\n",
        "n = 500\n",
        "for i in range(n+1):\n",
        "  t0 = process_time()\n",
        "  k = fibI(i)\n",
        "  tf = process_time()\n",
        "  timestamps.append(tf-t0)"
      ],
      "execution_count": null,
      "outputs": []
    },
    {
      "cell_type": "code",
      "metadata": {
        "colab": {
          "base_uri": "https://localhost:8080/",
          "height": 312
        },
        "id": "Ae7W5busFl9b",
        "outputId": "510cbee5-4175-44c3-968f-463e6d01eda3"
      },
      "source": [
        "x = range(n+1)\n",
        "plt.bar(list(range(n+1)), timestamps)\n",
        "#plt.plot([0, 500], [0, 0.0001], ls=\"--\")\n",
        "plt.title(\"Time expensed using FibI\")\n",
        "plt.ylabel(\"Time (s)\")\n",
        "plt.xlabel(\"Fib number\")"
      ],
      "execution_count": null,
      "outputs": [
        {
          "output_type": "execute_result",
          "data": {
            "text/plain": [
              "Text(0.5, 0, 'Fib number')"
            ]
          },
          "metadata": {
            "tags": []
          },
          "execution_count": 9
        },
        {
          "output_type": "display_data",
          "data": {
            "image/png": "[encoded data removed]",
            "text/plain": [
              "<Figure size 432x288 with 1 Axes>"
            ]
          },
          "metadata": {
            "tags": [],
            "needs_background": "light"
          }
        }
      ]
    }
  ]
}