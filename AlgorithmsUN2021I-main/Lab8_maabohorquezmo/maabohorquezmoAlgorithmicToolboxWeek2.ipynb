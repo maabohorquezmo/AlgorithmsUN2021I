{
  "nbformat": 4,
  "nbformat_minor": 0,
  "metadata": {
    "colab": {
      "name": "maabohorquezmoAlgorithmicToolboxWeek2.ipynb",
      "provenance": [],
      "toc_visible": true
    },
    "kernelspec": {
      "name": "python3",
      "display_name": "Python 3"
    },
    "language_info": {
      "name": "python"
    }
  },
  "cells": [
    {
      "cell_type": "markdown",
      "metadata": {
        "id": "lwJ_iGePlGaK"
      },
      "source": [
        "#Problema 1"
      ]
    },
    {
      "cell_type": "markdown",
      "metadata": {
        "id": "lfhabuYhnGi6"
      },
      "source": [
        "**Problem Description**\\\n",
        "**Task:** Given an integer $n^{th}$, find the $n^{th}$ Fibonacci number $F_n$.\n",
        "\n",
        "**Input Format:** The input consists of a single integer $n$.\n",
        "\n",
        "**Constraints:** $0 ≤ n ≤ 45$.\n",
        "\n",
        "**Output Format:** Output $F_n$."
      ]
    },
    {
      "cell_type": "code",
      "metadata": {
        "colab": {
          "base_uri": "https://localhost:8080/"
        },
        "id": "EkZTJSiUjGm6",
        "outputId": "96e6c32f-cbcd-47a1-8bd1-fe17da9322b7"
      },
      "source": [
        "%%writefile fibonacci.cpp\n",
        "#include <iostream>\n",
        "#include <cassert> \n",
        "\n",
        "int fibonacci_fast(int n) {\n",
        "    int arr[n];\n",
        "    arr[0]=0;\n",
        "    arr[1]=1;\n",
        "\n",
        "    for(int i=2; i<=n; i++)\n",
        "    {\n",
        "        arr[i]=arr[i-1]+arr[i-2];\n",
        "    }\n",
        "\n",
        "    return arr[n];\n",
        "}\n",
        "\n",
        "int main() {\n",
        "    int n = 0;\n",
        "    std::cin >> n;\n",
        "    std::cout << fibonacci_fast(n) << '\\n';\n",
        "    return 0;\n",
        "}"
      ],
      "execution_count": null,
      "outputs": [
        {
          "output_type": "stream",
          "text": [
            "Writing fibonacci.cpp\n"
          ],
          "name": "stdout"
        }
      ]
    },
    {
      "cell_type": "code",
      "metadata": {
        "colab": {
          "base_uri": "https://localhost:8080/"
        },
        "id": "6Hepyn3Lk0DR",
        "outputId": "32ac0ccd-8233-442e-8ca9-90c786481bda"
      },
      "source": [
        "!g++ fibonacci.cpp -o fibonacci\n",
        "!./fibonacci"
      ],
      "execution_count": null,
      "outputs": [
        {
          "output_type": "stream",
          "text": [
            "10\n",
            "55\n"
          ],
          "name": "stdout"
        }
      ]
    },
    {
      "cell_type": "markdown",
      "metadata": {
        "id": "yUG3sI93lRiv"
      },
      "source": [
        "#Problema 2\n"
      ]
    },
    {
      "cell_type": "markdown",
      "metadata": {
        "id": "N9fg-7tvodp2"
      },
      "source": [
        "**Problem Description**\n",
        "\n",
        "**Task:** Given an integer $n$, find the last digit of the $n^{th}$ Fibonacci number $F_n$ (that is, $F_n$ mod 10)\n",
        "\n",
        "**Input Format:** The input consists of a single integer $n$\n",
        "\n",
        "**Constraints:** $0 ≤ 𝑛 ≤ 107$\n",
        "\n",
        "**Output Format:** Output the last digit of $F_n$"
      ]
    },
    {
      "cell_type": "code",
      "metadata": {
        "colab": {
          "base_uri": "https://localhost:8080/"
        },
        "id": "vkQlhxSvlmov",
        "outputId": "a5da74b8-92da-455c-ba49-905fb34ca386"
      },
      "source": [
        "%%writefile fibonacci_last_digit.cpp\n",
        "#include <iostream>\n",
        "\n",
        "int get_fibonacci_last_digit_fast(int n) {\n",
        "    int arr[n];\n",
        "    arr[0]=0;\n",
        "    arr[1]=1;\n",
        "\n",
        "    for(int i=2; i<=n; i++)\n",
        "    {\n",
        "        arr[i]=(arr[i-1]+arr[i-2]) %10;\n",
        "    }\n",
        "\n",
        "    return arr[n];\n",
        "}\n",
        "\n",
        "int main() {\n",
        "    int n;\n",
        "    std::cin >> n;\n",
        "    int c = get_fibonacci_last_digit_fast(n);\n",
        "    std::cout << c << '\\n';\n",
        "    }"
      ],
      "execution_count": null,
      "outputs": [
        {
          "output_type": "stream",
          "text": [
            "Writing fibonacci_last_digit.cpp\n"
          ],
          "name": "stdout"
        }
      ]
    },
    {
      "cell_type": "code",
      "metadata": {
        "colab": {
          "base_uri": "https://localhost:8080/"
        },
        "id": "VY30U90Ilw9u",
        "outputId": "8fabfb5d-4767-42d5-de56-b20db2a8aaa7"
      },
      "source": [
        "!g++ fibonacci_last_digit.cpp -o fibonacci_last_digit\n",
        "!./fibonacci_last_digit"
      ],
      "execution_count": null,
      "outputs": [
        {
          "output_type": "stream",
          "text": [
            "15\n",
            "0\n"
          ],
          "name": "stdout"
        }
      ]
    },
    {
      "cell_type": "markdown",
      "metadata": {
        "id": "AKQjYyjFlZ5e"
      },
      "source": [
        "#Problema 3"
      ]
    },
    {
      "cell_type": "markdown",
      "metadata": {
        "id": "R6k2g-dDpC3c"
      },
      "source": [
        "**Problem Description**\n",
        "\n",
        "**Task:** Given two integers $𝑎$ and $𝑏$, find their greatest common divisor\n",
        "\n",
        "**Input Format:** The two integers $𝑎$, $𝑏$ are given in the same line separated by space\n",
        "\n",
        "**Constraints:** $1 ≤ 𝑎$, $𝑏 ≤ 2 · 109$\n",
        "\n",
        "**Output Format:** Output GCD($𝑎$, $𝑏$)"
      ]
    },
    {
      "cell_type": "code",
      "metadata": {
        "colab": {
          "base_uri": "https://localhost:8080/"
        },
        "id": "BB9HcUqJl7PF",
        "outputId": "adc657b1-d180-4123-fd7e-05cee77720f4"
      },
      "source": [
        "%%writefile gcd.cpp\n",
        "#include <iostream>\n",
        "\n",
        "int gcd_fast(int a, int b)\n",
        "{\n",
        "    int c=0;\n",
        "    while(b!=0)\n",
        "    {\n",
        "        c=a%b;\n",
        "        a=b;\n",
        "        b=c;\n",
        "    }\n",
        "    return a;\n",
        "}\n",
        "\n",
        "int main() {\n",
        "  int a, b;\n",
        "  std::cin >> a >> b;  \n",
        "  std::cout << gcd_fast(a, b) << std::endl;\n",
        "  return 0;\n",
        "}"
      ],
      "execution_count": null,
      "outputs": [
        {
          "output_type": "stream",
          "text": [
            "Writing gcd.cpp\n"
          ],
          "name": "stdout"
        }
      ]
    },
    {
      "cell_type": "code",
      "metadata": {
        "colab": {
          "base_uri": "https://localhost:8080/"
        },
        "id": "hGzjq6Fll7FV",
        "outputId": "a9285efe-eba5-412b-aa95-5612b3d4ee57"
      },
      "source": [
        "!g++ gcd.cpp -o gcd\n",
        "!./gcd"
      ],
      "execution_count": null,
      "outputs": [
        {
          "output_type": "stream",
          "text": [
            "12 60\n",
            "12\n"
          ],
          "name": "stdout"
        }
      ]
    },
    {
      "cell_type": "markdown",
      "metadata": {
        "id": "aNGwBNuOlZsv"
      },
      "source": [
        "#Problema 4"
      ]
    },
    {
      "cell_type": "markdown",
      "metadata": {
        "id": "LpZ2XmpDphqJ"
      },
      "source": [
        "**Problem Description**\n",
        "\n",
        "**Task:** Given two integers $𝑎$ and $𝑏$, find their least common multiple\n",
        "\n",
        "**Input Format:** The two integers $𝑎$ and $𝑏$ are given in the same line separated by space\n",
        "\n",
        "**Constraints:** $1 ≤ 𝑎$, $𝑏 ≤ 107$\n",
        "\n",
        "**Output Format:** Output the least common multiple of $𝑎$ and $𝑏$"
      ]
    },
    {
      "cell_type": "code",
      "metadata": {
        "colab": {
          "base_uri": "https://localhost:8080/"
        },
        "id": "BAykkxijl8F9",
        "outputId": "dbdfac77-1c94-4472-b245-a58342e2c7dc"
      },
      "source": [
        "%%writefile lcm.cpp\n",
        "#include <iostream>\n",
        "\n",
        "int gcd(int a, int b)\n",
        "{\n",
        "    int c=0;\n",
        "    while(b!=0)\n",
        "    {\n",
        "        c=a%b;\n",
        "        a=b;\n",
        "        b=c;\n",
        "    }\n",
        "    return a;\n",
        "}\n",
        "\n",
        "long long lcm_fast(int a, int b)\n",
        "{\n",
        "    long long d=(long long)a*b;\n",
        "    long long e=gcd(a,b);\n",
        "    long long f=d/e;\n",
        "    return (long long) f;\n",
        "}\n",
        "\n",
        "int main() {\n",
        "  int a, b;\n",
        "  std::cin >> a >> b;\n",
        "  std::cout << lcm_fast(a, b) << std::endl;\n",
        "  return 0;\n",
        "}"
      ],
      "execution_count": null,
      "outputs": [
        {
          "output_type": "stream",
          "text": [
            "Writing lcm.cpp\n"
          ],
          "name": "stdout"
        }
      ]
    },
    {
      "cell_type": "code",
      "metadata": {
        "colab": {
          "base_uri": "https://localhost:8080/"
        },
        "id": "pWGvZK3al79k",
        "outputId": "ca7606ee-6d53-49a6-9030-79f880066919"
      },
      "source": [
        "!g++ lcm.cpp -o lcm\n",
        "!./lcm"
      ],
      "execution_count": null,
      "outputs": [
        {
          "output_type": "stream",
          "text": [
            "12 60\n",
            "60\n"
          ],
          "name": "stdout"
        }
      ]
    }
  ]
}